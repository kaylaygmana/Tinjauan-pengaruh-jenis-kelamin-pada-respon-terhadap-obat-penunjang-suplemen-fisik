{
  "nbformat": 4,
  "nbformat_minor": 0,
  "metadata": {
    "colab": {
      "provenance": [],
      "collapsed_sections": [
        "JXY7LCVnhI80",
        "oRoVnZp7f7OZ",
        "FSduYnL3intO",
        "QI2KMNtEidTx",
        "S8shQ8d-Ng-X"
      ]
    },
    "kernelspec": {
      "name": "python3",
      "display_name": "Python 3"
    },
    "language_info": {
      "name": "python"
    }
  },
  "cells": [
    {
      "cell_type": "markdown",
      "source": [
        "#**Tinjauan pengaruh jenis kelamin pada respon tubuh terhadap suplemen penunjang  fisik**"
      ],
      "metadata": {
        "id": "UzKV_EQiQK_s"
      }
    },
    {
      "cell_type": "code",
      "source": [
        "import seaborn as sns\n",
        "import matplotlib.pyplot as plt\n",
        "import pandas as pd\n",
        "import numpy as np\n",
        "import plotly.express as px\n",
        "from sklearn.model_selection import train_test_split\n",
        "from sklearn.tree import DecisionTreeClassifier # Algoritma C4.5\n",
        "from sklearn.preprocessing import StandardScaler"
      ],
      "metadata": {
        "id": "SCa_FajQiF1_"
      },
      "execution_count": 1,
      "outputs": []
    },
    {
      "cell_type": "markdown",
      "source": [
        "## **Business Understanding**"
      ],
      "metadata": {
        "id": "JXY7LCVnhI80"
      }
    },
    {
      "cell_type": "markdown",
      "source": [
        "### **Business Objective**\n",
        "##### Tujuan bisnis yang mendasari penggunaan dataset ini adalah untuk melakukan analisis mendalam terhadap faktor-faktor yang memengaruhi respons terhadap obat berdasarkan perbedaan jenis kelamin."
      ],
      "metadata": {
        "id": "J4_v7mpKhNkO"
      }
    },
    {
      "cell_type": "markdown",
      "source": [
        "### **Asses Situation**\n",
        "##### Latar belakang situasi bisnis yang menginspirasi dilakukannya analisis ini adalah adanya variasi hasil antara kondisi sebelum dan setelah seseorang mengonsumsi obat untuk meningkatkan kebugaran tubuh. Dalam upaya untuk menggali pemahaman yang lebih mendalam terkait dengan dinamika ini, fokus penelitian difokuskan pada perbedaan respons antara pria dan wanita."
      ],
      "metadata": {
        "id": "j4sFyUJuiP8Z"
      }
    },
    {
      "cell_type": "markdown",
      "source": [
        "### **Data Mining Goals**\n",
        "##### Tujuan dari kegiatan data mining yang dilakukan pada dataset ini adalah untuk menjelajahi dan mengidentifikasi potensi keterkaitan antara jenis kelamin individu dengan respons tubuh terhadap obat penunjang kebugaran tubuh."
      ],
      "metadata": {
        "id": "b0kMjoKjXdMR"
      }
    },
    {
      "cell_type": "markdown",
      "source": [
        "### **Project Plan**\n",
        "##### Rencana proyek ini dimulai dengan mengumpulkan data dari sumber yang tersedia, dengan fokus pada informasi seputar jenis kelamin dan respon terhadap obat penunjang suplemen fisik. Selanjutnya, analisis karakteristik dan pola data akan dilakukan untuk mengidentifikasi hubungan yang menarik. Eksplorasi data akan difokuskan pada korelasi dan interaksi antar variabel, terutama yang berkaitan dengan variabel jenis kelamin. Selain itu, kualitas data akan dinilai secara menyeluruh, dengan penekanan pada elemen yang relevan dengan jenis kelamin dan respon terhadap suplemen fisik. Identifikasi masalah data menjadi langkah kunci, untuk memastikan validitas temuan selama tahap analisis berikutnya."
      ],
      "metadata": {
        "id": "_9sbmu55YQBf"
      }
    },
    {
      "cell_type": "markdown",
      "source": [
        "##**Data Understanding**"
      ],
      "metadata": {
        "id": "oRoVnZp7f7OZ"
      }
    },
    {
      "cell_type": "markdown",
      "source": [
        "###**Collect Initial Data**"
      ],
      "metadata": {
        "id": "cHE5b5EZgEuL"
      }
    },
    {
      "cell_type": "markdown",
      "source": [
        "Data yang digunakan pada proyek ini adalah dataset \"Do we still need gym?\" yang didapatkan lalu diunduh pada website Kaggle.\n",
        "\n",
        "\n",
        "Link Dataset: https://www.kaggle.com/datasets/saralattarulo/do-we-still-need-gyms\n",
        "\n",
        "\n",
        "Link Github: https://raw.githubusercontent.com/kaylaygmana/Tinjauan-pengaruh-jenis-kelamin-pada-respon-terhadap-obat-penunjang-suplemen-fisik/main/survey.csv.csv"
      ],
      "metadata": {
        "id": "5w2RtPLXaaPE"
      }
    },
    {
      "cell_type": "code",
      "source": [
        "df = pd.read_csv(\"https://raw.githubusercontent.com/kaylaygmana/Tinjauan-pengaruh-jenis-kelamin-pada-respon-terhadap-obat-penunjang-suplemen-fisik/main/survey.csv.csv\")"
      ],
      "metadata": {
        "id": "On9LeBqYf6ED"
      },
      "execution_count": 2,
      "outputs": []
    },
    {
      "cell_type": "markdown",
      "source": [
        "##**Describe Data**"
      ],
      "metadata": {
        "id": "WZOSWGPiiKHr"
      }
    },
    {
      "cell_type": "markdown",
      "source": [
        "###**Informasi Dasar**"
      ],
      "metadata": {
        "id": "FSduYnL3intO"
      }
    },
    {
      "cell_type": "code",
      "source": [
        "num_rows, num_columns = df.shape\n",
        "print(f\"Jumlah Kolom: {num_columns}\")\n",
        "print(f\"Jumlah Baris: {num_rows}\")"
      ],
      "metadata": {
        "colab": {
          "base_uri": "https://localhost:8080/"
        },
        "id": "wjTajxUOh-Wx",
        "outputId": "0e6fdcb3-b925-45f1-8c11-d30c9cd61254"
      },
      "execution_count": 3,
      "outputs": [
        {
          "output_type": "stream",
          "name": "stdout",
          "text": [
            "Jumlah Kolom: 12\n",
            "Jumlah Baris: 1000\n"
          ]
        }
      ]
    },
    {
      "cell_type": "markdown",
      "source": [
        "Seperti yang terlihat pada output kode yang tertulis bahwa total jumlah kolom pada dataset ini adlaah 12 dan 1000 jumlah total baris."
      ],
      "metadata": {
        "id": "mqfKLCWgcnGE"
      }
    },
    {
      "cell_type": "markdown",
      "source": [],
      "metadata": {
        "id": "2yGwxw6yiOQP"
      }
    },
    {
      "cell_type": "markdown",
      "source": [
        "### **Informasi Lanjutan**"
      ],
      "metadata": {
        "id": "QI2KMNtEidTx"
      }
    },
    {
      "cell_type": "code",
      "source": [
        "df.info()"
      ],
      "metadata": {
        "id": "IELx_ykxig94",
        "colab": {
          "base_uri": "https://localhost:8080/"
        },
        "outputId": "e3bac95f-1b22-4ad7-d95b-66089e26cf08"
      },
      "execution_count": 4,
      "outputs": [
        {
          "output_type": "stream",
          "name": "stdout",
          "text": [
            "<class 'pandas.core.frame.DataFrame'>\n",
            "RangeIndex: 1000 entries, 0 to 999\n",
            "Data columns (total 12 columns):\n",
            " #   Column       Non-Null Count  Dtype  \n",
            "---  ------       --------------  -----  \n",
            " 0   Gender       1000 non-null   object \n",
            " 1   Age          1000 non-null   int64  \n",
            " 2   KmBefore     1000 non-null   float64\n",
            " 3   KgBefore     1000 non-null   float64\n",
            " 4   TimeBefore   1000 non-null   float64\n",
            " 5   Medicine1    1000 non-null   object \n",
            " 6   Medicine2    1000 non-null   object \n",
            " 7   Medicine3    1000 non-null   object \n",
            " 8   KmAfter      1000 non-null   float64\n",
            " 9   KgAfter      1000 non-null   float64\n",
            " 10  TimeAfter    1000 non-null   float64\n",
            " 11  SideEffects  1000 non-null   object \n",
            "dtypes: float64(6), int64(1), object(5)\n",
            "memory usage: 93.9+ KB\n"
          ]
        }
      ]
    },
    {
      "cell_type": "markdown",
      "source": [
        "Penjelasan:\n",
        "1. **Gender**<br> Kolom ini berisi tentang jenis kelamin dari sampel yang diteliti. Tipe datanya adalah Object dengan Non_Null dengan count sebanyak 1000.\n",
        "2. **Age** <br> Kolom ini menyimpan data mengenai usia dari setiap individu yang diteliti. Dengan tipe data int64 yang bersifat Not-Null dengan count sebanyak 1000.\n",
        "3. **KmBefore**<br> Kolom ini berisi data jarak sampel individu saat berlari sebelum mengonsumsi obat. Dengan tipe data float64 dan count sebanyak 1000.\n",
        "4. **KgBefore** <br> Kolom ini berisi data berat badan sampel individu sebelum mengonsumsi obat. Dengan tipe data float64 dan count sebanyak 1000.\n",
        "5. **TimeBefore** <br> Kolom ini berisi data jarak sampel individu saat berlari sebelum mengonsumsi obat. Dengan tipe data float64 dan count sebanyak 1000.\n",
        "6. **Medicine1** <br> Kolom ini berisi tentang status apakah seorang sampel individu meminum obat 1. Dengan tipe data Object dan count sebanyak 1000.\n",
        "7. **Medicine2** <br> Kolom ini berisi tentang status apakah seorang sampel individu meminum obat 2. Dengan tipe data Object dan count sebanyak 1000.\n",
        "8. **Medicine3** <br> Kolom ini berisi tentang status apakah seorang sampel individu meminum obat 3. Dengan tipe data Object dan count sebanyak 1000.\n",
        "9. **KmAfter**<br> Kolom ini berisi data jarak sampel individu saat berlari setelah mengonsumsi obat. Dengan tipe data float64 dan count sebanyak 1000.\n",
        "10. **KgAfter** <br> Kolom ini berisi data berat badan sampel individu setelah mengonsumsi obat. Dengan tipe data float64 dan count sebanyak 1000.\n",
        "11. **TimeBefore** <br>Kolom ini berisi data jarak sampel individu saat berlari setelah mengonsumsi obat. Dengan tipe data float64 dan count sebanyak 1000.\n",
        "12. **SideEffects**<br> Kolom ini berisi data apakah seorang sampel individu merasakan ada efek samping saat mengonsumsi obat tersebut. Dengan tipe data Object dan count sebanyak 1000."
      ],
      "metadata": {
        "id": "WNzBXWGRs4A7"
      }
    },
    {
      "cell_type": "markdown",
      "source": [
        "###**Informasi Statistik Deskriptif**"
      ],
      "metadata": {
        "id": "LuPuek7QtBA-"
      }
    },
    {
      "cell_type": "code",
      "source": [
        "df[['Age','KmBefore','KgBefore','TimeBefore','KmAfter','KgAfter','TimeAfter']].describe()\n"
      ],
      "metadata": {
        "id": "TNT4yy1gtNPE",
        "colab": {
          "base_uri": "https://localhost:8080/",
          "height": 320
        },
        "outputId": "823961fe-10bb-45b9-d9e5-2065effc9c5d"
      },
      "execution_count": 5,
      "outputs": [
        {
          "output_type": "execute_result",
          "data": {
            "text/plain": [
              "               Age     KmBefore     KgBefore   TimeBefore      KmAfter  \\\n",
              "count  1000.000000  1000.000000  1000.000000  1000.000000  1000.000000   \n",
              "mean     34.794000     4.020630    80.570400    44.871100     4.996930   \n",
              "std       5.012453     0.773811     9.297078     9.985126     1.458346   \n",
              "min      19.000000     1.720000    51.600000     8.000000     0.510000   \n",
              "25%      31.000000     3.500000    74.500000    38.300000     3.960000   \n",
              "50%      35.000000     4.015000    80.700000    44.550000     5.010000   \n",
              "75%      38.000000     4.570000    86.725000    51.625000     5.970000   \n",
              "max      50.000000     6.280000   109.200000    74.200000    10.350000   \n",
              "\n",
              "           KgAfter    TimeAfter  \n",
              "count  1000.000000  1000.000000  \n",
              "mean     90.125800    59.755600  \n",
              "std       2.951587     5.034298  \n",
              "min      81.300000    42.700000  \n",
              "25%      88.175000    56.275000  \n",
              "50%      90.100000    59.900000  \n",
              "75%      92.100000    63.000000  \n",
              "max      99.500000    76.300000  "
            ],
            "text/html": [
              "\n",
              "  <div id=\"df-b1004c53-cd5a-4f50-b657-24b88f8d8a9b\" class=\"colab-df-container\">\n",
              "    <div>\n",
              "<style scoped>\n",
              "    .dataframe tbody tr th:only-of-type {\n",
              "        vertical-align: middle;\n",
              "    }\n",
              "\n",
              "    .dataframe tbody tr th {\n",
              "        vertical-align: top;\n",
              "    }\n",
              "\n",
              "    .dataframe thead th {\n",
              "        text-align: right;\n",
              "    }\n",
              "</style>\n",
              "<table border=\"1\" class=\"dataframe\">\n",
              "  <thead>\n",
              "    <tr style=\"text-align: right;\">\n",
              "      <th></th>\n",
              "      <th>Age</th>\n",
              "      <th>KmBefore</th>\n",
              "      <th>KgBefore</th>\n",
              "      <th>TimeBefore</th>\n",
              "      <th>KmAfter</th>\n",
              "      <th>KgAfter</th>\n",
              "      <th>TimeAfter</th>\n",
              "    </tr>\n",
              "  </thead>\n",
              "  <tbody>\n",
              "    <tr>\n",
              "      <th>count</th>\n",
              "      <td>1000.000000</td>\n",
              "      <td>1000.000000</td>\n",
              "      <td>1000.000000</td>\n",
              "      <td>1000.000000</td>\n",
              "      <td>1000.000000</td>\n",
              "      <td>1000.000000</td>\n",
              "      <td>1000.000000</td>\n",
              "    </tr>\n",
              "    <tr>\n",
              "      <th>mean</th>\n",
              "      <td>34.794000</td>\n",
              "      <td>4.020630</td>\n",
              "      <td>80.570400</td>\n",
              "      <td>44.871100</td>\n",
              "      <td>4.996930</td>\n",
              "      <td>90.125800</td>\n",
              "      <td>59.755600</td>\n",
              "    </tr>\n",
              "    <tr>\n",
              "      <th>std</th>\n",
              "      <td>5.012453</td>\n",
              "      <td>0.773811</td>\n",
              "      <td>9.297078</td>\n",
              "      <td>9.985126</td>\n",
              "      <td>1.458346</td>\n",
              "      <td>2.951587</td>\n",
              "      <td>5.034298</td>\n",
              "    </tr>\n",
              "    <tr>\n",
              "      <th>min</th>\n",
              "      <td>19.000000</td>\n",
              "      <td>1.720000</td>\n",
              "      <td>51.600000</td>\n",
              "      <td>8.000000</td>\n",
              "      <td>0.510000</td>\n",
              "      <td>81.300000</td>\n",
              "      <td>42.700000</td>\n",
              "    </tr>\n",
              "    <tr>\n",
              "      <th>25%</th>\n",
              "      <td>31.000000</td>\n",
              "      <td>3.500000</td>\n",
              "      <td>74.500000</td>\n",
              "      <td>38.300000</td>\n",
              "      <td>3.960000</td>\n",
              "      <td>88.175000</td>\n",
              "      <td>56.275000</td>\n",
              "    </tr>\n",
              "    <tr>\n",
              "      <th>50%</th>\n",
              "      <td>35.000000</td>\n",
              "      <td>4.015000</td>\n",
              "      <td>80.700000</td>\n",
              "      <td>44.550000</td>\n",
              "      <td>5.010000</td>\n",
              "      <td>90.100000</td>\n",
              "      <td>59.900000</td>\n",
              "    </tr>\n",
              "    <tr>\n",
              "      <th>75%</th>\n",
              "      <td>38.000000</td>\n",
              "      <td>4.570000</td>\n",
              "      <td>86.725000</td>\n",
              "      <td>51.625000</td>\n",
              "      <td>5.970000</td>\n",
              "      <td>92.100000</td>\n",
              "      <td>63.000000</td>\n",
              "    </tr>\n",
              "    <tr>\n",
              "      <th>max</th>\n",
              "      <td>50.000000</td>\n",
              "      <td>6.280000</td>\n",
              "      <td>109.200000</td>\n",
              "      <td>74.200000</td>\n",
              "      <td>10.350000</td>\n",
              "      <td>99.500000</td>\n",
              "      <td>76.300000</td>\n",
              "    </tr>\n",
              "  </tbody>\n",
              "</table>\n",
              "</div>\n",
              "    <div class=\"colab-df-buttons\">\n",
              "\n",
              "  <div class=\"colab-df-container\">\n",
              "    <button class=\"colab-df-convert\" onclick=\"convertToInteractive('df-b1004c53-cd5a-4f50-b657-24b88f8d8a9b')\"\n",
              "            title=\"Convert this dataframe to an interactive table.\"\n",
              "            style=\"display:none;\">\n",
              "\n",
              "  <svg xmlns=\"http://www.w3.org/2000/svg\" height=\"24px\" viewBox=\"0 -960 960 960\">\n",
              "    <path d=\"M120-120v-720h720v720H120Zm60-500h600v-160H180v160Zm220 220h160v-160H400v160Zm0 220h160v-160H400v160ZM180-400h160v-160H180v160Zm440 0h160v-160H620v160ZM180-180h160v-160H180v160Zm440 0h160v-160H620v160Z\"/>\n",
              "  </svg>\n",
              "    </button>\n",
              "\n",
              "  <style>\n",
              "    .colab-df-container {\n",
              "      display:flex;\n",
              "      gap: 12px;\n",
              "    }\n",
              "\n",
              "    .colab-df-convert {\n",
              "      background-color: #E8F0FE;\n",
              "      border: none;\n",
              "      border-radius: 50%;\n",
              "      cursor: pointer;\n",
              "      display: none;\n",
              "      fill: #1967D2;\n",
              "      height: 32px;\n",
              "      padding: 0 0 0 0;\n",
              "      width: 32px;\n",
              "    }\n",
              "\n",
              "    .colab-df-convert:hover {\n",
              "      background-color: #E2EBFA;\n",
              "      box-shadow: 0px 1px 2px rgba(60, 64, 67, 0.3), 0px 1px 3px 1px rgba(60, 64, 67, 0.15);\n",
              "      fill: #174EA6;\n",
              "    }\n",
              "\n",
              "    .colab-df-buttons div {\n",
              "      margin-bottom: 4px;\n",
              "    }\n",
              "\n",
              "    [theme=dark] .colab-df-convert {\n",
              "      background-color: #3B4455;\n",
              "      fill: #D2E3FC;\n",
              "    }\n",
              "\n",
              "    [theme=dark] .colab-df-convert:hover {\n",
              "      background-color: #434B5C;\n",
              "      box-shadow: 0px 1px 3px 1px rgba(0, 0, 0, 0.15);\n",
              "      filter: drop-shadow(0px 1px 2px rgba(0, 0, 0, 0.3));\n",
              "      fill: #FFFFFF;\n",
              "    }\n",
              "  </style>\n",
              "\n",
              "    <script>\n",
              "      const buttonEl =\n",
              "        document.querySelector('#df-b1004c53-cd5a-4f50-b657-24b88f8d8a9b button.colab-df-convert');\n",
              "      buttonEl.style.display =\n",
              "        google.colab.kernel.accessAllowed ? 'block' : 'none';\n",
              "\n",
              "      async function convertToInteractive(key) {\n",
              "        const element = document.querySelector('#df-b1004c53-cd5a-4f50-b657-24b88f8d8a9b');\n",
              "        const dataTable =\n",
              "          await google.colab.kernel.invokeFunction('convertToInteractive',\n",
              "                                                    [key], {});\n",
              "        if (!dataTable) return;\n",
              "\n",
              "        const docLinkHtml = 'Like what you see? Visit the ' +\n",
              "          '<a target=\"_blank\" href=https://colab.research.google.com/notebooks/data_table.ipynb>data table notebook</a>'\n",
              "          + ' to learn more about interactive tables.';\n",
              "        element.innerHTML = '';\n",
              "        dataTable['output_type'] = 'display_data';\n",
              "        await google.colab.output.renderOutput(dataTable, element);\n",
              "        const docLink = document.createElement('div');\n",
              "        docLink.innerHTML = docLinkHtml;\n",
              "        element.appendChild(docLink);\n",
              "      }\n",
              "    </script>\n",
              "  </div>\n",
              "\n",
              "\n",
              "<div id=\"df-ec6a183f-295d-46c9-8d87-972982924f8c\">\n",
              "  <button class=\"colab-df-quickchart\" onclick=\"quickchart('df-ec6a183f-295d-46c9-8d87-972982924f8c')\"\n",
              "            title=\"Suggest charts\"\n",
              "            style=\"display:none;\">\n",
              "\n",
              "<svg xmlns=\"http://www.w3.org/2000/svg\" height=\"24px\"viewBox=\"0 0 24 24\"\n",
              "     width=\"24px\">\n",
              "    <g>\n",
              "        <path d=\"M19 3H5c-1.1 0-2 .9-2 2v14c0 1.1.9 2 2 2h14c1.1 0 2-.9 2-2V5c0-1.1-.9-2-2-2zM9 17H7v-7h2v7zm4 0h-2V7h2v10zm4 0h-2v-4h2v4z\"/>\n",
              "    </g>\n",
              "</svg>\n",
              "  </button>\n",
              "\n",
              "<style>\n",
              "  .colab-df-quickchart {\n",
              "      --bg-color: #E8F0FE;\n",
              "      --fill-color: #1967D2;\n",
              "      --hover-bg-color: #E2EBFA;\n",
              "      --hover-fill-color: #174EA6;\n",
              "      --disabled-fill-color: #AAA;\n",
              "      --disabled-bg-color: #DDD;\n",
              "  }\n",
              "\n",
              "  [theme=dark] .colab-df-quickchart {\n",
              "      --bg-color: #3B4455;\n",
              "      --fill-color: #D2E3FC;\n",
              "      --hover-bg-color: #434B5C;\n",
              "      --hover-fill-color: #FFFFFF;\n",
              "      --disabled-bg-color: #3B4455;\n",
              "      --disabled-fill-color: #666;\n",
              "  }\n",
              "\n",
              "  .colab-df-quickchart {\n",
              "    background-color: var(--bg-color);\n",
              "    border: none;\n",
              "    border-radius: 50%;\n",
              "    cursor: pointer;\n",
              "    display: none;\n",
              "    fill: var(--fill-color);\n",
              "    height: 32px;\n",
              "    padding: 0;\n",
              "    width: 32px;\n",
              "  }\n",
              "\n",
              "  .colab-df-quickchart:hover {\n",
              "    background-color: var(--hover-bg-color);\n",
              "    box-shadow: 0 1px 2px rgba(60, 64, 67, 0.3), 0 1px 3px 1px rgba(60, 64, 67, 0.15);\n",
              "    fill: var(--button-hover-fill-color);\n",
              "  }\n",
              "\n",
              "  .colab-df-quickchart-complete:disabled,\n",
              "  .colab-df-quickchart-complete:disabled:hover {\n",
              "    background-color: var(--disabled-bg-color);\n",
              "    fill: var(--disabled-fill-color);\n",
              "    box-shadow: none;\n",
              "  }\n",
              "\n",
              "  .colab-df-spinner {\n",
              "    border: 2px solid var(--fill-color);\n",
              "    border-color: transparent;\n",
              "    border-bottom-color: var(--fill-color);\n",
              "    animation:\n",
              "      spin 1s steps(1) infinite;\n",
              "  }\n",
              "\n",
              "  @keyframes spin {\n",
              "    0% {\n",
              "      border-color: transparent;\n",
              "      border-bottom-color: var(--fill-color);\n",
              "      border-left-color: var(--fill-color);\n",
              "    }\n",
              "    20% {\n",
              "      border-color: transparent;\n",
              "      border-left-color: var(--fill-color);\n",
              "      border-top-color: var(--fill-color);\n",
              "    }\n",
              "    30% {\n",
              "      border-color: transparent;\n",
              "      border-left-color: var(--fill-color);\n",
              "      border-top-color: var(--fill-color);\n",
              "      border-right-color: var(--fill-color);\n",
              "    }\n",
              "    40% {\n",
              "      border-color: transparent;\n",
              "      border-right-color: var(--fill-color);\n",
              "      border-top-color: var(--fill-color);\n",
              "    }\n",
              "    60% {\n",
              "      border-color: transparent;\n",
              "      border-right-color: var(--fill-color);\n",
              "    }\n",
              "    80% {\n",
              "      border-color: transparent;\n",
              "      border-right-color: var(--fill-color);\n",
              "      border-bottom-color: var(--fill-color);\n",
              "    }\n",
              "    90% {\n",
              "      border-color: transparent;\n",
              "      border-bottom-color: var(--fill-color);\n",
              "    }\n",
              "  }\n",
              "</style>\n",
              "\n",
              "  <script>\n",
              "    async function quickchart(key) {\n",
              "      const quickchartButtonEl =\n",
              "        document.querySelector('#' + key + ' button');\n",
              "      quickchartButtonEl.disabled = true;  // To prevent multiple clicks.\n",
              "      quickchartButtonEl.classList.add('colab-df-spinner');\n",
              "      try {\n",
              "        const charts = await google.colab.kernel.invokeFunction(\n",
              "            'suggestCharts', [key], {});\n",
              "      } catch (error) {\n",
              "        console.error('Error during call to suggestCharts:', error);\n",
              "      }\n",
              "      quickchartButtonEl.classList.remove('colab-df-spinner');\n",
              "      quickchartButtonEl.classList.add('colab-df-quickchart-complete');\n",
              "    }\n",
              "    (() => {\n",
              "      let quickchartButtonEl =\n",
              "        document.querySelector('#df-ec6a183f-295d-46c9-8d87-972982924f8c button');\n",
              "      quickchartButtonEl.style.display =\n",
              "        google.colab.kernel.accessAllowed ? 'block' : 'none';\n",
              "    })();\n",
              "  </script>\n",
              "</div>\n",
              "    </div>\n",
              "  </div>\n"
            ],
            "application/vnd.google.colaboratory.intrinsic+json": {
              "type": "dataframe",
              "summary": "{\n  \"name\": \"df[['Age','KmBefore','KgBefore','TimeBefore','KmAfter','KgAfter','TimeAfter']]\",\n  \"rows\": 8,\n  \"fields\": [\n    {\n      \"column\": \"Age\",\n      \"properties\": {\n        \"dtype\": \"number\",\n        \"std\": 343.06690527414514,\n        \"min\": 5.012453360250715,\n        \"max\": 1000.0,\n        \"num_unique_values\": 8,\n        \"samples\": [\n          34.794,\n          35.0,\n          1000.0\n        ],\n        \"semantic_type\": \"\",\n        \"description\": \"\"\n      }\n    },\n    {\n      \"column\": \"KmBefore\",\n      \"properties\": {\n        \"dtype\": \"number\",\n        \"std\": 352.3008419417747,\n        \"min\": 0.7738108854147675,\n        \"max\": 1000.0,\n        \"num_unique_values\": 8,\n        \"samples\": [\n          4.02063,\n          4.015,\n          1000.0\n        ],\n        \"semantic_type\": \"\",\n        \"description\": \"\"\n      }\n    },\n    {\n      \"column\": \"KgBefore\",\n      \"properties\": {\n        \"dtype\": \"number\",\n        \"std\": 329.99353943127164,\n        \"min\": 9.29707800868098,\n        \"max\": 1000.0,\n        \"num_unique_values\": 8,\n        \"samples\": [\n          80.57039999999999,\n          80.7,\n          1000.0\n        ],\n        \"semantic_type\": \"\",\n        \"description\": \"\"\n      }\n    },\n    {\n      \"column\": \"TimeBefore\",\n      \"properties\": {\n        \"dtype\": \"number\",\n        \"std\": 340.52491710805486,\n        \"min\": 8.0,\n        \"max\": 1000.0,\n        \"num_unique_values\": 8,\n        \"samples\": [\n          44.871100000000006,\n          44.55,\n          1000.0\n        ],\n        \"semantic_type\": \"\",\n        \"description\": \"\"\n      }\n    },\n    {\n      \"column\": \"KmAfter\",\n      \"properties\": {\n        \"dtype\": \"number\",\n        \"std\": 351.93689204516556,\n        \"min\": 0.51,\n        \"max\": 1000.0,\n        \"num_unique_values\": 8,\n        \"samples\": [\n          4.99693,\n          5.01,\n          1000.0\n        ],\n        \"semantic_type\": \"\",\n        \"description\": \"\"\n      }\n    },\n    {\n      \"column\": \"KgAfter\",\n      \"properties\": {\n        \"dtype\": \"number\",\n        \"std\": 327.52908986308944,\n        \"min\": 2.9515870690572936,\n        \"max\": 1000.0,\n        \"num_unique_values\": 8,\n        \"samples\": [\n          90.12579999999998,\n          90.1,\n          1000.0\n        ],\n        \"semantic_type\": \"\",\n        \"description\": \"\"\n      }\n    },\n    {\n      \"column\": \"TimeAfter\",\n      \"properties\": {\n        \"dtype\": \"number\",\n        \"std\": 335.89024089130066,\n        \"min\": 5.034297646424255,\n        \"max\": 1000.0,\n        \"num_unique_values\": 8,\n        \"samples\": [\n          59.75560000000001,\n          59.9,\n          1000.0\n        ],\n        \"semantic_type\": \"\",\n        \"description\": \"\"\n      }\n    }\n  ]\n}"
            }
          },
          "metadata": {},
          "execution_count": 5
        }
      ]
    },
    {
      "cell_type": "markdown",
      "source": [
        "Penjelasan:\n",
        "1. **Age**<br>\n",
        "Kolom ini memiliki 1000 data yang tidak kosong. Rata-rata usia individu dalam dataset ini adalah 34.79 tahun, dengan standar deviasi sebesar 5.01 tahun. Ini berarti nilai kisaran usia individu dalam dataset ini berkisar antara 29.78 tahun hingga 39.80 tahun.\n",
        "\n",
        "\n",
        "*   Nilai minimum dari kolom ini adalah 19 tahun, menunjukkan usia terendah yang diukur dalam dataset.\n",
        "*   Kuartil ke-25 memiliki nilai sebesar 31 tahun, yang berarti 25% dari data memiliki usia kurang dari atau sama dengan 31 tahun.\n",
        "*   Kuartil ke-50 (median) memiliki nilai sebesar 35 tahun, menunjukkan nilai usia tengah dari seluruh data.\n",
        "*   Kuartil ke-75 memiliki nilai sebesar 38 tahun, yang berarti 75% dari data memiliki usia kurang dari atau sama dengan 38 tahun.\n",
        "*   Nilai maksimum pada kolom ini adalah 50 tahun, menunjukkan usia tertinggi yang diukur dalam dataset, yang berarti sampel individu tertua memiliki usia sekitar 50 tahun\n",
        "\n",
        "\n",
        "2. **KmBefore**<br>\n",
        "Kolom ini memiliki 1000 data yang tidak kosong. Rata-rata jarak lari sebelum mengonsumsi obat adalah 4.02 KM, dengan standar deviasi sebesar 0.77 KM. Ini berarti nilai kisaran jarak lari sebelum minum obat berkisar antara 3.25 KM hingga 4.79 KM.\n",
        "\n",
        "\n",
        "*   Nilai minimum dari kolom ini adalah 1.72 KM, menunjukkan jarak lari terpendek yang diukur sebelum minum obat.\n",
        "*   Kuartil ke-25 memiliki nilai sebesar 3.50 KM, yang berarti 25% dari data memiliki jarak lari sebelum minum obat kurang dari atau sama dengan 3.50 KM.\n",
        "*   Kuartil ke-50 (median) memiliki nilai sebesar 4.01 KM, menunjukkan nilai jarak lari tengah dari seluruh data.\n",
        "*   Kuartil ke-75 memiliki nilai sebesar 4.57 KM, yang berarti 75% dari data memiliki jarak lari sebelum minum obat kurang dari atau sama dengan 4.57 KM.\n",
        "*   Nilai maksimum pada kolom ini adalah 6.28 KM, menunjukkan jarak lari terjauh yang diukur sebelum minum obat, yang berarti sampel individu terjauh memiliki jarak lari sekitar 6.28 KM.\n",
        "\n",
        "3. **KgBefore**<br>\n",
        "Kolom ini memiliki 1000 data yang tidak kosong. Rata-rata berat sebelum mengonsumsi obat adalah 80.57 kg, dengan standar deviasi sebesar 9.30 kg. Ini berarti nilai kisaran berat badan sebelum minum obat berkisar antara 71.27 kg hingga 89.87 kg.\n",
        "*   Nilai minimum dari kolom ini adalah 51.60 kg, menunjukkan berat badan terendah yang diukur sebelum minum obat.\n",
        "*   Kuartil ke-25 memiliki nilai sebesar 74.50 kg, yang berarti 25% dari data memiliki berat badan sebelum minum obat kurang dari atau sama dengan 74.50 kg.\n",
        "Kuartil ke-50 (median) memiliki nilai sebesar 80.70 kg, menunjukkan nilai berat\n",
        "badan tengah dari seluruh data.\n",
        "*   Kuartil ke-75 memiliki nilai sebesar 86.72 kg, yang berarti 75% dari data memiliki berat badan sebelum minum obat kurang dari atau sama dengan 86.72 kg.\n",
        "*   Nilai maksimum pada kolom ini adalah 109.20 kg, menunjukkan berat badan tertinggi yang diukur sebelum minum obat, yang berarti sampel individu terberat memiliki berat badan sekitar 109.20 kg.\n",
        "\n",
        "4. **TimeBefore**<br>\n",
        "Kolom ini memiliki 1000 data yang tidak kosong. Rata-rata waktu sebelum mengonsumsi obat adalah 44.87 detik, dengan standar deviasi sebesar 9.99 detik. Ini berarti nilai kisaran waktu sebelum minum obat berkisar antara 34.88 detik hingga 54.86 detik.\n",
        "*   Nilai minimum dari kolom ini adalah 8 detik, menunjukkan waktu tercepat yang diukur sebelum minum obat.\n",
        "*   Kuartil ke-25 memiliki nilai sebesar 38.3 detik, yang berarti 25% dari data memiliki waktu sebelum minum obat kurang dari atau sama dengan 38.3 detik.\n",
        "*   Kuartil ke-50 (median) memiliki nilai sebesar 44.55 detik, menunjukkan nilai waktu tengah dari seluruh data.\n",
        "*   Kuartil ke-75 memiliki nilai sebesar 51.63 detik, yang berarti 75% dari data memiliki waktu sebelum minum obat kurang dari atau sama dengan 51.63 detik.\n",
        "*   Nilai maksimum pada kolom ini adalah 74.2 detik, menunjukkan waktu terlama yang diukur sebelum minum obat, yang berarti sampel individu terjauh memiliki waktu sekitar 74.2 detik.\n",
        "\n",
        "5. **KmAfter**<br>\n",
        "Kolom ini memiliki 1000 data yang tidak kosong. Rata-rata waktu setelah mengonsumsi obat adalah 59.76 detik, dengan standar deviasi sebesar 5.03 detik. Ini berarti nilai kisaran waktu setelah minum obat berkisar antara 54.73 detik hingga 64.79 detik.\n",
        "*   Nilai minimum dari kolom ini adalah 42.7 detik, menunjukkan waktu tercepat yang diukur setelah minum obat.\n",
        "*   Kuartil ke-25 memiliki nilai sebesar 56.28 detik, yang berarti 25% dari data memiliki waktu setelah minum obat kurang dari atau sama dengan 56.28 detik.\n",
        "*   Kuartil ke-50 (median) memiliki nilai sebesar 59.9 detik, menunjukkan nilai waktu tengah dari seluruh data.\n",
        "*   Kuartil ke-75 memiliki nilai sebesar 63 detik, yang berarti 75% dari data memiliki waktu setelah minum obat kurang dari atau sama dengan 63 detik.\n",
        "*   Nilai maksimum pada kolom ini adalah 76.3 detik, menunjukkan waktu terlama yang diukur setelah minum obat, yang berarti sampel individu terjauh memiliki waktu sekitar 76.3 detik.\n",
        "\n",
        "6. **KgAfter**<br>\n",
        "Kolom ini memiliki 1000 data yang tidak kosong. Rata-rata berat badan setelah mengonsumsi obat adalah 90.13 kg, dengan standar deviasi sebesar 2.95 kg. Ini berarti nilai kisaran berat badan setelah minum obat berkisar antara 87.18 kg hingga 93.08 kg.\n",
        "*   Nilai minimum dari kolom ini adalah 81.3 kg, menunjukkan berat badan terendah yang diukur setelah minum obat.\n",
        "*   Kuartil ke-25 memiliki nilai sebesar 88.18 kg, yang berarti 25% dari data memiliki berat badan setelah minum obat kurang dari atau sama dengan 88.18 kg.\n",
        "*   Kuartil ke-50 (median) memiliki nilai sebesar 90.1 kg, menunjukkan nilai berat badan tengah dari seluruh data.\n",
        "*   Kuartil ke-75 memiliki nilai sebesar 92.1 kg, yang berarti 75% dari data memiliki berat badan setelah minum obat kurang dari atau sama dengan 92.1 kg.\n",
        "*   Nilai maksimum pada kolom ini adalah 99.5 kg, menunjukkan berat badan tertinggi yang diukur setelah minum obat, yang berarti sampel individu terjauh memiliki berat badan sekitar 99.5 kg.\n",
        "\n",
        "7. **TimeAfter**<br>\n",
        "Kolom ini memiliki 1000 data yang tidak kosong. Rata-rata waktu setelah mengonsumsi obat adalah 59.76 detik, dengan standar deviasi sebesar 5.03 detik. Ini berarti nilai kisaran waktu setelah minum obat berkisar antara 54.73 detik hingga 64.79 detik.\n",
        "*   Nilai minimum dari kolom ini adalah 42.7 detik, menunjukkan waktu tercepat yang diukur setelah minum obat.\n",
        "*   Kuartil ke-25 memiliki nilai sebesar 56.28 detik, yang berarti 25% dari data memiliki waktu setelah minum obat kurang dari atau sama dengan 56.28 detik.\n",
        "*   Kuartil ke-50 (median) memiliki nilai sebesar 59.9 detik, menunjukkan nilai waktu tengah dari seluruh data.\n",
        "*   Kuartil ke-75 memiliki nilai sebesar 63 detik, yang berarti 75% dari data memiliki waktu setelah minum obat kurang dari atau sama dengan 63 detik.\n",
        "*   Nilai maksimum pada kolom ini adalah 76.3 detik, menunjukkan waktu terlama yang diukur setelah minum obat, yang berarti sampel individu terjauh memiliki waktu sekitar 76.3 detik.\n",
        "\n",
        "\n",
        "\n",
        "\n",
        "\n",
        "\n",
        "\n",
        "\n",
        "\n",
        "\n",
        "\n",
        "\n",
        "\n",
        "\n",
        "\n",
        "\n",
        "\n",
        "\n",
        "\n",
        "\n",
        "\n",
        "\n",
        "\n",
        "\n",
        "\n",
        "\n",
        "\n",
        "\n",
        "\n",
        "\n",
        "\n",
        "\n"
      ],
      "metadata": {
        "id": "5hQqcCfyOy6s"
      }
    },
    {
      "cell_type": "markdown",
      "source": [
        "#**Exploratory Data Analysis**"
      ],
      "metadata": {
        "id": "goXRLiJzTKZs"
      }
    },
    {
      "cell_type": "code",
      "source": [
        "import plotly.graph_objs as go\n",
        "\n",
        "gender_distribution = df['Gender'].value_counts()\n",
        "after_labels = [\"Laki-laki\", \"Perempuan\"]\n",
        "colors = ['#e41a1c', '#d3d3d3']\n",
        "\n",
        "fig = go.Figure(data=[go.Pie(labels=after_labels, values=gender_distribution.values, marker=dict(colors=colors))])\n",
        "\n",
        "fig.update_layout(title_text='Perbandingan gender pada dataset')\n",
        "fig.show()\n"
      ],
      "metadata": {
        "colab": {
          "base_uri": "https://localhost:8080/",
          "height": 542
        },
        "id": "Bv3iZhP-MAex",
        "outputId": "714c53df-b72d-4e23-9811-b455b7726ac6"
      },
      "execution_count": 6,
      "outputs": [
        {
          "output_type": "display_data",
          "data": {
            "text/html": [
              "<html>\n",
              "<head><meta charset=\"utf-8\" /></head>\n",
              "<body>\n",
              "    <div>            <script src=\"https://cdnjs.cloudflare.com/ajax/libs/mathjax/2.7.5/MathJax.js?config=TeX-AMS-MML_SVG\"></script><script type=\"text/javascript\">if (window.MathJax && window.MathJax.Hub && window.MathJax.Hub.Config) {window.MathJax.Hub.Config({SVG: {font: \"STIX-Web\"}});}</script>                <script type=\"text/javascript\">window.PlotlyConfig = {MathJaxConfig: 'local'};</script>\n",
              "        <script charset=\"utf-8\" src=\"https://cdn.plot.ly/plotly-2.24.1.min.js\"></script>                <div id=\"00c310ea-2bb8-4e8e-9fd3-019265939604\" class=\"plotly-graph-div\" style=\"height:525px; width:100%;\"></div>            <script type=\"text/javascript\">                                    window.PLOTLYENV=window.PLOTLYENV || {};                                    if (document.getElementById(\"00c310ea-2bb8-4e8e-9fd3-019265939604\")) {                    Plotly.newPlot(                        \"00c310ea-2bb8-4e8e-9fd3-019265939604\",                        [{\"labels\":[\"Laki-laki\",\"Perempuan\"],\"marker\":{\"colors\":[\"#e41a1c\",\"#d3d3d3\"]},\"values\":[553,447],\"type\":\"pie\"}],                        {\"template\":{\"data\":{\"histogram2dcontour\":[{\"type\":\"histogram2dcontour\",\"colorbar\":{\"outlinewidth\":0,\"ticks\":\"\"},\"colorscale\":[[0.0,\"#0d0887\"],[0.1111111111111111,\"#46039f\"],[0.2222222222222222,\"#7201a8\"],[0.3333333333333333,\"#9c179e\"],[0.4444444444444444,\"#bd3786\"],[0.5555555555555556,\"#d8576b\"],[0.6666666666666666,\"#ed7953\"],[0.7777777777777778,\"#fb9f3a\"],[0.8888888888888888,\"#fdca26\"],[1.0,\"#f0f921\"]]}],\"choropleth\":[{\"type\":\"choropleth\",\"colorbar\":{\"outlinewidth\":0,\"ticks\":\"\"}}],\"histogram2d\":[{\"type\":\"histogram2d\",\"colorbar\":{\"outlinewidth\":0,\"ticks\":\"\"},\"colorscale\":[[0.0,\"#0d0887\"],[0.1111111111111111,\"#46039f\"],[0.2222222222222222,\"#7201a8\"],[0.3333333333333333,\"#9c179e\"],[0.4444444444444444,\"#bd3786\"],[0.5555555555555556,\"#d8576b\"],[0.6666666666666666,\"#ed7953\"],[0.7777777777777778,\"#fb9f3a\"],[0.8888888888888888,\"#fdca26\"],[1.0,\"#f0f921\"]]}],\"heatmap\":[{\"type\":\"heatmap\",\"colorbar\":{\"outlinewidth\":0,\"ticks\":\"\"},\"colorscale\":[[0.0,\"#0d0887\"],[0.1111111111111111,\"#46039f\"],[0.2222222222222222,\"#7201a8\"],[0.3333333333333333,\"#9c179e\"],[0.4444444444444444,\"#bd3786\"],[0.5555555555555556,\"#d8576b\"],[0.6666666666666666,\"#ed7953\"],[0.7777777777777778,\"#fb9f3a\"],[0.8888888888888888,\"#fdca26\"],[1.0,\"#f0f921\"]]}],\"heatmapgl\":[{\"type\":\"heatmapgl\",\"colorbar\":{\"outlinewidth\":0,\"ticks\":\"\"},\"colorscale\":[[0.0,\"#0d0887\"],[0.1111111111111111,\"#46039f\"],[0.2222222222222222,\"#7201a8\"],[0.3333333333333333,\"#9c179e\"],[0.4444444444444444,\"#bd3786\"],[0.5555555555555556,\"#d8576b\"],[0.6666666666666666,\"#ed7953\"],[0.7777777777777778,\"#fb9f3a\"],[0.8888888888888888,\"#fdca26\"],[1.0,\"#f0f921\"]]}],\"contourcarpet\":[{\"type\":\"contourcarpet\",\"colorbar\":{\"outlinewidth\":0,\"ticks\":\"\"}}],\"contour\":[{\"type\":\"contour\",\"colorbar\":{\"outlinewidth\":0,\"ticks\":\"\"},\"colorscale\":[[0.0,\"#0d0887\"],[0.1111111111111111,\"#46039f\"],[0.2222222222222222,\"#7201a8\"],[0.3333333333333333,\"#9c179e\"],[0.4444444444444444,\"#bd3786\"],[0.5555555555555556,\"#d8576b\"],[0.6666666666666666,\"#ed7953\"],[0.7777777777777778,\"#fb9f3a\"],[0.8888888888888888,\"#fdca26\"],[1.0,\"#f0f921\"]]}],\"surface\":[{\"type\":\"surface\",\"colorbar\":{\"outlinewidth\":0,\"ticks\":\"\"},\"colorscale\":[[0.0,\"#0d0887\"],[0.1111111111111111,\"#46039f\"],[0.2222222222222222,\"#7201a8\"],[0.3333333333333333,\"#9c179e\"],[0.4444444444444444,\"#bd3786\"],[0.5555555555555556,\"#d8576b\"],[0.6666666666666666,\"#ed7953\"],[0.7777777777777778,\"#fb9f3a\"],[0.8888888888888888,\"#fdca26\"],[1.0,\"#f0f921\"]]}],\"mesh3d\":[{\"type\":\"mesh3d\",\"colorbar\":{\"outlinewidth\":0,\"ticks\":\"\"}}],\"scatter\":[{\"fillpattern\":{\"fillmode\":\"overlay\",\"size\":10,\"solidity\":0.2},\"type\":\"scatter\"}],\"parcoords\":[{\"type\":\"parcoords\",\"line\":{\"colorbar\":{\"outlinewidth\":0,\"ticks\":\"\"}}}],\"scatterpolargl\":[{\"type\":\"scatterpolargl\",\"marker\":{\"colorbar\":{\"outlinewidth\":0,\"ticks\":\"\"}}}],\"bar\":[{\"error_x\":{\"color\":\"#2a3f5f\"},\"error_y\":{\"color\":\"#2a3f5f\"},\"marker\":{\"line\":{\"color\":\"#E5ECF6\",\"width\":0.5},\"pattern\":{\"fillmode\":\"overlay\",\"size\":10,\"solidity\":0.2}},\"type\":\"bar\"}],\"scattergeo\":[{\"type\":\"scattergeo\",\"marker\":{\"colorbar\":{\"outlinewidth\":0,\"ticks\":\"\"}}}],\"scatterpolar\":[{\"type\":\"scatterpolar\",\"marker\":{\"colorbar\":{\"outlinewidth\":0,\"ticks\":\"\"}}}],\"histogram\":[{\"marker\":{\"pattern\":{\"fillmode\":\"overlay\",\"size\":10,\"solidity\":0.2}},\"type\":\"histogram\"}],\"scattergl\":[{\"type\":\"scattergl\",\"marker\":{\"colorbar\":{\"outlinewidth\":0,\"ticks\":\"\"}}}],\"scatter3d\":[{\"type\":\"scatter3d\",\"line\":{\"colorbar\":{\"outlinewidth\":0,\"ticks\":\"\"}},\"marker\":{\"colorbar\":{\"outlinewidth\":0,\"ticks\":\"\"}}}],\"scattermapbox\":[{\"type\":\"scattermapbox\",\"marker\":{\"colorbar\":{\"outlinewidth\":0,\"ticks\":\"\"}}}],\"scatterternary\":[{\"type\":\"scatterternary\",\"marker\":{\"colorbar\":{\"outlinewidth\":0,\"ticks\":\"\"}}}],\"scattercarpet\":[{\"type\":\"scattercarpet\",\"marker\":{\"colorbar\":{\"outlinewidth\":0,\"ticks\":\"\"}}}],\"carpet\":[{\"aaxis\":{\"endlinecolor\":\"#2a3f5f\",\"gridcolor\":\"white\",\"linecolor\":\"white\",\"minorgridcolor\":\"white\",\"startlinecolor\":\"#2a3f5f\"},\"baxis\":{\"endlinecolor\":\"#2a3f5f\",\"gridcolor\":\"white\",\"linecolor\":\"white\",\"minorgridcolor\":\"white\",\"startlinecolor\":\"#2a3f5f\"},\"type\":\"carpet\"}],\"table\":[{\"cells\":{\"fill\":{\"color\":\"#EBF0F8\"},\"line\":{\"color\":\"white\"}},\"header\":{\"fill\":{\"color\":\"#C8D4E3\"},\"line\":{\"color\":\"white\"}},\"type\":\"table\"}],\"barpolar\":[{\"marker\":{\"line\":{\"color\":\"#E5ECF6\",\"width\":0.5},\"pattern\":{\"fillmode\":\"overlay\",\"size\":10,\"solidity\":0.2}},\"type\":\"barpolar\"}],\"pie\":[{\"automargin\":true,\"type\":\"pie\"}]},\"layout\":{\"autotypenumbers\":\"strict\",\"colorway\":[\"#636efa\",\"#EF553B\",\"#00cc96\",\"#ab63fa\",\"#FFA15A\",\"#19d3f3\",\"#FF6692\",\"#B6E880\",\"#FF97FF\",\"#FECB52\"],\"font\":{\"color\":\"#2a3f5f\"},\"hovermode\":\"closest\",\"hoverlabel\":{\"align\":\"left\"},\"paper_bgcolor\":\"white\",\"plot_bgcolor\":\"#E5ECF6\",\"polar\":{\"bgcolor\":\"#E5ECF6\",\"angularaxis\":{\"gridcolor\":\"white\",\"linecolor\":\"white\",\"ticks\":\"\"},\"radialaxis\":{\"gridcolor\":\"white\",\"linecolor\":\"white\",\"ticks\":\"\"}},\"ternary\":{\"bgcolor\":\"#E5ECF6\",\"aaxis\":{\"gridcolor\":\"white\",\"linecolor\":\"white\",\"ticks\":\"\"},\"baxis\":{\"gridcolor\":\"white\",\"linecolor\":\"white\",\"ticks\":\"\"},\"caxis\":{\"gridcolor\":\"white\",\"linecolor\":\"white\",\"ticks\":\"\"}},\"coloraxis\":{\"colorbar\":{\"outlinewidth\":0,\"ticks\":\"\"}},\"colorscale\":{\"sequential\":[[0.0,\"#0d0887\"],[0.1111111111111111,\"#46039f\"],[0.2222222222222222,\"#7201a8\"],[0.3333333333333333,\"#9c179e\"],[0.4444444444444444,\"#bd3786\"],[0.5555555555555556,\"#d8576b\"],[0.6666666666666666,\"#ed7953\"],[0.7777777777777778,\"#fb9f3a\"],[0.8888888888888888,\"#fdca26\"],[1.0,\"#f0f921\"]],\"sequentialminus\":[[0.0,\"#0d0887\"],[0.1111111111111111,\"#46039f\"],[0.2222222222222222,\"#7201a8\"],[0.3333333333333333,\"#9c179e\"],[0.4444444444444444,\"#bd3786\"],[0.5555555555555556,\"#d8576b\"],[0.6666666666666666,\"#ed7953\"],[0.7777777777777778,\"#fb9f3a\"],[0.8888888888888888,\"#fdca26\"],[1.0,\"#f0f921\"]],\"diverging\":[[0,\"#8e0152\"],[0.1,\"#c51b7d\"],[0.2,\"#de77ae\"],[0.3,\"#f1b6da\"],[0.4,\"#fde0ef\"],[0.5,\"#f7f7f7\"],[0.6,\"#e6f5d0\"],[0.7,\"#b8e186\"],[0.8,\"#7fbc41\"],[0.9,\"#4d9221\"],[1,\"#276419\"]]},\"xaxis\":{\"gridcolor\":\"white\",\"linecolor\":\"white\",\"ticks\":\"\",\"title\":{\"standoff\":15},\"zerolinecolor\":\"white\",\"automargin\":true,\"zerolinewidth\":2},\"yaxis\":{\"gridcolor\":\"white\",\"linecolor\":\"white\",\"ticks\":\"\",\"title\":{\"standoff\":15},\"zerolinecolor\":\"white\",\"automargin\":true,\"zerolinewidth\":2},\"scene\":{\"xaxis\":{\"backgroundcolor\":\"#E5ECF6\",\"gridcolor\":\"white\",\"linecolor\":\"white\",\"showbackground\":true,\"ticks\":\"\",\"zerolinecolor\":\"white\",\"gridwidth\":2},\"yaxis\":{\"backgroundcolor\":\"#E5ECF6\",\"gridcolor\":\"white\",\"linecolor\":\"white\",\"showbackground\":true,\"ticks\":\"\",\"zerolinecolor\":\"white\",\"gridwidth\":2},\"zaxis\":{\"backgroundcolor\":\"#E5ECF6\",\"gridcolor\":\"white\",\"linecolor\":\"white\",\"showbackground\":true,\"ticks\":\"\",\"zerolinecolor\":\"white\",\"gridwidth\":2}},\"shapedefaults\":{\"line\":{\"color\":\"#2a3f5f\"}},\"annotationdefaults\":{\"arrowcolor\":\"#2a3f5f\",\"arrowhead\":0,\"arrowwidth\":1},\"geo\":{\"bgcolor\":\"white\",\"landcolor\":\"#E5ECF6\",\"subunitcolor\":\"white\",\"showland\":true,\"showlakes\":true,\"lakecolor\":\"white\"},\"title\":{\"x\":0.05},\"mapbox\":{\"style\":\"light\"}}},\"title\":{\"text\":\"Perbandingan gender pada dataset\"}},                        {\"responsive\": true}                    ).then(function(){\n",
              "                            \n",
              "var gd = document.getElementById('00c310ea-2bb8-4e8e-9fd3-019265939604');\n",
              "var x = new MutationObserver(function (mutations, observer) {{\n",
              "        var display = window.getComputedStyle(gd).display;\n",
              "        if (!display || display === 'none') {{\n",
              "            console.log([gd, 'removed!']);\n",
              "            Plotly.purge(gd);\n",
              "            observer.disconnect();\n",
              "        }}\n",
              "}});\n",
              "\n",
              "// Listen for the removal of the full notebook cells\n",
              "var notebookContainer = gd.closest('#notebook-container');\n",
              "if (notebookContainer) {{\n",
              "    x.observe(notebookContainer, {childList: true});\n",
              "}}\n",
              "\n",
              "// Listen for the clearing of the current output cell\n",
              "var outputEl = gd.closest('.output');\n",
              "if (outputEl) {{\n",
              "    x.observe(outputEl, {childList: true});\n",
              "}}\n",
              "\n",
              "                        })                };                            </script>        </div>\n",
              "</body>\n",
              "</html>"
            ]
          },
          "metadata": {}
        }
      ]
    },
    {
      "cell_type": "markdown",
      "source": [
        "Perbandingan jumlah sampel individu pada dataset ini divisualisasikan menggunakan pie chat sehingga dapat disimpilkan bahwa laki-laki lebih dominan dengan jumlah 55.3% sedangkan perempuan lebih sedikit dengan jumlah 44.7%."
      ],
      "metadata": {
        "id": "G8imSuNyMBsd"
      }
    },
    {
      "cell_type": "code",
      "source": [
        "df_numeric = df[[\"Age\", \"KmBefore\", \"KgBefore\", \"TimeBefore\", \"KmAfter\", \"KgAfter\", \"TimeAfter\"]]\n",
        "\n",
        "fig, axes = plt.subplots(7, 2, figsize=(15, 15), constrained_layout=True)\n",
        "\n",
        "for ax, col in zip(axes, df_numeric.columns):\n",
        "    sns.boxplot(data=df, x=col, ax=ax[0])\n",
        "    sns.kdeplot(df, x=col, ax=ax[1], bw_adjust=0.5)\n",
        "    ax[0].set_xlabel('')\n",
        "    ax[1].set_xlabel('')\n",
        "    ax[0].set_title(f'Boxplot of {col}')\n",
        "    ax[1].set_title(f'Density of {col}')\n"
      ],
      "metadata": {
        "colab": {
          "base_uri": "https://localhost:8080/",
          "height": 645
        },
        "id": "dUsMEOvfaJLy",
        "outputId": "08ec8d49-72f6-4dbe-e8eb-191fb568cd68"
      },
      "execution_count": 7,
      "outputs": [
        {
          "output_type": "display_data",
          "data": {
            "text/plain": [
              "<Figure size 1500x1500 with 14 Axes>"
            ],
            "image/png": "[encoded data removed]"
          },
          "metadata": {}
        }
      ]
    },
    {
      "cell_type": "markdown",
      "source": [
        "Visualisasi di atas menampilkan box dan density plot dari kolom yang meiliki nilai numeric. Sehingga dapat terlihat bahwa ada outlier pada data yang digunakan. Sedangkan tidak ada kolom yang memiliki distribusi yang menyerupai kurva bell-shaped, seperti yang terlihat pada density plot."
      ],
      "metadata": {
        "id": "-P4Dig3GdMz0"
      }
    },
    {
      "cell_type": "code",
      "source": [
        "df['quarter'] = pd.qcut(df['Age'], q=[0, 0.25, 0.5, 0.75, 1], labels=['Q1', 'Q2', 'Q3', 'Q4'])\n",
        "\n",
        "quarter_counts = df['quarter'].value_counts().sort_index()\n",
        "\n",
        "quarter_values = quarter_counts.values\n",
        "quarter_labels = quarter_counts.index\n",
        "\n",
        "mean_values = df.groupby('quarter')['Age'].mean().sort_index()\n",
        "\n",
        "plt.bar(quarter_labels, quarter_values, color='skyblue', alpha=0.7, edgecolor='black')\n",
        "\n",
        "for label, value, mean in zip(quarter_labels, quarter_values, mean_values):\n",
        "    plt.text(label, value + 1, f\"{mean:.2f}\", ha='center', va='bottom')\n",
        "\n",
        "plt.title('Distribusi Kuartil Umur pada Dataset')\n",
        "\n",
        "plt.show()"
      ],
      "metadata": {
        "colab": {
          "base_uri": "https://localhost:8080/",
          "height": 452
        },
        "id": "QisyADvefE3L",
        "outputId": "bbb98cf0-43b1-454f-f0d1-0d322920ee6b"
      },
      "execution_count": 8,
      "outputs": [
        {
          "output_type": "display_data",
          "data": {
            "text/plain": [
              "<Figure size 640x480 with 1 Axes>"
            ],
            "image/png": "[encoded data removed]"
          },
          "metadata": {}
        }
      ]
    },
    {
      "cell_type": "markdown",
      "source": [
        "Pada bar plot di atas menampilkan bahwa kuarter terbanyak adalah kuarter 2 (33.55 Tahun) dengan jumlah data lebih dari 300."
      ],
      "metadata": {
        "id": "O7U2ThCvqJgt"
      }
    },
    {
      "cell_type": "code",
      "source": [
        "import matplotlib.pyplot as plt\n",
        "\n",
        "male_data = df[df['Gender'] == 'M']\n",
        "female_data = df[df['Gender'] == 'F']\n",
        "\n",
        "before_columns = [\"KmBefore\", \"KgBefore\", \"TimeBefore\"]\n",
        "after_columns = [\"KmAfter\", \"KgAfter\", \"TimeAfter\"]\n",
        "\n",
        "before_labels = [\"KM\", \"KG\", \"TIME\"]\n",
        "after_labels = [\"KM\", \"KG\", \"TIME\"]\n",
        "\n",
        "plt.figure(figsize=(7, 4))\n",
        "bar_width = 0.35\n",
        "light_ash_grey = '#d3d3d3'\n",
        "\n",
        "# Male Before\n",
        "bars_before_male = plt.bar([index - bar_width/2 for index in range(len(before_columns))],\n",
        "                           male_data[before_columns].mean(), bar_width, label='Male Before', color=[light_ash_grey, light_ash_grey, light_ash_grey])\n",
        "\n",
        "for bar, value, std in zip(bars_before_male, male_data[before_columns].mean(), male_data[before_columns].std()):\n",
        "    plt.errorbar(bar.get_x() + bar.get_width() / 2, value,\n",
        "                 yerr=std, color='black', capsize=5, capthick=2, fmt='none')\n",
        "    plt.text(bar.get_x() + bar.get_width() / 2, value + std + 1, f\"{value:.2f}\", ha='center')\n",
        "\n",
        "# Male After\n",
        "bars_after_male = plt.bar([index + bar_width/2 for index in range(len(after_columns))],\n",
        "                          male_data[after_columns].mean(), bar_width, label='Male After', color=['orange', 'orange', 'orange'])\n",
        "\n",
        "for bar, value, std in zip(bars_after_male, male_data[after_columns].mean(), male_data[after_columns].std()):\n",
        "    plt.errorbar(bar.get_x() + bar.get_width() / 2, value,\n",
        "                 yerr=std, color='black', capsize=5, capthick=2, fmt='none')\n",
        "\n",
        "    plt.text(bar.get_x() + bar.get_width() / 2, value + std + 1, f\"{value:.2f}\", ha='center')\n",
        "\n",
        "plt.title(\"Male Participants - Before and After\")\n",
        "plt.xlabel(\"Variables\")\n",
        "plt.ylabel(\"Average Values\")\n",
        "plt.xticks(range(len(before_columns)), before_labels)\n",
        "plt.legend()\n",
        "\n",
        "plt.show()\n",
        "\n",
        "plt.figure(figsize=(7, 4))\n",
        "\n",
        "# Female Before\n",
        "bars_before_female = plt.bar([index - bar_width/2 for index in range(len(before_columns))],\n",
        "                             female_data[before_columns].mean(), bar_width, label='Female Before', color=[light_ash_grey, light_ash_grey, light_ash_grey])\n",
        "\n",
        "for bar, value, std in zip(bars_before_female, female_data[before_columns].mean(), female_data[before_columns].std()):\n",
        "    plt.errorbar(bar.get_x() + bar.get_width() / 2, value,\n",
        "                 yerr=std, color='black', capsize=5, capthick=2, fmt='none')\n",
        "\n",
        "    plt.text(bar.get_x() + bar.get_width() / 2, value + std + 1, f\"{value:.2f}\", ha='center')\n",
        "\n",
        "# Female After\n",
        "bars_after_female = plt.bar([index + bar_width/2 for index in range(len(after_columns))],\n",
        "                            female_data[after_columns].mean(), bar_width, label='Female After', color=['orange', 'orange', 'orange'])\n",
        "\n",
        "for bar, value, std in zip(bars_after_female, female_data[after_columns].mean(), female_data[after_columns].std()):\n",
        "    plt.errorbar(bar.get_x() + bar.get_width() / 2, value,\n",
        "                 yerr=std, color='black', capsize=5, capthick=2, fmt='none')\n",
        "\n",
        "    plt.text(bar.get_x() + bar.get_width() / 2, value + std + 1, f\"{value:.2f}\", ha='center')\n",
        "\n",
        "plt.title(\"Female Participants - Before and After\")\n",
        "plt.xlabel(\"Variables\")\n",
        "plt.ylabel(\"Average Values\")\n",
        "plt.xticks(range(len(before_columns)), before_labels)\n",
        "plt.legend()\n",
        "\n",
        "plt.show()\n"
      ],
      "metadata": {
        "colab": {
          "base_uri": "https://localhost:8080/",
          "height": 803
        },
        "id": "aBDENIdbTK_e",
        "outputId": "caeeba17-2e8e-454d-eb68-18cc52e2a6c9"
      },
      "execution_count": 9,
      "outputs": [
        {
          "output_type": "display_data",
          "data": {
            "text/plain": [
              "<Figure size 700x400 with 1 Axes>"
            ],
            "image/png": "[encoded data removed]"
          },
          "metadata": {}
        },
        {
          "output_type": "display_data",
          "data": {
            "text/plain": [
              "<Figure size 700x400 with 1 Axes>"
            ],
            "image/png": "[encoded data removed]"
          },
          "metadata": {}
        }
      ]
    },
    {
      "cell_type": "markdown",
      "source": [
        "####Gambar di atas merupakan visualisasi perbandingan sebelum (abu-abu) dan sesudah (oranye) individu mengonsumsi obat suplemen penunjang fisik.  \n",
        "1.   **Jarak(KM)**<br>\n",
        "*   Pada bar data pria, jarak yang ditempuh meingkat dari 4.03 KM menjadi 5.00 KM, berat badan juga mengalami peningkatan dari 80.7 KG menjadi 90.07 KG. Ini menjunjukkan adanya hubungan antara peningkatan jarak dan berat badan untuk peserta pria.\n",
        "*   Pada bar data wanita perubahan jarak dari 4.02 KM menjadi 4.99 KM juga menunjukkan adanya hubungan dengan peningkatan berat badan dari 80.72 menjadi 90.19.\n",
        "\n",
        "2.   **Berat (KG)**\n",
        "\n",
        "*   Pada bar data pria, peningkatan berat badan dari 80.45 kg menjadi 90.07 kg  menunjukkan hubungan dengan peningkatan waktu yang dibutuhkan dari 44.47 menjadi 59.70.\n",
        "*   pada bar data wanita, hubungan terlihat antara peningkatan berat badan dari 80.72 kg menjadi 90.19 kg dan peningkatan waktu yang dibutuhkan dari 45.37 menjadi 59.82.\n",
        "\n",
        "3. **Waktu (Time)**\n",
        "*   Pada bar data pria, peningkatan waktu yang diperlukan dari 44.47 menjadi 59.70 berhubungan dengan peningkatan berat badan dari 80.45 kg menjadi 90.07 kg.\n",
        "*   Pada peserta wanita, terlihat hubungan antara antara peningkatan waktu yang diperlukan dari 45.37 menjadi 59.82 dan peningkatan berat badan dari 80.72 kg menjadi 90.19 kg.\n",
        "\n",
        "\n",
        "\n",
        "\n",
        "\n",
        "\n"
      ],
      "metadata": {
        "id": "syJYWlRmB5Nt"
      }
    },
    {
      "cell_type": "code",
      "source": [
        "import matplotlib.pyplot as plt\n",
        "\n",
        "female_data = df[df['Gender'] == \"F\"]\n",
        "\n",
        "male_data = df[df['Gender'] == \"M\"]\n",
        "\n",
        "female_KmBefore_mean = female_data['KmBefore'].mean()\n",
        "male_KmBefore_mean = male_data['KmBefore'].mean()\n",
        "female_KmAfter_mean = female_data['KmAfter'].mean()\n",
        "male_KmAfter_mean = male_data['KmAfter'].mean()\n",
        "\n",
        "female_KgBefore_mean = female_data['KgBefore'].mean()\n",
        "male_KgBefore_mean = male_data['KgBefore'].mean()\n",
        "female_KgAfter_mean = female_data['KgAfter'].mean()\n",
        "male_KgAfter_mean = male_data['KgAfter'].mean()\n",
        "\n",
        "female_TimeBefore_mean = female_data['TimeBefore'].mean()\n",
        "male_TimeBefore_mean = male_data['TimeBefore'].mean()\n",
        "female_TimeAfter_mean = female_data['TimeAfter'].mean()\n",
        "male_TimeAfter_mean = male_data['TimeAfter'].mean()\n",
        "\n",
        "# Mengurangkan\n",
        "selisihKmFemale = female_KmAfter_mean - female_KmBefore_mean\n",
        "selisihKmMale = male_KmAfter_mean - male_KmBefore_mean\n",
        "\n",
        "selisihKgFemale = female_KgAfter_mean - female_KgBefore_mean\n",
        "selisihKgMale = male_KgAfter_mean - male_KgBefore_mean\n",
        "\n",
        "selisihTimeFemale = female_TimeAfter_mean - female_TimeBefore_mean\n",
        "selisihTimeMale = male_TimeAfter_mean - male_TimeBefore_mean\n",
        "\n",
        "# Menampilkan hasil\n",
        "print(\"Selisih Km (After - Before) - Female:\", selisihKmFemale)\n",
        "print(\"Selisih Km (After - Before) - Male:\", selisihKmMale)\n",
        "\n",
        "print(\"Selisih Kg (After - Before) - Female:\", selisihKgFemale)\n",
        "print(\"Selisih Kg (After - Before) - Male:\", selisihKgMale)\n",
        "\n",
        "print(\"Selisih Time (After - Before) - Female:\", selisihTimeFemale)\n",
        "print(\"Selisih Time (After - Before) - Male:\", selisihTimeMale)\n",
        "\n",
        "# Data untuk bar plot\n",
        "genders = ['Female', 'Male']\n",
        "selisih_km = [selisihKmFemale, selisihKmMale]\n",
        "selisih_kg = [selisihKgFemale, selisihKgMale]\n",
        "selisih_time = [selisihTimeFemale, selisihTimeMale]\n",
        "\n",
        "# Membuat bar plot untuk Km\n",
        "plt.bar(genders, selisih_km, color=['pink', 'pink'], alpha=0.7, label='Km', yerr=[abs(selisihKmFemale), abs(selisihKmMale)], capsize=5)\n",
        "\n",
        "# Membuat bar plot untuk Kg\n",
        "plt.bar(genders, selisih_kg, color=['orange', 'orange'], alpha=0.7, label='Kg', bottom=selisih_km, yerr=[abs(selisihKgFemale), abs(selisihKgMale)], capsize=5)\n",
        "\n",
        "# Membuat bar plot untuk Time\n",
        "plt.bar(genders, selisih_time, color=['red', 'red'], alpha=0.7, label='Time', bottom=[i+j for i,j in zip(selisih_km, selisih_kg)], yerr=[abs(selisihTimeFemale), abs(selisihTimeMale)], capsize=5)\n",
        "\n",
        "plt.xlabel('Gender')\n",
        "plt.ylabel('Selisih')\n",
        "plt.title('Selisih setelah mengonsumsi suplemen')\n",
        "plt.legend()\n",
        "plt.show()\n"
      ],
      "metadata": {
        "colab": {
          "base_uri": "https://localhost:8080/",
          "height": 576
        },
        "id": "0oUZj871rzlz",
        "outputId": "c775d63e-d6af-4797-94fd-fb71ffc63844"
      },
      "execution_count": 10,
      "outputs": [
        {
          "output_type": "stream",
          "name": "stdout",
          "text": [
            "Selisih Km (After - Before) - Female: 0.9850559284116329\n",
            "Selisih Km (After - Before) - Male: 0.9692224231464746\n",
            "Selisih Kg (After - Before) - Female: 9.471588366890373\n",
            "Selisih Kg (After - Before) - Male: 9.623146473779371\n",
            "Selisih Time (After - Before) - Female: 14.454138702460853\n",
            "Selisih Time (After - Before) - Male: 15.232368896925863\n"
          ]
        },
        {
          "output_type": "display_data",
          "data": {
            "text/plain": [
              "<Figure size 640x480 with 1 Axes>"
            ],
            "image/png": "[encoded data removed]"
          },
          "metadata": {}
        }
      ]
    },
    {
      "cell_type": "markdown",
      "source": [
        "Gambar di atas merupakan visualisasi dari perbandingan selisih Km (jarak), Kg(berat badan) dan Time(waktu lari sampel individu dalam menit). Dapat terilhat bahwa;\n",
        "*   **Jarak**<br>\n",
        " Jarak lari laki-laki 0.96  dan perempuan 0.98 lebih jauh dari sebelumnya .\n",
        "*   **Berat badan**<br>\n",
        "Berat badan pada laki-laki naik sebanyak 9.62kg dan 9.47kg pada perempuan.\n",
        "*   **Waktu**<br>\n",
        "Waktu yang dihabiskan pada laki-laki selama sekitar 15.23 menit dan perempuan selama 14.45 menit.\n",
        "\n",
        "Sehingga dapat disimpulkan bahwa perbedaan dari sampel individu laki-laki maupun perempuan tidak jauh berbeda.\n",
        "\n",
        "\n"
      ],
      "metadata": {
        "id": "8pfklPPiX4mR"
      }
    },
    {
      "cell_type": "markdown",
      "source": [
        "##**Verify Data Quality**"
      ],
      "metadata": {
        "id": "lDU-Wi2HNa2f"
      }
    },
    {
      "cell_type": "markdown",
      "source": [
        "###**Missing Values**"
      ],
      "metadata": {
        "id": "S8shQ8d-Ng-X"
      }
    },
    {
      "cell_type": "code",
      "source": [
        "df.isna().sum()"
      ],
      "metadata": {
        "colab": {
          "base_uri": "https://localhost:8080/"
        },
        "id": "RxpTOHYlyiiQ",
        "outputId": "54ce800d-688f-4088-a7ee-d27df5576fe1"
      },
      "execution_count": 11,
      "outputs": [
        {
          "output_type": "execute_result",
          "data": {
            "text/plain": [
              "Gender         0\n",
              "Age            0\n",
              "KmBefore       0\n",
              "KgBefore       0\n",
              "TimeBefore     0\n",
              "Medicine1      0\n",
              "Medicine2      0\n",
              "Medicine3      0\n",
              "KmAfter        0\n",
              "KgAfter        0\n",
              "TimeAfter      0\n",
              "SideEffects    0\n",
              "quarter        0\n",
              "dtype: int64"
            ]
          },
          "metadata": {},
          "execution_count": 11
        }
      ]
    },
    {
      "cell_type": "markdown",
      "source": [
        "Hasil output diatas menunjukkan nilai 0 pada setiap kolom. Hal ini berarti tidak ada data kosong pada dataset ini."
      ],
      "metadata": {
        "id": "wnRio3K9U-o9"
      }
    },
    {
      "cell_type": "markdown",
      "source": [
        "##**Outliers Value**"
      ],
      "metadata": {
        "id": "Tj4jBmegRnVE"
      }
    },
    {
      "cell_type": "code",
      "source": [
        "df[df.duplicated()]"
      ],
      "metadata": {
        "colab": {
          "base_uri": "https://localhost:8080/",
          "height": 73
        },
        "id": "DuOOph08XYir",
        "outputId": "88bfb9a1-e02a-48a1-d535-a96cdf477ca1"
      },
      "execution_count": 12,
      "outputs": [
        {
          "output_type": "execute_result",
          "data": {
            "text/plain": [
              "Empty DataFrame\n",
              "Columns: [Gender, Age, KmBefore, KgBefore, TimeBefore, Medicine1, Medicine2, Medicine3, KmAfter, KgAfter, TimeAfter, SideEffects, quarter]\n",
              "Index: []"
            ],
            "text/html": [
              "\n",
              "  <div id=\"df-0692ff39-7da2-4811-868a-9c15a893fe1b\" class=\"colab-df-container\">\n",
              "    <div>\n",
              "<style scoped>\n",
              "    .dataframe tbody tr th:only-of-type {\n",
              "        vertical-align: middle;\n",
              "    }\n",
              "\n",
              "    .dataframe tbody tr th {\n",
              "        vertical-align: top;\n",
              "    }\n",
              "\n",
              "    .dataframe thead th {\n",
              "        text-align: right;\n",
              "    }\n",
              "</style>\n",
              "<table border=\"1\" class=\"dataframe\">\n",
              "  <thead>\n",
              "    <tr style=\"text-align: right;\">\n",
              "      <th></th>\n",
              "      <th>Gender</th>\n",
              "      <th>Age</th>\n",
              "      <th>KmBefore</th>\n",
              "      <th>KgBefore</th>\n",
              "      <th>TimeBefore</th>\n",
              "      <th>Medicine1</th>\n",
              "      <th>Medicine2</th>\n",
              "      <th>Medicine3</th>\n",
              "      <th>KmAfter</th>\n",
              "      <th>KgAfter</th>\n",
              "      <th>TimeAfter</th>\n",
              "      <th>SideEffects</th>\n",
              "      <th>quarter</th>\n",
              "    </tr>\n",
              "  </thead>\n",
              "  <tbody>\n",
              "  </tbody>\n",
              "</table>\n",
              "</div>\n",
              "    <div class=\"colab-df-buttons\">\n",
              "\n",
              "  <div class=\"colab-df-container\">\n",
              "    <button class=\"colab-df-convert\" onclick=\"convertToInteractive('df-0692ff39-7da2-4811-868a-9c15a893fe1b')\"\n",
              "            title=\"Convert this dataframe to an interactive table.\"\n",
              "            style=\"display:none;\">\n",
              "\n",
              "  <svg xmlns=\"http://www.w3.org/2000/svg\" height=\"24px\" viewBox=\"0 -960 960 960\">\n",
              "    <path d=\"M120-120v-720h720v720H120Zm60-500h600v-160H180v160Zm220 220h160v-160H400v160Zm0 220h160v-160H400v160ZM180-400h160v-160H180v160Zm440 0h160v-160H620v160ZM180-180h160v-160H180v160Zm440 0h160v-160H620v160Z\"/>\n",
              "  </svg>\n",
              "    </button>\n",
              "\n",
              "  <style>\n",
              "    .colab-df-container {\n",
              "      display:flex;\n",
              "      gap: 12px;\n",
              "    }\n",
              "\n",
              "    .colab-df-convert {\n",
              "      background-color: #E8F0FE;\n",
              "      border: none;\n",
              "      border-radius: 50%;\n",
              "      cursor: pointer;\n",
              "      display: none;\n",
              "      fill: #1967D2;\n",
              "      height: 32px;\n",
              "      padding: 0 0 0 0;\n",
              "      width: 32px;\n",
              "    }\n",
              "\n",
              "    .colab-df-convert:hover {\n",
              "      background-color: #E2EBFA;\n",
              "      box-shadow: 0px 1px 2px rgba(60, 64, 67, 0.3), 0px 1px 3px 1px rgba(60, 64, 67, 0.15);\n",
              "      fill: #174EA6;\n",
              "    }\n",
              "\n",
              "    .colab-df-buttons div {\n",
              "      margin-bottom: 4px;\n",
              "    }\n",
              "\n",
              "    [theme=dark] .colab-df-convert {\n",
              "      background-color: #3B4455;\n",
              "      fill: #D2E3FC;\n",
              "    }\n",
              "\n",
              "    [theme=dark] .colab-df-convert:hover {\n",
              "      background-color: #434B5C;\n",
              "      box-shadow: 0px 1px 3px 1px rgba(0, 0, 0, 0.15);\n",
              "      filter: drop-shadow(0px 1px 2px rgba(0, 0, 0, 0.3));\n",
              "      fill: #FFFFFF;\n",
              "    }\n",
              "  </style>\n",
              "\n",
              "    <script>\n",
              "      const buttonEl =\n",
              "        document.querySelector('#df-0692ff39-7da2-4811-868a-9c15a893fe1b button.colab-df-convert');\n",
              "      buttonEl.style.display =\n",
              "        google.colab.kernel.accessAllowed ? 'block' : 'none';\n",
              "\n",
              "      async function convertToInteractive(key) {\n",
              "        const element = document.querySelector('#df-0692ff39-7da2-4811-868a-9c15a893fe1b');\n",
              "        const dataTable =\n",
              "          await google.colab.kernel.invokeFunction('convertToInteractive',\n",
              "                                                    [key], {});\n",
              "        if (!dataTable) return;\n",
              "\n",
              "        const docLinkHtml = 'Like what you see? Visit the ' +\n",
              "          '<a target=\"_blank\" href=https://colab.research.google.com/notebooks/data_table.ipynb>data table notebook</a>'\n",
              "          + ' to learn more about interactive tables.';\n",
              "        element.innerHTML = '';\n",
              "        dataTable['output_type'] = 'display_data';\n",
              "        await google.colab.output.renderOutput(dataTable, element);\n",
              "        const docLink = document.createElement('div');\n",
              "        docLink.innerHTML = docLinkHtml;\n",
              "        element.appendChild(docLink);\n",
              "      }\n",
              "    </script>\n",
              "  </div>\n",
              "\n",
              "    </div>\n",
              "  </div>\n"
            ],
            "application/vnd.google.colaboratory.intrinsic+json": {
              "type": "dataframe",
              "repr_error": "Out of range float values are not JSON compliant: nan"
            }
          },
          "metadata": {},
          "execution_count": 12
        }
      ]
    },
    {
      "cell_type": "markdown",
      "source": [
        "Terlihat dari data di atas bahwa tidak ada data duplikat yang ditemukan pada dataset ini."
      ],
      "metadata": {
        "id": "CC5juLV1YQ2J"
      }
    },
    {
      "cell_type": "markdown",
      "source": [
        "###**Penanganan Outliers**"
      ],
      "metadata": {
        "id": "ctfZKdALtWSu"
      }
    },
    {
      "cell_type": "code",
      "source": [
        "results = []\n",
        "\n",
        "cols = df.select_dtypes(include=['float64', 'int64'])\n",
        "\n",
        "for col in cols:\n",
        "  q1 = df[col].quantile(0.25)\n",
        "  q3 = df[col].quantile(0.75)\n",
        "  iqr = q3 - q1\n",
        "  lower_bound = q1 - 1.5*iqr\n",
        "  upper_bound = q3 + 1.5*iqr\n",
        "  outliers = df[(df[col] < lower_bound) | (df[col] > upper_bound)]\n",
        "  percent_outliers = (len(outliers)/len(df))*100\n",
        "  results.append({'Kolom': col, 'Persentase Outliers': percent_outliers})\n",
        "\n",
        "results_df = pd.DataFrame(results)\n",
        "results_df.set_index('Kolom', inplace=True)\n",
        "results_df = results_df.rename_axis(None, axis=0).rename_axis('Kolom', axis=1)\n",
        "\n",
        "display(results_df)\n"
      ],
      "metadata": {
        "colab": {
          "base_uri": "https://localhost:8080/",
          "height": 268
        },
        "id": "8eh4cpkoScRh",
        "outputId": "5072d910-14ee-4b21-fd8f-f4e031d1dd6e"
      },
      "execution_count": 13,
      "outputs": [
        {
          "output_type": "display_data",
          "data": {
            "text/plain": [
              "Kolom       Persentase Outliers\n",
              "Age                         0.4\n",
              "KmBefore                    0.5\n",
              "KgBefore                    1.1\n",
              "TimeBefore                  0.5\n",
              "KmAfter                     0.5\n",
              "KgAfter                     0.5\n",
              "TimeAfter                   0.9"
            ],
            "text/html": [
              "\n",
              "  <div id=\"df-eaad598a-9d12-4da8-bd2a-9bbf46cee91b\" class=\"colab-df-container\">\n",
              "    <div>\n",
              "<style scoped>\n",
              "    .dataframe tbody tr th:only-of-type {\n",
              "        vertical-align: middle;\n",
              "    }\n",
              "\n",
              "    .dataframe tbody tr th {\n",
              "        vertical-align: top;\n",
              "    }\n",
              "\n",
              "    .dataframe thead th {\n",
              "        text-align: right;\n",
              "    }\n",
              "</style>\n",
              "<table border=\"1\" class=\"dataframe\">\n",
              "  <thead>\n",
              "    <tr style=\"text-align: right;\">\n",
              "      <th>Kolom</th>\n",
              "      <th>Persentase Outliers</th>\n",
              "    </tr>\n",
              "  </thead>\n",
              "  <tbody>\n",
              "    <tr>\n",
              "      <th>Age</th>\n",
              "      <td>0.4</td>\n",
              "    </tr>\n",
              "    <tr>\n",
              "      <th>KmBefore</th>\n",
              "      <td>0.5</td>\n",
              "    </tr>\n",
              "    <tr>\n",
              "      <th>KgBefore</th>\n",
              "      <td>1.1</td>\n",
              "    </tr>\n",
              "    <tr>\n",
              "      <th>TimeBefore</th>\n",
              "      <td>0.5</td>\n",
              "    </tr>\n",
              "    <tr>\n",
              "      <th>KmAfter</th>\n",
              "      <td>0.5</td>\n",
              "    </tr>\n",
              "    <tr>\n",
              "      <th>KgAfter</th>\n",
              "      <td>0.5</td>\n",
              "    </tr>\n",
              "    <tr>\n",
              "      <th>TimeAfter</th>\n",
              "      <td>0.9</td>\n",
              "    </tr>\n",
              "  </tbody>\n",
              "</table>\n",
              "</div>\n",
              "    <div class=\"colab-df-buttons\">\n",
              "\n",
              "  <div class=\"colab-df-container\">\n",
              "    <button class=\"colab-df-convert\" onclick=\"convertToInteractive('df-eaad598a-9d12-4da8-bd2a-9bbf46cee91b')\"\n",
              "            title=\"Convert this dataframe to an interactive table.\"\n",
              "            style=\"display:none;\">\n",
              "\n",
              "  <svg xmlns=\"http://www.w3.org/2000/svg\" height=\"24px\" viewBox=\"0 -960 960 960\">\n",
              "    <path d=\"M120-120v-720h720v720H120Zm60-500h600v-160H180v160Zm220 220h160v-160H400v160Zm0 220h160v-160H400v160ZM180-400h160v-160H180v160Zm440 0h160v-160H620v160ZM180-180h160v-160H180v160Zm440 0h160v-160H620v160Z\"/>\n",
              "  </svg>\n",
              "    </button>\n",
              "\n",
              "  <style>\n",
              "    .colab-df-container {\n",
              "      display:flex;\n",
              "      gap: 12px;\n",
              "    }\n",
              "\n",
              "    .colab-df-convert {\n",
              "      background-color: #E8F0FE;\n",
              "      border: none;\n",
              "      border-radius: 50%;\n",
              "      cursor: pointer;\n",
              "      display: none;\n",
              "      fill: #1967D2;\n",
              "      height: 32px;\n",
              "      padding: 0 0 0 0;\n",
              "      width: 32px;\n",
              "    }\n",
              "\n",
              "    .colab-df-convert:hover {\n",
              "      background-color: #E2EBFA;\n",
              "      box-shadow: 0px 1px 2px rgba(60, 64, 67, 0.3), 0px 1px 3px 1px rgba(60, 64, 67, 0.15);\n",
              "      fill: #174EA6;\n",
              "    }\n",
              "\n",
              "    .colab-df-buttons div {\n",
              "      margin-bottom: 4px;\n",
              "    }\n",
              "\n",
              "    [theme=dark] .colab-df-convert {\n",
              "      background-color: #3B4455;\n",
              "      fill: #D2E3FC;\n",
              "    }\n",
              "\n",
              "    [theme=dark] .colab-df-convert:hover {\n",
              "      background-color: #434B5C;\n",
              "      box-shadow: 0px 1px 3px 1px rgba(0, 0, 0, 0.15);\n",
              "      filter: drop-shadow(0px 1px 2px rgba(0, 0, 0, 0.3));\n",
              "      fill: #FFFFFF;\n",
              "    }\n",
              "  </style>\n",
              "\n",
              "    <script>\n",
              "      const buttonEl =\n",
              "        document.querySelector('#df-eaad598a-9d12-4da8-bd2a-9bbf46cee91b button.colab-df-convert');\n",
              "      buttonEl.style.display =\n",
              "        google.colab.kernel.accessAllowed ? 'block' : 'none';\n",
              "\n",
              "      async function convertToInteractive(key) {\n",
              "        const element = document.querySelector('#df-eaad598a-9d12-4da8-bd2a-9bbf46cee91b');\n",
              "        const dataTable =\n",
              "          await google.colab.kernel.invokeFunction('convertToInteractive',\n",
              "                                                    [key], {});\n",
              "        if (!dataTable) return;\n",
              "\n",
              "        const docLinkHtml = 'Like what you see? Visit the ' +\n",
              "          '<a target=\"_blank\" href=https://colab.research.google.com/notebooks/data_table.ipynb>data table notebook</a>'\n",
              "          + ' to learn more about interactive tables.';\n",
              "        element.innerHTML = '';\n",
              "        dataTable['output_type'] = 'display_data';\n",
              "        await google.colab.output.renderOutput(dataTable, element);\n",
              "        const docLink = document.createElement('div');\n",
              "        docLink.innerHTML = docLinkHtml;\n",
              "        element.appendChild(docLink);\n",
              "      }\n",
              "    </script>\n",
              "  </div>\n",
              "\n",
              "\n",
              "<div id=\"df-2d1101c3-ab7d-48cb-845d-a7801f797af4\">\n",
              "  <button class=\"colab-df-quickchart\" onclick=\"quickchart('df-2d1101c3-ab7d-48cb-845d-a7801f797af4')\"\n",
              "            title=\"Suggest charts\"\n",
              "            style=\"display:none;\">\n",
              "\n",
              "<svg xmlns=\"http://www.w3.org/2000/svg\" height=\"24px\"viewBox=\"0 0 24 24\"\n",
              "     width=\"24px\">\n",
              "    <g>\n",
              "        <path d=\"M19 3H5c-1.1 0-2 .9-2 2v14c0 1.1.9 2 2 2h14c1.1 0 2-.9 2-2V5c0-1.1-.9-2-2-2zM9 17H7v-7h2v7zm4 0h-2V7h2v10zm4 0h-2v-4h2v4z\"/>\n",
              "    </g>\n",
              "</svg>\n",
              "  </button>\n",
              "\n",
              "<style>\n",
              "  .colab-df-quickchart {\n",
              "      --bg-color: #E8F0FE;\n",
              "      --fill-color: #1967D2;\n",
              "      --hover-bg-color: #E2EBFA;\n",
              "      --hover-fill-color: #174EA6;\n",
              "      --disabled-fill-color: #AAA;\n",
              "      --disabled-bg-color: #DDD;\n",
              "  }\n",
              "\n",
              "  [theme=dark] .colab-df-quickchart {\n",
              "      --bg-color: #3B4455;\n",
              "      --fill-color: #D2E3FC;\n",
              "      --hover-bg-color: #434B5C;\n",
              "      --hover-fill-color: #FFFFFF;\n",
              "      --disabled-bg-color: #3B4455;\n",
              "      --disabled-fill-color: #666;\n",
              "  }\n",
              "\n",
              "  .colab-df-quickchart {\n",
              "    background-color: var(--bg-color);\n",
              "    border: none;\n",
              "    border-radius: 50%;\n",
              "    cursor: pointer;\n",
              "    display: none;\n",
              "    fill: var(--fill-color);\n",
              "    height: 32px;\n",
              "    padding: 0;\n",
              "    width: 32px;\n",
              "  }\n",
              "\n",
              "  .colab-df-quickchart:hover {\n",
              "    background-color: var(--hover-bg-color);\n",
              "    box-shadow: 0 1px 2px rgba(60, 64, 67, 0.3), 0 1px 3px 1px rgba(60, 64, 67, 0.15);\n",
              "    fill: var(--button-hover-fill-color);\n",
              "  }\n",
              "\n",
              "  .colab-df-quickchart-complete:disabled,\n",
              "  .colab-df-quickchart-complete:disabled:hover {\n",
              "    background-color: var(--disabled-bg-color);\n",
              "    fill: var(--disabled-fill-color);\n",
              "    box-shadow: none;\n",
              "  }\n",
              "\n",
              "  .colab-df-spinner {\n",
              "    border: 2px solid var(--fill-color);\n",
              "    border-color: transparent;\n",
              "    border-bottom-color: var(--fill-color);\n",
              "    animation:\n",
              "      spin 1s steps(1) infinite;\n",
              "  }\n",
              "\n",
              "  @keyframes spin {\n",
              "    0% {\n",
              "      border-color: transparent;\n",
              "      border-bottom-color: var(--fill-color);\n",
              "      border-left-color: var(--fill-color);\n",
              "    }\n",
              "    20% {\n",
              "      border-color: transparent;\n",
              "      border-left-color: var(--fill-color);\n",
              "      border-top-color: var(--fill-color);\n",
              "    }\n",
              "    30% {\n",
              "      border-color: transparent;\n",
              "      border-left-color: var(--fill-color);\n",
              "      border-top-color: var(--fill-color);\n",
              "      border-right-color: var(--fill-color);\n",
              "    }\n",
              "    40% {\n",
              "      border-color: transparent;\n",
              "      border-right-color: var(--fill-color);\n",
              "      border-top-color: var(--fill-color);\n",
              "    }\n",
              "    60% {\n",
              "      border-color: transparent;\n",
              "      border-right-color: var(--fill-color);\n",
              "    }\n",
              "    80% {\n",
              "      border-color: transparent;\n",
              "      border-right-color: var(--fill-color);\n",
              "      border-bottom-color: var(--fill-color);\n",
              "    }\n",
              "    90% {\n",
              "      border-color: transparent;\n",
              "      border-bottom-color: var(--fill-color);\n",
              "    }\n",
              "  }\n",
              "</style>\n",
              "\n",
              "  <script>\n",
              "    async function quickchart(key) {\n",
              "      const quickchartButtonEl =\n",
              "        document.querySelector('#' + key + ' button');\n",
              "      quickchartButtonEl.disabled = true;  // To prevent multiple clicks.\n",
              "      quickchartButtonEl.classList.add('colab-df-spinner');\n",
              "      try {\n",
              "        const charts = await google.colab.kernel.invokeFunction(\n",
              "            'suggestCharts', [key], {});\n",
              "      } catch (error) {\n",
              "        console.error('Error during call to suggestCharts:', error);\n",
              "      }\n",
              "      quickchartButtonEl.classList.remove('colab-df-spinner');\n",
              "      quickchartButtonEl.classList.add('colab-df-quickchart-complete');\n",
              "    }\n",
              "    (() => {\n",
              "      let quickchartButtonEl =\n",
              "        document.querySelector('#df-2d1101c3-ab7d-48cb-845d-a7801f797af4 button');\n",
              "      quickchartButtonEl.style.display =\n",
              "        google.colab.kernel.accessAllowed ? 'block' : 'none';\n",
              "    })();\n",
              "  </script>\n",
              "</div>\n",
              "    </div>\n",
              "  </div>\n"
            ],
            "application/vnd.google.colaboratory.intrinsic+json": {
              "type": "dataframe",
              "variable_name": "results_df",
              "summary": "{\n  \"name\": \"results_df\",\n  \"rows\": 7,\n  \"fields\": [\n    {\n      \"column\": \"Persentase Outliers\",\n      \"properties\": {\n        \"dtype\": \"number\",\n        \"std\": 0.26276913640612176,\n        \"min\": 0.4,\n        \"max\": 1.0999999999999999,\n        \"num_unique_values\": 4,\n        \"samples\": [\n          0.5,\n          0.8999999999999999,\n          0.4\n        ],\n        \"semantic_type\": \"\",\n        \"description\": \"\"\n      }\n    }\n  ]\n}"
            }
          },
          "metadata": {}
        }
      ]
    },
    {
      "cell_type": "code",
      "source": [
        "boxplot = sns.boxplot(data=df, orient=\"v\", palette=\"Set2\")\n",
        "plt.title(\"Boxplot of All Columns\")\n",
        "plt.xlabel(\"Columns\")\n",
        "plt.ylabel(\"Values\")\n",
        "\n",
        "plt.tight_layout()\n",
        "\n",
        "\n",
        "plt.show()"
      ],
      "metadata": {
        "colab": {
          "base_uri": "https://localhost:8080/",
          "height": 486
        },
        "id": "bjBe88-Lq95F",
        "outputId": "525029ec-713f-40d4-99b5-08328e82e4ae"
      },
      "execution_count": 14,
      "outputs": [
        {
          "output_type": "display_data",
          "data": {
            "text/plain": [
              "<Figure size 640x480 with 1 Axes>"
            ],
            "image/png": "[encoded data removed]"
          },
          "metadata": {}
        }
      ]
    },
    {
      "cell_type": "markdown",
      "source": [
        "####Hapus Outliers"
      ],
      "metadata": {
        "id": "_LS5Vi9XsXvd"
      }
    },
    {
      "cell_type": "markdown",
      "source": [
        "\n",
        "1. **Age**<br>\n",
        "Outliers pada kolom usia (Age) sebanyak 0.4% menunjukkan bahwa ada sejumlah kecil data usia yang berada jauh dari nilai rata-rata atau mayoritas sampel.\n",
        "\n",
        "2. **KmBefore (Jarak Sebelum)**<br>\n",
        "Dengan 0.5% outliers pada kolom jarak sebelum (KmBefore), beberapa peserta mungkin telah mencatat jarak yang sangat rendah atau tinggi sebelum mengonsumsi suplemen, menciptakan variasi yang signifikan pada data jarak.\n",
        "KgBefore (Berat Badan Sebelum):\n",
        "\n",
        "3. **KgBefore(Berat badan sebelum)**<br>\n",
        "Outliers pada kolom berat badan sebelum mengonsumsi suplemen sebanyak 1.1% menandakan variasi yang lebih besar dalam berat badan sampel sebelum mengonsumsi suplemen.\n",
        "\n",
        "4. **TimeBefore (Waktu Sebelum)**<br>\n",
        "Dengan 0.5% outliers pada kolom waktu sebelum mengonsumsi suplemen, beberapa peserta memiliki data jauh dari rata-rata waktu yang dibutuhkan sebelum mengonsumsi suplemen, menunjukkan variasi dalam kecepatan atau waktu yang diambil.\n",
        "\n",
        "5. **KmAfter (Jarak Setelah)**<br>\n",
        "Outliers pada kolom jarak setelah mengonsumsi suplemen sebanyak 0.5% menandakan adanya variasi dalam data jarak setelah mengonsumsi suplemen. Beberapa peserta mencapai jarak yang signifikan lebih rendah atau lebih tinggi setelah mengonsumsi suplemen.\n",
        "\n",
        "6. **KgAfter (Berat Badan Setelah)**<br>\n",
        "Dengan 0.5% outliers pada kolom berat badan setelah mengonsumsi suplemen, beberapa peserta mengalami perubahan berat badan yang signifikan setelahnya, menciptakan variasi dalam data.\n",
        "\n",
        "7. **TimeAfter (Waktu Setelah)**<br>\n",
        "Outliers pada kolom waktu setelah mengonsumsi suplemen sebanyak 0.9% menunjukkan variasi yang lebih besar dalam waktu yang dibutuhkan peserta setelah mengonsumsi suplemen. Beberapa peserta memiliki data waktu yang jauh dari rata-rata waktu yang dibutuhkan kelompok."
      ],
      "metadata": {
        "id": "iqQndgJJWocP"
      }
    },
    {
      "cell_type": "code",
      "source": [
        "#Penghapusan nilai outlier untuk kolom age\n",
        "\n",
        "Q1 = df['Age'].quantile(0.25)\n",
        "Q3 = df['Age'].quantile(0.75)\n",
        "IQR = Q3 - Q1\n",
        "lower_bound = Q1 - 1.5 * IQR\n",
        "upper_bound = Q3 + 1.5 * IQR\n",
        "\n",
        "df = df[(df['Age'] >= lower_bound) & (df['Age'] <= upper_bound)]"
      ],
      "metadata": {
        "id": "jFY6AwrPrDVt"
      },
      "execution_count": 15,
      "outputs": []
    },
    {
      "cell_type": "code",
      "source": [
        "#Penghapusan nilai outlier untuk kolom KmBefore\n",
        "\n",
        "Q1 = df['KmBefore'].quantile(0.25)\n",
        "Q3 = df['KmBefore'].quantile(0.75)\n",
        "IQR = Q3 - Q1\n",
        "lower_bound = Q1 - 1.5 * IQR\n",
        "upper_bound = Q3 + 1.5 * IQR\n",
        "\n",
        "df = df[(df['KmBefore'] >= lower_bound) & (df['KmBefore'] <= upper_bound)]"
      ],
      "metadata": {
        "id": "PJrr5m7YrHM0"
      },
      "execution_count": 16,
      "outputs": []
    },
    {
      "cell_type": "code",
      "source": [
        "#Penghapusan nilai outlier untuk kolom KgBefore\n",
        "\n",
        "Q1 = df['KgBefore'].quantile(0.25)\n",
        "Q3 = df['KgBefore'].quantile(0.75)\n",
        "IQR = Q3 - Q1\n",
        "lower_bound = Q1 - 1.5 * IQR\n",
        "upper_bound = Q3 + 1.5 * IQR\n",
        "\n",
        "df = df[(df['KgBefore'] >= lower_bound) & (df['KgBefore'] <= upper_bound)]"
      ],
      "metadata": {
        "id": "jGABNlvhrJJU"
      },
      "execution_count": 17,
      "outputs": []
    },
    {
      "cell_type": "code",
      "source": [
        "#Penghapusan nilai outlier untuk kolom TimeBefore\n",
        "\n",
        "Q1 = df['TimeBefore'].quantile(0.25)\n",
        "Q3 = df['TimeBefore'].quantile(0.75)\n",
        "IQR = Q3 - Q1\n",
        "lower_bound = Q1 - 1.5 * IQR\n",
        "upper_bound = Q3 + 1.5 * IQR\n",
        "\n",
        "df = df[(df['TimeBefore'] >= lower_bound) & (df['TimeBefore'] <= upper_bound)]"
      ],
      "metadata": {
        "id": "oHXCyGlNrK8t"
      },
      "execution_count": 18,
      "outputs": []
    },
    {
      "cell_type": "code",
      "source": [
        "#Penghapusan nilai outlier untuk kolom KmAfter\n",
        "\n",
        "Q1 = df['KmAfter'].quantile(0.25)\n",
        "Q3 = df['KmAfter'].quantile(0.75)\n",
        "IQR = Q3 - Q1\n",
        "lower_bound = Q1 - 1.5 * IQR\n",
        "upper_bound = Q3 + 1.5 * IQR\n",
        "\n",
        "df = df[(df['KmAfter'] >= lower_bound) & (df['KmAfter'] <= upper_bound)]"
      ],
      "metadata": {
        "id": "2cuXDMifrMqC"
      },
      "execution_count": 19,
      "outputs": []
    },
    {
      "cell_type": "code",
      "source": [
        "#Penghapusan nilai outlier untuk kolom KgAfter\n",
        "\n",
        "Q1 = df['KgAfter'].quantile(0.25)\n",
        "Q3 = df['KgAfter'].quantile(0.75)\n",
        "IQR = Q3 - Q1\n",
        "lower_bound = Q1 - 1.5 * IQR\n",
        "upper_bound = Q3 + 1.5 * IQR\n",
        "\n",
        "df = df[(df['KgAfter'] >= lower_bound) & (df['KgAfter'] <= upper_bound)]"
      ],
      "metadata": {
        "id": "6sGRcZBprOuP"
      },
      "execution_count": 20,
      "outputs": []
    },
    {
      "cell_type": "code",
      "source": [
        "#Penghapusan nilai outlier untuk kolom TimeAfter\n",
        "\n",
        "Q1 = df['TimeAfter'].quantile(0.25)\n",
        "Q3 = df['TimeAfter'].quantile(0.75)\n",
        "IQR = Q3 - Q1\n",
        "lower_bound = Q1 - 1.5 * IQR\n",
        "upper_bound = Q3 + 1.5 * IQR\n",
        "\n",
        "df = df[(df['TimeAfter'] >= lower_bound) & (df['TimeAfter'] <= upper_bound)]"
      ],
      "metadata": {
        "id": "ZjBLty6irPuH"
      },
      "execution_count": 21,
      "outputs": []
    },
    {
      "cell_type": "code",
      "source": [
        "boxplot = sns.boxplot(data=df, orient=\"v\", palette=\"Set2\")\n",
        "plt.title(\"Boxplot of All Columns\")\n",
        "plt.xlabel(\"Columns\")\n",
        "plt.ylabel(\"Values\")\n",
        "\n",
        "# Adjust layout\n",
        "plt.tight_layout()\n",
        "\n",
        "# Show the plot\n",
        "plt.show()"
      ],
      "metadata": {
        "colab": {
          "base_uri": "https://localhost:8080/",
          "height": 486
        },
        "id": "Y8Qm3VlLrRoT",
        "outputId": "a11a1919-7f4a-40f8-995d-806f3ff04971"
      },
      "execution_count": 22,
      "outputs": [
        {
          "output_type": "display_data",
          "data": {
            "text/plain": [
              "<Figure size 640x480 with 1 Axes>"
            ],
            "image/png": "[encoded data removed]"
          },
          "metadata": {}
        }
      ]
    },
    {
      "cell_type": "markdown",
      "source": [
        "##**Construct Data**"
      ],
      "metadata": {
        "id": "CKp-4C6HtenX"
      }
    },
    {
      "cell_type": "markdown",
      "source": [
        "###F**eature Engineering**"
      ],
      "metadata": {
        "id": "Sv9UEKA_ttym"
      }
    },
    {
      "cell_type": "markdown",
      "source": [
        "Menambahkan kolom \"AgeCategory\" berdasarkan dari usia masing-masing sampel. Untuk memudahkan dalam identifikasi usia pada analisis."
      ],
      "metadata": {
        "id": "qJ8YXAViXnzu"
      }
    },
    {
      "cell_type": "code",
      "source": [
        "def categorize_age(age):\n",
        "    if age < 18:\n",
        "        return 'Anak-anak'\n",
        "    elif 18 <= age < 60:\n",
        "        return 'Dewasa'\n",
        "    else:\n",
        "        return 'Lansia'\n",
        "\n",
        "df['AgeCategory'] = df['Age'].apply(categorize_age)"
      ],
      "metadata": {
        "id": "nJvlDmODtzx3"
      },
      "execution_count": 23,
      "outputs": []
    },
    {
      "cell_type": "markdown",
      "source": [
        "###**Pengecekkan Hasil**"
      ],
      "metadata": {
        "id": "ABTzlSoAuBKP"
      }
    },
    {
      "cell_type": "code",
      "source": [
        "df.head()"
      ],
      "metadata": {
        "colab": {
          "base_uri": "https://localhost:8080/",
          "height": 226
        },
        "id": "2XN91XKSt5zR",
        "outputId": "393843da-683f-4ba7-fcb5-718c896f326c"
      },
      "execution_count": 24,
      "outputs": [
        {
          "output_type": "execute_result",
          "data": {
            "text/plain": [
              "  Gender  Age  KmBefore  KgBefore  TimeBefore Medicine1 Medicine2 Medicine3  \\\n",
              "0      F   32      4.06      74.7        41.2        No        No        No   \n",
              "1      M   37      3.96      76.3        43.9       Yes       Yes        No   \n",
              "2      M   43      3.80      91.7        47.9       Yes        No        No   \n",
              "3      F   26      5.17      75.4        59.6        No        No        No   \n",
              "4      F   36      3.72      77.0        54.9        No       Yes       Yes   \n",
              "\n",
              "   KmAfter  KgAfter  TimeAfter SideEffects quarter AgeCategory  \n",
              "0     4.37     91.8       61.1           N      Q2      Dewasa  \n",
              "1     3.09     89.6       69.7           N      Q3      Dewasa  \n",
              "2     6.26     92.7       49.8           N      Q4      Dewasa  \n",
              "3     5.81     89.1       60.9           N      Q1      Dewasa  \n",
              "4     7.80     91.7       60.7           Y      Q3      Dewasa  "
            ],
            "text/html": [
              "\n",
              "  <div id=\"df-d2ef86f6-4a33-44a8-a9f4-4238ec4c4a64\" class=\"colab-df-container\">\n",
              "    <div>\n",
              "<style scoped>\n",
              "    .dataframe tbody tr th:only-of-type {\n",
              "        vertical-align: middle;\n",
              "    }\n",
              "\n",
              "    .dataframe tbody tr th {\n",
              "        vertical-align: top;\n",
              "    }\n",
              "\n",
              "    .dataframe thead th {\n",
              "        text-align: right;\n",
              "    }\n",
              "</style>\n",
              "<table border=\"1\" class=\"dataframe\">\n",
              "  <thead>\n",
              "    <tr style=\"text-align: right;\">\n",
              "      <th></th>\n",
              "      <th>Gender</th>\n",
              "      <th>Age</th>\n",
              "      <th>KmBefore</th>\n",
              "      <th>KgBefore</th>\n",
              "      <th>TimeBefore</th>\n",
              "      <th>Medicine1</th>\n",
              "      <th>Medicine2</th>\n",
              "      <th>Medicine3</th>\n",
              "      <th>KmAfter</th>\n",
              "      <th>KgAfter</th>\n",
              "      <th>TimeAfter</th>\n",
              "      <th>SideEffects</th>\n",
              "      <th>quarter</th>\n",
              "      <th>AgeCategory</th>\n",
              "    </tr>\n",
              "  </thead>\n",
              "  <tbody>\n",
              "    <tr>\n",
              "      <th>0</th>\n",
              "      <td>F</td>\n",
              "      <td>32</td>\n",
              "      <td>4.06</td>\n",
              "      <td>74.7</td>\n",
              "      <td>41.2</td>\n",
              "      <td>No</td>\n",
              "      <td>No</td>\n",
              "      <td>No</td>\n",
              "      <td>4.37</td>\n",
              "      <td>91.8</td>\n",
              "      <td>61.1</td>\n",
              "      <td>N</td>\n",
              "      <td>Q2</td>\n",
              "      <td>Dewasa</td>\n",
              "    </tr>\n",
              "    <tr>\n",
              "      <th>1</th>\n",
              "      <td>M</td>\n",
              "      <td>37</td>\n",
              "      <td>3.96</td>\n",
              "      <td>76.3</td>\n",
              "      <td>43.9</td>\n",
              "      <td>Yes</td>\n",
              "      <td>Yes</td>\n",
              "      <td>No</td>\n",
              "      <td>3.09</td>\n",
              "      <td>89.6</td>\n",
              "      <td>69.7</td>\n",
              "      <td>N</td>\n",
              "      <td>Q3</td>\n",
              "      <td>Dewasa</td>\n",
              "    </tr>\n",
              "    <tr>\n",
              "      <th>2</th>\n",
              "      <td>M</td>\n",
              "      <td>43</td>\n",
              "      <td>3.80</td>\n",
              "      <td>91.7</td>\n",
              "      <td>47.9</td>\n",
              "      <td>Yes</td>\n",
              "      <td>No</td>\n",
              "      <td>No</td>\n",
              "      <td>6.26</td>\n",
              "      <td>92.7</td>\n",
              "      <td>49.8</td>\n",
              "      <td>N</td>\n",
              "      <td>Q4</td>\n",
              "      <td>Dewasa</td>\n",
              "    </tr>\n",
              "    <tr>\n",
              "      <th>3</th>\n",
              "      <td>F</td>\n",
              "      <td>26</td>\n",
              "      <td>5.17</td>\n",
              "      <td>75.4</td>\n",
              "      <td>59.6</td>\n",
              "      <td>No</td>\n",
              "      <td>No</td>\n",
              "      <td>No</td>\n",
              "      <td>5.81</td>\n",
              "      <td>89.1</td>\n",
              "      <td>60.9</td>\n",
              "      <td>N</td>\n",
              "      <td>Q1</td>\n",
              "      <td>Dewasa</td>\n",
              "    </tr>\n",
              "    <tr>\n",
              "      <th>4</th>\n",
              "      <td>F</td>\n",
              "      <td>36</td>\n",
              "      <td>3.72</td>\n",
              "      <td>77.0</td>\n",
              "      <td>54.9</td>\n",
              "      <td>No</td>\n",
              "      <td>Yes</td>\n",
              "      <td>Yes</td>\n",
              "      <td>7.80</td>\n",
              "      <td>91.7</td>\n",
              "      <td>60.7</td>\n",
              "      <td>Y</td>\n",
              "      <td>Q3</td>\n",
              "      <td>Dewasa</td>\n",
              "    </tr>\n",
              "  </tbody>\n",
              "</table>\n",
              "</div>\n",
              "    <div class=\"colab-df-buttons\">\n",
              "\n",
              "  <div class=\"colab-df-container\">\n",
              "    <button class=\"colab-df-convert\" onclick=\"convertToInteractive('df-d2ef86f6-4a33-44a8-a9f4-4238ec4c4a64')\"\n",
              "            title=\"Convert this dataframe to an interactive table.\"\n",
              "            style=\"display:none;\">\n",
              "\n",
              "  <svg xmlns=\"http://www.w3.org/2000/svg\" height=\"24px\" viewBox=\"0 -960 960 960\">\n",
              "    <path d=\"M120-120v-720h720v720H120Zm60-500h600v-160H180v160Zm220 220h160v-160H400v160Zm0 220h160v-160H400v160ZM180-400h160v-160H180v160Zm440 0h160v-160H620v160ZM180-180h160v-160H180v160Zm440 0h160v-160H620v160Z\"/>\n",
              "  </svg>\n",
              "    </button>\n",
              "\n",
              "  <style>\n",
              "    .colab-df-container {\n",
              "      display:flex;\n",
              "      gap: 12px;\n",
              "    }\n",
              "\n",
              "    .colab-df-convert {\n",
              "      background-color: #E8F0FE;\n",
              "      border: none;\n",
              "      border-radius: 50%;\n",
              "      cursor: pointer;\n",
              "      display: none;\n",
              "      fill: #1967D2;\n",
              "      height: 32px;\n",
              "      padding: 0 0 0 0;\n",
              "      width: 32px;\n",
              "    }\n",
              "\n",
              "    .colab-df-convert:hover {\n",
              "      background-color: #E2EBFA;\n",
              "      box-shadow: 0px 1px 2px rgba(60, 64, 67, 0.3), 0px 1px 3px 1px rgba(60, 64, 67, 0.15);\n",
              "      fill: #174EA6;\n",
              "    }\n",
              "\n",
              "    .colab-df-buttons div {\n",
              "      margin-bottom: 4px;\n",
              "    }\n",
              "\n",
              "    [theme=dark] .colab-df-convert {\n",
              "      background-color: #3B4455;\n",
              "      fill: #D2E3FC;\n",
              "    }\n",
              "\n",
              "    [theme=dark] .colab-df-convert:hover {\n",
              "      background-color: #434B5C;\n",
              "      box-shadow: 0px 1px 3px 1px rgba(0, 0, 0, 0.15);\n",
              "      filter: drop-shadow(0px 1px 2px rgba(0, 0, 0, 0.3));\n",
              "      fill: #FFFFFF;\n",
              "    }\n",
              "  </style>\n",
              "\n",
              "    <script>\n",
              "      const buttonEl =\n",
              "        document.querySelector('#df-d2ef86f6-4a33-44a8-a9f4-4238ec4c4a64 button.colab-df-convert');\n",
              "      buttonEl.style.display =\n",
              "        google.colab.kernel.accessAllowed ? 'block' : 'none';\n",
              "\n",
              "      async function convertToInteractive(key) {\n",
              "        const element = document.querySelector('#df-d2ef86f6-4a33-44a8-a9f4-4238ec4c4a64');\n",
              "        const dataTable =\n",
              "          await google.colab.kernel.invokeFunction('convertToInteractive',\n",
              "                                                    [key], {});\n",
              "        if (!dataTable) return;\n",
              "\n",
              "        const docLinkHtml = 'Like what you see? Visit the ' +\n",
              "          '<a target=\"_blank\" href=https://colab.research.google.com/notebooks/data_table.ipynb>data table notebook</a>'\n",
              "          + ' to learn more about interactive tables.';\n",
              "        element.innerHTML = '';\n",
              "        dataTable['output_type'] = 'display_data';\n",
              "        await google.colab.output.renderOutput(dataTable, element);\n",
              "        const docLink = document.createElement('div');\n",
              "        docLink.innerHTML = docLinkHtml;\n",
              "        element.appendChild(docLink);\n",
              "      }\n",
              "    </script>\n",
              "  </div>\n",
              "\n",
              "\n",
              "<div id=\"df-d4db79d6-c063-4d61-b657-955094edc5d2\">\n",
              "  <button class=\"colab-df-quickchart\" onclick=\"quickchart('df-d4db79d6-c063-4d61-b657-955094edc5d2')\"\n",
              "            title=\"Suggest charts\"\n",
              "            style=\"display:none;\">\n",
              "\n",
              "<svg xmlns=\"http://www.w3.org/2000/svg\" height=\"24px\"viewBox=\"0 0 24 24\"\n",
              "     width=\"24px\">\n",
              "    <g>\n",
              "        <path d=\"M19 3H5c-1.1 0-2 .9-2 2v14c0 1.1.9 2 2 2h14c1.1 0 2-.9 2-2V5c0-1.1-.9-2-2-2zM9 17H7v-7h2v7zm4 0h-2V7h2v10zm4 0h-2v-4h2v4z\"/>\n",
              "    </g>\n",
              "</svg>\n",
              "  </button>\n",
              "\n",
              "<style>\n",
              "  .colab-df-quickchart {\n",
              "      --bg-color: #E8F0FE;\n",
              "      --fill-color: #1967D2;\n",
              "      --hover-bg-color: #E2EBFA;\n",
              "      --hover-fill-color: #174EA6;\n",
              "      --disabled-fill-color: #AAA;\n",
              "      --disabled-bg-color: #DDD;\n",
              "  }\n",
              "\n",
              "  [theme=dark] .colab-df-quickchart {\n",
              "      --bg-color: #3B4455;\n",
              "      --fill-color: #D2E3FC;\n",
              "      --hover-bg-color: #434B5C;\n",
              "      --hover-fill-color: #FFFFFF;\n",
              "      --disabled-bg-color: #3B4455;\n",
              "      --disabled-fill-color: #666;\n",
              "  }\n",
              "\n",
              "  .colab-df-quickchart {\n",
              "    background-color: var(--bg-color);\n",
              "    border: none;\n",
              "    border-radius: 50%;\n",
              "    cursor: pointer;\n",
              "    display: none;\n",
              "    fill: var(--fill-color);\n",
              "    height: 32px;\n",
              "    padding: 0;\n",
              "    width: 32px;\n",
              "  }\n",
              "\n",
              "  .colab-df-quickchart:hover {\n",
              "    background-color: var(--hover-bg-color);\n",
              "    box-shadow: 0 1px 2px rgba(60, 64, 67, 0.3), 0 1px 3px 1px rgba(60, 64, 67, 0.15);\n",
              "    fill: var(--button-hover-fill-color);\n",
              "  }\n",
              "\n",
              "  .colab-df-quickchart-complete:disabled,\n",
              "  .colab-df-quickchart-complete:disabled:hover {\n",
              "    background-color: var(--disabled-bg-color);\n",
              "    fill: var(--disabled-fill-color);\n",
              "    box-shadow: none;\n",
              "  }\n",
              "\n",
              "  .colab-df-spinner {\n",
              "    border: 2px solid var(--fill-color);\n",
              "    border-color: transparent;\n",
              "    border-bottom-color: var(--fill-color);\n",
              "    animation:\n",
              "      spin 1s steps(1) infinite;\n",
              "  }\n",
              "\n",
              "  @keyframes spin {\n",
              "    0% {\n",
              "      border-color: transparent;\n",
              "      border-bottom-color: var(--fill-color);\n",
              "      border-left-color: var(--fill-color);\n",
              "    }\n",
              "    20% {\n",
              "      border-color: transparent;\n",
              "      border-left-color: var(--fill-color);\n",
              "      border-top-color: var(--fill-color);\n",
              "    }\n",
              "    30% {\n",
              "      border-color: transparent;\n",
              "      border-left-color: var(--fill-color);\n",
              "      border-top-color: var(--fill-color);\n",
              "      border-right-color: var(--fill-color);\n",
              "    }\n",
              "    40% {\n",
              "      border-color: transparent;\n",
              "      border-right-color: var(--fill-color);\n",
              "      border-top-color: var(--fill-color);\n",
              "    }\n",
              "    60% {\n",
              "      border-color: transparent;\n",
              "      border-right-color: var(--fill-color);\n",
              "    }\n",
              "    80% {\n",
              "      border-color: transparent;\n",
              "      border-right-color: var(--fill-color);\n",
              "      border-bottom-color: var(--fill-color);\n",
              "    }\n",
              "    90% {\n",
              "      border-color: transparent;\n",
              "      border-bottom-color: var(--fill-color);\n",
              "    }\n",
              "  }\n",
              "</style>\n",
              "\n",
              "  <script>\n",
              "    async function quickchart(key) {\n",
              "      const quickchartButtonEl =\n",
              "        document.querySelector('#' + key + ' button');\n",
              "      quickchartButtonEl.disabled = true;  // To prevent multiple clicks.\n",
              "      quickchartButtonEl.classList.add('colab-df-spinner');\n",
              "      try {\n",
              "        const charts = await google.colab.kernel.invokeFunction(\n",
              "            'suggestCharts', [key], {});\n",
              "      } catch (error) {\n",
              "        console.error('Error during call to suggestCharts:', error);\n",
              "      }\n",
              "      quickchartButtonEl.classList.remove('colab-df-spinner');\n",
              "      quickchartButtonEl.classList.add('colab-df-quickchart-complete');\n",
              "    }\n",
              "    (() => {\n",
              "      let quickchartButtonEl =\n",
              "        document.querySelector('#df-d4db79d6-c063-4d61-b657-955094edc5d2 button');\n",
              "      quickchartButtonEl.style.display =\n",
              "        google.colab.kernel.accessAllowed ? 'block' : 'none';\n",
              "    })();\n",
              "  </script>\n",
              "</div>\n",
              "    </div>\n",
              "  </div>\n"
            ],
            "application/vnd.google.colaboratory.intrinsic+json": {
              "type": "dataframe",
              "variable_name": "df",
              "summary": "{\n  \"name\": \"df\",\n  \"rows\": 956,\n  \"fields\": [\n    {\n      \"column\": \"Gender\",\n      \"properties\": {\n        \"dtype\": \"category\",\n        \"num_unique_values\": 2,\n        \"samples\": [\n          \"M\",\n          \"F\"\n        ],\n        \"semantic_type\": \"\",\n        \"description\": \"\"\n      }\n    },\n    {\n      \"column\": \"Age\",\n      \"properties\": {\n        \"dtype\": \"number\",\n        \"std\": 4,\n        \"min\": 21,\n        \"max\": 48,\n        \"num_unique_values\": 27,\n        \"samples\": [\n          40,\n          30\n        ],\n        \"semantic_type\": \"\",\n        \"description\": \"\"\n      }\n    },\n    {\n      \"column\": \"KmBefore\",\n      \"properties\": {\n        \"dtype\": \"number\",\n        \"std\": 0.7581399806480071,\n        \"min\": 1.97,\n        \"max\": 6.12,\n        \"num_unique_values\": 304,\n        \"samples\": [\n          4.18,\n          4.96\n        ],\n        \"semantic_type\": \"\",\n        \"description\": \"\"\n      }\n    },\n    {\n      \"column\": \"KgBefore\",\n      \"properties\": {\n        \"dtype\": \"number\",\n        \"std\": 8.88243362795528,\n        \"min\": 56.3,\n        \"max\": 105.0,\n        \"num_unique_values\": 344,\n        \"samples\": [\n          77.3,\n          92.8\n        ],\n        \"semantic_type\": \"\",\n        \"description\": \"\"\n      }\n    },\n    {\n      \"column\": \"TimeBefore\",\n      \"properties\": {\n        \"dtype\": \"number\",\n        \"std\": 9.746118996541826,\n        \"min\": 19.1,\n        \"max\": 71.0,\n        \"num_unique_values\": 372,\n        \"samples\": [\n          35.7,\n          45.4\n        ],\n        \"semantic_type\": \"\",\n        \"description\": \"\"\n      }\n    },\n    {\n      \"column\": \"Medicine1\",\n      \"properties\": {\n        \"dtype\": \"category\",\n        \"num_unique_values\": 2,\n        \"samples\": [\n          \"Yes\",\n          \"No\"\n        ],\n        \"semantic_type\": \"\",\n        \"description\": \"\"\n      }\n    },\n    {\n      \"column\": \"Medicine2\",\n      \"properties\": {\n        \"dtype\": \"category\",\n        \"num_unique_values\": 2,\n        \"samples\": [\n          \"Yes\",\n          \"No\"\n        ],\n        \"semantic_type\": \"\",\n        \"description\": \"\"\n      }\n    },\n    {\n      \"column\": \"Medicine3\",\n      \"properties\": {\n        \"dtype\": \"category\",\n        \"num_unique_values\": 2,\n        \"samples\": [\n          \"Yes\",\n          \"No\"\n        ],\n        \"semantic_type\": \"\",\n        \"description\": \"\"\n      }\n    },\n    {\n      \"column\": \"KmAfter\",\n      \"properties\": {\n        \"dtype\": \"number\",\n        \"std\": 1.4089082742488928,\n        \"min\": 1.2,\n        \"max\": 8.9,\n        \"num_unique_values\": 461,\n        \"samples\": [\n          4.03,\n          5.71\n        ],\n        \"semantic_type\": \"\",\n        \"description\": \"\"\n      }\n    },\n    {\n      \"column\": \"KgAfter\",\n      \"properties\": {\n        \"dtype\": \"number\",\n        \"std\": 2.888870175126944,\n        \"min\": 82.8,\n        \"max\": 97.7,\n        \"num_unique_values\": 138,\n        \"samples\": [\n          88.5,\n          83.6\n        ],\n        \"semantic_type\": \"\",\n        \"description\": \"\"\n      }\n    },\n    {\n      \"column\": \"TimeAfter\",\n      \"properties\": {\n        \"dtype\": \"number\",\n        \"std\": 4.86113844604429,\n        \"min\": 46.6,\n        \"max\": 73.1,\n        \"num_unique_values\": 219,\n        \"samples\": [\n          71.9,\n          53.9\n        ],\n        \"semantic_type\": \"\",\n        \"description\": \"\"\n      }\n    },\n    {\n      \"column\": \"SideEffects\",\n      \"properties\": {\n        \"dtype\": \"category\",\n        \"num_unique_values\": 2,\n        \"samples\": [\n          \"Y\",\n          \"N\"\n        ],\n        \"semantic_type\": \"\",\n        \"description\": \"\"\n      }\n    },\n    {\n      \"column\": \"quarter\",\n      \"properties\": {\n        \"dtype\": \"category\",\n        \"num_unique_values\": 4,\n        \"samples\": [\n          \"Q3\",\n          \"Q1\"\n        ],\n        \"semantic_type\": \"\",\n        \"description\": \"\"\n      }\n    },\n    {\n      \"column\": \"AgeCategory\",\n      \"properties\": {\n        \"dtype\": \"category\",\n        \"num_unique_values\": 1,\n        \"samples\": [\n          \"Dewasa\"\n        ],\n        \"semantic_type\": \"\",\n        \"description\": \"\"\n      }\n    }\n  ]\n}"
            }
          },
          "metadata": {},
          "execution_count": 24
        }
      ]
    },
    {
      "cell_type": "markdown",
      "source": [
        "##**Data Reduction**"
      ],
      "metadata": {
        "id": "-cpKRs2cx3xF"
      }
    },
    {
      "cell_type": "markdown",
      "source": [
        "###**Pengecekakan baris yang datanya tidak valid**"
      ],
      "metadata": {
        "id": "zgqYa1BWyZEZ"
      }
    },
    {
      "cell_type": "code",
      "source": [
        "count_all_N = ((df['Medicine1'] == 'No') & (df['Medicine2'] == 'No') & (df['Medicine3'] == 'No')).sum()\n",
        "\n",
        "print(f\"Jumlah baris yang bernilai 'No' pada semua kolom Medicine1, Medicine2, and Medicine3: {count_all_N}\")"
      ],
      "metadata": {
        "colab": {
          "base_uri": "https://localhost:8080/"
        },
        "id": "DgImSW39ydLn",
        "outputId": "92d530da-3357-450d-fb57-cad154a788a0"
      },
      "execution_count": 25,
      "outputs": [
        {
          "output_type": "stream",
          "name": "stdout",
          "text": [
            "Jumlah baris yang bernilai 'No' pada semua kolom Medicine1, Medicine2, and Medicine3: 145\n"
          ]
        }
      ]
    },
    {
      "cell_type": "markdown",
      "source": [
        "###**Penghapusan baris**"
      ],
      "metadata": {
        "id": "W89HqLc8IZzY"
      }
    },
    {
      "cell_type": "markdown",
      "source": [
        "Baris yang kolom \"Medicine1\",\"Medicine2\" dan \"Medicine3\" bernilai \"No\" dapat dinyatakan tidak valid. Dikarenakan bagaimana bisa data tersebut masuk ke dataframe apabila sampel tidak ada yang mengonsumsi suplement. Maka dilakukan penghapusan baris."
      ],
      "metadata": {
        "id": "RraFWhoJX7ZP"
      }
    },
    {
      "cell_type": "code",
      "source": [
        "df = df[~((df['Medicine1'] == 'No') & (df['Medicine2'] == 'No') & (df['Medicine3'] == 'No'))]"
      ],
      "metadata": {
        "id": "8sFJNGgaIYvT"
      },
      "execution_count": 26,
      "outputs": []
    },
    {
      "cell_type": "markdown",
      "source": [
        "###**Pengecekkan Ulang**"
      ],
      "metadata": {
        "id": "9Lx_NlpNIcjt"
      }
    },
    {
      "cell_type": "code",
      "source": [
        "count_all_N = ((df['Medicine1'] == 'No') & (df['Medicine2'] == 'No') & (df['Medicine3'] == 'No')).sum()\n",
        "\n",
        "print(f\"Jumlah baris yang bernilai 'No' pada semua kolom Medicine1, Medicine2, and Medicine3: {count_all_N}\")"
      ],
      "metadata": {
        "colab": {
          "base_uri": "https://localhost:8080/"
        },
        "id": "ii9u4e09If6Q",
        "outputId": "c282de7d-2f89-4575-986b-c4870e5aed07"
      },
      "execution_count": 27,
      "outputs": [
        {
          "output_type": "stream",
          "name": "stdout",
          "text": [
            "Jumlah baris yang bernilai 'No' pada semua kolom Medicine1, Medicine2, and Medicine3: 0\n"
          ]
        }
      ]
    },
    {
      "cell_type": "markdown",
      "source": [
        "###**Mengurangi Fitur-Fitur yang Kurang Relevan**"
      ],
      "metadata": {
        "id": "HdDxjqIjx5vj"
      }
    },
    {
      "cell_type": "code",
      "source": [
        "df_corr = df.corr(numeric_only=True)\n",
        "px.imshow(df_corr)"
      ],
      "metadata": {
        "colab": {
          "base_uri": "https://localhost:8080/",
          "height": 542
        },
        "id": "RblpcSrlChJR",
        "outputId": "5884a0e6-8f25-4e60-8151-1bab254808c3"
      },
      "execution_count": 28,
      "outputs": [
        {
          "output_type": "display_data",
          "data": {
            "text/html": [
              "<html>\n",
              "<head><meta charset=\"utf-8\" /></head>\n",
              "<body>\n",
              "    <div>            <script src=\"https://cdnjs.cloudflare.com/ajax/libs/mathjax/2.7.5/MathJax.js?config=TeX-AMS-MML_SVG\"></script><script type=\"text/javascript\">if (window.MathJax && window.MathJax.Hub && window.MathJax.Hub.Config) {window.MathJax.Hub.Config({SVG: {font: \"STIX-Web\"}});}</script>                <script type=\"text/javascript\">window.PlotlyConfig = {MathJaxConfig: 'local'};</script>\n",
              "        <script charset=\"utf-8\" src=\"https://cdn.plot.ly/plotly-2.24.1.min.js\"></script>                <div id=\"301d35b0-2a6e-414c-9542-de031e7b1cd1\" class=\"plotly-graph-div\" style=\"height:525px; width:100%;\"></div>            <script type=\"text/javascript\">                                    window.PLOTLYENV=window.PLOTLYENV || {};                                    if (document.getElementById(\"301d35b0-2a6e-414c-9542-de031e7b1cd1\")) {                    Plotly.newPlot(                        \"301d35b0-2a6e-414c-9542-de031e7b1cd1\",                        [{\"coloraxis\":\"coloraxis\",\"name\":\"0\",\"x\":[\"Age\",\"KmBefore\",\"KgBefore\",\"TimeBefore\",\"KmAfter\",\"KgAfter\",\"TimeAfter\"],\"y\":[\"Age\",\"KmBefore\",\"KgBefore\",\"TimeBefore\",\"KmAfter\",\"KgAfter\",\"TimeAfter\"],\"z\":[[1.0,0.054615040651651146,0.008995144928511146,-0.06154909769248293,0.012345925670720287,-0.02284069935126168,0.0015966176486854429],[0.054615040651651146,1.0,0.0036664022998107743,-0.030090604563753804,0.00907924583850486,-0.031791927706020864,-0.028124405433723437],[0.008995144928511146,0.0036664022998107743,1.0,0.06284739601033049,0.04688169481415446,0.04526407785526128,0.06047836284215514],[-0.06154909769248293,-0.030090604563753804,0.06284739601033049,1.0,-0.043607924696212996,-0.021827119593949465,0.045722080718571395],[0.012345925670720287,0.00907924583850486,0.04688169481415446,-0.043607924696212996,1.0,-0.04628307193864354,-0.055638921843104434],[-0.02284069935126168,-0.031791927706020864,0.04526407785526128,-0.021827119593949465,-0.04628307193864354,1.0,0.014212016318331078],[0.0015966176486854429,-0.028124405433723437,0.06047836284215514,0.045722080718571395,-0.055638921843104434,0.014212016318331078,1.0]],\"type\":\"heatmap\",\"xaxis\":\"x\",\"yaxis\":\"y\",\"hovertemplate\":\"x: %{x}\\u003cbr\\u003ey: %{y}\\u003cbr\\u003ecolor: %{z}\\u003cextra\\u003e\\u003c\\u002fextra\\u003e\"}],                        {\"template\":{\"data\":{\"histogram2dcontour\":[{\"type\":\"histogram2dcontour\",\"colorbar\":{\"outlinewidth\":0,\"ticks\":\"\"},\"colorscale\":[[0.0,\"#0d0887\"],[0.1111111111111111,\"#46039f\"],[0.2222222222222222,\"#7201a8\"],[0.3333333333333333,\"#9c179e\"],[0.4444444444444444,\"#bd3786\"],[0.5555555555555556,\"#d8576b\"],[0.6666666666666666,\"#ed7953\"],[0.7777777777777778,\"#fb9f3a\"],[0.8888888888888888,\"#fdca26\"],[1.0,\"#f0f921\"]]}],\"choropleth\":[{\"type\":\"choropleth\",\"colorbar\":{\"outlinewidth\":0,\"ticks\":\"\"}}],\"histogram2d\":[{\"type\":\"histogram2d\",\"colorbar\":{\"outlinewidth\":0,\"ticks\":\"\"},\"colorscale\":[[0.0,\"#0d0887\"],[0.1111111111111111,\"#46039f\"],[0.2222222222222222,\"#7201a8\"],[0.3333333333333333,\"#9c179e\"],[0.4444444444444444,\"#bd3786\"],[0.5555555555555556,\"#d8576b\"],[0.6666666666666666,\"#ed7953\"],[0.7777777777777778,\"#fb9f3a\"],[0.8888888888888888,\"#fdca26\"],[1.0,\"#f0f921\"]]}],\"heatmap\":[{\"type\":\"heatmap\",\"colorbar\":{\"outlinewidth\":0,\"ticks\":\"\"},\"colorscale\":[[0.0,\"#0d0887\"],[0.1111111111111111,\"#46039f\"],[0.2222222222222222,\"#7201a8\"],[0.3333333333333333,\"#9c179e\"],[0.4444444444444444,\"#bd3786\"],[0.5555555555555556,\"#d8576b\"],[0.6666666666666666,\"#ed7953\"],[0.7777777777777778,\"#fb9f3a\"],[0.8888888888888888,\"#fdca26\"],[1.0,\"#f0f921\"]]}],\"heatmapgl\":[{\"type\":\"heatmapgl\",\"colorbar\":{\"outlinewidth\":0,\"ticks\":\"\"},\"colorscale\":[[0.0,\"#0d0887\"],[0.1111111111111111,\"#46039f\"],[0.2222222222222222,\"#7201a8\"],[0.3333333333333333,\"#9c179e\"],[0.4444444444444444,\"#bd3786\"],[0.5555555555555556,\"#d8576b\"],[0.6666666666666666,\"#ed7953\"],[0.7777777777777778,\"#fb9f3a\"],[0.8888888888888888,\"#fdca26\"],[1.0,\"#f0f921\"]]}],\"contourcarpet\":[{\"type\":\"contourcarpet\",\"colorbar\":{\"outlinewidth\":0,\"ticks\":\"\"}}],\"contour\":[{\"type\":\"contour\",\"colorbar\":{\"outlinewidth\":0,\"ticks\":\"\"},\"colorscale\":[[0.0,\"#0d0887\"],[0.1111111111111111,\"#46039f\"],[0.2222222222222222,\"#7201a8\"],[0.3333333333333333,\"#9c179e\"],[0.4444444444444444,\"#bd3786\"],[0.5555555555555556,\"#d8576b\"],[0.6666666666666666,\"#ed7953\"],[0.7777777777777778,\"#fb9f3a\"],[0.8888888888888888,\"#fdca26\"],[1.0,\"#f0f921\"]]}],\"surface\":[{\"type\":\"surface\",\"colorbar\":{\"outlinewidth\":0,\"ticks\":\"\"},\"colorscale\":[[0.0,\"#0d0887\"],[0.1111111111111111,\"#46039f\"],[0.2222222222222222,\"#7201a8\"],[0.3333333333333333,\"#9c179e\"],[0.4444444444444444,\"#bd3786\"],[0.5555555555555556,\"#d8576b\"],[0.6666666666666666,\"#ed7953\"],[0.7777777777777778,\"#fb9f3a\"],[0.8888888888888888,\"#fdca26\"],[1.0,\"#f0f921\"]]}],\"mesh3d\":[{\"type\":\"mesh3d\",\"colorbar\":{\"outlinewidth\":0,\"ticks\":\"\"}}],\"scatter\":[{\"fillpattern\":{\"fillmode\":\"overlay\",\"size\":10,\"solidity\":0.2},\"type\":\"scatter\"}],\"parcoords\":[{\"type\":\"parcoords\",\"line\":{\"colorbar\":{\"outlinewidth\":0,\"ticks\":\"\"}}}],\"scatterpolargl\":[{\"type\":\"scatterpolargl\",\"marker\":{\"colorbar\":{\"outlinewidth\":0,\"ticks\":\"\"}}}],\"bar\":[{\"error_x\":{\"color\":\"#2a3f5f\"},\"error_y\":{\"color\":\"#2a3f5f\"},\"marker\":{\"line\":{\"color\":\"#E5ECF6\",\"width\":0.5},\"pattern\":{\"fillmode\":\"overlay\",\"size\":10,\"solidity\":0.2}},\"type\":\"bar\"}],\"scattergeo\":[{\"type\":\"scattergeo\",\"marker\":{\"colorbar\":{\"outlinewidth\":0,\"ticks\":\"\"}}}],\"scatterpolar\":[{\"type\":\"scatterpolar\",\"marker\":{\"colorbar\":{\"outlinewidth\":0,\"ticks\":\"\"}}}],\"histogram\":[{\"marker\":{\"pattern\":{\"fillmode\":\"overlay\",\"size\":10,\"solidity\":0.2}},\"type\":\"histogram\"}],\"scattergl\":[{\"type\":\"scattergl\",\"marker\":{\"colorbar\":{\"outlinewidth\":0,\"ticks\":\"\"}}}],\"scatter3d\":[{\"type\":\"scatter3d\",\"line\":{\"colorbar\":{\"outlinewidth\":0,\"ticks\":\"\"}},\"marker\":{\"colorbar\":{\"outlinewidth\":0,\"ticks\":\"\"}}}],\"scattermapbox\":[{\"type\":\"scattermapbox\",\"marker\":{\"colorbar\":{\"outlinewidth\":0,\"ticks\":\"\"}}}],\"scatterternary\":[{\"type\":\"scatterternary\",\"marker\":{\"colorbar\":{\"outlinewidth\":0,\"ticks\":\"\"}}}],\"scattercarpet\":[{\"type\":\"scattercarpet\",\"marker\":{\"colorbar\":{\"outlinewidth\":0,\"ticks\":\"\"}}}],\"carpet\":[{\"aaxis\":{\"endlinecolor\":\"#2a3f5f\",\"gridcolor\":\"white\",\"linecolor\":\"white\",\"minorgridcolor\":\"white\",\"startlinecolor\":\"#2a3f5f\"},\"baxis\":{\"endlinecolor\":\"#2a3f5f\",\"gridcolor\":\"white\",\"linecolor\":\"white\",\"minorgridcolor\":\"white\",\"startlinecolor\":\"#2a3f5f\"},\"type\":\"carpet\"}],\"table\":[{\"cells\":{\"fill\":{\"color\":\"#EBF0F8\"},\"line\":{\"color\":\"white\"}},\"header\":{\"fill\":{\"color\":\"#C8D4E3\"},\"line\":{\"color\":\"white\"}},\"type\":\"table\"}],\"barpolar\":[{\"marker\":{\"line\":{\"color\":\"#E5ECF6\",\"width\":0.5},\"pattern\":{\"fillmode\":\"overlay\",\"size\":10,\"solidity\":0.2}},\"type\":\"barpolar\"}],\"pie\":[{\"automargin\":true,\"type\":\"pie\"}]},\"layout\":{\"autotypenumbers\":\"strict\",\"colorway\":[\"#636efa\",\"#EF553B\",\"#00cc96\",\"#ab63fa\",\"#FFA15A\",\"#19d3f3\",\"#FF6692\",\"#B6E880\",\"#FF97FF\",\"#FECB52\"],\"font\":{\"color\":\"#2a3f5f\"},\"hovermode\":\"closest\",\"hoverlabel\":{\"align\":\"left\"},\"paper_bgcolor\":\"white\",\"plot_bgcolor\":\"#E5ECF6\",\"polar\":{\"bgcolor\":\"#E5ECF6\",\"angularaxis\":{\"gridcolor\":\"white\",\"linecolor\":\"white\",\"ticks\":\"\"},\"radialaxis\":{\"gridcolor\":\"white\",\"linecolor\":\"white\",\"ticks\":\"\"}},\"ternary\":{\"bgcolor\":\"#E5ECF6\",\"aaxis\":{\"gridcolor\":\"white\",\"linecolor\":\"white\",\"ticks\":\"\"},\"baxis\":{\"gridcolor\":\"white\",\"linecolor\":\"white\",\"ticks\":\"\"},\"caxis\":{\"gridcolor\":\"white\",\"linecolor\":\"white\",\"ticks\":\"\"}},\"coloraxis\":{\"colorbar\":{\"outlinewidth\":0,\"ticks\":\"\"}},\"colorscale\":{\"sequential\":[[0.0,\"#0d0887\"],[0.1111111111111111,\"#46039f\"],[0.2222222222222222,\"#7201a8\"],[0.3333333333333333,\"#9c179e\"],[0.4444444444444444,\"#bd3786\"],[0.5555555555555556,\"#d8576b\"],[0.6666666666666666,\"#ed7953\"],[0.7777777777777778,\"#fb9f3a\"],[0.8888888888888888,\"#fdca26\"],[1.0,\"#f0f921\"]],\"sequentialminus\":[[0.0,\"#0d0887\"],[0.1111111111111111,\"#46039f\"],[0.2222222222222222,\"#7201a8\"],[0.3333333333333333,\"#9c179e\"],[0.4444444444444444,\"#bd3786\"],[0.5555555555555556,\"#d8576b\"],[0.6666666666666666,\"#ed7953\"],[0.7777777777777778,\"#fb9f3a\"],[0.8888888888888888,\"#fdca26\"],[1.0,\"#f0f921\"]],\"diverging\":[[0,\"#8e0152\"],[0.1,\"#c51b7d\"],[0.2,\"#de77ae\"],[0.3,\"#f1b6da\"],[0.4,\"#fde0ef\"],[0.5,\"#f7f7f7\"],[0.6,\"#e6f5d0\"],[0.7,\"#b8e186\"],[0.8,\"#7fbc41\"],[0.9,\"#4d9221\"],[1,\"#276419\"]]},\"xaxis\":{\"gridcolor\":\"white\",\"linecolor\":\"white\",\"ticks\":\"\",\"title\":{\"standoff\":15},\"zerolinecolor\":\"white\",\"automargin\":true,\"zerolinewidth\":2},\"yaxis\":{\"gridcolor\":\"white\",\"linecolor\":\"white\",\"ticks\":\"\",\"title\":{\"standoff\":15},\"zerolinecolor\":\"white\",\"automargin\":true,\"zerolinewidth\":2},\"scene\":{\"xaxis\":{\"backgroundcolor\":\"#E5ECF6\",\"gridcolor\":\"white\",\"linecolor\":\"white\",\"showbackground\":true,\"ticks\":\"\",\"zerolinecolor\":\"white\",\"gridwidth\":2},\"yaxis\":{\"backgroundcolor\":\"#E5ECF6\",\"gridcolor\":\"white\",\"linecolor\":\"white\",\"showbackground\":true,\"ticks\":\"\",\"zerolinecolor\":\"white\",\"gridwidth\":2},\"zaxis\":{\"backgroundcolor\":\"#E5ECF6\",\"gridcolor\":\"white\",\"linecolor\":\"white\",\"showbackground\":true,\"ticks\":\"\",\"zerolinecolor\":\"white\",\"gridwidth\":2}},\"shapedefaults\":{\"line\":{\"color\":\"#2a3f5f\"}},\"annotationdefaults\":{\"arrowcolor\":\"#2a3f5f\",\"arrowhead\":0,\"arrowwidth\":1},\"geo\":{\"bgcolor\":\"white\",\"landcolor\":\"#E5ECF6\",\"subunitcolor\":\"white\",\"showland\":true,\"showlakes\":true,\"lakecolor\":\"white\"},\"title\":{\"x\":0.05},\"mapbox\":{\"style\":\"light\"}}},\"xaxis\":{\"anchor\":\"y\",\"domain\":[0.0,1.0],\"scaleanchor\":\"y\",\"constrain\":\"domain\"},\"yaxis\":{\"anchor\":\"x\",\"domain\":[0.0,1.0],\"autorange\":\"reversed\",\"constrain\":\"domain\"},\"coloraxis\":{\"colorscale\":[[0.0,\"#0d0887\"],[0.1111111111111111,\"#46039f\"],[0.2222222222222222,\"#7201a8\"],[0.3333333333333333,\"#9c179e\"],[0.4444444444444444,\"#bd3786\"],[0.5555555555555556,\"#d8576b\"],[0.6666666666666666,\"#ed7953\"],[0.7777777777777778,\"#fb9f3a\"],[0.8888888888888888,\"#fdca26\"],[1.0,\"#f0f921\"]]},\"margin\":{\"t\":60}},                        {\"responsive\": true}                    ).then(function(){\n",
              "                            \n",
              "var gd = document.getElementById('301d35b0-2a6e-414c-9542-de031e7b1cd1');\n",
              "var x = new MutationObserver(function (mutations, observer) {{\n",
              "        var display = window.getComputedStyle(gd).display;\n",
              "        if (!display || display === 'none') {{\n",
              "            console.log([gd, 'removed!']);\n",
              "            Plotly.purge(gd);\n",
              "            observer.disconnect();\n",
              "        }}\n",
              "}});\n",
              "\n",
              "// Listen for the removal of the full notebook cells\n",
              "var notebookContainer = gd.closest('#notebook-container');\n",
              "if (notebookContainer) {{\n",
              "    x.observe(notebookContainer, {childList: true});\n",
              "}}\n",
              "\n",
              "// Listen for the clearing of the current output cell\n",
              "var outputEl = gd.closest('.output');\n",
              "if (outputEl) {{\n",
              "    x.observe(outputEl, {childList: true});\n",
              "}}\n",
              "\n",
              "                        })                };                            </script>        </div>\n",
              "</body>\n",
              "</html>"
            ]
          },
          "metadata": {}
        }
      ]
    },
    {
      "cell_type": "markdown",
      "source": [],
      "metadata": {
        "id": "slPHSoh1IrqD"
      }
    },
    {
      "cell_type": "code",
      "source": [
        "df=df.drop(['Age','Medicine1','Medicine2','Medicine3','SideEffects','quarter','AgeCategory'],axis=1)"
      ],
      "metadata": {
        "id": "wPh8uuFlx9Vy"
      },
      "execution_count": 29,
      "outputs": []
    },
    {
      "cell_type": "markdown",
      "source": [
        "Menghapus kolom 'Age','Medicine1','Medicine2','Medicine3','SideEffects','quarter','AgeCategory'. Dikarenakan kolom ini tidak relevan untuk langkah analisis data selanjutnya. Mengingat analisis ini fokus kepada tinjauan jenis kelamin pada pengaruh tubuh."
      ],
      "metadata": {
        "id": "eZU97znqX-2H"
      }
    },
    {
      "cell_type": "markdown",
      "source": [
        "###**Pengecekkan Hasil**"
      ],
      "metadata": {
        "id": "U7d8pHrTJuht"
      }
    },
    {
      "cell_type": "code",
      "source": [
        "df.head()"
      ],
      "metadata": {
        "colab": {
          "base_uri": "https://localhost:8080/",
          "height": 206
        },
        "id": "XqO0ophQ0Uwo",
        "outputId": "4ad4a5f2-5571-4562-e43a-e34e09142b56"
      },
      "execution_count": 30,
      "outputs": [
        {
          "output_type": "execute_result",
          "data": {
            "text/plain": [
              "  Gender  KmBefore  KgBefore  TimeBefore  KmAfter  KgAfter  TimeAfter\n",
              "1      M      3.96      76.3        43.9     3.09     89.6       69.7\n",
              "2      M      3.80      91.7        47.9     6.26     92.7       49.8\n",
              "4      F      3.72      77.0        54.9     7.80     91.7       60.7\n",
              "5      M      5.31      93.9        50.6     5.67     87.8       67.9\n",
              "6      F      3.18      75.5        54.4     5.50     95.5       57.8"
            ],
            "text/html": [
              "\n",
              "  <div id=\"df-4722ca6e-27c9-4a5e-88a6-da25d22c0c68\" class=\"colab-df-container\">\n",
              "    <div>\n",
              "<style scoped>\n",
              "    .dataframe tbody tr th:only-of-type {\n",
              "        vertical-align: middle;\n",
              "    }\n",
              "\n",
              "    .dataframe tbody tr th {\n",
              "        vertical-align: top;\n",
              "    }\n",
              "\n",
              "    .dataframe thead th {\n",
              "        text-align: right;\n",
              "    }\n",
              "</style>\n",
              "<table border=\"1\" class=\"dataframe\">\n",
              "  <thead>\n",
              "    <tr style=\"text-align: right;\">\n",
              "      <th></th>\n",
              "      <th>Gender</th>\n",
              "      <th>KmBefore</th>\n",
              "      <th>KgBefore</th>\n",
              "      <th>TimeBefore</th>\n",
              "      <th>KmAfter</th>\n",
              "      <th>KgAfter</th>\n",
              "      <th>TimeAfter</th>\n",
              "    </tr>\n",
              "  </thead>\n",
              "  <tbody>\n",
              "    <tr>\n",
              "      <th>1</th>\n",
              "      <td>M</td>\n",
              "      <td>3.96</td>\n",
              "      <td>76.3</td>\n",
              "      <td>43.9</td>\n",
              "      <td>3.09</td>\n",
              "      <td>89.6</td>\n",
              "      <td>69.7</td>\n",
              "    </tr>\n",
              "    <tr>\n",
              "      <th>2</th>\n",
              "      <td>M</td>\n",
              "      <td>3.80</td>\n",
              "      <td>91.7</td>\n",
              "      <td>47.9</td>\n",
              "      <td>6.26</td>\n",
              "      <td>92.7</td>\n",
              "      <td>49.8</td>\n",
              "    </tr>\n",
              "    <tr>\n",
              "      <th>4</th>\n",
              "      <td>F</td>\n",
              "      <td>3.72</td>\n",
              "      <td>77.0</td>\n",
              "      <td>54.9</td>\n",
              "      <td>7.80</td>\n",
              "      <td>91.7</td>\n",
              "      <td>60.7</td>\n",
              "    </tr>\n",
              "    <tr>\n",
              "      <th>5</th>\n",
              "      <td>M</td>\n",
              "      <td>5.31</td>\n",
              "      <td>93.9</td>\n",
              "      <td>50.6</td>\n",
              "      <td>5.67</td>\n",
              "      <td>87.8</td>\n",
              "      <td>67.9</td>\n",
              "    </tr>\n",
              "    <tr>\n",
              "      <th>6</th>\n",
              "      <td>F</td>\n",
              "      <td>3.18</td>\n",
              "      <td>75.5</td>\n",
              "      <td>54.4</td>\n",
              "      <td>5.50</td>\n",
              "      <td>95.5</td>\n",
              "      <td>57.8</td>\n",
              "    </tr>\n",
              "  </tbody>\n",
              "</table>\n",
              "</div>\n",
              "    <div class=\"colab-df-buttons\">\n",
              "\n",
              "  <div class=\"colab-df-container\">\n",
              "    <button class=\"colab-df-convert\" onclick=\"convertToInteractive('df-4722ca6e-27c9-4a5e-88a6-da25d22c0c68')\"\n",
              "            title=\"Convert this dataframe to an interactive table.\"\n",
              "            style=\"display:none;\">\n",
              "\n",
              "  <svg xmlns=\"http://www.w3.org/2000/svg\" height=\"24px\" viewBox=\"0 -960 960 960\">\n",
              "    <path d=\"M120-120v-720h720v720H120Zm60-500h600v-160H180v160Zm220 220h160v-160H400v160Zm0 220h160v-160H400v160ZM180-400h160v-160H180v160Zm440 0h160v-160H620v160ZM180-180h160v-160H180v160Zm440 0h160v-160H620v160Z\"/>\n",
              "  </svg>\n",
              "    </button>\n",
              "\n",
              "  <style>\n",
              "    .colab-df-container {\n",
              "      display:flex;\n",
              "      gap: 12px;\n",
              "    }\n",
              "\n",
              "    .colab-df-convert {\n",
              "      background-color: #E8F0FE;\n",
              "      border: none;\n",
              "      border-radius: 50%;\n",
              "      cursor: pointer;\n",
              "      display: none;\n",
              "      fill: #1967D2;\n",
              "      height: 32px;\n",
              "      padding: 0 0 0 0;\n",
              "      width: 32px;\n",
              "    }\n",
              "\n",
              "    .colab-df-convert:hover {\n",
              "      background-color: #E2EBFA;\n",
              "      box-shadow: 0px 1px 2px rgba(60, 64, 67, 0.3), 0px 1px 3px 1px rgba(60, 64, 67, 0.15);\n",
              "      fill: #174EA6;\n",
              "    }\n",
              "\n",
              "    .colab-df-buttons div {\n",
              "      margin-bottom: 4px;\n",
              "    }\n",
              "\n",
              "    [theme=dark] .colab-df-convert {\n",
              "      background-color: #3B4455;\n",
              "      fill: #D2E3FC;\n",
              "    }\n",
              "\n",
              "    [theme=dark] .colab-df-convert:hover {\n",
              "      background-color: #434B5C;\n",
              "      box-shadow: 0px 1px 3px 1px rgba(0, 0, 0, 0.15);\n",
              "      filter: drop-shadow(0px 1px 2px rgba(0, 0, 0, 0.3));\n",
              "      fill: #FFFFFF;\n",
              "    }\n",
              "  </style>\n",
              "\n",
              "    <script>\n",
              "      const buttonEl =\n",
              "        document.querySelector('#df-4722ca6e-27c9-4a5e-88a6-da25d22c0c68 button.colab-df-convert');\n",
              "      buttonEl.style.display =\n",
              "        google.colab.kernel.accessAllowed ? 'block' : 'none';\n",
              "\n",
              "      async function convertToInteractive(key) {\n",
              "        const element = document.querySelector('#df-4722ca6e-27c9-4a5e-88a6-da25d22c0c68');\n",
              "        const dataTable =\n",
              "          await google.colab.kernel.invokeFunction('convertToInteractive',\n",
              "                                                    [key], {});\n",
              "        if (!dataTable) return;\n",
              "\n",
              "        const docLinkHtml = 'Like what you see? Visit the ' +\n",
              "          '<a target=\"_blank\" href=https://colab.research.google.com/notebooks/data_table.ipynb>data table notebook</a>'\n",
              "          + ' to learn more about interactive tables.';\n",
              "        element.innerHTML = '';\n",
              "        dataTable['output_type'] = 'display_data';\n",
              "        await google.colab.output.renderOutput(dataTable, element);\n",
              "        const docLink = document.createElement('div');\n",
              "        docLink.innerHTML = docLinkHtml;\n",
              "        element.appendChild(docLink);\n",
              "      }\n",
              "    </script>\n",
              "  </div>\n",
              "\n",
              "\n",
              "<div id=\"df-5dc176e1-6d16-4972-91c6-b6d917a4eb29\">\n",
              "  <button class=\"colab-df-quickchart\" onclick=\"quickchart('df-5dc176e1-6d16-4972-91c6-b6d917a4eb29')\"\n",
              "            title=\"Suggest charts\"\n",
              "            style=\"display:none;\">\n",
              "\n",
              "<svg xmlns=\"http://www.w3.org/2000/svg\" height=\"24px\"viewBox=\"0 0 24 24\"\n",
              "     width=\"24px\">\n",
              "    <g>\n",
              "        <path d=\"M19 3H5c-1.1 0-2 .9-2 2v14c0 1.1.9 2 2 2h14c1.1 0 2-.9 2-2V5c0-1.1-.9-2-2-2zM9 17H7v-7h2v7zm4 0h-2V7h2v10zm4 0h-2v-4h2v4z\"/>\n",
              "    </g>\n",
              "</svg>\n",
              "  </button>\n",
              "\n",
              "<style>\n",
              "  .colab-df-quickchart {\n",
              "      --bg-color: #E8F0FE;\n",
              "      --fill-color: #1967D2;\n",
              "      --hover-bg-color: #E2EBFA;\n",
              "      --hover-fill-color: #174EA6;\n",
              "      --disabled-fill-color: #AAA;\n",
              "      --disabled-bg-color: #DDD;\n",
              "  }\n",
              "\n",
              "  [theme=dark] .colab-df-quickchart {\n",
              "      --bg-color: #3B4455;\n",
              "      --fill-color: #D2E3FC;\n",
              "      --hover-bg-color: #434B5C;\n",
              "      --hover-fill-color: #FFFFFF;\n",
              "      --disabled-bg-color: #3B4455;\n",
              "      --disabled-fill-color: #666;\n",
              "  }\n",
              "\n",
              "  .colab-df-quickchart {\n",
              "    background-color: var(--bg-color);\n",
              "    border: none;\n",
              "    border-radius: 50%;\n",
              "    cursor: pointer;\n",
              "    display: none;\n",
              "    fill: var(--fill-color);\n",
              "    height: 32px;\n",
              "    padding: 0;\n",
              "    width: 32px;\n",
              "  }\n",
              "\n",
              "  .colab-df-quickchart:hover {\n",
              "    background-color: var(--hover-bg-color);\n",
              "    box-shadow: 0 1px 2px rgba(60, 64, 67, 0.3), 0 1px 3px 1px rgba(60, 64, 67, 0.15);\n",
              "    fill: var(--button-hover-fill-color);\n",
              "  }\n",
              "\n",
              "  .colab-df-quickchart-complete:disabled,\n",
              "  .colab-df-quickchart-complete:disabled:hover {\n",
              "    background-color: var(--disabled-bg-color);\n",
              "    fill: var(--disabled-fill-color);\n",
              "    box-shadow: none;\n",
              "  }\n",
              "\n",
              "  .colab-df-spinner {\n",
              "    border: 2px solid var(--fill-color);\n",
              "    border-color: transparent;\n",
              "    border-bottom-color: var(--fill-color);\n",
              "    animation:\n",
              "      spin 1s steps(1) infinite;\n",
              "  }\n",
              "\n",
              "  @keyframes spin {\n",
              "    0% {\n",
              "      border-color: transparent;\n",
              "      border-bottom-color: var(--fill-color);\n",
              "      border-left-color: var(--fill-color);\n",
              "    }\n",
              "    20% {\n",
              "      border-color: transparent;\n",
              "      border-left-color: var(--fill-color);\n",
              "      border-top-color: var(--fill-color);\n",
              "    }\n",
              "    30% {\n",
              "      border-color: transparent;\n",
              "      border-left-color: var(--fill-color);\n",
              "      border-top-color: var(--fill-color);\n",
              "      border-right-color: var(--fill-color);\n",
              "    }\n",
              "    40% {\n",
              "      border-color: transparent;\n",
              "      border-right-color: var(--fill-color);\n",
              "      border-top-color: var(--fill-color);\n",
              "    }\n",
              "    60% {\n",
              "      border-color: transparent;\n",
              "      border-right-color: var(--fill-color);\n",
              "    }\n",
              "    80% {\n",
              "      border-color: transparent;\n",
              "      border-right-color: var(--fill-color);\n",
              "      border-bottom-color: var(--fill-color);\n",
              "    }\n",
              "    90% {\n",
              "      border-color: transparent;\n",
              "      border-bottom-color: var(--fill-color);\n",
              "    }\n",
              "  }\n",
              "</style>\n",
              "\n",
              "  <script>\n",
              "    async function quickchart(key) {\n",
              "      const quickchartButtonEl =\n",
              "        document.querySelector('#' + key + ' button');\n",
              "      quickchartButtonEl.disabled = true;  // To prevent multiple clicks.\n",
              "      quickchartButtonEl.classList.add('colab-df-spinner');\n",
              "      try {\n",
              "        const charts = await google.colab.kernel.invokeFunction(\n",
              "            'suggestCharts', [key], {});\n",
              "      } catch (error) {\n",
              "        console.error('Error during call to suggestCharts:', error);\n",
              "      }\n",
              "      quickchartButtonEl.classList.remove('colab-df-spinner');\n",
              "      quickchartButtonEl.classList.add('colab-df-quickchart-complete');\n",
              "    }\n",
              "    (() => {\n",
              "      let quickchartButtonEl =\n",
              "        document.querySelector('#df-5dc176e1-6d16-4972-91c6-b6d917a4eb29 button');\n",
              "      quickchartButtonEl.style.display =\n",
              "        google.colab.kernel.accessAllowed ? 'block' : 'none';\n",
              "    })();\n",
              "  </script>\n",
              "</div>\n",
              "    </div>\n",
              "  </div>\n"
            ],
            "application/vnd.google.colaboratory.intrinsic+json": {
              "type": "dataframe",
              "variable_name": "df",
              "summary": "{\n  \"name\": \"df\",\n  \"rows\": 811,\n  \"fields\": [\n    {\n      \"column\": \"Gender\",\n      \"properties\": {\n        \"dtype\": \"category\",\n        \"num_unique_values\": 2,\n        \"samples\": [\n          \"F\",\n          \"M\"\n        ],\n        \"semantic_type\": \"\",\n        \"description\": \"\"\n      }\n    },\n    {\n      \"column\": \"KmBefore\",\n      \"properties\": {\n        \"dtype\": \"number\",\n        \"std\": 0.7535384662520407,\n        \"min\": 1.99,\n        \"max\": 6.12,\n        \"num_unique_values\": 290,\n        \"samples\": [\n          3.84,\n          3.81\n        ],\n        \"semantic_type\": \"\",\n        \"description\": \"\"\n      }\n    },\n    {\n      \"column\": \"KgBefore\",\n      \"properties\": {\n        \"dtype\": \"number\",\n        \"std\": 8.974591524041493,\n        \"min\": 56.3,\n        \"max\": 105.0,\n        \"num_unique_values\": 334,\n        \"samples\": [\n          75.4,\n          89.2\n        ],\n        \"semantic_type\": \"\",\n        \"description\": \"\"\n      }\n    },\n    {\n      \"column\": \"TimeBefore\",\n      \"properties\": {\n        \"dtype\": \"number\",\n        \"std\": 9.695761580980443,\n        \"min\": 19.1,\n        \"max\": 71.0,\n        \"num_unique_values\": 354,\n        \"samples\": [\n          67.7,\n          29.4\n        ],\n        \"semantic_type\": \"\",\n        \"description\": \"\"\n      }\n    },\n    {\n      \"column\": \"KmAfter\",\n      \"properties\": {\n        \"dtype\": \"number\",\n        \"std\": 1.415511915434611,\n        \"min\": 1.2,\n        \"max\": 8.53,\n        \"num_unique_values\": 431,\n        \"samples\": [\n          6.21,\n          3.01\n        ],\n        \"semantic_type\": \"\",\n        \"description\": \"\"\n      }\n    },\n    {\n      \"column\": \"KgAfter\",\n      \"properties\": {\n        \"dtype\": \"number\",\n        \"std\": 2.8633239447226004,\n        \"min\": 82.8,\n        \"max\": 97.7,\n        \"num_unique_values\": 136,\n        \"samples\": [\n          85.7,\n          92.5\n        ],\n        \"semantic_type\": \"\",\n        \"description\": \"\"\n      }\n    },\n    {\n      \"column\": \"TimeAfter\",\n      \"properties\": {\n        \"dtype\": \"number\",\n        \"std\": 4.890060917067647,\n        \"min\": 46.6,\n        \"max\": 73.1,\n        \"num_unique_values\": 213,\n        \"samples\": [\n          59.2,\n          66.8\n        ],\n        \"semantic_type\": \"\",\n        \"description\": \"\"\n      }\n    }\n  ]\n}"
            }
          },
          "metadata": {},
          "execution_count": 30
        }
      ]
    },
    {
      "cell_type": "markdown",
      "source": [
        "##**Data Transformation**"
      ],
      "metadata": {
        "id": "_WGN-sOp0Yt5"
      }
    },
    {
      "cell_type": "markdown",
      "source": [
        "###**Mapping**"
      ],
      "metadata": {
        "id": "fZMEVAdJ0a-9"
      }
    },
    {
      "cell_type": "code",
      "source": [
        "df['Gender'] = df['Gender'].map({'M':1,'F':0})"
      ],
      "metadata": {
        "id": "BTN2ZB6GJzE1"
      },
      "execution_count": 31,
      "outputs": []
    },
    {
      "cell_type": "markdown",
      "source": [
        "Kode diatas merupakan proses dari mapping untuk mengubah nilai pada kolom Gender yang bernilai M (laki-laki) menjadi 1 dan F (Perempuan) menjadi 0."
      ],
      "metadata": {
        "id": "7jRyPEFeKegE"
      }
    },
    {
      "cell_type": "markdown",
      "source": [
        "###**Pengecekkan Hasil**"
      ],
      "metadata": {
        "id": "w5lvzxusKnAj"
      }
    },
    {
      "cell_type": "code",
      "source": [
        "df.head()"
      ],
      "metadata": {
        "colab": {
          "base_uri": "https://localhost:8080/",
          "height": 206
        },
        "id": "A9PZuCY9Ko2C",
        "outputId": "7cde7783-52a8-47db-b5b1-4ff0b188a881"
      },
      "execution_count": 32,
      "outputs": [
        {
          "output_type": "execute_result",
          "data": {
            "text/plain": [
              "   Gender  KmBefore  KgBefore  TimeBefore  KmAfter  KgAfter  TimeAfter\n",
              "1       1      3.96      76.3        43.9     3.09     89.6       69.7\n",
              "2       1      3.80      91.7        47.9     6.26     92.7       49.8\n",
              "4       0      3.72      77.0        54.9     7.80     91.7       60.7\n",
              "5       1      5.31      93.9        50.6     5.67     87.8       67.9\n",
              "6       0      3.18      75.5        54.4     5.50     95.5       57.8"
            ],
            "text/html": [
              "\n",
              "  <div id=\"df-f94986af-0d16-4ae5-9f31-ceb1044937fd\" class=\"colab-df-container\">\n",
              "    <div>\n",
              "<style scoped>\n",
              "    .dataframe tbody tr th:only-of-type {\n",
              "        vertical-align: middle;\n",
              "    }\n",
              "\n",
              "    .dataframe tbody tr th {\n",
              "        vertical-align: top;\n",
              "    }\n",
              "\n",
              "    .dataframe thead th {\n",
              "        text-align: right;\n",
              "    }\n",
              "</style>\n",
              "<table border=\"1\" class=\"dataframe\">\n",
              "  <thead>\n",
              "    <tr style=\"text-align: right;\">\n",
              "      <th></th>\n",
              "      <th>Gender</th>\n",
              "      <th>KmBefore</th>\n",
              "      <th>KgBefore</th>\n",
              "      <th>TimeBefore</th>\n",
              "      <th>KmAfter</th>\n",
              "      <th>KgAfter</th>\n",
              "      <th>TimeAfter</th>\n",
              "    </tr>\n",
              "  </thead>\n",
              "  <tbody>\n",
              "    <tr>\n",
              "      <th>1</th>\n",
              "      <td>1</td>\n",
              "      <td>3.96</td>\n",
              "      <td>76.3</td>\n",
              "      <td>43.9</td>\n",
              "      <td>3.09</td>\n",
              "      <td>89.6</td>\n",
              "      <td>69.7</td>\n",
              "    </tr>\n",
              "    <tr>\n",
              "      <th>2</th>\n",
              "      <td>1</td>\n",
              "      <td>3.80</td>\n",
              "      <td>91.7</td>\n",
              "      <td>47.9</td>\n",
              "      <td>6.26</td>\n",
              "      <td>92.7</td>\n",
              "      <td>49.8</td>\n",
              "    </tr>\n",
              "    <tr>\n",
              "      <th>4</th>\n",
              "      <td>0</td>\n",
              "      <td>3.72</td>\n",
              "      <td>77.0</td>\n",
              "      <td>54.9</td>\n",
              "      <td>7.80</td>\n",
              "      <td>91.7</td>\n",
              "      <td>60.7</td>\n",
              "    </tr>\n",
              "    <tr>\n",
              "      <th>5</th>\n",
              "      <td>1</td>\n",
              "      <td>5.31</td>\n",
              "      <td>93.9</td>\n",
              "      <td>50.6</td>\n",
              "      <td>5.67</td>\n",
              "      <td>87.8</td>\n",
              "      <td>67.9</td>\n",
              "    </tr>\n",
              "    <tr>\n",
              "      <th>6</th>\n",
              "      <td>0</td>\n",
              "      <td>3.18</td>\n",
              "      <td>75.5</td>\n",
              "      <td>54.4</td>\n",
              "      <td>5.50</td>\n",
              "      <td>95.5</td>\n",
              "      <td>57.8</td>\n",
              "    </tr>\n",
              "  </tbody>\n",
              "</table>\n",
              "</div>\n",
              "    <div class=\"colab-df-buttons\">\n",
              "\n",
              "  <div class=\"colab-df-container\">\n",
              "    <button class=\"colab-df-convert\" onclick=\"convertToInteractive('df-f94986af-0d16-4ae5-9f31-ceb1044937fd')\"\n",
              "            title=\"Convert this dataframe to an interactive table.\"\n",
              "            style=\"display:none;\">\n",
              "\n",
              "  <svg xmlns=\"http://www.w3.org/2000/svg\" height=\"24px\" viewBox=\"0 -960 960 960\">\n",
              "    <path d=\"M120-120v-720h720v720H120Zm60-500h600v-160H180v160Zm220 220h160v-160H400v160Zm0 220h160v-160H400v160ZM180-400h160v-160H180v160Zm440 0h160v-160H620v160ZM180-180h160v-160H180v160Zm440 0h160v-160H620v160Z\"/>\n",
              "  </svg>\n",
              "    </button>\n",
              "\n",
              "  <style>\n",
              "    .colab-df-container {\n",
              "      display:flex;\n",
              "      gap: 12px;\n",
              "    }\n",
              "\n",
              "    .colab-df-convert {\n",
              "      background-color: #E8F0FE;\n",
              "      border: none;\n",
              "      border-radius: 50%;\n",
              "      cursor: pointer;\n",
              "      display: none;\n",
              "      fill: #1967D2;\n",
              "      height: 32px;\n",
              "      padding: 0 0 0 0;\n",
              "      width: 32px;\n",
              "    }\n",
              "\n",
              "    .colab-df-convert:hover {\n",
              "      background-color: #E2EBFA;\n",
              "      box-shadow: 0px 1px 2px rgba(60, 64, 67, 0.3), 0px 1px 3px 1px rgba(60, 64, 67, 0.15);\n",
              "      fill: #174EA6;\n",
              "    }\n",
              "\n",
              "    .colab-df-buttons div {\n",
              "      margin-bottom: 4px;\n",
              "    }\n",
              "\n",
              "    [theme=dark] .colab-df-convert {\n",
              "      background-color: #3B4455;\n",
              "      fill: #D2E3FC;\n",
              "    }\n",
              "\n",
              "    [theme=dark] .colab-df-convert:hover {\n",
              "      background-color: #434B5C;\n",
              "      box-shadow: 0px 1px 3px 1px rgba(0, 0, 0, 0.15);\n",
              "      filter: drop-shadow(0px 1px 2px rgba(0, 0, 0, 0.3));\n",
              "      fill: #FFFFFF;\n",
              "    }\n",
              "  </style>\n",
              "\n",
              "    <script>\n",
              "      const buttonEl =\n",
              "        document.querySelector('#df-f94986af-0d16-4ae5-9f31-ceb1044937fd button.colab-df-convert');\n",
              "      buttonEl.style.display =\n",
              "        google.colab.kernel.accessAllowed ? 'block' : 'none';\n",
              "\n",
              "      async function convertToInteractive(key) {\n",
              "        const element = document.querySelector('#df-f94986af-0d16-4ae5-9f31-ceb1044937fd');\n",
              "        const dataTable =\n",
              "          await google.colab.kernel.invokeFunction('convertToInteractive',\n",
              "                                                    [key], {});\n",
              "        if (!dataTable) return;\n",
              "\n",
              "        const docLinkHtml = 'Like what you see? Visit the ' +\n",
              "          '<a target=\"_blank\" href=https://colab.research.google.com/notebooks/data_table.ipynb>data table notebook</a>'\n",
              "          + ' to learn more about interactive tables.';\n",
              "        element.innerHTML = '';\n",
              "        dataTable['output_type'] = 'display_data';\n",
              "        await google.colab.output.renderOutput(dataTable, element);\n",
              "        const docLink = document.createElement('div');\n",
              "        docLink.innerHTML = docLinkHtml;\n",
              "        element.appendChild(docLink);\n",
              "      }\n",
              "    </script>\n",
              "  </div>\n",
              "\n",
              "\n",
              "<div id=\"df-955c1ae2-263a-4b21-a7a0-2326c9d746e2\">\n",
              "  <button class=\"colab-df-quickchart\" onclick=\"quickchart('df-955c1ae2-263a-4b21-a7a0-2326c9d746e2')\"\n",
              "            title=\"Suggest charts\"\n",
              "            style=\"display:none;\">\n",
              "\n",
              "<svg xmlns=\"http://www.w3.org/2000/svg\" height=\"24px\"viewBox=\"0 0 24 24\"\n",
              "     width=\"24px\">\n",
              "    <g>\n",
              "        <path d=\"M19 3H5c-1.1 0-2 .9-2 2v14c0 1.1.9 2 2 2h14c1.1 0 2-.9 2-2V5c0-1.1-.9-2-2-2zM9 17H7v-7h2v7zm4 0h-2V7h2v10zm4 0h-2v-4h2v4z\"/>\n",
              "    </g>\n",
              "</svg>\n",
              "  </button>\n",
              "\n",
              "<style>\n",
              "  .colab-df-quickchart {\n",
              "      --bg-color: #E8F0FE;\n",
              "      --fill-color: #1967D2;\n",
              "      --hover-bg-color: #E2EBFA;\n",
              "      --hover-fill-color: #174EA6;\n",
              "      --disabled-fill-color: #AAA;\n",
              "      --disabled-bg-color: #DDD;\n",
              "  }\n",
              "\n",
              "  [theme=dark] .colab-df-quickchart {\n",
              "      --bg-color: #3B4455;\n",
              "      --fill-color: #D2E3FC;\n",
              "      --hover-bg-color: #434B5C;\n",
              "      --hover-fill-color: #FFFFFF;\n",
              "      --disabled-bg-color: #3B4455;\n",
              "      --disabled-fill-color: #666;\n",
              "  }\n",
              "\n",
              "  .colab-df-quickchart {\n",
              "    background-color: var(--bg-color);\n",
              "    border: none;\n",
              "    border-radius: 50%;\n",
              "    cursor: pointer;\n",
              "    display: none;\n",
              "    fill: var(--fill-color);\n",
              "    height: 32px;\n",
              "    padding: 0;\n",
              "    width: 32px;\n",
              "  }\n",
              "\n",
              "  .colab-df-quickchart:hover {\n",
              "    background-color: var(--hover-bg-color);\n",
              "    box-shadow: 0 1px 2px rgba(60, 64, 67, 0.3), 0 1px 3px 1px rgba(60, 64, 67, 0.15);\n",
              "    fill: var(--button-hover-fill-color);\n",
              "  }\n",
              "\n",
              "  .colab-df-quickchart-complete:disabled,\n",
              "  .colab-df-quickchart-complete:disabled:hover {\n",
              "    background-color: var(--disabled-bg-color);\n",
              "    fill: var(--disabled-fill-color);\n",
              "    box-shadow: none;\n",
              "  }\n",
              "\n",
              "  .colab-df-spinner {\n",
              "    border: 2px solid var(--fill-color);\n",
              "    border-color: transparent;\n",
              "    border-bottom-color: var(--fill-color);\n",
              "    animation:\n",
              "      spin 1s steps(1) infinite;\n",
              "  }\n",
              "\n",
              "  @keyframes spin {\n",
              "    0% {\n",
              "      border-color: transparent;\n",
              "      border-bottom-color: var(--fill-color);\n",
              "      border-left-color: var(--fill-color);\n",
              "    }\n",
              "    20% {\n",
              "      border-color: transparent;\n",
              "      border-left-color: var(--fill-color);\n",
              "      border-top-color: var(--fill-color);\n",
              "    }\n",
              "    30% {\n",
              "      border-color: transparent;\n",
              "      border-left-color: var(--fill-color);\n",
              "      border-top-color: var(--fill-color);\n",
              "      border-right-color: var(--fill-color);\n",
              "    }\n",
              "    40% {\n",
              "      border-color: transparent;\n",
              "      border-right-color: var(--fill-color);\n",
              "      border-top-color: var(--fill-color);\n",
              "    }\n",
              "    60% {\n",
              "      border-color: transparent;\n",
              "      border-right-color: var(--fill-color);\n",
              "    }\n",
              "    80% {\n",
              "      border-color: transparent;\n",
              "      border-right-color: var(--fill-color);\n",
              "      border-bottom-color: var(--fill-color);\n",
              "    }\n",
              "    90% {\n",
              "      border-color: transparent;\n",
              "      border-bottom-color: var(--fill-color);\n",
              "    }\n",
              "  }\n",
              "</style>\n",
              "\n",
              "  <script>\n",
              "    async function quickchart(key) {\n",
              "      const quickchartButtonEl =\n",
              "        document.querySelector('#' + key + ' button');\n",
              "      quickchartButtonEl.disabled = true;  // To prevent multiple clicks.\n",
              "      quickchartButtonEl.classList.add('colab-df-spinner');\n",
              "      try {\n",
              "        const charts = await google.colab.kernel.invokeFunction(\n",
              "            'suggestCharts', [key], {});\n",
              "      } catch (error) {\n",
              "        console.error('Error during call to suggestCharts:', error);\n",
              "      }\n",
              "      quickchartButtonEl.classList.remove('colab-df-spinner');\n",
              "      quickchartButtonEl.classList.add('colab-df-quickchart-complete');\n",
              "    }\n",
              "    (() => {\n",
              "      let quickchartButtonEl =\n",
              "        document.querySelector('#df-955c1ae2-263a-4b21-a7a0-2326c9d746e2 button');\n",
              "      quickchartButtonEl.style.display =\n",
              "        google.colab.kernel.accessAllowed ? 'block' : 'none';\n",
              "    })();\n",
              "  </script>\n",
              "</div>\n",
              "    </div>\n",
              "  </div>\n"
            ],
            "application/vnd.google.colaboratory.intrinsic+json": {
              "type": "dataframe",
              "variable_name": "df",
              "summary": "{\n  \"name\": \"df\",\n  \"rows\": 811,\n  \"fields\": [\n    {\n      \"column\": \"Gender\",\n      \"properties\": {\n        \"dtype\": \"number\",\n        \"std\": 0,\n        \"min\": 0,\n        \"max\": 1,\n        \"num_unique_values\": 2,\n        \"samples\": [\n          0,\n          1\n        ],\n        \"semantic_type\": \"\",\n        \"description\": \"\"\n      }\n    },\n    {\n      \"column\": \"KmBefore\",\n      \"properties\": {\n        \"dtype\": \"number\",\n        \"std\": 0.7535384662520407,\n        \"min\": 1.99,\n        \"max\": 6.12,\n        \"num_unique_values\": 290,\n        \"samples\": [\n          3.84,\n          3.81\n        ],\n        \"semantic_type\": \"\",\n        \"description\": \"\"\n      }\n    },\n    {\n      \"column\": \"KgBefore\",\n      \"properties\": {\n        \"dtype\": \"number\",\n        \"std\": 8.974591524041493,\n        \"min\": 56.3,\n        \"max\": 105.0,\n        \"num_unique_values\": 334,\n        \"samples\": [\n          75.4,\n          89.2\n        ],\n        \"semantic_type\": \"\",\n        \"description\": \"\"\n      }\n    },\n    {\n      \"column\": \"TimeBefore\",\n      \"properties\": {\n        \"dtype\": \"number\",\n        \"std\": 9.695761580980443,\n        \"min\": 19.1,\n        \"max\": 71.0,\n        \"num_unique_values\": 354,\n        \"samples\": [\n          67.7,\n          29.4\n        ],\n        \"semantic_type\": \"\",\n        \"description\": \"\"\n      }\n    },\n    {\n      \"column\": \"KmAfter\",\n      \"properties\": {\n        \"dtype\": \"number\",\n        \"std\": 1.415511915434611,\n        \"min\": 1.2,\n        \"max\": 8.53,\n        \"num_unique_values\": 431,\n        \"samples\": [\n          6.21,\n          3.01\n        ],\n        \"semantic_type\": \"\",\n        \"description\": \"\"\n      }\n    },\n    {\n      \"column\": \"KgAfter\",\n      \"properties\": {\n        \"dtype\": \"number\",\n        \"std\": 2.8633239447226004,\n        \"min\": 82.8,\n        \"max\": 97.7,\n        \"num_unique_values\": 136,\n        \"samples\": [\n          85.7,\n          92.5\n        ],\n        \"semantic_type\": \"\",\n        \"description\": \"\"\n      }\n    },\n    {\n      \"column\": \"TimeAfter\",\n      \"properties\": {\n        \"dtype\": \"number\",\n        \"std\": 4.890060917067647,\n        \"min\": 46.6,\n        \"max\": 73.1,\n        \"num_unique_values\": 213,\n        \"samples\": [\n          59.2,\n          66.8\n        ],\n        \"semantic_type\": \"\",\n        \"description\": \"\"\n      }\n    }\n  ]\n}"
            }
          },
          "metadata": {},
          "execution_count": 32
        }
      ]
    },
    {
      "cell_type": "markdown",
      "source": [
        "##**Dataframe Cleaned**"
      ],
      "metadata": {
        "id": "uPlsj1qucqIR"
      }
    },
    {
      "cell_type": "code",
      "source": [
        "df.to_csv('Data Cleaned.csv', index=False)"
      ],
      "metadata": {
        "id": "TEZ6J6l-cs8h"
      },
      "execution_count": 33,
      "outputs": []
    },
    {
      "cell_type": "markdown",
      "source": [
        "Digunakan untuk membagi dataset menjadi dua bagian: satu untuk melatih model dan satu lagi untuk menguji model."
      ],
      "metadata": {
        "id": "bOcEWtpSTaof"
      }
    }
  ]
}