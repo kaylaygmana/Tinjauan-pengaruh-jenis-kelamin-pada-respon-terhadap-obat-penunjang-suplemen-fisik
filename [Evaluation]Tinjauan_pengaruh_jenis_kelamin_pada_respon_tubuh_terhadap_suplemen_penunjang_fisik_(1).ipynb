{
  "nbformat": 4,
  "nbformat_minor": 0,
  "metadata": {
    "colab": {
      "provenance": [],
      "collapsed_sections": [
        "UzKV_EQiQK_s",
        "JXY7LCVnhI80",
        "oRoVnZp7f7OZ",
        "FSduYnL3intO",
        "QI2KMNtEidTx",
        "goXRLiJzTKZs",
        "lDU-Wi2HNa2f",
        "S8shQ8d-Ng-X",
        "CKp-4C6HtenX",
        "-cpKRs2cx3xF"
      ]
    },
    "kernelspec": {
      "name": "python3",
      "display_name": "Python 3"
    },
    "language_info": {
      "name": "python"
    }
  },
  "cells": [
    {
      "cell_type": "markdown",
      "source": [
        "#**Tinjauan pengaruh jenis kelamin pada respon tubuh terhadap suplemen penunjang  fisik**"
      ],
      "metadata": {
        "id": "UzKV_EQiQK_s"
      }
    },
    {
      "cell_type": "code",
      "source": [
        "import seaborn as sns\n",
        "import matplotlib.pyplot as plt\n",
        "import pandas as pd\n",
        "import numpy as np\n",
        "import random\n",
        "import plotly.express as px\n",
        "from sklearn.model_selection import train_test_split\n",
        "from sklearn.preprocessing import MinMaxScaler\n",
        "from sklearn.preprocessing import StandardScaler\n",
        "from sklearn.metrics import silhouette_score, calinski_harabasz_score, davies_bouldin_score\n",
        "from sklearn.model_selection import cross_val_score\n",
        "from sklearn.naive_bayes import GaussianNB\n",
        "from sklearn.neighbors import KNeighborsClassifier\n",
        "from sklearn.tree import DecisionTreeClassifier\n",
        "from sklearn.cluster import KMeans\n",
        "from sklearn.cluster import AgglomerativeClustering\n",
        "\n",
        "from sklearn.metrics import accuracy_score"
      ],
      "metadata": {
        "id": "SCa_FajQiF1_"
      },
      "execution_count": null,
      "outputs": []
    },
    {
      "cell_type": "markdown",
      "source": [
        "## **Business Understanding**"
      ],
      "metadata": {
        "id": "JXY7LCVnhI80"
      }
    },
    {
      "cell_type": "markdown",
      "source": [
        "### **Business Objective**\n",
        "##### Tujuan bisnis yang mendasari penggunaan dataset ini adalah untuk melakukan analisis mendalam terhadap faktor-faktor yang memengaruhi respons terhadap obat berdasarkan perbedaan jenis kelamin."
      ],
      "metadata": {
        "id": "J4_v7mpKhNkO"
      }
    },
    {
      "cell_type": "markdown",
      "source": [
        "### **Asses Situation**\n",
        "##### Latar belakang situasi bisnis yang menginspirasi dilakukannya analisis ini adalah adanya variasi hasil antara kondisi sebelum dan setelah seseorang mengonsumsi obat untuk meningkatkan kebugaran tubuh. Dalam upaya untuk menggali pemahaman yang lebih mendalam terkait dengan dinamika ini, fokus penelitian difokuskan pada perbedaan respons antara pria dan wanita."
      ],
      "metadata": {
        "id": "j4sFyUJuiP8Z"
      }
    },
    {
      "cell_type": "markdown",
      "source": [
        "### **Data Mining Goals**\n",
        "##### Tujuan dari kegiatan data mining yang dilakukan pada dataset ini adalah untuk menjelajahi dan mengidentifikasi potensi keterkaitan antara jenis kelamin individu dengan respons tubuh terhadap obat penunjang kebugaran tubuh."
      ],
      "metadata": {
        "id": "b0kMjoKjXdMR"
      }
    },
    {
      "cell_type": "markdown",
      "source": [
        "### **Project Plan**\n",
        "##### Rencana proyek ini dimulai dengan mengumpulkan data dari sumber yang tersedia, dengan fokus pada informasi seputar jenis kelamin dan respon terhadap obat penunjang suplemen fisik. Selanjutnya, analisis karakteristik dan pola data akan dilakukan untuk mengidentifikasi hubungan yang menarik. Eksplorasi data akan difokuskan pada korelasi dan interaksi antar variabel, terutama yang berkaitan dengan variabel jenis kelamin. Selain itu, kualitas data akan dinilai secara menyeluruh, dengan penekanan pada elemen yang relevan dengan jenis kelamin dan respon terhadap suplemen fisik. Identifikasi masalah data menjadi langkah kunci, untuk memastikan validitas temuan selama tahap analisis berikutnya."
      ],
      "metadata": {
        "id": "_9sbmu55YQBf"
      }
    },
    {
      "cell_type": "markdown",
      "source": [
        "##**Data Understanding**"
      ],
      "metadata": {
        "id": "oRoVnZp7f7OZ"
      }
    },
    {
      "cell_type": "markdown",
      "source": [
        "###**Collect Initial Data**"
      ],
      "metadata": {
        "id": "cHE5b5EZgEuL"
      }
    },
    {
      "cell_type": "markdown",
      "source": [
        "Data yang digunakan pada proyek ini adalah dataset \"Do we still need gym?\" yang didapatkan lalu diunduh pada website Kaggle.\n",
        "\n",
        "\n",
        "Link Dataset: https://www.kaggle.com/datasets/saralattarulo/do-we-still-need-gyms\n",
        "\n",
        "\n",
        "Link Github: https://raw.githubusercontent.com/kaylaygmana/Tinjauan-pengaruh-jenis-kelamin-pada-respon-terhadap-obat-penunjang-suplemen-fisik/main/survey.csv.csv"
      ],
      "metadata": {
        "id": "5w2RtPLXaaPE"
      }
    },
    {
      "cell_type": "code",
      "source": [
        "df = pd.read_csv(\"https://raw.githubusercontent.com/kaylaygmana/Tinjauan-pengaruh-jenis-kelamin-pada-respon-terhadap-obat-penunjang-suplemen-fisik/main/survey.csv.csv\")"
      ],
      "metadata": {
        "id": "On9LeBqYf6ED"
      },
      "execution_count": null,
      "outputs": []
    },
    {
      "cell_type": "markdown",
      "source": [
        "##**Describe Data**"
      ],
      "metadata": {
        "id": "WZOSWGPiiKHr"
      }
    },
    {
      "cell_type": "markdown",
      "source": [
        "###**Informasi Dasar**"
      ],
      "metadata": {
        "id": "FSduYnL3intO"
      }
    },
    {
      "cell_type": "code",
      "source": [
        "num_rows, num_columns = df.shape\n",
        "print(f\"Jumlah Kolom: {num_columns}\")\n",
        "print(f\"Jumlah Baris: {num_rows}\")"
      ],
      "metadata": {
        "colab": {
          "base_uri": "https://localhost:8080/"
        },
        "id": "wjTajxUOh-Wx",
        "outputId": "6e01bc07-eb23-481e-a37b-281609e5c9b4"
      },
      "execution_count": null,
      "outputs": [
        {
          "output_type": "stream",
          "name": "stdout",
          "text": [
            "Jumlah Kolom: 12\n",
            "Jumlah Baris: 1000\n"
          ]
        }
      ]
    },
    {
      "cell_type": "markdown",
      "source": [
        "Seperti yang terlihat pada output kode yang tertulis bahwa total jumlah kolom pada dataset ini adlaah 12 dan 1000 jumlah total baris."
      ],
      "metadata": {
        "id": "mqfKLCWgcnGE"
      }
    },
    {
      "cell_type": "markdown",
      "source": [],
      "metadata": {
        "id": "2yGwxw6yiOQP"
      }
    },
    {
      "cell_type": "markdown",
      "source": [
        "### **Informasi Lanjutan**"
      ],
      "metadata": {
        "id": "QI2KMNtEidTx"
      }
    },
    {
      "cell_type": "code",
      "source": [
        "df.info()"
      ],
      "metadata": {
        "id": "IELx_ykxig94",
        "colab": {
          "base_uri": "https://localhost:8080/"
        },
        "outputId": "9527fa5d-faf2-45ad-ee64-b9037ceb25e6"
      },
      "execution_count": null,
      "outputs": [
        {
          "output_type": "stream",
          "name": "stdout",
          "text": [
            "<class 'pandas.core.frame.DataFrame'>\n",
            "RangeIndex: 1000 entries, 0 to 999\n",
            "Data columns (total 12 columns):\n",
            " #   Column       Non-Null Count  Dtype  \n",
            "---  ------       --------------  -----  \n",
            " 0   Gender       1000 non-null   object \n",
            " 1   Age          1000 non-null   int64  \n",
            " 2   KmBefore     1000 non-null   float64\n",
            " 3   KgBefore     1000 non-null   float64\n",
            " 4   TimeBefore   1000 non-null   float64\n",
            " 5   Medicine1    1000 non-null   object \n",
            " 6   Medicine2    1000 non-null   object \n",
            " 7   Medicine3    1000 non-null   object \n",
            " 8   KmAfter      1000 non-null   float64\n",
            " 9   KgAfter      1000 non-null   float64\n",
            " 10  TimeAfter    1000 non-null   float64\n",
            " 11  SideEffects  1000 non-null   object \n",
            "dtypes: float64(6), int64(1), object(5)\n",
            "memory usage: 93.9+ KB\n"
          ]
        }
      ]
    },
    {
      "cell_type": "markdown",
      "source": [
        "Penjelasan:\n",
        "1. **Gender**<br> Kolom ini berisi tentang jenis kelamin dari sampel yang diteliti. Tipe datanya adalah Object dengan Non_Null dengan count sebanyak 1000.\n",
        "2. **Age** <br> Kolom ini menyimpan data mengenai usia dari setiap individu yang diteliti. Dengan tipe data int64 yang bersifat Not-Null dengan count sebanyak 1000.\n",
        "3. **KmBefore**<br> Kolom ini berisi data jarak sampel individu saat berlari sebelum mengonsumsi obat. Dengan tipe data float64 dan count sebanyak 1000.\n",
        "4. **KgBefore** <br> Kolom ini berisi data berat badan sampel individu sebelum mengonsumsi obat. Dengan tipe data float64 dan count sebanyak 1000.\n",
        "5. **TimeBefore** <br> Kolom ini berisi data jarak sampel individu saat berlari sebelum mengonsumsi obat. Dengan tipe data float64 dan count sebanyak 1000.\n",
        "6. **Medicine1** <br> Kolom ini berisi tentang status apakah seorang sampel individu meminum obat 1. Dengan tipe data Object dan count sebanyak 1000.\n",
        "7. **Medicine2** <br> Kolom ini berisi tentang status apakah seorang sampel individu meminum obat 2. Dengan tipe data Object dan count sebanyak 1000.\n",
        "8. **Medicine3** <br> Kolom ini berisi tentang status apakah seorang sampel individu meminum obat 3. Dengan tipe data Object dan count sebanyak 1000.\n",
        "9. **KmAfter**<br> Kolom ini berisi data jarak sampel individu saat berlari setelah mengonsumsi obat. Dengan tipe data float64 dan count sebanyak 1000.\n",
        "10. **KgAfter** <br> Kolom ini berisi data berat badan sampel individu setelah mengonsumsi obat. Dengan tipe data float64 dan count sebanyak 1000.\n",
        "11. **TimeBefore** <br>Kolom ini berisi data jarak sampel individu saat berlari setelah mengonsumsi obat. Dengan tipe data float64 dan count sebanyak 1000.\n",
        "12. **SideEffects**<br> Kolom ini berisi data apakah seorang sampel individu merasakan ada efek samping saat mengonsumsi obat tersebut. Dengan tipe data Object dan count sebanyak 1000."
      ],
      "metadata": {
        "id": "WNzBXWGRs4A7"
      }
    },
    {
      "cell_type": "markdown",
      "source": [
        "###**Informasi Statistik Deskriptif**"
      ],
      "metadata": {
        "id": "LuPuek7QtBA-"
      }
    },
    {
      "cell_type": "code",
      "source": [
        "df[['Age','KmBefore','KgBefore','TimeBefore','KmAfter','KgAfter','TimeAfter']].describe()\n"
      ],
      "metadata": {
        "id": "TNT4yy1gtNPE",
        "colab": {
          "base_uri": "https://localhost:8080/",
          "height": 300
        },
        "outputId": "decc2553-4bb6-4663-fb53-03f20cbc04ed"
      },
      "execution_count": null,
      "outputs": [
        {
          "output_type": "execute_result",
          "data": {
            "text/plain": [
              "               Age     KmBefore     KgBefore   TimeBefore      KmAfter  \\\n",
              "count  1000.000000  1000.000000  1000.000000  1000.000000  1000.000000   \n",
              "mean     34.794000     4.020630    80.570400    44.871100     4.996930   \n",
              "std       5.012453     0.773811     9.297078     9.985126     1.458346   \n",
              "min      19.000000     1.720000    51.600000     8.000000     0.510000   \n",
              "25%      31.000000     3.500000    74.500000    38.300000     3.960000   \n",
              "50%      35.000000     4.015000    80.700000    44.550000     5.010000   \n",
              "75%      38.000000     4.570000    86.725000    51.625000     5.970000   \n",
              "max      50.000000     6.280000   109.200000    74.200000    10.350000   \n",
              "\n",
              "           KgAfter    TimeAfter  \n",
              "count  1000.000000  1000.000000  \n",
              "mean     90.125800    59.755600  \n",
              "std       2.951587     5.034298  \n",
              "min      81.300000    42.700000  \n",
              "25%      88.175000    56.275000  \n",
              "50%      90.100000    59.900000  \n",
              "75%      92.100000    63.000000  \n",
              "max      99.500000    76.300000  "
            ],
            "text/html": [
              "\n",
              "  <div id=\"df-215c4fc5-eca3-480f-85f1-989d722f9e96\" class=\"colab-df-container\">\n",
              "    <div>\n",
              "<style scoped>\n",
              "    .dataframe tbody tr th:only-of-type {\n",
              "        vertical-align: middle;\n",
              "    }\n",
              "\n",
              "    .dataframe tbody tr th {\n",
              "        vertical-align: top;\n",
              "    }\n",
              "\n",
              "    .dataframe thead th {\n",
              "        text-align: right;\n",
              "    }\n",
              "</style>\n",
              "<table border=\"1\" class=\"dataframe\">\n",
              "  <thead>\n",
              "    <tr style=\"text-align: right;\">\n",
              "      <th></th>\n",
              "      <th>Age</th>\n",
              "      <th>KmBefore</th>\n",
              "      <th>KgBefore</th>\n",
              "      <th>TimeBefore</th>\n",
              "      <th>KmAfter</th>\n",
              "      <th>KgAfter</th>\n",
              "      <th>TimeAfter</th>\n",
              "    </tr>\n",
              "  </thead>\n",
              "  <tbody>\n",
              "    <tr>\n",
              "      <th>count</th>\n",
              "      <td>1000.000000</td>\n",
              "      <td>1000.000000</td>\n",
              "      <td>1000.000000</td>\n",
              "      <td>1000.000000</td>\n",
              "      <td>1000.000000</td>\n",
              "      <td>1000.000000</td>\n",
              "      <td>1000.000000</td>\n",
              "    </tr>\n",
              "    <tr>\n",
              "      <th>mean</th>\n",
              "      <td>34.794000</td>\n",
              "      <td>4.020630</td>\n",
              "      <td>80.570400</td>\n",
              "      <td>44.871100</td>\n",
              "      <td>4.996930</td>\n",
              "      <td>90.125800</td>\n",
              "      <td>59.755600</td>\n",
              "    </tr>\n",
              "    <tr>\n",
              "      <th>std</th>\n",
              "      <td>5.012453</td>\n",
              "      <td>0.773811</td>\n",
              "      <td>9.297078</td>\n",
              "      <td>9.985126</td>\n",
              "      <td>1.458346</td>\n",
              "      <td>2.951587</td>\n",
              "      <td>5.034298</td>\n",
              "    </tr>\n",
              "    <tr>\n",
              "      <th>min</th>\n",
              "      <td>19.000000</td>\n",
              "      <td>1.720000</td>\n",
              "      <td>51.600000</td>\n",
              "      <td>8.000000</td>\n",
              "      <td>0.510000</td>\n",
              "      <td>81.300000</td>\n",
              "      <td>42.700000</td>\n",
              "    </tr>\n",
              "    <tr>\n",
              "      <th>25%</th>\n",
              "      <td>31.000000</td>\n",
              "      <td>3.500000</td>\n",
              "      <td>74.500000</td>\n",
              "      <td>38.300000</td>\n",
              "      <td>3.960000</td>\n",
              "      <td>88.175000</td>\n",
              "      <td>56.275000</td>\n",
              "    </tr>\n",
              "    <tr>\n",
              "      <th>50%</th>\n",
              "      <td>35.000000</td>\n",
              "      <td>4.015000</td>\n",
              "      <td>80.700000</td>\n",
              "      <td>44.550000</td>\n",
              "      <td>5.010000</td>\n",
              "      <td>90.100000</td>\n",
              "      <td>59.900000</td>\n",
              "    </tr>\n",
              "    <tr>\n",
              "      <th>75%</th>\n",
              "      <td>38.000000</td>\n",
              "      <td>4.570000</td>\n",
              "      <td>86.725000</td>\n",
              "      <td>51.625000</td>\n",
              "      <td>5.970000</td>\n",
              "      <td>92.100000</td>\n",
              "      <td>63.000000</td>\n",
              "    </tr>\n",
              "    <tr>\n",
              "      <th>max</th>\n",
              "      <td>50.000000</td>\n",
              "      <td>6.280000</td>\n",
              "      <td>109.200000</td>\n",
              "      <td>74.200000</td>\n",
              "      <td>10.350000</td>\n",
              "      <td>99.500000</td>\n",
              "      <td>76.300000</td>\n",
              "    </tr>\n",
              "  </tbody>\n",
              "</table>\n",
              "</div>\n",
              "    <div class=\"colab-df-buttons\">\n",
              "\n",
              "  <div class=\"colab-df-container\">\n",
              "    <button class=\"colab-df-convert\" onclick=\"convertToInteractive('df-215c4fc5-eca3-480f-85f1-989d722f9e96')\"\n",
              "            title=\"Convert this dataframe to an interactive table.\"\n",
              "            style=\"display:none;\">\n",
              "\n",
              "  <svg xmlns=\"http://www.w3.org/2000/svg\" height=\"24px\" viewBox=\"0 -960 960 960\">\n",
              "    <path d=\"M120-120v-720h720v720H120Zm60-500h600v-160H180v160Zm220 220h160v-160H400v160Zm0 220h160v-160H400v160ZM180-400h160v-160H180v160Zm440 0h160v-160H620v160ZM180-180h160v-160H180v160Zm440 0h160v-160H620v160Z\"/>\n",
              "  </svg>\n",
              "    </button>\n",
              "\n",
              "  <style>\n",
              "    .colab-df-container {\n",
              "      display:flex;\n",
              "      gap: 12px;\n",
              "    }\n",
              "\n",
              "    .colab-df-convert {\n",
              "      background-color: #E8F0FE;\n",
              "      border: none;\n",
              "      border-radius: 50%;\n",
              "      cursor: pointer;\n",
              "      display: none;\n",
              "      fill: #1967D2;\n",
              "      height: 32px;\n",
              "      padding: 0 0 0 0;\n",
              "      width: 32px;\n",
              "    }\n",
              "\n",
              "    .colab-df-convert:hover {\n",
              "      background-color: #E2EBFA;\n",
              "      box-shadow: 0px 1px 2px rgba(60, 64, 67, 0.3), 0px 1px 3px 1px rgba(60, 64, 67, 0.15);\n",
              "      fill: #174EA6;\n",
              "    }\n",
              "\n",
              "    .colab-df-buttons div {\n",
              "      margin-bottom: 4px;\n",
              "    }\n",
              "\n",
              "    [theme=dark] .colab-df-convert {\n",
              "      background-color: #3B4455;\n",
              "      fill: #D2E3FC;\n",
              "    }\n",
              "\n",
              "    [theme=dark] .colab-df-convert:hover {\n",
              "      background-color: #434B5C;\n",
              "      box-shadow: 0px 1px 3px 1px rgba(0, 0, 0, 0.15);\n",
              "      filter: drop-shadow(0px 1px 2px rgba(0, 0, 0, 0.3));\n",
              "      fill: #FFFFFF;\n",
              "    }\n",
              "  </style>\n",
              "\n",
              "    <script>\n",
              "      const buttonEl =\n",
              "        document.querySelector('#df-215c4fc5-eca3-480f-85f1-989d722f9e96 button.colab-df-convert');\n",
              "      buttonEl.style.display =\n",
              "        google.colab.kernel.accessAllowed ? 'block' : 'none';\n",
              "\n",
              "      async function convertToInteractive(key) {\n",
              "        const element = document.querySelector('#df-215c4fc5-eca3-480f-85f1-989d722f9e96');\n",
              "        const dataTable =\n",
              "          await google.colab.kernel.invokeFunction('convertToInteractive',\n",
              "                                                    [key], {});\n",
              "        if (!dataTable) return;\n",
              "\n",
              "        const docLinkHtml = 'Like what you see? Visit the ' +\n",
              "          '<a target=\"_blank\" href=https://colab.research.google.com/notebooks/data_table.ipynb>data table notebook</a>'\n",
              "          + ' to learn more about interactive tables.';\n",
              "        element.innerHTML = '';\n",
              "        dataTable['output_type'] = 'display_data';\n",
              "        await google.colab.output.renderOutput(dataTable, element);\n",
              "        const docLink = document.createElement('div');\n",
              "        docLink.innerHTML = docLinkHtml;\n",
              "        element.appendChild(docLink);\n",
              "      }\n",
              "    </script>\n",
              "  </div>\n",
              "\n",
              "\n",
              "<div id=\"df-954ec0d6-5ebd-46d1-960f-8f7f2762a6b4\">\n",
              "  <button class=\"colab-df-quickchart\" onclick=\"quickchart('df-954ec0d6-5ebd-46d1-960f-8f7f2762a6b4')\"\n",
              "            title=\"Suggest charts\"\n",
              "            style=\"display:none;\">\n",
              "\n",
              "<svg xmlns=\"http://www.w3.org/2000/svg\" height=\"24px\"viewBox=\"0 0 24 24\"\n",
              "     width=\"24px\">\n",
              "    <g>\n",
              "        <path d=\"M19 3H5c-1.1 0-2 .9-2 2v14c0 1.1.9 2 2 2h14c1.1 0 2-.9 2-2V5c0-1.1-.9-2-2-2zM9 17H7v-7h2v7zm4 0h-2V7h2v10zm4 0h-2v-4h2v4z\"/>\n",
              "    </g>\n",
              "</svg>\n",
              "  </button>\n",
              "\n",
              "<style>\n",
              "  .colab-df-quickchart {\n",
              "      --bg-color: #E8F0FE;\n",
              "      --fill-color: #1967D2;\n",
              "      --hover-bg-color: #E2EBFA;\n",
              "      --hover-fill-color: #174EA6;\n",
              "      --disabled-fill-color: #AAA;\n",
              "      --disabled-bg-color: #DDD;\n",
              "  }\n",
              "\n",
              "  [theme=dark] .colab-df-quickchart {\n",
              "      --bg-color: #3B4455;\n",
              "      --fill-color: #D2E3FC;\n",
              "      --hover-bg-color: #434B5C;\n",
              "      --hover-fill-color: #FFFFFF;\n",
              "      --disabled-bg-color: #3B4455;\n",
              "      --disabled-fill-color: #666;\n",
              "  }\n",
              "\n",
              "  .colab-df-quickchart {\n",
              "    background-color: var(--bg-color);\n",
              "    border: none;\n",
              "    border-radius: 50%;\n",
              "    cursor: pointer;\n",
              "    display: none;\n",
              "    fill: var(--fill-color);\n",
              "    height: 32px;\n",
              "    padding: 0;\n",
              "    width: 32px;\n",
              "  }\n",
              "\n",
              "  .colab-df-quickchart:hover {\n",
              "    background-color: var(--hover-bg-color);\n",
              "    box-shadow: 0 1px 2px rgba(60, 64, 67, 0.3), 0 1px 3px 1px rgba(60, 64, 67, 0.15);\n",
              "    fill: var(--button-hover-fill-color);\n",
              "  }\n",
              "\n",
              "  .colab-df-quickchart-complete:disabled,\n",
              "  .colab-df-quickchart-complete:disabled:hover {\n",
              "    background-color: var(--disabled-bg-color);\n",
              "    fill: var(--disabled-fill-color);\n",
              "    box-shadow: none;\n",
              "  }\n",
              "\n",
              "  .colab-df-spinner {\n",
              "    border: 2px solid var(--fill-color);\n",
              "    border-color: transparent;\n",
              "    border-bottom-color: var(--fill-color);\n",
              "    animation:\n",
              "      spin 1s steps(1) infinite;\n",
              "  }\n",
              "\n",
              "  @keyframes spin {\n",
              "    0% {\n",
              "      border-color: transparent;\n",
              "      border-bottom-color: var(--fill-color);\n",
              "      border-left-color: var(--fill-color);\n",
              "    }\n",
              "    20% {\n",
              "      border-color: transparent;\n",
              "      border-left-color: var(--fill-color);\n",
              "      border-top-color: var(--fill-color);\n",
              "    }\n",
              "    30% {\n",
              "      border-color: transparent;\n",
              "      border-left-color: var(--fill-color);\n",
              "      border-top-color: var(--fill-color);\n",
              "      border-right-color: var(--fill-color);\n",
              "    }\n",
              "    40% {\n",
              "      border-color: transparent;\n",
              "      border-right-color: var(--fill-color);\n",
              "      border-top-color: var(--fill-color);\n",
              "    }\n",
              "    60% {\n",
              "      border-color: transparent;\n",
              "      border-right-color: var(--fill-color);\n",
              "    }\n",
              "    80% {\n",
              "      border-color: transparent;\n",
              "      border-right-color: var(--fill-color);\n",
              "      border-bottom-color: var(--fill-color);\n",
              "    }\n",
              "    90% {\n",
              "      border-color: transparent;\n",
              "      border-bottom-color: var(--fill-color);\n",
              "    }\n",
              "  }\n",
              "</style>\n",
              "\n",
              "  <script>\n",
              "    async function quickchart(key) {\n",
              "      const quickchartButtonEl =\n",
              "        document.querySelector('#' + key + ' button');\n",
              "      quickchartButtonEl.disabled = true;  // To prevent multiple clicks.\n",
              "      quickchartButtonEl.classList.add('colab-df-spinner');\n",
              "      try {\n",
              "        const charts = await google.colab.kernel.invokeFunction(\n",
              "            'suggestCharts', [key], {});\n",
              "      } catch (error) {\n",
              "        console.error('Error during call to suggestCharts:', error);\n",
              "      }\n",
              "      quickchartButtonEl.classList.remove('colab-df-spinner');\n",
              "      quickchartButtonEl.classList.add('colab-df-quickchart-complete');\n",
              "    }\n",
              "    (() => {\n",
              "      let quickchartButtonEl =\n",
              "        document.querySelector('#df-954ec0d6-5ebd-46d1-960f-8f7f2762a6b4 button');\n",
              "      quickchartButtonEl.style.display =\n",
              "        google.colab.kernel.accessAllowed ? 'block' : 'none';\n",
              "    })();\n",
              "  </script>\n",
              "</div>\n",
              "    </div>\n",
              "  </div>\n"
            ],
            "application/vnd.google.colaboratory.intrinsic+json": {
              "type": "dataframe",
              "summary": "{\n  \"name\": \"df[['Age','KmBefore','KgBefore','TimeBefore','KmAfter','KgAfter','TimeAfter']]\",\n  \"rows\": 8,\n  \"fields\": [\n    {\n      \"column\": \"Age\",\n      \"properties\": {\n        \"dtype\": \"number\",\n        \"std\": 343.06690527414514,\n        \"min\": 5.012453360250715,\n        \"max\": 1000.0,\n        \"num_unique_values\": 8,\n        \"samples\": [\n          34.794,\n          35.0,\n          1000.0\n        ],\n        \"semantic_type\": \"\",\n        \"description\": \"\"\n      }\n    },\n    {\n      \"column\": \"KmBefore\",\n      \"properties\": {\n        \"dtype\": \"number\",\n        \"std\": 352.3008419417747,\n        \"min\": 0.7738108854147675,\n        \"max\": 1000.0,\n        \"num_unique_values\": 8,\n        \"samples\": [\n          4.02063,\n          4.015,\n          1000.0\n        ],\n        \"semantic_type\": \"\",\n        \"description\": \"\"\n      }\n    },\n    {\n      \"column\": \"KgBefore\",\n      \"properties\": {\n        \"dtype\": \"number\",\n        \"std\": 329.99353943127164,\n        \"min\": 9.29707800868098,\n        \"max\": 1000.0,\n        \"num_unique_values\": 8,\n        \"samples\": [\n          80.57039999999999,\n          80.7,\n          1000.0\n        ],\n        \"semantic_type\": \"\",\n        \"description\": \"\"\n      }\n    },\n    {\n      \"column\": \"TimeBefore\",\n      \"properties\": {\n        \"dtype\": \"number\",\n        \"std\": 340.52491710805486,\n        \"min\": 8.0,\n        \"max\": 1000.0,\n        \"num_unique_values\": 8,\n        \"samples\": [\n          44.871100000000006,\n          44.55,\n          1000.0\n        ],\n        \"semantic_type\": \"\",\n        \"description\": \"\"\n      }\n    },\n    {\n      \"column\": \"KmAfter\",\n      \"properties\": {\n        \"dtype\": \"number\",\n        \"std\": 351.93689204516556,\n        \"min\": 0.51,\n        \"max\": 1000.0,\n        \"num_unique_values\": 8,\n        \"samples\": [\n          4.99693,\n          5.01,\n          1000.0\n        ],\n        \"semantic_type\": \"\",\n        \"description\": \"\"\n      }\n    },\n    {\n      \"column\": \"KgAfter\",\n      \"properties\": {\n        \"dtype\": \"number\",\n        \"std\": 327.52908986308944,\n        \"min\": 2.9515870690572936,\n        \"max\": 1000.0,\n        \"num_unique_values\": 8,\n        \"samples\": [\n          90.12579999999998,\n          90.1,\n          1000.0\n        ],\n        \"semantic_type\": \"\",\n        \"description\": \"\"\n      }\n    },\n    {\n      \"column\": \"TimeAfter\",\n      \"properties\": {\n        \"dtype\": \"number\",\n        \"std\": 335.89024089130066,\n        \"min\": 5.034297646424255,\n        \"max\": 1000.0,\n        \"num_unique_values\": 8,\n        \"samples\": [\n          59.75560000000001,\n          59.9,\n          1000.0\n        ],\n        \"semantic_type\": \"\",\n        \"description\": \"\"\n      }\n    }\n  ]\n}"
            }
          },
          "metadata": {},
          "execution_count": 9
        }
      ]
    },
    {
      "cell_type": "markdown",
      "source": [
        "Penjelasan:\n",
        "1. **Age**<br>\n",
        "Kolom ini memiliki 1000 data yang tidak kosong. Rata-rata usia individu dalam dataset ini adalah 34.79 tahun, dengan standar deviasi sebesar 5.01 tahun. Ini berarti nilai kisaran usia individu dalam dataset ini berkisar antara 29.78 tahun hingga 39.80 tahun.\n",
        "\n",
        "\n",
        "*   Nilai minimum dari kolom ini adalah 19 tahun, menunjukkan usia terendah yang diukur dalam dataset.\n",
        "*   Kuartil ke-25 memiliki nilai sebesar 31 tahun, yang berarti 25% dari data memiliki usia kurang dari atau sama dengan 31 tahun.\n",
        "*   Kuartil ke-50 (median) memiliki nilai sebesar 35 tahun, menunjukkan nilai usia tengah dari seluruh data.\n",
        "*   Kuartil ke-75 memiliki nilai sebesar 38 tahun, yang berarti 75% dari data memiliki usia kurang dari atau sama dengan 38 tahun.\n",
        "*   Nilai maksimum pada kolom ini adalah 50 tahun, menunjukkan usia tertinggi yang diukur dalam dataset, yang berarti sampel individu tertua memiliki usia sekitar 50 tahun\n",
        "\n",
        "\n",
        "2. **KmBefore**<br>\n",
        "Kolom ini memiliki 1000 data yang tidak kosong. Rata-rata jarak lari sebelum mengonsumsi obat adalah 4.02 KM, dengan standar deviasi sebesar 0.77 KM. Ini berarti nilai kisaran jarak lari sebelum minum obat berkisar antara 3.25 KM hingga 4.79 KM.\n",
        "\n",
        "\n",
        "*   Nilai minimum dari kolom ini adalah 1.72 KM, menunjukkan jarak lari terpendek yang diukur sebelum minum obat.\n",
        "*   Kuartil ke-25 memiliki nilai sebesar 3.50 KM, yang berarti 25% dari data memiliki jarak lari sebelum minum obat kurang dari atau sama dengan 3.50 KM.\n",
        "*   Kuartil ke-50 (median) memiliki nilai sebesar 4.01 KM, menunjukkan nilai jarak lari tengah dari seluruh data.\n",
        "*   Kuartil ke-75 memiliki nilai sebesar 4.57 KM, yang berarti 75% dari data memiliki jarak lari sebelum minum obat kurang dari atau sama dengan 4.57 KM.\n",
        "*   Nilai maksimum pada kolom ini adalah 6.28 KM, menunjukkan jarak lari terjauh yang diukur sebelum minum obat, yang berarti sampel individu terjauh memiliki jarak lari sekitar 6.28 KM.\n",
        "\n",
        "3. **KgBefore**<br>\n",
        "Kolom ini memiliki 1000 data yang tidak kosong. Rata-rata berat sebelum mengonsumsi obat adalah 80.57 kg, dengan standar deviasi sebesar 9.30 kg. Ini berarti nilai kisaran berat badan sebelum minum obat berkisar antara 71.27 kg hingga 89.87 kg.\n",
        "*   Nilai minimum dari kolom ini adalah 51.60 kg, menunjukkan berat badan terendah yang diukur sebelum minum obat.\n",
        "*   Kuartil ke-25 memiliki nilai sebesar 74.50 kg, yang berarti 25% dari data memiliki berat badan sebelum minum obat kurang dari atau sama dengan 74.50 kg.\n",
        "Kuartil ke-50 (median) memiliki nilai sebesar 80.70 kg, menunjukkan nilai berat\n",
        "badan tengah dari seluruh data.\n",
        "*   Kuartil ke-75 memiliki nilai sebesar 86.72 kg, yang berarti 75% dari data memiliki berat badan sebelum minum obat kurang dari atau sama dengan 86.72 kg.\n",
        "*   Nilai maksimum pada kolom ini adalah 109.20 kg, menunjukkan berat badan tertinggi yang diukur sebelum minum obat, yang berarti sampel individu terberat memiliki berat badan sekitar 109.20 kg.\n",
        "\n",
        "4. **TimeBefore**<br>\n",
        "Kolom ini memiliki 1000 data yang tidak kosong. Rata-rata waktu sebelum mengonsumsi obat adalah 44.87 detik, dengan standar deviasi sebesar 9.99 detik. Ini berarti nilai kisaran waktu sebelum minum obat berkisar antara 34.88 detik hingga 54.86 detik.\n",
        "*   Nilai minimum dari kolom ini adalah 8 detik, menunjukkan waktu tercepat yang diukur sebelum minum obat.\n",
        "*   Kuartil ke-25 memiliki nilai sebesar 38.3 detik, yang berarti 25% dari data memiliki waktu sebelum minum obat kurang dari atau sama dengan 38.3 detik.\n",
        "*   Kuartil ke-50 (median) memiliki nilai sebesar 44.55 detik, menunjukkan nilai waktu tengah dari seluruh data.\n",
        "*   Kuartil ke-75 memiliki nilai sebesar 51.63 detik, yang berarti 75% dari data memiliki waktu sebelum minum obat kurang dari atau sama dengan 51.63 detik.\n",
        "*   Nilai maksimum pada kolom ini adalah 74.2 detik, menunjukkan waktu terlama yang diukur sebelum minum obat, yang berarti sampel individu terjauh memiliki waktu sekitar 74.2 detik.\n",
        "\n",
        "5. **KmAfter**<br>\n",
        "Kolom ini memiliki 1000 data yang tidak kosong. Rata-rata waktu setelah mengonsumsi obat adalah 59.76 detik, dengan standar deviasi sebesar 5.03 detik. Ini berarti nilai kisaran waktu setelah minum obat berkisar antara 54.73 detik hingga 64.79 detik.\n",
        "*   Nilai minimum dari kolom ini adalah 42.7 detik, menunjukkan waktu tercepat yang diukur setelah minum obat.\n",
        "*   Kuartil ke-25 memiliki nilai sebesar 56.28 detik, yang berarti 25% dari data memiliki waktu setelah minum obat kurang dari atau sama dengan 56.28 detik.\n",
        "*   Kuartil ke-50 (median) memiliki nilai sebesar 59.9 detik, menunjukkan nilai waktu tengah dari seluruh data.\n",
        "*   Kuartil ke-75 memiliki nilai sebesar 63 detik, yang berarti 75% dari data memiliki waktu setelah minum obat kurang dari atau sama dengan 63 detik.\n",
        "*   Nilai maksimum pada kolom ini adalah 76.3 detik, menunjukkan waktu terlama yang diukur setelah minum obat, yang berarti sampel individu terjauh memiliki waktu sekitar 76.3 detik.\n",
        "\n",
        "6. **KgAfter**<br>\n",
        "Kolom ini memiliki 1000 data yang tidak kosong. Rata-rata berat badan setelah mengonsumsi obat adalah 90.13 kg, dengan standar deviasi sebesar 2.95 kg. Ini berarti nilai kisaran berat badan setelah minum obat berkisar antara 87.18 kg hingga 93.08 kg.\n",
        "*   Nilai minimum dari kolom ini adalah 81.3 kg, menunjukkan berat badan terendah yang diukur setelah minum obat.\n",
        "*   Kuartil ke-25 memiliki nilai sebesar 88.18 kg, yang berarti 25% dari data memiliki berat badan setelah minum obat kurang dari atau sama dengan 88.18 kg.\n",
        "*   Kuartil ke-50 (median) memiliki nilai sebesar 90.1 kg, menunjukkan nilai berat badan tengah dari seluruh data.\n",
        "*   Kuartil ke-75 memiliki nilai sebesar 92.1 kg, yang berarti 75% dari data memiliki berat badan setelah minum obat kurang dari atau sama dengan 92.1 kg.\n",
        "*   Nilai maksimum pada kolom ini adalah 99.5 kg, menunjukkan berat badan tertinggi yang diukur setelah minum obat, yang berarti sampel individu terjauh memiliki berat badan sekitar 99.5 kg.\n",
        "\n",
        "7. **TimeAfter**<br>\n",
        "Kolom ini memiliki 1000 data yang tidak kosong. Rata-rata waktu setelah mengonsumsi obat adalah 59.76 detik, dengan standar deviasi sebesar 5.03 detik. Ini berarti nilai kisaran waktu setelah minum obat berkisar antara 54.73 detik hingga 64.79 detik.\n",
        "*   Nilai minimum dari kolom ini adalah 42.7 detik, menunjukkan waktu tercepat yang diukur setelah minum obat.\n",
        "*   Kuartil ke-25 memiliki nilai sebesar 56.28 detik, yang berarti 25% dari data memiliki waktu setelah minum obat kurang dari atau sama dengan 56.28 detik.\n",
        "*   Kuartil ke-50 (median) memiliki nilai sebesar 59.9 detik, menunjukkan nilai waktu tengah dari seluruh data.\n",
        "*   Kuartil ke-75 memiliki nilai sebesar 63 detik, yang berarti 75% dari data memiliki waktu setelah minum obat kurang dari atau sama dengan 63 detik.\n",
        "*   Nilai maksimum pada kolom ini adalah 76.3 detik, menunjukkan waktu terlama yang diukur setelah minum obat, yang berarti sampel individu terjauh memiliki waktu sekitar 76.3 detik.\n",
        "\n",
        "\n",
        "\n",
        "\n",
        "\n",
        "\n",
        "\n",
        "\n",
        "\n",
        "\n",
        "\n",
        "\n",
        "\n",
        "\n",
        "\n",
        "\n",
        "\n",
        "\n",
        "\n",
        "\n",
        "\n",
        "\n",
        "\n",
        "\n",
        "\n",
        "\n",
        "\n",
        "\n",
        "\n",
        "\n",
        "\n",
        "\n"
      ],
      "metadata": {
        "id": "5hQqcCfyOy6s"
      }
    },
    {
      "cell_type": "markdown",
      "source": [
        "#**Exploratory Data Analysis**"
      ],
      "metadata": {
        "id": "goXRLiJzTKZs"
      }
    },
    {
      "cell_type": "code",
      "source": [
        "import plotly.graph_objs as go\n",
        "\n",
        "gender_distribution = df['Gender'].value_counts()\n",
        "after_labels = [\"Laki-laki\", \"Perempuan\"]\n",
        "colors = ['#e41a1c', '#d3d3d3']\n",
        "\n",
        "fig = go.Figure(data=[go.Pie(labels=after_labels, values=gender_distribution.values, marker=dict(colors=colors))])\n",
        "\n",
        "fig.update_layout(title_text='Perbandingan gender pada dataset')\n",
        "fig.show()\n"
      ],
      "metadata": {
        "colab": {
          "base_uri": "https://localhost:8080/",
          "height": 542
        },
        "id": "Bv3iZhP-MAex",
        "outputId": "3519bc9f-8a80-43c1-e7d3-f607f36fb4e9"
      },
      "execution_count": null,
      "outputs": [
        {
          "output_type": "display_data",
          "data": {
            "text/html": [
              "<html>\n",
              "<head><meta charset=\"utf-8\" /></head>\n",
              "<body>\n",
              "    <div>            <script src=\"https://cdnjs.cloudflare.com/ajax/libs/mathjax/2.7.5/MathJax.js?config=TeX-AMS-MML_SVG\"></script><script type=\"text/javascript\">if (window.MathJax && window.MathJax.Hub && window.MathJax.Hub.Config) {window.MathJax.Hub.Config({SVG: {font: \"STIX-Web\"}});}</script>                <script type=\"text/javascript\">window.PlotlyConfig = {MathJaxConfig: 'local'};</script>\n",
              "        <script charset=\"utf-8\" src=\"https://cdn.plot.ly/plotly-2.24.1.min.js\"></script>                <div id=\"401ae2ee-7543-4814-95e4-6d2f54f84197\" class=\"plotly-graph-div\" style=\"height:525px; width:100%;\"></div>            <script type=\"text/javascript\">                                    window.PLOTLYENV=window.PLOTLYENV || {};                                    if (document.getElementById(\"401ae2ee-7543-4814-95e4-6d2f54f84197\")) {                    Plotly.newPlot(                        \"401ae2ee-7543-4814-95e4-6d2f54f84197\",                        [{\"labels\":[\"Laki-laki\",\"Perempuan\"],\"marker\":{\"colors\":[\"#e41a1c\",\"#d3d3d3\"]},\"values\":[553,447],\"type\":\"pie\"}],                        {\"template\":{\"data\":{\"histogram2dcontour\":[{\"type\":\"histogram2dcontour\",\"colorbar\":{\"outlinewidth\":0,\"ticks\":\"\"},\"colorscale\":[[0.0,\"#0d0887\"],[0.1111111111111111,\"#46039f\"],[0.2222222222222222,\"#7201a8\"],[0.3333333333333333,\"#9c179e\"],[0.4444444444444444,\"#bd3786\"],[0.5555555555555556,\"#d8576b\"],[0.6666666666666666,\"#ed7953\"],[0.7777777777777778,\"#fb9f3a\"],[0.8888888888888888,\"#fdca26\"],[1.0,\"#f0f921\"]]}],\"choropleth\":[{\"type\":\"choropleth\",\"colorbar\":{\"outlinewidth\":0,\"ticks\":\"\"}}],\"histogram2d\":[{\"type\":\"histogram2d\",\"colorbar\":{\"outlinewidth\":0,\"ticks\":\"\"},\"colorscale\":[[0.0,\"#0d0887\"],[0.1111111111111111,\"#46039f\"],[0.2222222222222222,\"#7201a8\"],[0.3333333333333333,\"#9c179e\"],[0.4444444444444444,\"#bd3786\"],[0.5555555555555556,\"#d8576b\"],[0.6666666666666666,\"#ed7953\"],[0.7777777777777778,\"#fb9f3a\"],[0.8888888888888888,\"#fdca26\"],[1.0,\"#f0f921\"]]}],\"heatmap\":[{\"type\":\"heatmap\",\"colorbar\":{\"outlinewidth\":0,\"ticks\":\"\"},\"colorscale\":[[0.0,\"#0d0887\"],[0.1111111111111111,\"#46039f\"],[0.2222222222222222,\"#7201a8\"],[0.3333333333333333,\"#9c179e\"],[0.4444444444444444,\"#bd3786\"],[0.5555555555555556,\"#d8576b\"],[0.6666666666666666,\"#ed7953\"],[0.7777777777777778,\"#fb9f3a\"],[0.8888888888888888,\"#fdca26\"],[1.0,\"#f0f921\"]]}],\"heatmapgl\":[{\"type\":\"heatmapgl\",\"colorbar\":{\"outlinewidth\":0,\"ticks\":\"\"},\"colorscale\":[[0.0,\"#0d0887\"],[0.1111111111111111,\"#46039f\"],[0.2222222222222222,\"#7201a8\"],[0.3333333333333333,\"#9c179e\"],[0.4444444444444444,\"#bd3786\"],[0.5555555555555556,\"#d8576b\"],[0.6666666666666666,\"#ed7953\"],[0.7777777777777778,\"#fb9f3a\"],[0.8888888888888888,\"#fdca26\"],[1.0,\"#f0f921\"]]}],\"contourcarpet\":[{\"type\":\"contourcarpet\",\"colorbar\":{\"outlinewidth\":0,\"ticks\":\"\"}}],\"contour\":[{\"type\":\"contour\",\"colorbar\":{\"outlinewidth\":0,\"ticks\":\"\"},\"colorscale\":[[0.0,\"#0d0887\"],[0.1111111111111111,\"#46039f\"],[0.2222222222222222,\"#7201a8\"],[0.3333333333333333,\"#9c179e\"],[0.4444444444444444,\"#bd3786\"],[0.5555555555555556,\"#d8576b\"],[0.6666666666666666,\"#ed7953\"],[0.7777777777777778,\"#fb9f3a\"],[0.8888888888888888,\"#fdca26\"],[1.0,\"#f0f921\"]]}],\"surface\":[{\"type\":\"surface\",\"colorbar\":{\"outlinewidth\":0,\"ticks\":\"\"},\"colorscale\":[[0.0,\"#0d0887\"],[0.1111111111111111,\"#46039f\"],[0.2222222222222222,\"#7201a8\"],[0.3333333333333333,\"#9c179e\"],[0.4444444444444444,\"#bd3786\"],[0.5555555555555556,\"#d8576b\"],[0.6666666666666666,\"#ed7953\"],[0.7777777777777778,\"#fb9f3a\"],[0.8888888888888888,\"#fdca26\"],[1.0,\"#f0f921\"]]}],\"mesh3d\":[{\"type\":\"mesh3d\",\"colorbar\":{\"outlinewidth\":0,\"ticks\":\"\"}}],\"scatter\":[{\"fillpattern\":{\"fillmode\":\"overlay\",\"size\":10,\"solidity\":0.2},\"type\":\"scatter\"}],\"parcoords\":[{\"type\":\"parcoords\",\"line\":{\"colorbar\":{\"outlinewidth\":0,\"ticks\":\"\"}}}],\"scatterpolargl\":[{\"type\":\"scatterpolargl\",\"marker\":{\"colorbar\":{\"outlinewidth\":0,\"ticks\":\"\"}}}],\"bar\":[{\"error_x\":{\"color\":\"#2a3f5f\"},\"error_y\":{\"color\":\"#2a3f5f\"},\"marker\":{\"line\":{\"color\":\"#E5ECF6\",\"width\":0.5},\"pattern\":{\"fillmode\":\"overlay\",\"size\":10,\"solidity\":0.2}},\"type\":\"bar\"}],\"scattergeo\":[{\"type\":\"scattergeo\",\"marker\":{\"colorbar\":{\"outlinewidth\":0,\"ticks\":\"\"}}}],\"scatterpolar\":[{\"type\":\"scatterpolar\",\"marker\":{\"colorbar\":{\"outlinewidth\":0,\"ticks\":\"\"}}}],\"histogram\":[{\"marker\":{\"pattern\":{\"fillmode\":\"overlay\",\"size\":10,\"solidity\":0.2}},\"type\":\"histogram\"}],\"scattergl\":[{\"type\":\"scattergl\",\"marker\":{\"colorbar\":{\"outlinewidth\":0,\"ticks\":\"\"}}}],\"scatter3d\":[{\"type\":\"scatter3d\",\"line\":{\"colorbar\":{\"outlinewidth\":0,\"ticks\":\"\"}},\"marker\":{\"colorbar\":{\"outlinewidth\":0,\"ticks\":\"\"}}}],\"scattermapbox\":[{\"type\":\"scattermapbox\",\"marker\":{\"colorbar\":{\"outlinewidth\":0,\"ticks\":\"\"}}}],\"scatterternary\":[{\"type\":\"scatterternary\",\"marker\":{\"colorbar\":{\"outlinewidth\":0,\"ticks\":\"\"}}}],\"scattercarpet\":[{\"type\":\"scattercarpet\",\"marker\":{\"colorbar\":{\"outlinewidth\":0,\"ticks\":\"\"}}}],\"carpet\":[{\"aaxis\":{\"endlinecolor\":\"#2a3f5f\",\"gridcolor\":\"white\",\"linecolor\":\"white\",\"minorgridcolor\":\"white\",\"startlinecolor\":\"#2a3f5f\"},\"baxis\":{\"endlinecolor\":\"#2a3f5f\",\"gridcolor\":\"white\",\"linecolor\":\"white\",\"minorgridcolor\":\"white\",\"startlinecolor\":\"#2a3f5f\"},\"type\":\"carpet\"}],\"table\":[{\"cells\":{\"fill\":{\"color\":\"#EBF0F8\"},\"line\":{\"color\":\"white\"}},\"header\":{\"fill\":{\"color\":\"#C8D4E3\"},\"line\":{\"color\":\"white\"}},\"type\":\"table\"}],\"barpolar\":[{\"marker\":{\"line\":{\"color\":\"#E5ECF6\",\"width\":0.5},\"pattern\":{\"fillmode\":\"overlay\",\"size\":10,\"solidity\":0.2}},\"type\":\"barpolar\"}],\"pie\":[{\"automargin\":true,\"type\":\"pie\"}]},\"layout\":{\"autotypenumbers\":\"strict\",\"colorway\":[\"#636efa\",\"#EF553B\",\"#00cc96\",\"#ab63fa\",\"#FFA15A\",\"#19d3f3\",\"#FF6692\",\"#B6E880\",\"#FF97FF\",\"#FECB52\"],\"font\":{\"color\":\"#2a3f5f\"},\"hovermode\":\"closest\",\"hoverlabel\":{\"align\":\"left\"},\"paper_bgcolor\":\"white\",\"plot_bgcolor\":\"#E5ECF6\",\"polar\":{\"bgcolor\":\"#E5ECF6\",\"angularaxis\":{\"gridcolor\":\"white\",\"linecolor\":\"white\",\"ticks\":\"\"},\"radialaxis\":{\"gridcolor\":\"white\",\"linecolor\":\"white\",\"ticks\":\"\"}},\"ternary\":{\"bgcolor\":\"#E5ECF6\",\"aaxis\":{\"gridcolor\":\"white\",\"linecolor\":\"white\",\"ticks\":\"\"},\"baxis\":{\"gridcolor\":\"white\",\"linecolor\":\"white\",\"ticks\":\"\"},\"caxis\":{\"gridcolor\":\"white\",\"linecolor\":\"white\",\"ticks\":\"\"}},\"coloraxis\":{\"colorbar\":{\"outlinewidth\":0,\"ticks\":\"\"}},\"colorscale\":{\"sequential\":[[0.0,\"#0d0887\"],[0.1111111111111111,\"#46039f\"],[0.2222222222222222,\"#7201a8\"],[0.3333333333333333,\"#9c179e\"],[0.4444444444444444,\"#bd3786\"],[0.5555555555555556,\"#d8576b\"],[0.6666666666666666,\"#ed7953\"],[0.7777777777777778,\"#fb9f3a\"],[0.8888888888888888,\"#fdca26\"],[1.0,\"#f0f921\"]],\"sequentialminus\":[[0.0,\"#0d0887\"],[0.1111111111111111,\"#46039f\"],[0.2222222222222222,\"#7201a8\"],[0.3333333333333333,\"#9c179e\"],[0.4444444444444444,\"#bd3786\"],[0.5555555555555556,\"#d8576b\"],[0.6666666666666666,\"#ed7953\"],[0.7777777777777778,\"#fb9f3a\"],[0.8888888888888888,\"#fdca26\"],[1.0,\"#f0f921\"]],\"diverging\":[[0,\"#8e0152\"],[0.1,\"#c51b7d\"],[0.2,\"#de77ae\"],[0.3,\"#f1b6da\"],[0.4,\"#fde0ef\"],[0.5,\"#f7f7f7\"],[0.6,\"#e6f5d0\"],[0.7,\"#b8e186\"],[0.8,\"#7fbc41\"],[0.9,\"#4d9221\"],[1,\"#276419\"]]},\"xaxis\":{\"gridcolor\":\"white\",\"linecolor\":\"white\",\"ticks\":\"\",\"title\":{\"standoff\":15},\"zerolinecolor\":\"white\",\"automargin\":true,\"zerolinewidth\":2},\"yaxis\":{\"gridcolor\":\"white\",\"linecolor\":\"white\",\"ticks\":\"\",\"title\":{\"standoff\":15},\"zerolinecolor\":\"white\",\"automargin\":true,\"zerolinewidth\":2},\"scene\":{\"xaxis\":{\"backgroundcolor\":\"#E5ECF6\",\"gridcolor\":\"white\",\"linecolor\":\"white\",\"showbackground\":true,\"ticks\":\"\",\"zerolinecolor\":\"white\",\"gridwidth\":2},\"yaxis\":{\"backgroundcolor\":\"#E5ECF6\",\"gridcolor\":\"white\",\"linecolor\":\"white\",\"showbackground\":true,\"ticks\":\"\",\"zerolinecolor\":\"white\",\"gridwidth\":2},\"zaxis\":{\"backgroundcolor\":\"#E5ECF6\",\"gridcolor\":\"white\",\"linecolor\":\"white\",\"showbackground\":true,\"ticks\":\"\",\"zerolinecolor\":\"white\",\"gridwidth\":2}},\"shapedefaults\":{\"line\":{\"color\":\"#2a3f5f\"}},\"annotationdefaults\":{\"arrowcolor\":\"#2a3f5f\",\"arrowhead\":0,\"arrowwidth\":1},\"geo\":{\"bgcolor\":\"white\",\"landcolor\":\"#E5ECF6\",\"subunitcolor\":\"white\",\"showland\":true,\"showlakes\":true,\"lakecolor\":\"white\"},\"title\":{\"x\":0.05},\"mapbox\":{\"style\":\"light\"}}},\"title\":{\"text\":\"Perbandingan gender pada dataset\"}},                        {\"responsive\": true}                    ).then(function(){\n",
              "                            \n",
              "var gd = document.getElementById('401ae2ee-7543-4814-95e4-6d2f54f84197');\n",
              "var x = new MutationObserver(function (mutations, observer) {{\n",
              "        var display = window.getComputedStyle(gd).display;\n",
              "        if (!display || display === 'none') {{\n",
              "            console.log([gd, 'removed!']);\n",
              "            Plotly.purge(gd);\n",
              "            observer.disconnect();\n",
              "        }}\n",
              "}});\n",
              "\n",
              "// Listen for the removal of the full notebook cells\n",
              "var notebookContainer = gd.closest('#notebook-container');\n",
              "if (notebookContainer) {{\n",
              "    x.observe(notebookContainer, {childList: true});\n",
              "}}\n",
              "\n",
              "// Listen for the clearing of the current output cell\n",
              "var outputEl = gd.closest('.output');\n",
              "if (outputEl) {{\n",
              "    x.observe(outputEl, {childList: true});\n",
              "}}\n",
              "\n",
              "                        })                };                            </script>        </div>\n",
              "</body>\n",
              "</html>"
            ]
          },
          "metadata": {}
        }
      ]
    },
    {
      "cell_type": "markdown",
      "source": [
        "Perbandingan jumlah sampel individu pada dataset ini divisualisasikan menggunakan pie chat sehingga dapat disimpilkan bahwa laki-laki lebih dominan dengan jumlah 55.3% sedangkan perempuan lebih sedikit dengan jumlah 44.7%."
      ],
      "metadata": {
        "id": "G8imSuNyMBsd"
      }
    },
    {
      "cell_type": "code",
      "source": [
        "df_numeric = df[[\"Age\", \"KmBefore\", \"KgBefore\", \"TimeBefore\", \"KmAfter\", \"KgAfter\", \"TimeAfter\"]]\n",
        "\n",
        "fig, axes = plt.subplots(7, 2, figsize=(15, 15), constrained_layout=True)\n",
        "\n",
        "for ax, col in zip(axes, df_numeric.columns):\n",
        "    sns.boxplot(data=df, x=col, ax=ax[0])\n",
        "    sns.kdeplot(df, x=col, ax=ax[1], bw_adjust=0.5)\n",
        "    ax[0].set_xlabel('')\n",
        "    ax[1].set_xlabel('')\n",
        "    ax[0].set_title(f'Boxplot of {col}')\n",
        "    ax[1].set_title(f'Density of {col}')\n"
      ],
      "metadata": {
        "colab": {
          "base_uri": "https://localhost:8080/"
        },
        "id": "dUsMEOvfaJLy",
        "outputId": "1bb5dde0-8190-4d9d-f9b1-f22e7ff4978c"
      },
      "execution_count": null,
      "outputs": [
        {
          "output_type": "display_data",
          "data": {
            "text/plain": [
              "<Figure size 1500x1500 with 14 Axes>"
            ],
            "image/png": "[encoded data removed]"
          },
          "metadata": {}
        }
      ]
    },
    {
      "cell_type": "markdown",
      "source": [
        "Visualisasi di atas menampilkan box dan density plot dari kolom yang meiliki nilai numeric. Sehingga dapat terlihat bahwa ada outlier pada data yang digunakan. Sedangkan tidak ada kolom yang memiliki distribusi yang menyerupai kurva bell-shaped, seperti yang terlihat pada density plot."
      ],
      "metadata": {
        "id": "-P4Dig3GdMz0"
      }
    },
    {
      "cell_type": "code",
      "source": [
        "df['quarter'] = pd.qcut(df['Age'], q=[0, 0.25, 0.5, 0.75, 1], labels=['Q1', 'Q2', 'Q3', 'Q4'])\n",
        "\n",
        "quarter_counts = df['quarter'].value_counts().sort_index()\n",
        "\n",
        "quarter_values = quarter_counts.values\n",
        "quarter_labels = quarter_counts.index\n",
        "\n",
        "mean_values = df.groupby('quarter')['Age'].mean().sort_index()\n",
        "\n",
        "plt.bar(quarter_labels, quarter_values, color='skyblue', alpha=0.7, edgecolor='black')\n",
        "\n",
        "for label, value, mean in zip(quarter_labels, quarter_values, mean_values):\n",
        "    plt.text(label, value + 1, f\"{mean:.2f}\", ha='center', va='bottom')\n",
        "\n",
        "plt.title('Distribusi Kuartil Umur pada Dataset')\n",
        "\n",
        "plt.show()"
      ],
      "metadata": {
        "colab": {
          "base_uri": "https://localhost:8080/"
        },
        "id": "QisyADvefE3L",
        "outputId": "6add6688-8121-40ec-c07c-24ba9fc9f498"
      },
      "execution_count": null,
      "outputs": [
        {
          "output_type": "display_data",
          "data": {
            "text/plain": [
              "<Figure size 640x480 with 1 Axes>"
            ],
            "image/png": "[encoded data removed]"
          },
          "metadata": {}
        }
      ]
    },
    {
      "cell_type": "markdown",
      "source": [
        "Pada bar plot di atas menampilkan bahwa kuarter terbanyak adalah kuarter 2 (33.55 Tahun) dengan jumlah data lebih dari 300."
      ],
      "metadata": {
        "id": "O7U2ThCvqJgt"
      }
    },
    {
      "cell_type": "code",
      "source": [
        "import matplotlib.pyplot as plt\n",
        "\n",
        "male_data = df[df['Gender'] == 'M']\n",
        "female_data = df[df['Gender'] == 'F']\n",
        "\n",
        "before_columns = [\"KmBefore\", \"KgBefore\", \"TimeBefore\"]\n",
        "after_columns = [\"KmAfter\", \"KgAfter\", \"TimeAfter\"]\n",
        "\n",
        "before_labels = [\"KM\", \"KG\", \"TIME\"]\n",
        "after_labels = [\"KM\", \"KG\", \"TIME\"]\n",
        "\n",
        "plt.figure(figsize=(7, 4))\n",
        "bar_width = 0.35\n",
        "light_ash_grey = '#d3d3d3'\n",
        "\n",
        "# Male Before\n",
        "bars_before_male = plt.bar([index - bar_width/2 for index in range(len(before_columns))],\n",
        "                           male_data[before_columns].mean(), bar_width, label='Male Before', color=[light_ash_grey, light_ash_grey, light_ash_grey])\n",
        "\n",
        "for bar, value, std in zip(bars_before_male, male_data[before_columns].mean(), male_data[before_columns].std()):\n",
        "    plt.errorbar(bar.get_x() + bar.get_width() / 2, value,\n",
        "                 yerr=std, color='black', capsize=5, capthick=2, fmt='none')\n",
        "    plt.text(bar.get_x() + bar.get_width() / 2, value + std + 1, f\"{value:.2f}\", ha='center')\n",
        "\n",
        "# Male After\n",
        "bars_after_male = plt.bar([index + bar_width/2 for index in range(len(after_columns))],\n",
        "                          male_data[after_columns].mean(), bar_width, label='Male After', color=['orange', 'orange', 'orange'])\n",
        "\n",
        "for bar, value, std in zip(bars_after_male, male_data[after_columns].mean(), male_data[after_columns].std()):\n",
        "    plt.errorbar(bar.get_x() + bar.get_width() / 2, value,\n",
        "                 yerr=std, color='black', capsize=5, capthick=2, fmt='none')\n",
        "\n",
        "    plt.text(bar.get_x() + bar.get_width() / 2, value + std + 1, f\"{value:.2f}\", ha='center')\n",
        "\n",
        "plt.title(\"Male Participants - Before and After\")\n",
        "plt.xlabel(\"Variables\")\n",
        "plt.ylabel(\"Average Values\")\n",
        "plt.xticks(range(len(before_columns)), before_labels)\n",
        "plt.legend()\n",
        "\n",
        "plt.show()\n",
        "\n",
        "plt.figure(figsize=(7, 4))\n",
        "\n",
        "# Female Before\n",
        "bars_before_female = plt.bar([index - bar_width/2 for index in range(len(before_columns))],\n",
        "                             female_data[before_columns].mean(), bar_width, label='Female Before', color=[light_ash_grey, light_ash_grey, light_ash_grey])\n",
        "\n",
        "for bar, value, std in zip(bars_before_female, female_data[before_columns].mean(), female_data[before_columns].std()):\n",
        "    plt.errorbar(bar.get_x() + bar.get_width() / 2, value,\n",
        "                 yerr=std, color='black', capsize=5, capthick=2, fmt='none')\n",
        "\n",
        "    plt.text(bar.get_x() + bar.get_width() / 2, value + std + 1, f\"{value:.2f}\", ha='center')\n",
        "\n",
        "# Female After\n",
        "bars_after_female = plt.bar([index + bar_width/2 for index in range(len(after_columns))],\n",
        "                            female_data[after_columns].mean(), bar_width, label='Female After', color=['orange', 'orange', 'orange'])\n",
        "\n",
        "for bar, value, std in zip(bars_after_female, female_data[after_columns].mean(), female_data[after_columns].std()):\n",
        "    plt.errorbar(bar.get_x() + bar.get_width() / 2, value,\n",
        "                 yerr=std, color='black', capsize=5, capthick=2, fmt='none')\n",
        "\n",
        "    plt.text(bar.get_x() + bar.get_width() / 2, value + std + 1, f\"{value:.2f}\", ha='center')\n",
        "\n",
        "plt.title(\"Female Participants - Before and After\")\n",
        "plt.xlabel(\"Variables\")\n",
        "plt.ylabel(\"Average Values\")\n",
        "plt.xticks(range(len(before_columns)), before_labels)\n",
        "plt.legend()\n",
        "\n",
        "plt.show()\n"
      ],
      "metadata": {
        "colab": {
          "base_uri": "https://localhost:8080/"
        },
        "id": "aBDENIdbTK_e",
        "outputId": "a04cdc6b-ef50-4c84-8336-737f4db51e28"
      },
      "execution_count": null,
      "outputs": [
        {
          "output_type": "display_data",
          "data": {
            "text/plain": [
              "<Figure size 700x400 with 1 Axes>"
            ],
            "image/png": "[encoded data removed]"
          },
          "metadata": {}
        },
        {
          "output_type": "display_data",
          "data": {
            "text/plain": [
              "<Figure size 700x400 with 1 Axes>"
            ],
            "image/png": "[encoded data removed]"
          },
          "metadata": {}
        }
      ]
    },
    {
      "cell_type": "markdown",
      "source": [
        "####Gambar di atas merupakan visualisasi perbandingan sebelum (abu-abu) dan sesudah (oranye) individu mengonsumsi obat suplemen penunjang fisik.  \n",
        "1.   **Jarak(KM)**<br>\n",
        "*   Pada bar data pria, jarak yang ditempuh meingkat dari 4.03 KM menjadi 5.00 KM, berat badan juga mengalami peningkatan dari 80.7 KG menjadi 90.07 KG. Ini menjunjukkan adanya hubungan antara peningkatan jarak dan berat badan untuk peserta pria.\n",
        "*   Pada bar data wanita perubahan jarak dari 4.02 KM menjadi 4.99 KM juga menunjukkan adanya hubungan dengan peningkatan berat badan dari 80.72 menjadi 90.19.\n",
        "\n",
        "2.   **Berat (KG)**\n",
        "\n",
        "*   Pada bar data pria, peningkatan berat badan dari 80.45 kg menjadi 90.07 kg  menunjukkan hubungan dengan peningkatan waktu yang dibutuhkan dari 44.47 menjadi 59.70.\n",
        "*   pada bar data wanita, hubungan terlihat antara peningkatan berat badan dari 80.72 kg menjadi 90.19 kg dan peningkatan waktu yang dibutuhkan dari 45.37 menjadi 59.82.\n",
        "\n",
        "3. **Waktu (Time)**\n",
        "*   Pada bar data pria, peningkatan waktu yang diperlukan dari 44.47 menjadi 59.70 berhubungan dengan peningkatan berat badan dari 80.45 kg menjadi 90.07 kg.\n",
        "*   Pada peserta wanita, terlihat hubungan antara antara peningkatan waktu yang diperlukan dari 45.37 menjadi 59.82 dan peningkatan berat badan dari 80.72 kg menjadi 90.19 kg.\n",
        "\n",
        "\n",
        "\n",
        "\n",
        "\n",
        "\n"
      ],
      "metadata": {
        "id": "syJYWlRmB5Nt"
      }
    },
    {
      "cell_type": "code",
      "source": [
        "import matplotlib.pyplot as plt\n",
        "\n",
        "female_data = df[df['Gender'] == \"F\"]\n",
        "\n",
        "male_data = df[df['Gender'] == \"M\"]\n",
        "\n",
        "female_KmBefore_mean = female_data['KmBefore'].mean()\n",
        "male_KmBefore_mean = male_data['KmBefore'].mean()\n",
        "female_KmAfter_mean = female_data['KmAfter'].mean()\n",
        "male_KmAfter_mean = male_data['KmAfter'].mean()\n",
        "\n",
        "female_KgBefore_mean = female_data['KgBefore'].mean()\n",
        "male_KgBefore_mean = male_data['KgBefore'].mean()\n",
        "female_KgAfter_mean = female_data['KgAfter'].mean()\n",
        "male_KgAfter_mean = male_data['KgAfter'].mean()\n",
        "\n",
        "female_TimeBefore_mean = female_data['TimeBefore'].mean()\n",
        "male_TimeBefore_mean = male_data['TimeBefore'].mean()\n",
        "female_TimeAfter_mean = female_data['TimeAfter'].mean()\n",
        "male_TimeAfter_mean = male_data['TimeAfter'].mean()\n",
        "\n",
        "# Mengurangkan\n",
        "selisihKmFemale = female_KmAfter_mean - female_KmBefore_mean\n",
        "selisihKmMale = male_KmAfter_mean - male_KmBefore_mean\n",
        "\n",
        "selisihKgFemale = female_KgAfter_mean - female_KgBefore_mean\n",
        "selisihKgMale = male_KgAfter_mean - male_KgBefore_mean\n",
        "\n",
        "selisihTimeFemale = female_TimeAfter_mean - female_TimeBefore_mean\n",
        "selisihTimeMale = male_TimeAfter_mean - male_TimeBefore_mean\n",
        "\n",
        "# Menampilkan hasil\n",
        "print(\"Selisih Km (After - Before) - Female:\", selisihKmFemale)\n",
        "print(\"Selisih Km (After - Before) - Male:\", selisihKmMale)\n",
        "\n",
        "print(\"Selisih Kg (After - Before) - Female:\", selisihKgFemale)\n",
        "print(\"Selisih Kg (After - Before) - Male:\", selisihKgMale)\n",
        "\n",
        "print(\"Selisih Time (After - Before) - Female:\", selisihTimeFemale)\n",
        "print(\"Selisih Time (After - Before) - Male:\", selisihTimeMale)\n",
        "\n",
        "# Data untuk bar plot\n",
        "genders = ['Female', 'Male']\n",
        "selisih_km = [selisihKmFemale, selisihKmMale]\n",
        "selisih_kg = [selisihKgFemale, selisihKgMale]\n",
        "selisih_time = [selisihTimeFemale, selisihTimeMale]\n",
        "\n",
        "# Membuat bar plot untuk Km\n",
        "plt.bar(genders, selisih_km, color=['pink', 'pink'], alpha=0.7, label='Km', yerr=[abs(selisihKmFemale), abs(selisihKmMale)], capsize=5)\n",
        "\n",
        "# Membuat bar plot untuk Kg\n",
        "plt.bar(genders, selisih_kg, color=['orange', 'orange'], alpha=0.7, label='Kg', bottom=selisih_km, yerr=[abs(selisihKgFemale), abs(selisihKgMale)], capsize=5)\n",
        "\n",
        "# Membuat bar plot untuk Time\n",
        "plt.bar(genders, selisih_time, color=['red', 'red'], alpha=0.7, label='Time', bottom=[i+j for i,j in zip(selisih_km, selisih_kg)], yerr=[abs(selisihTimeFemale), abs(selisihTimeMale)], capsize=5)\n",
        "\n",
        "plt.xlabel('Gender')\n",
        "plt.ylabel('Selisih')\n",
        "plt.title('Selisih setelah mengonsumsi suplemen')\n",
        "plt.legend()\n",
        "plt.show()\n"
      ],
      "metadata": {
        "colab": {
          "base_uri": "https://localhost:8080/"
        },
        "id": "0oUZj871rzlz",
        "outputId": "6bdc0679-3042-499f-c355-19bfbfc5de8f"
      },
      "execution_count": null,
      "outputs": [
        {
          "output_type": "stream",
          "name": "stdout",
          "text": [
            "Selisih Km (After - Before) - Female: 0.9850559284116329\n",
            "Selisih Km (After - Before) - Male: 0.9692224231464746\n",
            "Selisih Kg (After - Before) - Female: 9.471588366890373\n",
            "Selisih Kg (After - Before) - Male: 9.623146473779371\n",
            "Selisih Time (After - Before) - Female: 14.454138702460853\n",
            "Selisih Time (After - Before) - Male: 15.232368896925863\n"
          ]
        },
        {
          "output_type": "display_data",
          "data": {
            "text/plain": [
              "<Figure size 640x480 with 1 Axes>"
            ],
            "image/png": "[encoded data removed]"
          },
          "metadata": {}
        }
      ]
    },
    {
      "cell_type": "markdown",
      "source": [
        "Gambar di atas merupakan visualisasi dari perbandingan selisih Km (jarak), Kg(berat badan) dan Time(waktu lari sampel individu dalam menit). Dapat terilhat bahwa;\n",
        "*   **Jarak**<br>\n",
        " Jarak lari laki-laki 0.96  dan perempuan 0.98 lebih jauh dari sebelumnya .\n",
        "*   **Berat badan**<br>\n",
        "Berat badan pada laki-laki naik sebanyak 9.62kg dan 9.47kg pada perempuan.\n",
        "*   **Waktu**<br>\n",
        "Waktu yang dihabiskan pada laki-laki selama sekitar 15.23 menit dan perempuan selama 14.45 menit.\n",
        "\n",
        "Sehingga dapat disimpulkan bahwa perbedaan dari sampel individu laki-laki maupun perempuan tidak jauh berbeda.\n",
        "\n",
        "\n"
      ],
      "metadata": {
        "id": "8pfklPPiX4mR"
      }
    },
    {
      "cell_type": "markdown",
      "source": [
        "#**Data Cleaning**"
      ],
      "metadata": {
        "id": "lDU-Wi2HNa2f"
      }
    },
    {
      "cell_type": "markdown",
      "source": [
        "###**Missing Values**"
      ],
      "metadata": {
        "id": "S8shQ8d-Ng-X"
      }
    },
    {
      "cell_type": "code",
      "source": [
        "df.isna().sum()"
      ],
      "metadata": {
        "colab": {
          "base_uri": "https://localhost:8080/"
        },
        "id": "RxpTOHYlyiiQ",
        "outputId": "66464220-102e-4af2-9b03-91307cad02da"
      },
      "execution_count": null,
      "outputs": [
        {
          "output_type": "execute_result",
          "data": {
            "text/plain": [
              "Gender         0\n",
              "Age            0\n",
              "KmBefore       0\n",
              "KgBefore       0\n",
              "TimeBefore     0\n",
              "Medicine1      0\n",
              "Medicine2      0\n",
              "Medicine3      0\n",
              "KmAfter        0\n",
              "KgAfter        0\n",
              "TimeAfter      0\n",
              "SideEffects    0\n",
              "quarter        0\n",
              "dtype: int64"
            ]
          },
          "metadata": {},
          "execution_count": 15
        }
      ]
    },
    {
      "cell_type": "markdown",
      "source": [
        "Hasil output diatas menunjukkan nilai 0 pada setiap kolom. Hal ini berarti tidak ada data kosong pada dataset ini."
      ],
      "metadata": {
        "id": "wnRio3K9U-o9"
      }
    },
    {
      "cell_type": "markdown",
      "source": [
        "##**Outliers Value**"
      ],
      "metadata": {
        "id": "Tj4jBmegRnVE"
      }
    },
    {
      "cell_type": "code",
      "source": [
        "df[df.duplicated()]"
      ],
      "metadata": {
        "colab": {
          "base_uri": "https://localhost:8080/"
        },
        "id": "DuOOph08XYir",
        "outputId": "295d7d2f-c59c-4332-a41d-9a7460d2195b"
      },
      "execution_count": null,
      "outputs": [
        {
          "output_type": "execute_result",
          "data": {
            "text/plain": [
              "Empty DataFrame\n",
              "Columns: [Gender, Age, KmBefore, KgBefore, TimeBefore, Medicine1, Medicine2, Medicine3, KmAfter, KgAfter, TimeAfter, SideEffects, quarter]\n",
              "Index: []"
            ],
            "text/html": [
              "\n",
              "  <div id=\"df-5e4a45e2-bde3-4922-b45e-f8cbd5f3c0ea\" class=\"colab-df-container\">\n",
              "    <div>\n",
              "<style scoped>\n",
              "    .dataframe tbody tr th:only-of-type {\n",
              "        vertical-align: middle;\n",
              "    }\n",
              "\n",
              "    .dataframe tbody tr th {\n",
              "        vertical-align: top;\n",
              "    }\n",
              "\n",
              "    .dataframe thead th {\n",
              "        text-align: right;\n",
              "    }\n",
              "</style>\n",
              "<table border=\"1\" class=\"dataframe\">\n",
              "  <thead>\n",
              "    <tr style=\"text-align: right;\">\n",
              "      <th></th>\n",
              "      <th>Gender</th>\n",
              "      <th>Age</th>\n",
              "      <th>KmBefore</th>\n",
              "      <th>KgBefore</th>\n",
              "      <th>TimeBefore</th>\n",
              "      <th>Medicine1</th>\n",
              "      <th>Medicine2</th>\n",
              "      <th>Medicine3</th>\n",
              "      <th>KmAfter</th>\n",
              "      <th>KgAfter</th>\n",
              "      <th>TimeAfter</th>\n",
              "      <th>SideEffects</th>\n",
              "      <th>quarter</th>\n",
              "    </tr>\n",
              "  </thead>\n",
              "  <tbody>\n",
              "  </tbody>\n",
              "</table>\n",
              "</div>\n",
              "    <div class=\"colab-df-buttons\">\n",
              "\n",
              "  <div class=\"colab-df-container\">\n",
              "    <button class=\"colab-df-convert\" onclick=\"convertToInteractive('df-5e4a45e2-bde3-4922-b45e-f8cbd5f3c0ea')\"\n",
              "            title=\"Convert this dataframe to an interactive table.\"\n",
              "            style=\"display:none;\">\n",
              "\n",
              "  <svg xmlns=\"http://www.w3.org/2000/svg\" height=\"24px\" viewBox=\"0 -960 960 960\">\n",
              "    <path d=\"M120-120v-720h720v720H120Zm60-500h600v-160H180v160Zm220 220h160v-160H400v160Zm0 220h160v-160H400v160ZM180-400h160v-160H180v160Zm440 0h160v-160H620v160ZM180-180h160v-160H180v160Zm440 0h160v-160H620v160Z\"/>\n",
              "  </svg>\n",
              "    </button>\n",
              "\n",
              "  <style>\n",
              "    .colab-df-container {\n",
              "      display:flex;\n",
              "      gap: 12px;\n",
              "    }\n",
              "\n",
              "    .colab-df-convert {\n",
              "      background-color: #E8F0FE;\n",
              "      border: none;\n",
              "      border-radius: 50%;\n",
              "      cursor: pointer;\n",
              "      display: none;\n",
              "      fill: #1967D2;\n",
              "      height: 32px;\n",
              "      padding: 0 0 0 0;\n",
              "      width: 32px;\n",
              "    }\n",
              "\n",
              "    .colab-df-convert:hover {\n",
              "      background-color: #E2EBFA;\n",
              "      box-shadow: 0px 1px 2px rgba(60, 64, 67, 0.3), 0px 1px 3px 1px rgba(60, 64, 67, 0.15);\n",
              "      fill: #174EA6;\n",
              "    }\n",
              "\n",
              "    .colab-df-buttons div {\n",
              "      margin-bottom: 4px;\n",
              "    }\n",
              "\n",
              "    [theme=dark] .colab-df-convert {\n",
              "      background-color: #3B4455;\n",
              "      fill: #D2E3FC;\n",
              "    }\n",
              "\n",
              "    [theme=dark] .colab-df-convert:hover {\n",
              "      background-color: #434B5C;\n",
              "      box-shadow: 0px 1px 3px 1px rgba(0, 0, 0, 0.15);\n",
              "      filter: drop-shadow(0px 1px 2px rgba(0, 0, 0, 0.3));\n",
              "      fill: #FFFFFF;\n",
              "    }\n",
              "  </style>\n",
              "\n",
              "    <script>\n",
              "      const buttonEl =\n",
              "        document.querySelector('#df-5e4a45e2-bde3-4922-b45e-f8cbd5f3c0ea button.colab-df-convert');\n",
              "      buttonEl.style.display =\n",
              "        google.colab.kernel.accessAllowed ? 'block' : 'none';\n",
              "\n",
              "      async function convertToInteractive(key) {\n",
              "        const element = document.querySelector('#df-5e4a45e2-bde3-4922-b45e-f8cbd5f3c0ea');\n",
              "        const dataTable =\n",
              "          await google.colab.kernel.invokeFunction('convertToInteractive',\n",
              "                                                    [key], {});\n",
              "        if (!dataTable) return;\n",
              "\n",
              "        const docLinkHtml = 'Like what you see? Visit the ' +\n",
              "          '<a target=\"_blank\" href=https://colab.research.google.com/notebooks/data_table.ipynb>data table notebook</a>'\n",
              "          + ' to learn more about interactive tables.';\n",
              "        element.innerHTML = '';\n",
              "        dataTable['output_type'] = 'display_data';\n",
              "        await google.colab.output.renderOutput(dataTable, element);\n",
              "        const docLink = document.createElement('div');\n",
              "        docLink.innerHTML = docLinkHtml;\n",
              "        element.appendChild(docLink);\n",
              "      }\n",
              "    </script>\n",
              "  </div>\n",
              "\n",
              "    </div>\n",
              "  </div>\n"
            ],
            "application/vnd.google.colaboratory.intrinsic+json": {
              "type": "dataframe",
              "repr_error": "Out of range float values are not JSON compliant: nan"
            }
          },
          "metadata": {},
          "execution_count": 16
        }
      ]
    },
    {
      "cell_type": "markdown",
      "source": [
        "Terlihat dari data di atas bahwa tidak ada data duplikat yang ditemukan pada dataset ini."
      ],
      "metadata": {
        "id": "CC5juLV1YQ2J"
      }
    },
    {
      "cell_type": "markdown",
      "source": [
        "###**Penanganan Outliers**"
      ],
      "metadata": {
        "id": "ctfZKdALtWSu"
      }
    },
    {
      "cell_type": "code",
      "source": [
        "results = []\n",
        "\n",
        "cols = df.select_dtypes(include=['float64', 'int64'])\n",
        "\n",
        "for col in cols:\n",
        "  q1 = df[col].quantile(0.25)\n",
        "  q3 = df[col].quantile(0.75)\n",
        "  iqr = q3 - q1\n",
        "  lower_bound = q1 - 1.5*iqr\n",
        "  upper_bound = q3 + 1.5*iqr\n",
        "  outliers = df[(df[col] < lower_bound) | (df[col] > upper_bound)]\n",
        "  percent_outliers = (len(outliers)/len(df))*100\n",
        "  results.append({'Kolom': col, 'Persentase Outliers': percent_outliers})\n",
        "\n",
        "results_df = pd.DataFrame(results)\n",
        "results_df.set_index('Kolom', inplace=True)\n",
        "results_df = results_df.rename_axis(None, axis=0).rename_axis('Kolom', axis=1)\n",
        "\n",
        "display(results_df)\n"
      ],
      "metadata": {
        "colab": {
          "base_uri": "https://localhost:8080/"
        },
        "id": "8eh4cpkoScRh",
        "outputId": "f41c4de7-33a6-4f2f-d41a-1fe27f3a241b"
      },
      "execution_count": null,
      "outputs": [
        {
          "output_type": "display_data",
          "data": {
            "text/plain": [
              "Kolom       Persentase Outliers\n",
              "Age                         0.4\n",
              "KmBefore                    0.5\n",
              "KgBefore                    1.1\n",
              "TimeBefore                  0.5\n",
              "KmAfter                     0.5\n",
              "KgAfter                     0.5\n",
              "TimeAfter                   0.9"
            ],
            "text/html": [
              "\n",
              "  <div id=\"df-d1adf47f-ad67-494f-8524-8f2fe2154bd9\" class=\"colab-df-container\">\n",
              "    <div>\n",
              "<style scoped>\n",
              "    .dataframe tbody tr th:only-of-type {\n",
              "        vertical-align: middle;\n",
              "    }\n",
              "\n",
              "    .dataframe tbody tr th {\n",
              "        vertical-align: top;\n",
              "    }\n",
              "\n",
              "    .dataframe thead th {\n",
              "        text-align: right;\n",
              "    }\n",
              "</style>\n",
              "<table border=\"1\" class=\"dataframe\">\n",
              "  <thead>\n",
              "    <tr style=\"text-align: right;\">\n",
              "      <th>Kolom</th>\n",
              "      <th>Persentase Outliers</th>\n",
              "    </tr>\n",
              "  </thead>\n",
              "  <tbody>\n",
              "    <tr>\n",
              "      <th>Age</th>\n",
              "      <td>0.4</td>\n",
              "    </tr>\n",
              "    <tr>\n",
              "      <th>KmBefore</th>\n",
              "      <td>0.5</td>\n",
              "    </tr>\n",
              "    <tr>\n",
              "      <th>KgBefore</th>\n",
              "      <td>1.1</td>\n",
              "    </tr>\n",
              "    <tr>\n",
              "      <th>TimeBefore</th>\n",
              "      <td>0.5</td>\n",
              "    </tr>\n",
              "    <tr>\n",
              "      <th>KmAfter</th>\n",
              "      <td>0.5</td>\n",
              "    </tr>\n",
              "    <tr>\n",
              "      <th>KgAfter</th>\n",
              "      <td>0.5</td>\n",
              "    </tr>\n",
              "    <tr>\n",
              "      <th>TimeAfter</th>\n",
              "      <td>0.9</td>\n",
              "    </tr>\n",
              "  </tbody>\n",
              "</table>\n",
              "</div>\n",
              "    <div class=\"colab-df-buttons\">\n",
              "\n",
              "  <div class=\"colab-df-container\">\n",
              "    <button class=\"colab-df-convert\" onclick=\"convertToInteractive('df-d1adf47f-ad67-494f-8524-8f2fe2154bd9')\"\n",
              "            title=\"Convert this dataframe to an interactive table.\"\n",
              "            style=\"display:none;\">\n",
              "\n",
              "  <svg xmlns=\"http://www.w3.org/2000/svg\" height=\"24px\" viewBox=\"0 -960 960 960\">\n",
              "    <path d=\"M120-120v-720h720v720H120Zm60-500h600v-160H180v160Zm220 220h160v-160H400v160Zm0 220h160v-160H400v160ZM180-400h160v-160H180v160Zm440 0h160v-160H620v160ZM180-180h160v-160H180v160Zm440 0h160v-160H620v160Z\"/>\n",
              "  </svg>\n",
              "    </button>\n",
              "\n",
              "  <style>\n",
              "    .colab-df-container {\n",
              "      display:flex;\n",
              "      gap: 12px;\n",
              "    }\n",
              "\n",
              "    .colab-df-convert {\n",
              "      background-color: #E8F0FE;\n",
              "      border: none;\n",
              "      border-radius: 50%;\n",
              "      cursor: pointer;\n",
              "      display: none;\n",
              "      fill: #1967D2;\n",
              "      height: 32px;\n",
              "      padding: 0 0 0 0;\n",
              "      width: 32px;\n",
              "    }\n",
              "\n",
              "    .colab-df-convert:hover {\n",
              "      background-color: #E2EBFA;\n",
              "      box-shadow: 0px 1px 2px rgba(60, 64, 67, 0.3), 0px 1px 3px 1px rgba(60, 64, 67, 0.15);\n",
              "      fill: #174EA6;\n",
              "    }\n",
              "\n",
              "    .colab-df-buttons div {\n",
              "      margin-bottom: 4px;\n",
              "    }\n",
              "\n",
              "    [theme=dark] .colab-df-convert {\n",
              "      background-color: #3B4455;\n",
              "      fill: #D2E3FC;\n",
              "    }\n",
              "\n",
              "    [theme=dark] .colab-df-convert:hover {\n",
              "      background-color: #434B5C;\n",
              "      box-shadow: 0px 1px 3px 1px rgba(0, 0, 0, 0.15);\n",
              "      filter: drop-shadow(0px 1px 2px rgba(0, 0, 0, 0.3));\n",
              "      fill: #FFFFFF;\n",
              "    }\n",
              "  </style>\n",
              "\n",
              "    <script>\n",
              "      const buttonEl =\n",
              "        document.querySelector('#df-d1adf47f-ad67-494f-8524-8f2fe2154bd9 button.colab-df-convert');\n",
              "      buttonEl.style.display =\n",
              "        google.colab.kernel.accessAllowed ? 'block' : 'none';\n",
              "\n",
              "      async function convertToInteractive(key) {\n",
              "        const element = document.querySelector('#df-d1adf47f-ad67-494f-8524-8f2fe2154bd9');\n",
              "        const dataTable =\n",
              "          await google.colab.kernel.invokeFunction('convertToInteractive',\n",
              "                                                    [key], {});\n",
              "        if (!dataTable) return;\n",
              "\n",
              "        const docLinkHtml = 'Like what you see? Visit the ' +\n",
              "          '<a target=\"_blank\" href=https://colab.research.google.com/notebooks/data_table.ipynb>data table notebook</a>'\n",
              "          + ' to learn more about interactive tables.';\n",
              "        element.innerHTML = '';\n",
              "        dataTable['output_type'] = 'display_data';\n",
              "        await google.colab.output.renderOutput(dataTable, element);\n",
              "        const docLink = document.createElement('div');\n",
              "        docLink.innerHTML = docLinkHtml;\n",
              "        element.appendChild(docLink);\n",
              "      }\n",
              "    </script>\n",
              "  </div>\n",
              "\n",
              "\n",
              "<div id=\"df-56c8342a-0a5a-4d1d-837c-1dbe6e519d63\">\n",
              "  <button class=\"colab-df-quickchart\" onclick=\"quickchart('df-56c8342a-0a5a-4d1d-837c-1dbe6e519d63')\"\n",
              "            title=\"Suggest charts\"\n",
              "            style=\"display:none;\">\n",
              "\n",
              "<svg xmlns=\"http://www.w3.org/2000/svg\" height=\"24px\"viewBox=\"0 0 24 24\"\n",
              "     width=\"24px\">\n",
              "    <g>\n",
              "        <path d=\"M19 3H5c-1.1 0-2 .9-2 2v14c0 1.1.9 2 2 2h14c1.1 0 2-.9 2-2V5c0-1.1-.9-2-2-2zM9 17H7v-7h2v7zm4 0h-2V7h2v10zm4 0h-2v-4h2v4z\"/>\n",
              "    </g>\n",
              "</svg>\n",
              "  </button>\n",
              "\n",
              "<style>\n",
              "  .colab-df-quickchart {\n",
              "      --bg-color: #E8F0FE;\n",
              "      --fill-color: #1967D2;\n",
              "      --hover-bg-color: #E2EBFA;\n",
              "      --hover-fill-color: #174EA6;\n",
              "      --disabled-fill-color: #AAA;\n",
              "      --disabled-bg-color: #DDD;\n",
              "  }\n",
              "\n",
              "  [theme=dark] .colab-df-quickchart {\n",
              "      --bg-color: #3B4455;\n",
              "      --fill-color: #D2E3FC;\n",
              "      --hover-bg-color: #434B5C;\n",
              "      --hover-fill-color: #FFFFFF;\n",
              "      --disabled-bg-color: #3B4455;\n",
              "      --disabled-fill-color: #666;\n",
              "  }\n",
              "\n",
              "  .colab-df-quickchart {\n",
              "    background-color: var(--bg-color);\n",
              "    border: none;\n",
              "    border-radius: 50%;\n",
              "    cursor: pointer;\n",
              "    display: none;\n",
              "    fill: var(--fill-color);\n",
              "    height: 32px;\n",
              "    padding: 0;\n",
              "    width: 32px;\n",
              "  }\n",
              "\n",
              "  .colab-df-quickchart:hover {\n",
              "    background-color: var(--hover-bg-color);\n",
              "    box-shadow: 0 1px 2px rgba(60, 64, 67, 0.3), 0 1px 3px 1px rgba(60, 64, 67, 0.15);\n",
              "    fill: var(--button-hover-fill-color);\n",
              "  }\n",
              "\n",
              "  .colab-df-quickchart-complete:disabled,\n",
              "  .colab-df-quickchart-complete:disabled:hover {\n",
              "    background-color: var(--disabled-bg-color);\n",
              "    fill: var(--disabled-fill-color);\n",
              "    box-shadow: none;\n",
              "  }\n",
              "\n",
              "  .colab-df-spinner {\n",
              "    border: 2px solid var(--fill-color);\n",
              "    border-color: transparent;\n",
              "    border-bottom-color: var(--fill-color);\n",
              "    animation:\n",
              "      spin 1s steps(1) infinite;\n",
              "  }\n",
              "\n",
              "  @keyframes spin {\n",
              "    0% {\n",
              "      border-color: transparent;\n",
              "      border-bottom-color: var(--fill-color);\n",
              "      border-left-color: var(--fill-color);\n",
              "    }\n",
              "    20% {\n",
              "      border-color: transparent;\n",
              "      border-left-color: var(--fill-color);\n",
              "      border-top-color: var(--fill-color);\n",
              "    }\n",
              "    30% {\n",
              "      border-color: transparent;\n",
              "      border-left-color: var(--fill-color);\n",
              "      border-top-color: var(--fill-color);\n",
              "      border-right-color: var(--fill-color);\n",
              "    }\n",
              "    40% {\n",
              "      border-color: transparent;\n",
              "      border-right-color: var(--fill-color);\n",
              "      border-top-color: var(--fill-color);\n",
              "    }\n",
              "    60% {\n",
              "      border-color: transparent;\n",
              "      border-right-color: var(--fill-color);\n",
              "    }\n",
              "    80% {\n",
              "      border-color: transparent;\n",
              "      border-right-color: var(--fill-color);\n",
              "      border-bottom-color: var(--fill-color);\n",
              "    }\n",
              "    90% {\n",
              "      border-color: transparent;\n",
              "      border-bottom-color: var(--fill-color);\n",
              "    }\n",
              "  }\n",
              "</style>\n",
              "\n",
              "  <script>\n",
              "    async function quickchart(key) {\n",
              "      const quickchartButtonEl =\n",
              "        document.querySelector('#' + key + ' button');\n",
              "      quickchartButtonEl.disabled = true;  // To prevent multiple clicks.\n",
              "      quickchartButtonEl.classList.add('colab-df-spinner');\n",
              "      try {\n",
              "        const charts = await google.colab.kernel.invokeFunction(\n",
              "            'suggestCharts', [key], {});\n",
              "      } catch (error) {\n",
              "        console.error('Error during call to suggestCharts:', error);\n",
              "      }\n",
              "      quickchartButtonEl.classList.remove('colab-df-spinner');\n",
              "      quickchartButtonEl.classList.add('colab-df-quickchart-complete');\n",
              "    }\n",
              "    (() => {\n",
              "      let quickchartButtonEl =\n",
              "        document.querySelector('#df-56c8342a-0a5a-4d1d-837c-1dbe6e519d63 button');\n",
              "      quickchartButtonEl.style.display =\n",
              "        google.colab.kernel.accessAllowed ? 'block' : 'none';\n",
              "    })();\n",
              "  </script>\n",
              "</div>\n",
              "    </div>\n",
              "  </div>\n"
            ],
            "application/vnd.google.colaboratory.intrinsic+json": {
              "type": "dataframe",
              "variable_name": "results_df",
              "summary": "{\n  \"name\": \"results_df\",\n  \"rows\": 7,\n  \"fields\": [\n    {\n      \"column\": \"Persentase Outliers\",\n      \"properties\": {\n        \"dtype\": \"number\",\n        \"std\": 0.26276913640612176,\n        \"min\": 0.4,\n        \"max\": 1.0999999999999999,\n        \"num_unique_values\": 4,\n        \"samples\": [\n          0.5,\n          0.8999999999999999,\n          0.4\n        ],\n        \"semantic_type\": \"\",\n        \"description\": \"\"\n      }\n    }\n  ]\n}"
            }
          },
          "metadata": {}
        }
      ]
    },
    {
      "cell_type": "code",
      "source": [
        "boxplot = sns.boxplot(data=df, orient=\"v\", palette=\"Set2\")\n",
        "plt.title(\"Boxplot of All Columns\")\n",
        "plt.xlabel(\"Columns\")\n",
        "plt.ylabel(\"Values\")\n",
        "\n",
        "plt.tight_layout()\n",
        "\n",
        "\n",
        "plt.show()"
      ],
      "metadata": {
        "colab": {
          "base_uri": "https://localhost:8080/"
        },
        "id": "bjBe88-Lq95F",
        "outputId": "93439051-142e-41c3-e59b-c9caa047a545"
      },
      "execution_count": null,
      "outputs": [
        {
          "output_type": "display_data",
          "data": {
            "text/plain": [
              "<Figure size 640x480 with 1 Axes>"
            ],
            "image/png": "[encoded data removed]"
          },
          "metadata": {}
        }
      ]
    },
    {
      "cell_type": "markdown",
      "source": [
        "#####**Hapus** **Outliers**"
      ],
      "metadata": {
        "id": "_LS5Vi9XsXvd"
      }
    },
    {
      "cell_type": "markdown",
      "source": [
        "\n",
        "1. **Age**<br>\n",
        "Outliers pada kolom usia (Age) sebanyak 0.4% menunjukkan bahwa ada sejumlah kecil data usia yang berada jauh dari nilai rata-rata atau mayoritas sampel.\n",
        "\n",
        "2. **KmBefore (Jarak Sebelum)**<br>\n",
        "Dengan 0.5% outliers pada kolom jarak sebelum (KmBefore), beberapa peserta mungkin telah mencatat jarak yang sangat rendah atau tinggi sebelum mengonsumsi suplemen, menciptakan variasi yang signifikan pada data jarak.\n",
        "KgBefore (Berat Badan Sebelum):\n",
        "\n",
        "3. **KgBefore(Berat badan sebelum)**<br>\n",
        "Outliers pada kolom berat badan sebelum mengonsumsi suplemen sebanyak 1.1% menandakan variasi yang lebih besar dalam berat badan sampel sebelum mengonsumsi suplemen.\n",
        "\n",
        "4. **TimeBefore (Waktu Sebelum)**<br>\n",
        "Dengan 0.5% outliers pada kolom waktu sebelum mengonsumsi suplemen, beberapa peserta memiliki data jauh dari rata-rata waktu yang dibutuhkan sebelum mengonsumsi suplemen, menunjukkan variasi dalam kecepatan atau waktu yang diambil.\n",
        "\n",
        "5. **KmAfter (Jarak Setelah)**<br>\n",
        "Outliers pada kolom jarak setelah mengonsumsi suplemen sebanyak 0.5% menandakan adanya variasi dalam data jarak setelah mengonsumsi suplemen. Beberapa peserta mencapai jarak yang signifikan lebih rendah atau lebih tinggi setelah mengonsumsi suplemen.\n",
        "\n",
        "6. **KgAfter (Berat Badan Setelah)**<br>\n",
        "Dengan 0.5% outliers pada kolom berat badan setelah mengonsumsi suplemen, beberapa peserta mengalami perubahan berat badan yang signifikan setelahnya, menciptakan variasi dalam data.\n",
        "\n",
        "7. **TimeAfter (Waktu Setelah)**<br>\n",
        "Outliers pada kolom waktu setelah mengonsumsi suplemen sebanyak 0.9% menunjukkan variasi yang lebih besar dalam waktu yang dibutuhkan peserta setelah mengonsumsi suplemen. Beberapa peserta memiliki data waktu yang jauh dari rata-rata waktu yang dibutuhkan kelompok."
      ],
      "metadata": {
        "id": "iqQndgJJWocP"
      }
    },
    {
      "cell_type": "code",
      "source": [
        "#Penghapusan nilai outlier untuk kolom age\n",
        "\n",
        "Q1 = df['Age'].quantile(0.25)\n",
        "Q3 = df['Age'].quantile(0.75)\n",
        "IQR = Q3 - Q1\n",
        "lower_bound = Q1 - 1.5 * IQR\n",
        "upper_bound = Q3 + 1.5 * IQR\n",
        "\n",
        "df = df[(df['Age'] >= lower_bound) & (df['Age'] <= upper_bound)]"
      ],
      "metadata": {
        "id": "jFY6AwrPrDVt"
      },
      "execution_count": null,
      "outputs": []
    },
    {
      "cell_type": "code",
      "source": [
        "#Penghapusan nilai outlier untuk kolom KmBefore\n",
        "\n",
        "Q1 = df['KmBefore'].quantile(0.25)\n",
        "Q3 = df['KmBefore'].quantile(0.75)\n",
        "IQR = Q3 - Q1\n",
        "lower_bound = Q1 - 1.5 * IQR\n",
        "upper_bound = Q3 + 1.5 * IQR\n",
        "\n",
        "df = df[(df['KmBefore'] >= lower_bound) & (df['KmBefore'] <= upper_bound)]"
      ],
      "metadata": {
        "id": "PJrr5m7YrHM0"
      },
      "execution_count": null,
      "outputs": []
    },
    {
      "cell_type": "code",
      "source": [
        "#Penghapusan nilai outlier untuk kolom KgBefore\n",
        "\n",
        "Q1 = df['KgBefore'].quantile(0.25)\n",
        "Q3 = df['KgBefore'].quantile(0.75)\n",
        "IQR = Q3 - Q1\n",
        "lower_bound = Q1 - 1.5 * IQR\n",
        "upper_bound = Q3 + 1.5 * IQR\n",
        "\n",
        "df = df[(df['KgBefore'] >= lower_bound) & (df['KgBefore'] <= upper_bound)]"
      ],
      "metadata": {
        "id": "jGABNlvhrJJU"
      },
      "execution_count": null,
      "outputs": []
    },
    {
      "cell_type": "code",
      "source": [
        "#Penghapusan nilai outlier untuk kolom TimeBefore\n",
        "\n",
        "Q1 = df['TimeBefore'].quantile(0.25)\n",
        "Q3 = df['TimeBefore'].quantile(0.75)\n",
        "IQR = Q3 - Q1\n",
        "lower_bound = Q1 - 1.5 * IQR\n",
        "upper_bound = Q3 + 1.5 * IQR\n",
        "\n",
        "df = df[(df['TimeBefore'] >= lower_bound) & (df['TimeBefore'] <= upper_bound)]"
      ],
      "metadata": {
        "id": "oHXCyGlNrK8t"
      },
      "execution_count": null,
      "outputs": []
    },
    {
      "cell_type": "code",
      "source": [
        "#Penghapusan nilai outlier untuk kolom KmAfter\n",
        "\n",
        "Q1 = df['KmAfter'].quantile(0.25)\n",
        "Q3 = df['KmAfter'].quantile(0.75)\n",
        "IQR = Q3 - Q1\n",
        "lower_bound = Q1 - 1.5 * IQR\n",
        "upper_bound = Q3 + 1.5 * IQR\n",
        "\n",
        "df = df[(df['KmAfter'] >= lower_bound) & (df['KmAfter'] <= upper_bound)]"
      ],
      "metadata": {
        "id": "2cuXDMifrMqC"
      },
      "execution_count": null,
      "outputs": []
    },
    {
      "cell_type": "code",
      "source": [
        "#Penghapusan nilai outlier untuk kolom KgAfter\n",
        "\n",
        "Q1 = df['KgAfter'].quantile(0.25)\n",
        "Q3 = df['KgAfter'].quantile(0.75)\n",
        "IQR = Q3 - Q1\n",
        "lower_bound = Q1 - 1.5 * IQR\n",
        "upper_bound = Q3 + 1.5 * IQR\n",
        "\n",
        "df = df[(df['KgAfter'] >= lower_bound) & (df['KgAfter'] <= upper_bound)]"
      ],
      "metadata": {
        "id": "6sGRcZBprOuP"
      },
      "execution_count": null,
      "outputs": []
    },
    {
      "cell_type": "code",
      "source": [
        "#Penghapusan nilai outlier untuk kolom TimeAfter\n",
        "\n",
        "Q1 = df['TimeAfter'].quantile(0.25)\n",
        "Q3 = df['TimeAfter'].quantile(0.75)\n",
        "IQR = Q3 - Q1\n",
        "lower_bound = Q1 - 1.5 * IQR\n",
        "upper_bound = Q3 + 1.5 * IQR\n",
        "\n",
        "df = df[(df['TimeAfter'] >= lower_bound) & (df['TimeAfter'] <= upper_bound)]"
      ],
      "metadata": {
        "id": "ZjBLty6irPuH"
      },
      "execution_count": null,
      "outputs": []
    },
    {
      "cell_type": "code",
      "source": [
        "boxplot = sns.boxplot(data=df, orient=\"v\", palette=\"Set2\")\n",
        "plt.title(\"Boxplot of All Columns\")\n",
        "plt.xlabel(\"Columns\")\n",
        "plt.ylabel(\"Values\")\n",
        "\n",
        "# Adjust layout\n",
        "plt.tight_layout()\n",
        "\n",
        "# Show the plot\n",
        "plt.show()"
      ],
      "metadata": {
        "colab": {
          "base_uri": "https://localhost:8080/"
        },
        "id": "Y8Qm3VlLrRoT",
        "outputId": "7c510a2d-9f46-4aae-8e0e-b21aadbd1041"
      },
      "execution_count": null,
      "outputs": [
        {
          "output_type": "display_data",
          "data": {
            "text/plain": [
              "<Figure size 640x480 with 1 Axes>"
            ],
            "image/png": "[encoded data removed]"
          },
          "metadata": {}
        }
      ]
    },
    {
      "cell_type": "markdown",
      "source": [
        "#**Construct Data**"
      ],
      "metadata": {
        "id": "CKp-4C6HtenX"
      }
    },
    {
      "cell_type": "markdown",
      "source": [
        "###F**eature Engineering**"
      ],
      "metadata": {
        "id": "Sv9UEKA_ttym"
      }
    },
    {
      "cell_type": "markdown",
      "source": [
        "Menambahkan kolom \"AgeCategory\" berdasarkan dari usia masing-masing sampel. Untuk memudahkan dalam identifikasi usia pada analisis."
      ],
      "metadata": {
        "id": "qJ8YXAViXnzu"
      }
    },
    {
      "cell_type": "code",
      "source": [
        "def categorize_age(age):\n",
        "    if age < 18:\n",
        "        return 'Anak-anak'\n",
        "    elif 18 <= age < 60:\n",
        "        return 'Dewasa'\n",
        "    else:\n",
        "        return 'Lansia'\n",
        "\n",
        "df['AgeCategory'] = df['Age'].apply(categorize_age)"
      ],
      "metadata": {
        "id": "nJvlDmODtzx3"
      },
      "execution_count": null,
      "outputs": []
    },
    {
      "cell_type": "markdown",
      "source": [
        "###**Pengecekkan Hasil**"
      ],
      "metadata": {
        "id": "ABTzlSoAuBKP"
      }
    },
    {
      "cell_type": "code",
      "source": [
        "df.head()"
      ],
      "metadata": {
        "colab": {
          "base_uri": "https://localhost:8080/"
        },
        "id": "2XN91XKSt5zR",
        "outputId": "a8e6fae1-493d-4e4e-a584-ce6dea31b68d"
      },
      "execution_count": null,
      "outputs": [
        {
          "output_type": "execute_result",
          "data": {
            "text/plain": [
              "  Gender  Age  KmBefore  KgBefore  TimeBefore Medicine1 Medicine2 Medicine3  \\\n",
              "0      F   32      4.06      74.7        41.2        No        No        No   \n",
              "1      M   37      3.96      76.3        43.9       Yes       Yes        No   \n",
              "2      M   43      3.80      91.7        47.9       Yes        No        No   \n",
              "3      F   26      5.17      75.4        59.6        No        No        No   \n",
              "4      F   36      3.72      77.0        54.9        No       Yes       Yes   \n",
              "\n",
              "   KmAfter  KgAfter  TimeAfter SideEffects quarter AgeCategory  \n",
              "0     4.37     91.8       61.1           N      Q2      Dewasa  \n",
              "1     3.09     89.6       69.7           N      Q3      Dewasa  \n",
              "2     6.26     92.7       49.8           N      Q4      Dewasa  \n",
              "3     5.81     89.1       60.9           N      Q1      Dewasa  \n",
              "4     7.80     91.7       60.7           Y      Q3      Dewasa  "
            ],
            "text/html": [
              "\n",
              "  <div id=\"df-ef105ac9-c830-42b9-bfa3-fa1e65529e80\" class=\"colab-df-container\">\n",
              "    <div>\n",
              "<style scoped>\n",
              "    .dataframe tbody tr th:only-of-type {\n",
              "        vertical-align: middle;\n",
              "    }\n",
              "\n",
              "    .dataframe tbody tr th {\n",
              "        vertical-align: top;\n",
              "    }\n",
              "\n",
              "    .dataframe thead th {\n",
              "        text-align: right;\n",
              "    }\n",
              "</style>\n",
              "<table border=\"1\" class=\"dataframe\">\n",
              "  <thead>\n",
              "    <tr style=\"text-align: right;\">\n",
              "      <th></th>\n",
              "      <th>Gender</th>\n",
              "      <th>Age</th>\n",
              "      <th>KmBefore</th>\n",
              "      <th>KgBefore</th>\n",
              "      <th>TimeBefore</th>\n",
              "      <th>Medicine1</th>\n",
              "      <th>Medicine2</th>\n",
              "      <th>Medicine3</th>\n",
              "      <th>KmAfter</th>\n",
              "      <th>KgAfter</th>\n",
              "      <th>TimeAfter</th>\n",
              "      <th>SideEffects</th>\n",
              "      <th>quarter</th>\n",
              "      <th>AgeCategory</th>\n",
              "    </tr>\n",
              "  </thead>\n",
              "  <tbody>\n",
              "    <tr>\n",
              "      <th>0</th>\n",
              "      <td>F</td>\n",
              "      <td>32</td>\n",
              "      <td>4.06</td>\n",
              "      <td>74.7</td>\n",
              "      <td>41.2</td>\n",
              "      <td>No</td>\n",
              "      <td>No</td>\n",
              "      <td>No</td>\n",
              "      <td>4.37</td>\n",
              "      <td>91.8</td>\n",
              "      <td>61.1</td>\n",
              "      <td>N</td>\n",
              "      <td>Q2</td>\n",
              "      <td>Dewasa</td>\n",
              "    </tr>\n",
              "    <tr>\n",
              "      <th>1</th>\n",
              "      <td>M</td>\n",
              "      <td>37</td>\n",
              "      <td>3.96</td>\n",
              "      <td>76.3</td>\n",
              "      <td>43.9</td>\n",
              "      <td>Yes</td>\n",
              "      <td>Yes</td>\n",
              "      <td>No</td>\n",
              "      <td>3.09</td>\n",
              "      <td>89.6</td>\n",
              "      <td>69.7</td>\n",
              "      <td>N</td>\n",
              "      <td>Q3</td>\n",
              "      <td>Dewasa</td>\n",
              "    </tr>\n",
              "    <tr>\n",
              "      <th>2</th>\n",
              "      <td>M</td>\n",
              "      <td>43</td>\n",
              "      <td>3.80</td>\n",
              "      <td>91.7</td>\n",
              "      <td>47.9</td>\n",
              "      <td>Yes</td>\n",
              "      <td>No</td>\n",
              "      <td>No</td>\n",
              "      <td>6.26</td>\n",
              "      <td>92.7</td>\n",
              "      <td>49.8</td>\n",
              "      <td>N</td>\n",
              "      <td>Q4</td>\n",
              "      <td>Dewasa</td>\n",
              "    </tr>\n",
              "    <tr>\n",
              "      <th>3</th>\n",
              "      <td>F</td>\n",
              "      <td>26</td>\n",
              "      <td>5.17</td>\n",
              "      <td>75.4</td>\n",
              "      <td>59.6</td>\n",
              "      <td>No</td>\n",
              "      <td>No</td>\n",
              "      <td>No</td>\n",
              "      <td>5.81</td>\n",
              "      <td>89.1</td>\n",
              "      <td>60.9</td>\n",
              "      <td>N</td>\n",
              "      <td>Q1</td>\n",
              "      <td>Dewasa</td>\n",
              "    </tr>\n",
              "    <tr>\n",
              "      <th>4</th>\n",
              "      <td>F</td>\n",
              "      <td>36</td>\n",
              "      <td>3.72</td>\n",
              "      <td>77.0</td>\n",
              "      <td>54.9</td>\n",
              "      <td>No</td>\n",
              "      <td>Yes</td>\n",
              "      <td>Yes</td>\n",
              "      <td>7.80</td>\n",
              "      <td>91.7</td>\n",
              "      <td>60.7</td>\n",
              "      <td>Y</td>\n",
              "      <td>Q3</td>\n",
              "      <td>Dewasa</td>\n",
              "    </tr>\n",
              "  </tbody>\n",
              "</table>\n",
              "</div>\n",
              "    <div class=\"colab-df-buttons\">\n",
              "\n",
              "  <div class=\"colab-df-container\">\n",
              "    <button class=\"colab-df-convert\" onclick=\"convertToInteractive('df-ef105ac9-c830-42b9-bfa3-fa1e65529e80')\"\n",
              "            title=\"Convert this dataframe to an interactive table.\"\n",
              "            style=\"display:none;\">\n",
              "\n",
              "  <svg xmlns=\"http://www.w3.org/2000/svg\" height=\"24px\" viewBox=\"0 -960 960 960\">\n",
              "    <path d=\"M120-120v-720h720v720H120Zm60-500h600v-160H180v160Zm220 220h160v-160H400v160Zm0 220h160v-160H400v160ZM180-400h160v-160H180v160Zm440 0h160v-160H620v160ZM180-180h160v-160H180v160Zm440 0h160v-160H620v160Z\"/>\n",
              "  </svg>\n",
              "    </button>\n",
              "\n",
              "  <style>\n",
              "    .colab-df-container {\n",
              "      display:flex;\n",
              "      gap: 12px;\n",
              "    }\n",
              "\n",
              "    .colab-df-convert {\n",
              "      background-color: #E8F0FE;\n",
              "      border: none;\n",
              "      border-radius: 50%;\n",
              "      cursor: pointer;\n",
              "      display: none;\n",
              "      fill: #1967D2;\n",
              "      height: 32px;\n",
              "      padding: 0 0 0 0;\n",
              "      width: 32px;\n",
              "    }\n",
              "\n",
              "    .colab-df-convert:hover {\n",
              "      background-color: #E2EBFA;\n",
              "      box-shadow: 0px 1px 2px rgba(60, 64, 67, 0.3), 0px 1px 3px 1px rgba(60, 64, 67, 0.15);\n",
              "      fill: #174EA6;\n",
              "    }\n",
              "\n",
              "    .colab-df-buttons div {\n",
              "      margin-bottom: 4px;\n",
              "    }\n",
              "\n",
              "    [theme=dark] .colab-df-convert {\n",
              "      background-color: #3B4455;\n",
              "      fill: #D2E3FC;\n",
              "    }\n",
              "\n",
              "    [theme=dark] .colab-df-convert:hover {\n",
              "      background-color: #434B5C;\n",
              "      box-shadow: 0px 1px 3px 1px rgba(0, 0, 0, 0.15);\n",
              "      filter: drop-shadow(0px 1px 2px rgba(0, 0, 0, 0.3));\n",
              "      fill: #FFFFFF;\n",
              "    }\n",
              "  </style>\n",
              "\n",
              "    <script>\n",
              "      const buttonEl =\n",
              "        document.querySelector('#df-ef105ac9-c830-42b9-bfa3-fa1e65529e80 button.colab-df-convert');\n",
              "      buttonEl.style.display =\n",
              "        google.colab.kernel.accessAllowed ? 'block' : 'none';\n",
              "\n",
              "      async function convertToInteractive(key) {\n",
              "        const element = document.querySelector('#df-ef105ac9-c830-42b9-bfa3-fa1e65529e80');\n",
              "        const dataTable =\n",
              "          await google.colab.kernel.invokeFunction('convertToInteractive',\n",
              "                                                    [key], {});\n",
              "        if (!dataTable) return;\n",
              "\n",
              "        const docLinkHtml = 'Like what you see? Visit the ' +\n",
              "          '<a target=\"_blank\" href=https://colab.research.google.com/notebooks/data_table.ipynb>data table notebook</a>'\n",
              "          + ' to learn more about interactive tables.';\n",
              "        element.innerHTML = '';\n",
              "        dataTable['output_type'] = 'display_data';\n",
              "        await google.colab.output.renderOutput(dataTable, element);\n",
              "        const docLink = document.createElement('div');\n",
              "        docLink.innerHTML = docLinkHtml;\n",
              "        element.appendChild(docLink);\n",
              "      }\n",
              "    </script>\n",
              "  </div>\n",
              "\n",
              "\n",
              "<div id=\"df-13a50523-b78a-41c0-866e-0794e7498625\">\n",
              "  <button class=\"colab-df-quickchart\" onclick=\"quickchart('df-13a50523-b78a-41c0-866e-0794e7498625')\"\n",
              "            title=\"Suggest charts\"\n",
              "            style=\"display:none;\">\n",
              "\n",
              "<svg xmlns=\"http://www.w3.org/2000/svg\" height=\"24px\"viewBox=\"0 0 24 24\"\n",
              "     width=\"24px\">\n",
              "    <g>\n",
              "        <path d=\"M19 3H5c-1.1 0-2 .9-2 2v14c0 1.1.9 2 2 2h14c1.1 0 2-.9 2-2V5c0-1.1-.9-2-2-2zM9 17H7v-7h2v7zm4 0h-2V7h2v10zm4 0h-2v-4h2v4z\"/>\n",
              "    </g>\n",
              "</svg>\n",
              "  </button>\n",
              "\n",
              "<style>\n",
              "  .colab-df-quickchart {\n",
              "      --bg-color: #E8F0FE;\n",
              "      --fill-color: #1967D2;\n",
              "      --hover-bg-color: #E2EBFA;\n",
              "      --hover-fill-color: #174EA6;\n",
              "      --disabled-fill-color: #AAA;\n",
              "      --disabled-bg-color: #DDD;\n",
              "  }\n",
              "\n",
              "  [theme=dark] .colab-df-quickchart {\n",
              "      --bg-color: #3B4455;\n",
              "      --fill-color: #D2E3FC;\n",
              "      --hover-bg-color: #434B5C;\n",
              "      --hover-fill-color: #FFFFFF;\n",
              "      --disabled-bg-color: #3B4455;\n",
              "      --disabled-fill-color: #666;\n",
              "  }\n",
              "\n",
              "  .colab-df-quickchart {\n",
              "    background-color: var(--bg-color);\n",
              "    border: none;\n",
              "    border-radius: 50%;\n",
              "    cursor: pointer;\n",
              "    display: none;\n",
              "    fill: var(--fill-color);\n",
              "    height: 32px;\n",
              "    padding: 0;\n",
              "    width: 32px;\n",
              "  }\n",
              "\n",
              "  .colab-df-quickchart:hover {\n",
              "    background-color: var(--hover-bg-color);\n",
              "    box-shadow: 0 1px 2px rgba(60, 64, 67, 0.3), 0 1px 3px 1px rgba(60, 64, 67, 0.15);\n",
              "    fill: var(--button-hover-fill-color);\n",
              "  }\n",
              "\n",
              "  .colab-df-quickchart-complete:disabled,\n",
              "  .colab-df-quickchart-complete:disabled:hover {\n",
              "    background-color: var(--disabled-bg-color);\n",
              "    fill: var(--disabled-fill-color);\n",
              "    box-shadow: none;\n",
              "  }\n",
              "\n",
              "  .colab-df-spinner {\n",
              "    border: 2px solid var(--fill-color);\n",
              "    border-color: transparent;\n",
              "    border-bottom-color: var(--fill-color);\n",
              "    animation:\n",
              "      spin 1s steps(1) infinite;\n",
              "  }\n",
              "\n",
              "  @keyframes spin {\n",
              "    0% {\n",
              "      border-color: transparent;\n",
              "      border-bottom-color: var(--fill-color);\n",
              "      border-left-color: var(--fill-color);\n",
              "    }\n",
              "    20% {\n",
              "      border-color: transparent;\n",
              "      border-left-color: var(--fill-color);\n",
              "      border-top-color: var(--fill-color);\n",
              "    }\n",
              "    30% {\n",
              "      border-color: transparent;\n",
              "      border-left-color: var(--fill-color);\n",
              "      border-top-color: var(--fill-color);\n",
              "      border-right-color: var(--fill-color);\n",
              "    }\n",
              "    40% {\n",
              "      border-color: transparent;\n",
              "      border-right-color: var(--fill-color);\n",
              "      border-top-color: var(--fill-color);\n",
              "    }\n",
              "    60% {\n",
              "      border-color: transparent;\n",
              "      border-right-color: var(--fill-color);\n",
              "    }\n",
              "    80% {\n",
              "      border-color: transparent;\n",
              "      border-right-color: var(--fill-color);\n",
              "      border-bottom-color: var(--fill-color);\n",
              "    }\n",
              "    90% {\n",
              "      border-color: transparent;\n",
              "      border-bottom-color: var(--fill-color);\n",
              "    }\n",
              "  }\n",
              "</style>\n",
              "\n",
              "  <script>\n",
              "    async function quickchart(key) {\n",
              "      const quickchartButtonEl =\n",
              "        document.querySelector('#' + key + ' button');\n",
              "      quickchartButtonEl.disabled = true;  // To prevent multiple clicks.\n",
              "      quickchartButtonEl.classList.add('colab-df-spinner');\n",
              "      try {\n",
              "        const charts = await google.colab.kernel.invokeFunction(\n",
              "            'suggestCharts', [key], {});\n",
              "      } catch (error) {\n",
              "        console.error('Error during call to suggestCharts:', error);\n",
              "      }\n",
              "      quickchartButtonEl.classList.remove('colab-df-spinner');\n",
              "      quickchartButtonEl.classList.add('colab-df-quickchart-complete');\n",
              "    }\n",
              "    (() => {\n",
              "      let quickchartButtonEl =\n",
              "        document.querySelector('#df-13a50523-b78a-41c0-866e-0794e7498625 button');\n",
              "      quickchartButtonEl.style.display =\n",
              "        google.colab.kernel.accessAllowed ? 'block' : 'none';\n",
              "    })();\n",
              "  </script>\n",
              "</div>\n",
              "    </div>\n",
              "  </div>\n"
            ],
            "application/vnd.google.colaboratory.intrinsic+json": {
              "type": "dataframe",
              "variable_name": "df",
              "summary": "{\n  \"name\": \"df\",\n  \"rows\": 956,\n  \"fields\": [\n    {\n      \"column\": \"Gender\",\n      \"properties\": {\n        \"dtype\": \"category\",\n        \"num_unique_values\": 2,\n        \"samples\": [\n          \"M\",\n          \"F\"\n        ],\n        \"semantic_type\": \"\",\n        \"description\": \"\"\n      }\n    },\n    {\n      \"column\": \"Age\",\n      \"properties\": {\n        \"dtype\": \"number\",\n        \"std\": 4,\n        \"min\": 21,\n        \"max\": 48,\n        \"num_unique_values\": 27,\n        \"samples\": [\n          40,\n          30\n        ],\n        \"semantic_type\": \"\",\n        \"description\": \"\"\n      }\n    },\n    {\n      \"column\": \"KmBefore\",\n      \"properties\": {\n        \"dtype\": \"number\",\n        \"std\": 0.7581399806480071,\n        \"min\": 1.97,\n        \"max\": 6.12,\n        \"num_unique_values\": 304,\n        \"samples\": [\n          4.18,\n          4.96\n        ],\n        \"semantic_type\": \"\",\n        \"description\": \"\"\n      }\n    },\n    {\n      \"column\": \"KgBefore\",\n      \"properties\": {\n        \"dtype\": \"number\",\n        \"std\": 8.88243362795528,\n        \"min\": 56.3,\n        \"max\": 105.0,\n        \"num_unique_values\": 344,\n        \"samples\": [\n          77.3,\n          92.8\n        ],\n        \"semantic_type\": \"\",\n        \"description\": \"\"\n      }\n    },\n    {\n      \"column\": \"TimeBefore\",\n      \"properties\": {\n        \"dtype\": \"number\",\n        \"std\": 9.746118996541826,\n        \"min\": 19.1,\n        \"max\": 71.0,\n        \"num_unique_values\": 372,\n        \"samples\": [\n          35.7,\n          45.4\n        ],\n        \"semantic_type\": \"\",\n        \"description\": \"\"\n      }\n    },\n    {\n      \"column\": \"Medicine1\",\n      \"properties\": {\n        \"dtype\": \"category\",\n        \"num_unique_values\": 2,\n        \"samples\": [\n          \"Yes\",\n          \"No\"\n        ],\n        \"semantic_type\": \"\",\n        \"description\": \"\"\n      }\n    },\n    {\n      \"column\": \"Medicine2\",\n      \"properties\": {\n        \"dtype\": \"category\",\n        \"num_unique_values\": 2,\n        \"samples\": [\n          \"Yes\",\n          \"No\"\n        ],\n        \"semantic_type\": \"\",\n        \"description\": \"\"\n      }\n    },\n    {\n      \"column\": \"Medicine3\",\n      \"properties\": {\n        \"dtype\": \"category\",\n        \"num_unique_values\": 2,\n        \"samples\": [\n          \"Yes\",\n          \"No\"\n        ],\n        \"semantic_type\": \"\",\n        \"description\": \"\"\n      }\n    },\n    {\n      \"column\": \"KmAfter\",\n      \"properties\": {\n        \"dtype\": \"number\",\n        \"std\": 1.4089082742488928,\n        \"min\": 1.2,\n        \"max\": 8.9,\n        \"num_unique_values\": 461,\n        \"samples\": [\n          4.03,\n          5.71\n        ],\n        \"semantic_type\": \"\",\n        \"description\": \"\"\n      }\n    },\n    {\n      \"column\": \"KgAfter\",\n      \"properties\": {\n        \"dtype\": \"number\",\n        \"std\": 2.888870175126944,\n        \"min\": 82.8,\n        \"max\": 97.7,\n        \"num_unique_values\": 138,\n        \"samples\": [\n          88.5,\n          83.6\n        ],\n        \"semantic_type\": \"\",\n        \"description\": \"\"\n      }\n    },\n    {\n      \"column\": \"TimeAfter\",\n      \"properties\": {\n        \"dtype\": \"number\",\n        \"std\": 4.86113844604429,\n        \"min\": 46.6,\n        \"max\": 73.1,\n        \"num_unique_values\": 219,\n        \"samples\": [\n          71.9,\n          53.9\n        ],\n        \"semantic_type\": \"\",\n        \"description\": \"\"\n      }\n    },\n    {\n      \"column\": \"SideEffects\",\n      \"properties\": {\n        \"dtype\": \"category\",\n        \"num_unique_values\": 2,\n        \"samples\": [\n          \"Y\",\n          \"N\"\n        ],\n        \"semantic_type\": \"\",\n        \"description\": \"\"\n      }\n    },\n    {\n      \"column\": \"quarter\",\n      \"properties\": {\n        \"dtype\": \"category\",\n        \"num_unique_values\": 4,\n        \"samples\": [\n          \"Q3\",\n          \"Q1\"\n        ],\n        \"semantic_type\": \"\",\n        \"description\": \"\"\n      }\n    },\n    {\n      \"column\": \"AgeCategory\",\n      \"properties\": {\n        \"dtype\": \"category\",\n        \"num_unique_values\": 1,\n        \"samples\": [\n          \"Dewasa\"\n        ],\n        \"semantic_type\": \"\",\n        \"description\": \"\"\n      }\n    }\n  ]\n}"
            }
          },
          "metadata": {},
          "execution_count": 28
        }
      ]
    },
    {
      "cell_type": "markdown",
      "source": [
        "#**Data Reduction**"
      ],
      "metadata": {
        "id": "-cpKRs2cx3xF"
      }
    },
    {
      "cell_type": "markdown",
      "source": [
        "###**Pengecekakan baris yang datanya tidak valid**"
      ],
      "metadata": {
        "id": "zgqYa1BWyZEZ"
      }
    },
    {
      "cell_type": "code",
      "source": [
        "count_all_N = ((df['Medicine1'] == 'No') & (df['Medicine2'] == 'No') & (df['Medicine3'] == 'No')).sum()\n",
        "\n",
        "print(f\"Jumlah baris yang bernilai 'No' pada semua kolom Medicine1, Medicine2, and Medicine3: {count_all_N}\")"
      ],
      "metadata": {
        "colab": {
          "base_uri": "https://localhost:8080/"
        },
        "id": "DgImSW39ydLn",
        "outputId": "8b759347-7bb9-4322-8b5b-9d87b03ac59b"
      },
      "execution_count": null,
      "outputs": [
        {
          "output_type": "stream",
          "name": "stdout",
          "text": [
            "Jumlah baris yang bernilai 'No' pada semua kolom Medicine1, Medicine2, and Medicine3: 145\n"
          ]
        }
      ]
    },
    {
      "cell_type": "markdown",
      "source": [
        "###**Penghapusan baris**"
      ],
      "metadata": {
        "id": "W89HqLc8IZzY"
      }
    },
    {
      "cell_type": "markdown",
      "source": [
        "Baris yang kolom \"Medicine1\",\"Medicine2\" dan \"Medicine3\" bernilai \"No\" dapat dinyatakan tidak valid. Dikarenakan bagaimana bisa data tersebut masuk ke dataframe apabila sampel tidak ada yang mengonsumsi suplement. Maka dilakukan penghapusan baris."
      ],
      "metadata": {
        "id": "RraFWhoJX7ZP"
      }
    },
    {
      "cell_type": "code",
      "source": [
        "df = df[~((df['Medicine1'] == 'No') & (df['Medicine2'] == 'No') & (df['Medicine3'] == 'No'))]"
      ],
      "metadata": {
        "id": "8sFJNGgaIYvT"
      },
      "execution_count": null,
      "outputs": []
    },
    {
      "cell_type": "markdown",
      "source": [
        "###**Pengecekkan Ulang**"
      ],
      "metadata": {
        "id": "9Lx_NlpNIcjt"
      }
    },
    {
      "cell_type": "code",
      "source": [
        "count_all_N = ((df['Medicine1'] == 'No') & (df['Medicine2'] == 'No') & (df['Medicine3'] == 'No')).sum()\n",
        "\n",
        "print(f\"Jumlah baris yang bernilai 'No' pada semua kolom Medicine1, Medicine2, and Medicine3: {count_all_N}\")"
      ],
      "metadata": {
        "colab": {
          "base_uri": "https://localhost:8080/"
        },
        "id": "ii9u4e09If6Q",
        "outputId": "c686ff25-604e-4d6e-fd92-12f3d8c52ce8"
      },
      "execution_count": null,
      "outputs": [
        {
          "output_type": "stream",
          "name": "stdout",
          "text": [
            "Jumlah baris yang bernilai 'No' pada semua kolom Medicine1, Medicine2, and Medicine3: 0\n"
          ]
        }
      ]
    },
    {
      "cell_type": "markdown",
      "source": [
        "###**Mengurangi Fitur-Fitur yang Kurang Relevan**"
      ],
      "metadata": {
        "id": "HdDxjqIjx5vj"
      }
    },
    {
      "cell_type": "code",
      "source": [
        "df_corr = df.corr(numeric_only=True)\n",
        "px.imshow(df_corr)"
      ],
      "metadata": {
        "colab": {
          "base_uri": "https://localhost:8080/"
        },
        "id": "RblpcSrlChJR",
        "outputId": "d01a95fb-56ce-47de-aba5-025a2b3fd30d"
      },
      "execution_count": null,
      "outputs": [
        {
          "output_type": "display_data",
          "data": {
            "text/html": [
              "<html>\n",
              "<head><meta charset=\"utf-8\" /></head>\n",
              "<body>\n",
              "    <div>            <script src=\"https://cdnjs.cloudflare.com/ajax/libs/mathjax/2.7.5/MathJax.js?config=TeX-AMS-MML_SVG\"></script><script type=\"text/javascript\">if (window.MathJax && window.MathJax.Hub && window.MathJax.Hub.Config) {window.MathJax.Hub.Config({SVG: {font: \"STIX-Web\"}});}</script>                <script type=\"text/javascript\">window.PlotlyConfig = {MathJaxConfig: 'local'};</script>\n",
              "        <script charset=\"utf-8\" src=\"https://cdn.plot.ly/plotly-2.24.1.min.js\"></script>                <div id=\"5c46f901-3591-4c69-9251-73bc3b836837\" class=\"plotly-graph-div\" style=\"height:525px; width:100%;\"></div>            <script type=\"text/javascript\">                                    window.PLOTLYENV=window.PLOTLYENV || {};                                    if (document.getElementById(\"5c46f901-3591-4c69-9251-73bc3b836837\")) {                    Plotly.newPlot(                        \"5c46f901-3591-4c69-9251-73bc3b836837\",                        [{\"coloraxis\":\"coloraxis\",\"name\":\"0\",\"x\":[\"Age\",\"KmBefore\",\"KgBefore\",\"TimeBefore\",\"KmAfter\",\"KgAfter\",\"TimeAfter\"],\"y\":[\"Age\",\"KmBefore\",\"KgBefore\",\"TimeBefore\",\"KmAfter\",\"KgAfter\",\"TimeAfter\"],\"z\":[[1.0,0.054615040651651146,0.008995144928511146,-0.06154909769248293,0.012345925670720287,-0.02284069935126168,0.0015966176486854429],[0.054615040651651146,1.0,0.0036664022998107743,-0.030090604563753804,0.00907924583850486,-0.031791927706020864,-0.028124405433723437],[0.008995144928511146,0.0036664022998107743,1.0,0.06284739601033049,0.04688169481415446,0.04526407785526128,0.06047836284215514],[-0.06154909769248293,-0.030090604563753804,0.06284739601033049,1.0,-0.043607924696212996,-0.021827119593949465,0.045722080718571395],[0.012345925670720287,0.00907924583850486,0.04688169481415446,-0.043607924696212996,1.0,-0.04628307193864354,-0.055638921843104434],[-0.02284069935126168,-0.031791927706020864,0.04526407785526128,-0.021827119593949465,-0.04628307193864354,1.0,0.014212016318331078],[0.0015966176486854429,-0.028124405433723437,0.06047836284215514,0.045722080718571395,-0.055638921843104434,0.014212016318331078,1.0]],\"type\":\"heatmap\",\"xaxis\":\"x\",\"yaxis\":\"y\",\"hovertemplate\":\"x: %{x}\\u003cbr\\u003ey: %{y}\\u003cbr\\u003ecolor: %{z}\\u003cextra\\u003e\\u003c\\u002fextra\\u003e\"}],                        {\"template\":{\"data\":{\"histogram2dcontour\":[{\"type\":\"histogram2dcontour\",\"colorbar\":{\"outlinewidth\":0,\"ticks\":\"\"},\"colorscale\":[[0.0,\"#0d0887\"],[0.1111111111111111,\"#46039f\"],[0.2222222222222222,\"#7201a8\"],[0.3333333333333333,\"#9c179e\"],[0.4444444444444444,\"#bd3786\"],[0.5555555555555556,\"#d8576b\"],[0.6666666666666666,\"#ed7953\"],[0.7777777777777778,\"#fb9f3a\"],[0.8888888888888888,\"#fdca26\"],[1.0,\"#f0f921\"]]}],\"choropleth\":[{\"type\":\"choropleth\",\"colorbar\":{\"outlinewidth\":0,\"ticks\":\"\"}}],\"histogram2d\":[{\"type\":\"histogram2d\",\"colorbar\":{\"outlinewidth\":0,\"ticks\":\"\"},\"colorscale\":[[0.0,\"#0d0887\"],[0.1111111111111111,\"#46039f\"],[0.2222222222222222,\"#7201a8\"],[0.3333333333333333,\"#9c179e\"],[0.4444444444444444,\"#bd3786\"],[0.5555555555555556,\"#d8576b\"],[0.6666666666666666,\"#ed7953\"],[0.7777777777777778,\"#fb9f3a\"],[0.8888888888888888,\"#fdca26\"],[1.0,\"#f0f921\"]]}],\"heatmap\":[{\"type\":\"heatmap\",\"colorbar\":{\"outlinewidth\":0,\"ticks\":\"\"},\"colorscale\":[[0.0,\"#0d0887\"],[0.1111111111111111,\"#46039f\"],[0.2222222222222222,\"#7201a8\"],[0.3333333333333333,\"#9c179e\"],[0.4444444444444444,\"#bd3786\"],[0.5555555555555556,\"#d8576b\"],[0.6666666666666666,\"#ed7953\"],[0.7777777777777778,\"#fb9f3a\"],[0.8888888888888888,\"#fdca26\"],[1.0,\"#f0f921\"]]}],\"heatmapgl\":[{\"type\":\"heatmapgl\",\"colorbar\":{\"outlinewidth\":0,\"ticks\":\"\"},\"colorscale\":[[0.0,\"#0d0887\"],[0.1111111111111111,\"#46039f\"],[0.2222222222222222,\"#7201a8\"],[0.3333333333333333,\"#9c179e\"],[0.4444444444444444,\"#bd3786\"],[0.5555555555555556,\"#d8576b\"],[0.6666666666666666,\"#ed7953\"],[0.7777777777777778,\"#fb9f3a\"],[0.8888888888888888,\"#fdca26\"],[1.0,\"#f0f921\"]]}],\"contourcarpet\":[{\"type\":\"contourcarpet\",\"colorbar\":{\"outlinewidth\":0,\"ticks\":\"\"}}],\"contour\":[{\"type\":\"contour\",\"colorbar\":{\"outlinewidth\":0,\"ticks\":\"\"},\"colorscale\":[[0.0,\"#0d0887\"],[0.1111111111111111,\"#46039f\"],[0.2222222222222222,\"#7201a8\"],[0.3333333333333333,\"#9c179e\"],[0.4444444444444444,\"#bd3786\"],[0.5555555555555556,\"#d8576b\"],[0.6666666666666666,\"#ed7953\"],[0.7777777777777778,\"#fb9f3a\"],[0.8888888888888888,\"#fdca26\"],[1.0,\"#f0f921\"]]}],\"surface\":[{\"type\":\"surface\",\"colorbar\":{\"outlinewidth\":0,\"ticks\":\"\"},\"colorscale\":[[0.0,\"#0d0887\"],[0.1111111111111111,\"#46039f\"],[0.2222222222222222,\"#7201a8\"],[0.3333333333333333,\"#9c179e\"],[0.4444444444444444,\"#bd3786\"],[0.5555555555555556,\"#d8576b\"],[0.6666666666666666,\"#ed7953\"],[0.7777777777777778,\"#fb9f3a\"],[0.8888888888888888,\"#fdca26\"],[1.0,\"#f0f921\"]]}],\"mesh3d\":[{\"type\":\"mesh3d\",\"colorbar\":{\"outlinewidth\":0,\"ticks\":\"\"}}],\"scatter\":[{\"fillpattern\":{\"fillmode\":\"overlay\",\"size\":10,\"solidity\":0.2},\"type\":\"scatter\"}],\"parcoords\":[{\"type\":\"parcoords\",\"line\":{\"colorbar\":{\"outlinewidth\":0,\"ticks\":\"\"}}}],\"scatterpolargl\":[{\"type\":\"scatterpolargl\",\"marker\":{\"colorbar\":{\"outlinewidth\":0,\"ticks\":\"\"}}}],\"bar\":[{\"error_x\":{\"color\":\"#2a3f5f\"},\"error_y\":{\"color\":\"#2a3f5f\"},\"marker\":{\"line\":{\"color\":\"#E5ECF6\",\"width\":0.5},\"pattern\":{\"fillmode\":\"overlay\",\"size\":10,\"solidity\":0.2}},\"type\":\"bar\"}],\"scattergeo\":[{\"type\":\"scattergeo\",\"marker\":{\"colorbar\":{\"outlinewidth\":0,\"ticks\":\"\"}}}],\"scatterpolar\":[{\"type\":\"scatterpolar\",\"marker\":{\"colorbar\":{\"outlinewidth\":0,\"ticks\":\"\"}}}],\"histogram\":[{\"marker\":{\"pattern\":{\"fillmode\":\"overlay\",\"size\":10,\"solidity\":0.2}},\"type\":\"histogram\"}],\"scattergl\":[{\"type\":\"scattergl\",\"marker\":{\"colorbar\":{\"outlinewidth\":0,\"ticks\":\"\"}}}],\"scatter3d\":[{\"type\":\"scatter3d\",\"line\":{\"colorbar\":{\"outlinewidth\":0,\"ticks\":\"\"}},\"marker\":{\"colorbar\":{\"outlinewidth\":0,\"ticks\":\"\"}}}],\"scattermapbox\":[{\"type\":\"scattermapbox\",\"marker\":{\"colorbar\":{\"outlinewidth\":0,\"ticks\":\"\"}}}],\"scatterternary\":[{\"type\":\"scatterternary\",\"marker\":{\"colorbar\":{\"outlinewidth\":0,\"ticks\":\"\"}}}],\"scattercarpet\":[{\"type\":\"scattercarpet\",\"marker\":{\"colorbar\":{\"outlinewidth\":0,\"ticks\":\"\"}}}],\"carpet\":[{\"aaxis\":{\"endlinecolor\":\"#2a3f5f\",\"gridcolor\":\"white\",\"linecolor\":\"white\",\"minorgridcolor\":\"white\",\"startlinecolor\":\"#2a3f5f\"},\"baxis\":{\"endlinecolor\":\"#2a3f5f\",\"gridcolor\":\"white\",\"linecolor\":\"white\",\"minorgridcolor\":\"white\",\"startlinecolor\":\"#2a3f5f\"},\"type\":\"carpet\"}],\"table\":[{\"cells\":{\"fill\":{\"color\":\"#EBF0F8\"},\"line\":{\"color\":\"white\"}},\"header\":{\"fill\":{\"color\":\"#C8D4E3\"},\"line\":{\"color\":\"white\"}},\"type\":\"table\"}],\"barpolar\":[{\"marker\":{\"line\":{\"color\":\"#E5ECF6\",\"width\":0.5},\"pattern\":{\"fillmode\":\"overlay\",\"size\":10,\"solidity\":0.2}},\"type\":\"barpolar\"}],\"pie\":[{\"automargin\":true,\"type\":\"pie\"}]},\"layout\":{\"autotypenumbers\":\"strict\",\"colorway\":[\"#636efa\",\"#EF553B\",\"#00cc96\",\"#ab63fa\",\"#FFA15A\",\"#19d3f3\",\"#FF6692\",\"#B6E880\",\"#FF97FF\",\"#FECB52\"],\"font\":{\"color\":\"#2a3f5f\"},\"hovermode\":\"closest\",\"hoverlabel\":{\"align\":\"left\"},\"paper_bgcolor\":\"white\",\"plot_bgcolor\":\"#E5ECF6\",\"polar\":{\"bgcolor\":\"#E5ECF6\",\"angularaxis\":{\"gridcolor\":\"white\",\"linecolor\":\"white\",\"ticks\":\"\"},\"radialaxis\":{\"gridcolor\":\"white\",\"linecolor\":\"white\",\"ticks\":\"\"}},\"ternary\":{\"bgcolor\":\"#E5ECF6\",\"aaxis\":{\"gridcolor\":\"white\",\"linecolor\":\"white\",\"ticks\":\"\"},\"baxis\":{\"gridcolor\":\"white\",\"linecolor\":\"white\",\"ticks\":\"\"},\"caxis\":{\"gridcolor\":\"white\",\"linecolor\":\"white\",\"ticks\":\"\"}},\"coloraxis\":{\"colorbar\":{\"outlinewidth\":0,\"ticks\":\"\"}},\"colorscale\":{\"sequential\":[[0.0,\"#0d0887\"],[0.1111111111111111,\"#46039f\"],[0.2222222222222222,\"#7201a8\"],[0.3333333333333333,\"#9c179e\"],[0.4444444444444444,\"#bd3786\"],[0.5555555555555556,\"#d8576b\"],[0.6666666666666666,\"#ed7953\"],[0.7777777777777778,\"#fb9f3a\"],[0.8888888888888888,\"#fdca26\"],[1.0,\"#f0f921\"]],\"sequentialminus\":[[0.0,\"#0d0887\"],[0.1111111111111111,\"#46039f\"],[0.2222222222222222,\"#7201a8\"],[0.3333333333333333,\"#9c179e\"],[0.4444444444444444,\"#bd3786\"],[0.5555555555555556,\"#d8576b\"],[0.6666666666666666,\"#ed7953\"],[0.7777777777777778,\"#fb9f3a\"],[0.8888888888888888,\"#fdca26\"],[1.0,\"#f0f921\"]],\"diverging\":[[0,\"#8e0152\"],[0.1,\"#c51b7d\"],[0.2,\"#de77ae\"],[0.3,\"#f1b6da\"],[0.4,\"#fde0ef\"],[0.5,\"#f7f7f7\"],[0.6,\"#e6f5d0\"],[0.7,\"#b8e186\"],[0.8,\"#7fbc41\"],[0.9,\"#4d9221\"],[1,\"#276419\"]]},\"xaxis\":{\"gridcolor\":\"white\",\"linecolor\":\"white\",\"ticks\":\"\",\"title\":{\"standoff\":15},\"zerolinecolor\":\"white\",\"automargin\":true,\"zerolinewidth\":2},\"yaxis\":{\"gridcolor\":\"white\",\"linecolor\":\"white\",\"ticks\":\"\",\"title\":{\"standoff\":15},\"zerolinecolor\":\"white\",\"automargin\":true,\"zerolinewidth\":2},\"scene\":{\"xaxis\":{\"backgroundcolor\":\"#E5ECF6\",\"gridcolor\":\"white\",\"linecolor\":\"white\",\"showbackground\":true,\"ticks\":\"\",\"zerolinecolor\":\"white\",\"gridwidth\":2},\"yaxis\":{\"backgroundcolor\":\"#E5ECF6\",\"gridcolor\":\"white\",\"linecolor\":\"white\",\"showbackground\":true,\"ticks\":\"\",\"zerolinecolor\":\"white\",\"gridwidth\":2},\"zaxis\":{\"backgroundcolor\":\"#E5ECF6\",\"gridcolor\":\"white\",\"linecolor\":\"white\",\"showbackground\":true,\"ticks\":\"\",\"zerolinecolor\":\"white\",\"gridwidth\":2}},\"shapedefaults\":{\"line\":{\"color\":\"#2a3f5f\"}},\"annotationdefaults\":{\"arrowcolor\":\"#2a3f5f\",\"arrowhead\":0,\"arrowwidth\":1},\"geo\":{\"bgcolor\":\"white\",\"landcolor\":\"#E5ECF6\",\"subunitcolor\":\"white\",\"showland\":true,\"showlakes\":true,\"lakecolor\":\"white\"},\"title\":{\"x\":0.05},\"mapbox\":{\"style\":\"light\"}}},\"xaxis\":{\"anchor\":\"y\",\"domain\":[0.0,1.0],\"scaleanchor\":\"y\",\"constrain\":\"domain\"},\"yaxis\":{\"anchor\":\"x\",\"domain\":[0.0,1.0],\"autorange\":\"reversed\",\"constrain\":\"domain\"},\"coloraxis\":{\"colorscale\":[[0.0,\"#0d0887\"],[0.1111111111111111,\"#46039f\"],[0.2222222222222222,\"#7201a8\"],[0.3333333333333333,\"#9c179e\"],[0.4444444444444444,\"#bd3786\"],[0.5555555555555556,\"#d8576b\"],[0.6666666666666666,\"#ed7953\"],[0.7777777777777778,\"#fb9f3a\"],[0.8888888888888888,\"#fdca26\"],[1.0,\"#f0f921\"]]},\"margin\":{\"t\":60}},                        {\"responsive\": true}                    ).then(function(){\n",
              "                            \n",
              "var gd = document.getElementById('5c46f901-3591-4c69-9251-73bc3b836837');\n",
              "var x = new MutationObserver(function (mutations, observer) {{\n",
              "        var display = window.getComputedStyle(gd).display;\n",
              "        if (!display || display === 'none') {{\n",
              "            console.log([gd, 'removed!']);\n",
              "            Plotly.purge(gd);\n",
              "            observer.disconnect();\n",
              "        }}\n",
              "}});\n",
              "\n",
              "// Listen for the removal of the full notebook cells\n",
              "var notebookContainer = gd.closest('#notebook-container');\n",
              "if (notebookContainer) {{\n",
              "    x.observe(notebookContainer, {childList: true});\n",
              "}}\n",
              "\n",
              "// Listen for the clearing of the current output cell\n",
              "var outputEl = gd.closest('.output');\n",
              "if (outputEl) {{\n",
              "    x.observe(outputEl, {childList: true});\n",
              "}}\n",
              "\n",
              "                        })                };                            </script>        </div>\n",
              "</body>\n",
              "</html>"
            ]
          },
          "metadata": {}
        }
      ]
    },
    {
      "cell_type": "markdown",
      "source": [],
      "metadata": {
        "id": "slPHSoh1IrqD"
      }
    },
    {
      "cell_type": "code",
      "source": [
        "df=df.drop(['Age','Medicine1','Medicine2','Medicine3','SideEffects','quarter','AgeCategory'],axis=1)"
      ],
      "metadata": {
        "id": "wPh8uuFlx9Vy"
      },
      "execution_count": null,
      "outputs": []
    },
    {
      "cell_type": "markdown",
      "source": [
        "Menghapus kolom 'Age','Medicine1','Medicine2','Medicine3','SideEffects','quarter','AgeCategory'. Dikarenakan kolom ini tidak relevan untuk langkah analisis data selanjutnya. Mengingat analisis ini fokus kepada tinjauan jenis kelamin pada pengaruh tubuh."
      ],
      "metadata": {
        "id": "eZU97znqX-2H"
      }
    },
    {
      "cell_type": "markdown",
      "source": [
        "###**Pengecekkan Hasil**"
      ],
      "metadata": {
        "id": "U7d8pHrTJuht"
      }
    },
    {
      "cell_type": "code",
      "source": [
        "df.head()"
      ],
      "metadata": {
        "colab": {
          "base_uri": "https://localhost:8080/"
        },
        "id": "XqO0ophQ0Uwo",
        "outputId": "0d5c5b5c-3e51-4155-b014-f3bcb1ec09a9"
      },
      "execution_count": null,
      "outputs": [
        {
          "output_type": "execute_result",
          "data": {
            "text/plain": [
              "  Gender  KmBefore  KgBefore  TimeBefore  KmAfter  KgAfter  TimeAfter\n",
              "1      M      3.96      76.3        43.9     3.09     89.6       69.7\n",
              "2      M      3.80      91.7        47.9     6.26     92.7       49.8\n",
              "4      F      3.72      77.0        54.9     7.80     91.7       60.7\n",
              "5      M      5.31      93.9        50.6     5.67     87.8       67.9\n",
              "6      F      3.18      75.5        54.4     5.50     95.5       57.8"
            ],
            "text/html": [
              "\n",
              "  <div id=\"df-05a4dde9-52a7-4379-ab0d-daae489ba75d\" class=\"colab-df-container\">\n",
              "    <div>\n",
              "<style scoped>\n",
              "    .dataframe tbody tr th:only-of-type {\n",
              "        vertical-align: middle;\n",
              "    }\n",
              "\n",
              "    .dataframe tbody tr th {\n",
              "        vertical-align: top;\n",
              "    }\n",
              "\n",
              "    .dataframe thead th {\n",
              "        text-align: right;\n",
              "    }\n",
              "</style>\n",
              "<table border=\"1\" class=\"dataframe\">\n",
              "  <thead>\n",
              "    <tr style=\"text-align: right;\">\n",
              "      <th></th>\n",
              "      <th>Gender</th>\n",
              "      <th>KmBefore</th>\n",
              "      <th>KgBefore</th>\n",
              "      <th>TimeBefore</th>\n",
              "      <th>KmAfter</th>\n",
              "      <th>KgAfter</th>\n",
              "      <th>TimeAfter</th>\n",
              "    </tr>\n",
              "  </thead>\n",
              "  <tbody>\n",
              "    <tr>\n",
              "      <th>1</th>\n",
              "      <td>M</td>\n",
              "      <td>3.96</td>\n",
              "      <td>76.3</td>\n",
              "      <td>43.9</td>\n",
              "      <td>3.09</td>\n",
              "      <td>89.6</td>\n",
              "      <td>69.7</td>\n",
              "    </tr>\n",
              "    <tr>\n",
              "      <th>2</th>\n",
              "      <td>M</td>\n",
              "      <td>3.80</td>\n",
              "      <td>91.7</td>\n",
              "      <td>47.9</td>\n",
              "      <td>6.26</td>\n",
              "      <td>92.7</td>\n",
              "      <td>49.8</td>\n",
              "    </tr>\n",
              "    <tr>\n",
              "      <th>4</th>\n",
              "      <td>F</td>\n",
              "      <td>3.72</td>\n",
              "      <td>77.0</td>\n",
              "      <td>54.9</td>\n",
              "      <td>7.80</td>\n",
              "      <td>91.7</td>\n",
              "      <td>60.7</td>\n",
              "    </tr>\n",
              "    <tr>\n",
              "      <th>5</th>\n",
              "      <td>M</td>\n",
              "      <td>5.31</td>\n",
              "      <td>93.9</td>\n",
              "      <td>50.6</td>\n",
              "      <td>5.67</td>\n",
              "      <td>87.8</td>\n",
              "      <td>67.9</td>\n",
              "    </tr>\n",
              "    <tr>\n",
              "      <th>6</th>\n",
              "      <td>F</td>\n",
              "      <td>3.18</td>\n",
              "      <td>75.5</td>\n",
              "      <td>54.4</td>\n",
              "      <td>5.50</td>\n",
              "      <td>95.5</td>\n",
              "      <td>57.8</td>\n",
              "    </tr>\n",
              "  </tbody>\n",
              "</table>\n",
              "</div>\n",
              "    <div class=\"colab-df-buttons\">\n",
              "\n",
              "  <div class=\"colab-df-container\">\n",
              "    <button class=\"colab-df-convert\" onclick=\"convertToInteractive('df-05a4dde9-52a7-4379-ab0d-daae489ba75d')\"\n",
              "            title=\"Convert this dataframe to an interactive table.\"\n",
              "            style=\"display:none;\">\n",
              "\n",
              "  <svg xmlns=\"http://www.w3.org/2000/svg\" height=\"24px\" viewBox=\"0 -960 960 960\">\n",
              "    <path d=\"M120-120v-720h720v720H120Zm60-500h600v-160H180v160Zm220 220h160v-160H400v160Zm0 220h160v-160H400v160ZM180-400h160v-160H180v160Zm440 0h160v-160H620v160ZM180-180h160v-160H180v160Zm440 0h160v-160H620v160Z\"/>\n",
              "  </svg>\n",
              "    </button>\n",
              "\n",
              "  <style>\n",
              "    .colab-df-container {\n",
              "      display:flex;\n",
              "      gap: 12px;\n",
              "    }\n",
              "\n",
              "    .colab-df-convert {\n",
              "      background-color: #E8F0FE;\n",
              "      border: none;\n",
              "      border-radius: 50%;\n",
              "      cursor: pointer;\n",
              "      display: none;\n",
              "      fill: #1967D2;\n",
              "      height: 32px;\n",
              "      padding: 0 0 0 0;\n",
              "      width: 32px;\n",
              "    }\n",
              "\n",
              "    .colab-df-convert:hover {\n",
              "      background-color: #E2EBFA;\n",
              "      box-shadow: 0px 1px 2px rgba(60, 64, 67, 0.3), 0px 1px 3px 1px rgba(60, 64, 67, 0.15);\n",
              "      fill: #174EA6;\n",
              "    }\n",
              "\n",
              "    .colab-df-buttons div {\n",
              "      margin-bottom: 4px;\n",
              "    }\n",
              "\n",
              "    [theme=dark] .colab-df-convert {\n",
              "      background-color: #3B4455;\n",
              "      fill: #D2E3FC;\n",
              "    }\n",
              "\n",
              "    [theme=dark] .colab-df-convert:hover {\n",
              "      background-color: #434B5C;\n",
              "      box-shadow: 0px 1px 3px 1px rgba(0, 0, 0, 0.15);\n",
              "      filter: drop-shadow(0px 1px 2px rgba(0, 0, 0, 0.3));\n",
              "      fill: #FFFFFF;\n",
              "    }\n",
              "  </style>\n",
              "\n",
              "    <script>\n",
              "      const buttonEl =\n",
              "        document.querySelector('#df-05a4dde9-52a7-4379-ab0d-daae489ba75d button.colab-df-convert');\n",
              "      buttonEl.style.display =\n",
              "        google.colab.kernel.accessAllowed ? 'block' : 'none';\n",
              "\n",
              "      async function convertToInteractive(key) {\n",
              "        const element = document.querySelector('#df-05a4dde9-52a7-4379-ab0d-daae489ba75d');\n",
              "        const dataTable =\n",
              "          await google.colab.kernel.invokeFunction('convertToInteractive',\n",
              "                                                    [key], {});\n",
              "        if (!dataTable) return;\n",
              "\n",
              "        const docLinkHtml = 'Like what you see? Visit the ' +\n",
              "          '<a target=\"_blank\" href=https://colab.research.google.com/notebooks/data_table.ipynb>data table notebook</a>'\n",
              "          + ' to learn more about interactive tables.';\n",
              "        element.innerHTML = '';\n",
              "        dataTable['output_type'] = 'display_data';\n",
              "        await google.colab.output.renderOutput(dataTable, element);\n",
              "        const docLink = document.createElement('div');\n",
              "        docLink.innerHTML = docLinkHtml;\n",
              "        element.appendChild(docLink);\n",
              "      }\n",
              "    </script>\n",
              "  </div>\n",
              "\n",
              "\n",
              "<div id=\"df-8a18c705-642f-4d97-afa0-b56cefef2fa5\">\n",
              "  <button class=\"colab-df-quickchart\" onclick=\"quickchart('df-8a18c705-642f-4d97-afa0-b56cefef2fa5')\"\n",
              "            title=\"Suggest charts\"\n",
              "            style=\"display:none;\">\n",
              "\n",
              "<svg xmlns=\"http://www.w3.org/2000/svg\" height=\"24px\"viewBox=\"0 0 24 24\"\n",
              "     width=\"24px\">\n",
              "    <g>\n",
              "        <path d=\"M19 3H5c-1.1 0-2 .9-2 2v14c0 1.1.9 2 2 2h14c1.1 0 2-.9 2-2V5c0-1.1-.9-2-2-2zM9 17H7v-7h2v7zm4 0h-2V7h2v10zm4 0h-2v-4h2v4z\"/>\n",
              "    </g>\n",
              "</svg>\n",
              "  </button>\n",
              "\n",
              "<style>\n",
              "  .colab-df-quickchart {\n",
              "      --bg-color: #E8F0FE;\n",
              "      --fill-color: #1967D2;\n",
              "      --hover-bg-color: #E2EBFA;\n",
              "      --hover-fill-color: #174EA6;\n",
              "      --disabled-fill-color: #AAA;\n",
              "      --disabled-bg-color: #DDD;\n",
              "  }\n",
              "\n",
              "  [theme=dark] .colab-df-quickchart {\n",
              "      --bg-color: #3B4455;\n",
              "      --fill-color: #D2E3FC;\n",
              "      --hover-bg-color: #434B5C;\n",
              "      --hover-fill-color: #FFFFFF;\n",
              "      --disabled-bg-color: #3B4455;\n",
              "      --disabled-fill-color: #666;\n",
              "  }\n",
              "\n",
              "  .colab-df-quickchart {\n",
              "    background-color: var(--bg-color);\n",
              "    border: none;\n",
              "    border-radius: 50%;\n",
              "    cursor: pointer;\n",
              "    display: none;\n",
              "    fill: var(--fill-color);\n",
              "    height: 32px;\n",
              "    padding: 0;\n",
              "    width: 32px;\n",
              "  }\n",
              "\n",
              "  .colab-df-quickchart:hover {\n",
              "    background-color: var(--hover-bg-color);\n",
              "    box-shadow: 0 1px 2px rgba(60, 64, 67, 0.3), 0 1px 3px 1px rgba(60, 64, 67, 0.15);\n",
              "    fill: var(--button-hover-fill-color);\n",
              "  }\n",
              "\n",
              "  .colab-df-quickchart-complete:disabled,\n",
              "  .colab-df-quickchart-complete:disabled:hover {\n",
              "    background-color: var(--disabled-bg-color);\n",
              "    fill: var(--disabled-fill-color);\n",
              "    box-shadow: none;\n",
              "  }\n",
              "\n",
              "  .colab-df-spinner {\n",
              "    border: 2px solid var(--fill-color);\n",
              "    border-color: transparent;\n",
              "    border-bottom-color: var(--fill-color);\n",
              "    animation:\n",
              "      spin 1s steps(1) infinite;\n",
              "  }\n",
              "\n",
              "  @keyframes spin {\n",
              "    0% {\n",
              "      border-color: transparent;\n",
              "      border-bottom-color: var(--fill-color);\n",
              "      border-left-color: var(--fill-color);\n",
              "    }\n",
              "    20% {\n",
              "      border-color: transparent;\n",
              "      border-left-color: var(--fill-color);\n",
              "      border-top-color: var(--fill-color);\n",
              "    }\n",
              "    30% {\n",
              "      border-color: transparent;\n",
              "      border-left-color: var(--fill-color);\n",
              "      border-top-color: var(--fill-color);\n",
              "      border-right-color: var(--fill-color);\n",
              "    }\n",
              "    40% {\n",
              "      border-color: transparent;\n",
              "      border-right-color: var(--fill-color);\n",
              "      border-top-color: var(--fill-color);\n",
              "    }\n",
              "    60% {\n",
              "      border-color: transparent;\n",
              "      border-right-color: var(--fill-color);\n",
              "    }\n",
              "    80% {\n",
              "      border-color: transparent;\n",
              "      border-right-color: var(--fill-color);\n",
              "      border-bottom-color: var(--fill-color);\n",
              "    }\n",
              "    90% {\n",
              "      border-color: transparent;\n",
              "      border-bottom-color: var(--fill-color);\n",
              "    }\n",
              "  }\n",
              "</style>\n",
              "\n",
              "  <script>\n",
              "    async function quickchart(key) {\n",
              "      const quickchartButtonEl =\n",
              "        document.querySelector('#' + key + ' button');\n",
              "      quickchartButtonEl.disabled = true;  // To prevent multiple clicks.\n",
              "      quickchartButtonEl.classList.add('colab-df-spinner');\n",
              "      try {\n",
              "        const charts = await google.colab.kernel.invokeFunction(\n",
              "            'suggestCharts', [key], {});\n",
              "      } catch (error) {\n",
              "        console.error('Error during call to suggestCharts:', error);\n",
              "      }\n",
              "      quickchartButtonEl.classList.remove('colab-df-spinner');\n",
              "      quickchartButtonEl.classList.add('colab-df-quickchart-complete');\n",
              "    }\n",
              "    (() => {\n",
              "      let quickchartButtonEl =\n",
              "        document.querySelector('#df-8a18c705-642f-4d97-afa0-b56cefef2fa5 button');\n",
              "      quickchartButtonEl.style.display =\n",
              "        google.colab.kernel.accessAllowed ? 'block' : 'none';\n",
              "    })();\n",
              "  </script>\n",
              "</div>\n",
              "    </div>\n",
              "  </div>\n"
            ],
            "application/vnd.google.colaboratory.intrinsic+json": {
              "type": "dataframe",
              "variable_name": "df",
              "summary": "{\n  \"name\": \"df\",\n  \"rows\": 811,\n  \"fields\": [\n    {\n      \"column\": \"Gender\",\n      \"properties\": {\n        \"dtype\": \"category\",\n        \"num_unique_values\": 2,\n        \"samples\": [\n          \"F\",\n          \"M\"\n        ],\n        \"semantic_type\": \"\",\n        \"description\": \"\"\n      }\n    },\n    {\n      \"column\": \"KmBefore\",\n      \"properties\": {\n        \"dtype\": \"number\",\n        \"std\": 0.7535384662520407,\n        \"min\": 1.99,\n        \"max\": 6.12,\n        \"num_unique_values\": 290,\n        \"samples\": [\n          3.84,\n          3.81\n        ],\n        \"semantic_type\": \"\",\n        \"description\": \"\"\n      }\n    },\n    {\n      \"column\": \"KgBefore\",\n      \"properties\": {\n        \"dtype\": \"number\",\n        \"std\": 8.974591524041493,\n        \"min\": 56.3,\n        \"max\": 105.0,\n        \"num_unique_values\": 334,\n        \"samples\": [\n          75.4,\n          89.2\n        ],\n        \"semantic_type\": \"\",\n        \"description\": \"\"\n      }\n    },\n    {\n      \"column\": \"TimeBefore\",\n      \"properties\": {\n        \"dtype\": \"number\",\n        \"std\": 9.695761580980443,\n        \"min\": 19.1,\n        \"max\": 71.0,\n        \"num_unique_values\": 354,\n        \"samples\": [\n          67.7,\n          29.4\n        ],\n        \"semantic_type\": \"\",\n        \"description\": \"\"\n      }\n    },\n    {\n      \"column\": \"KmAfter\",\n      \"properties\": {\n        \"dtype\": \"number\",\n        \"std\": 1.415511915434611,\n        \"min\": 1.2,\n        \"max\": 8.53,\n        \"num_unique_values\": 431,\n        \"samples\": [\n          6.21,\n          3.01\n        ],\n        \"semantic_type\": \"\",\n        \"description\": \"\"\n      }\n    },\n    {\n      \"column\": \"KgAfter\",\n      \"properties\": {\n        \"dtype\": \"number\",\n        \"std\": 2.8633239447226004,\n        \"min\": 82.8,\n        \"max\": 97.7,\n        \"num_unique_values\": 136,\n        \"samples\": [\n          85.7,\n          92.5\n        ],\n        \"semantic_type\": \"\",\n        \"description\": \"\"\n      }\n    },\n    {\n      \"column\": \"TimeAfter\",\n      \"properties\": {\n        \"dtype\": \"number\",\n        \"std\": 4.890060917067647,\n        \"min\": 46.6,\n        \"max\": 73.1,\n        \"num_unique_values\": 213,\n        \"samples\": [\n          59.2,\n          66.8\n        ],\n        \"semantic_type\": \"\",\n        \"description\": \"\"\n      }\n    }\n  ]\n}"
            }
          },
          "metadata": {},
          "execution_count": 34
        }
      ]
    },
    {
      "cell_type": "markdown",
      "source": [
        "##**Data Transformation**"
      ],
      "metadata": {
        "id": "_WGN-sOp0Yt5"
      }
    },
    {
      "cell_type": "markdown",
      "source": [
        "###**Mapping**"
      ],
      "metadata": {
        "id": "fZMEVAdJ0a-9"
      }
    },
    {
      "cell_type": "code",
      "source": [
        "df['Gender'] = df['Gender'].map({'M':1,'F':0})"
      ],
      "metadata": {
        "id": "BTN2ZB6GJzE1"
      },
      "execution_count": null,
      "outputs": []
    },
    {
      "cell_type": "markdown",
      "source": [
        "Kode diatas merupakan proses dari mapping untuk mengubah nilai pada kolom Gender yang bernilai M (laki-laki) menjadi 1 dan F (Perempuan) menjadi 0."
      ],
      "metadata": {
        "id": "7jRyPEFeKegE"
      }
    },
    {
      "cell_type": "markdown",
      "source": [
        "###**Pengecekkan Hasil**"
      ],
      "metadata": {
        "id": "w5lvzxusKnAj"
      }
    },
    {
      "cell_type": "code",
      "source": [
        "df.head()"
      ],
      "metadata": {
        "colab": {
          "base_uri": "https://localhost:8080/"
        },
        "id": "A9PZuCY9Ko2C",
        "outputId": "5239db17-d870-4b0f-fdb7-9878cc0d53d8"
      },
      "execution_count": null,
      "outputs": [
        {
          "output_type": "execute_result",
          "data": {
            "text/plain": [
              "   Gender  KmBefore  KgBefore  TimeBefore  KmAfter  KgAfter  TimeAfter\n",
              "1       1      3.96      76.3        43.9     3.09     89.6       69.7\n",
              "2       1      3.80      91.7        47.9     6.26     92.7       49.8\n",
              "4       0      3.72      77.0        54.9     7.80     91.7       60.7\n",
              "5       1      5.31      93.9        50.6     5.67     87.8       67.9\n",
              "6       0      3.18      75.5        54.4     5.50     95.5       57.8"
            ],
            "text/html": [
              "\n",
              "  <div id=\"df-102ab7b0-8ef6-4ea5-9e06-59cb6a154862\" class=\"colab-df-container\">\n",
              "    <div>\n",
              "<style scoped>\n",
              "    .dataframe tbody tr th:only-of-type {\n",
              "        vertical-align: middle;\n",
              "    }\n",
              "\n",
              "    .dataframe tbody tr th {\n",
              "        vertical-align: top;\n",
              "    }\n",
              "\n",
              "    .dataframe thead th {\n",
              "        text-align: right;\n",
              "    }\n",
              "</style>\n",
              "<table border=\"1\" class=\"dataframe\">\n",
              "  <thead>\n",
              "    <tr style=\"text-align: right;\">\n",
              "      <th></th>\n",
              "      <th>Gender</th>\n",
              "      <th>KmBefore</th>\n",
              "      <th>KgBefore</th>\n",
              "      <th>TimeBefore</th>\n",
              "      <th>KmAfter</th>\n",
              "      <th>KgAfter</th>\n",
              "      <th>TimeAfter</th>\n",
              "    </tr>\n",
              "  </thead>\n",
              "  <tbody>\n",
              "    <tr>\n",
              "      <th>1</th>\n",
              "      <td>1</td>\n",
              "      <td>3.96</td>\n",
              "      <td>76.3</td>\n",
              "      <td>43.9</td>\n",
              "      <td>3.09</td>\n",
              "      <td>89.6</td>\n",
              "      <td>69.7</td>\n",
              "    </tr>\n",
              "    <tr>\n",
              "      <th>2</th>\n",
              "      <td>1</td>\n",
              "      <td>3.80</td>\n",
              "      <td>91.7</td>\n",
              "      <td>47.9</td>\n",
              "      <td>6.26</td>\n",
              "      <td>92.7</td>\n",
              "      <td>49.8</td>\n",
              "    </tr>\n",
              "    <tr>\n",
              "      <th>4</th>\n",
              "      <td>0</td>\n",
              "      <td>3.72</td>\n",
              "      <td>77.0</td>\n",
              "      <td>54.9</td>\n",
              "      <td>7.80</td>\n",
              "      <td>91.7</td>\n",
              "      <td>60.7</td>\n",
              "    </tr>\n",
              "    <tr>\n",
              "      <th>5</th>\n",
              "      <td>1</td>\n",
              "      <td>5.31</td>\n",
              "      <td>93.9</td>\n",
              "      <td>50.6</td>\n",
              "      <td>5.67</td>\n",
              "      <td>87.8</td>\n",
              "      <td>67.9</td>\n",
              "    </tr>\n",
              "    <tr>\n",
              "      <th>6</th>\n",
              "      <td>0</td>\n",
              "      <td>3.18</td>\n",
              "      <td>75.5</td>\n",
              "      <td>54.4</td>\n",
              "      <td>5.50</td>\n",
              "      <td>95.5</td>\n",
              "      <td>57.8</td>\n",
              "    </tr>\n",
              "  </tbody>\n",
              "</table>\n",
              "</div>\n",
              "    <div class=\"colab-df-buttons\">\n",
              "\n",
              "  <div class=\"colab-df-container\">\n",
              "    <button class=\"colab-df-convert\" onclick=\"convertToInteractive('df-102ab7b0-8ef6-4ea5-9e06-59cb6a154862')\"\n",
              "            title=\"Convert this dataframe to an interactive table.\"\n",
              "            style=\"display:none;\">\n",
              "\n",
              "  <svg xmlns=\"http://www.w3.org/2000/svg\" height=\"24px\" viewBox=\"0 -960 960 960\">\n",
              "    <path d=\"M120-120v-720h720v720H120Zm60-500h600v-160H180v160Zm220 220h160v-160H400v160Zm0 220h160v-160H400v160ZM180-400h160v-160H180v160Zm440 0h160v-160H620v160ZM180-180h160v-160H180v160Zm440 0h160v-160H620v160Z\"/>\n",
              "  </svg>\n",
              "    </button>\n",
              "\n",
              "  <style>\n",
              "    .colab-df-container {\n",
              "      display:flex;\n",
              "      gap: 12px;\n",
              "    }\n",
              "\n",
              "    .colab-df-convert {\n",
              "      background-color: #E8F0FE;\n",
              "      border: none;\n",
              "      border-radius: 50%;\n",
              "      cursor: pointer;\n",
              "      display: none;\n",
              "      fill: #1967D2;\n",
              "      height: 32px;\n",
              "      padding: 0 0 0 0;\n",
              "      width: 32px;\n",
              "    }\n",
              "\n",
              "    .colab-df-convert:hover {\n",
              "      background-color: #E2EBFA;\n",
              "      box-shadow: 0px 1px 2px rgba(60, 64, 67, 0.3), 0px 1px 3px 1px rgba(60, 64, 67, 0.15);\n",
              "      fill: #174EA6;\n",
              "    }\n",
              "\n",
              "    .colab-df-buttons div {\n",
              "      margin-bottom: 4px;\n",
              "    }\n",
              "\n",
              "    [theme=dark] .colab-df-convert {\n",
              "      background-color: #3B4455;\n",
              "      fill: #D2E3FC;\n",
              "    }\n",
              "\n",
              "    [theme=dark] .colab-df-convert:hover {\n",
              "      background-color: #434B5C;\n",
              "      box-shadow: 0px 1px 3px 1px rgba(0, 0, 0, 0.15);\n",
              "      filter: drop-shadow(0px 1px 2px rgba(0, 0, 0, 0.3));\n",
              "      fill: #FFFFFF;\n",
              "    }\n",
              "  </style>\n",
              "\n",
              "    <script>\n",
              "      const buttonEl =\n",
              "        document.querySelector('#df-102ab7b0-8ef6-4ea5-9e06-59cb6a154862 button.colab-df-convert');\n",
              "      buttonEl.style.display =\n",
              "        google.colab.kernel.accessAllowed ? 'block' : 'none';\n",
              "\n",
              "      async function convertToInteractive(key) {\n",
              "        const element = document.querySelector('#df-102ab7b0-8ef6-4ea5-9e06-59cb6a154862');\n",
              "        const dataTable =\n",
              "          await google.colab.kernel.invokeFunction('convertToInteractive',\n",
              "                                                    [key], {});\n",
              "        if (!dataTable) return;\n",
              "\n",
              "        const docLinkHtml = 'Like what you see? Visit the ' +\n",
              "          '<a target=\"_blank\" href=https://colab.research.google.com/notebooks/data_table.ipynb>data table notebook</a>'\n",
              "          + ' to learn more about interactive tables.';\n",
              "        element.innerHTML = '';\n",
              "        dataTable['output_type'] = 'display_data';\n",
              "        await google.colab.output.renderOutput(dataTable, element);\n",
              "        const docLink = document.createElement('div');\n",
              "        docLink.innerHTML = docLinkHtml;\n",
              "        element.appendChild(docLink);\n",
              "      }\n",
              "    </script>\n",
              "  </div>\n",
              "\n",
              "\n",
              "<div id=\"df-ea0479ae-1c5c-4c01-900f-a9d2d66a8e55\">\n",
              "  <button class=\"colab-df-quickchart\" onclick=\"quickchart('df-ea0479ae-1c5c-4c01-900f-a9d2d66a8e55')\"\n",
              "            title=\"Suggest charts\"\n",
              "            style=\"display:none;\">\n",
              "\n",
              "<svg xmlns=\"http://www.w3.org/2000/svg\" height=\"24px\"viewBox=\"0 0 24 24\"\n",
              "     width=\"24px\">\n",
              "    <g>\n",
              "        <path d=\"M19 3H5c-1.1 0-2 .9-2 2v14c0 1.1.9 2 2 2h14c1.1 0 2-.9 2-2V5c0-1.1-.9-2-2-2zM9 17H7v-7h2v7zm4 0h-2V7h2v10zm4 0h-2v-4h2v4z\"/>\n",
              "    </g>\n",
              "</svg>\n",
              "  </button>\n",
              "\n",
              "<style>\n",
              "  .colab-df-quickchart {\n",
              "      --bg-color: #E8F0FE;\n",
              "      --fill-color: #1967D2;\n",
              "      --hover-bg-color: #E2EBFA;\n",
              "      --hover-fill-color: #174EA6;\n",
              "      --disabled-fill-color: #AAA;\n",
              "      --disabled-bg-color: #DDD;\n",
              "  }\n",
              "\n",
              "  [theme=dark] .colab-df-quickchart {\n",
              "      --bg-color: #3B4455;\n",
              "      --fill-color: #D2E3FC;\n",
              "      --hover-bg-color: #434B5C;\n",
              "      --hover-fill-color: #FFFFFF;\n",
              "      --disabled-bg-color: #3B4455;\n",
              "      --disabled-fill-color: #666;\n",
              "  }\n",
              "\n",
              "  .colab-df-quickchart {\n",
              "    background-color: var(--bg-color);\n",
              "    border: none;\n",
              "    border-radius: 50%;\n",
              "    cursor: pointer;\n",
              "    display: none;\n",
              "    fill: var(--fill-color);\n",
              "    height: 32px;\n",
              "    padding: 0;\n",
              "    width: 32px;\n",
              "  }\n",
              "\n",
              "  .colab-df-quickchart:hover {\n",
              "    background-color: var(--hover-bg-color);\n",
              "    box-shadow: 0 1px 2px rgba(60, 64, 67, 0.3), 0 1px 3px 1px rgba(60, 64, 67, 0.15);\n",
              "    fill: var(--button-hover-fill-color);\n",
              "  }\n",
              "\n",
              "  .colab-df-quickchart-complete:disabled,\n",
              "  .colab-df-quickchart-complete:disabled:hover {\n",
              "    background-color: var(--disabled-bg-color);\n",
              "    fill: var(--disabled-fill-color);\n",
              "    box-shadow: none;\n",
              "  }\n",
              "\n",
              "  .colab-df-spinner {\n",
              "    border: 2px solid var(--fill-color);\n",
              "    border-color: transparent;\n",
              "    border-bottom-color: var(--fill-color);\n",
              "    animation:\n",
              "      spin 1s steps(1) infinite;\n",
              "  }\n",
              "\n",
              "  @keyframes spin {\n",
              "    0% {\n",
              "      border-color: transparent;\n",
              "      border-bottom-color: var(--fill-color);\n",
              "      border-left-color: var(--fill-color);\n",
              "    }\n",
              "    20% {\n",
              "      border-color: transparent;\n",
              "      border-left-color: var(--fill-color);\n",
              "      border-top-color: var(--fill-color);\n",
              "    }\n",
              "    30% {\n",
              "      border-color: transparent;\n",
              "      border-left-color: var(--fill-color);\n",
              "      border-top-color: var(--fill-color);\n",
              "      border-right-color: var(--fill-color);\n",
              "    }\n",
              "    40% {\n",
              "      border-color: transparent;\n",
              "      border-right-color: var(--fill-color);\n",
              "      border-top-color: var(--fill-color);\n",
              "    }\n",
              "    60% {\n",
              "      border-color: transparent;\n",
              "      border-right-color: var(--fill-color);\n",
              "    }\n",
              "    80% {\n",
              "      border-color: transparent;\n",
              "      border-right-color: var(--fill-color);\n",
              "      border-bottom-color: var(--fill-color);\n",
              "    }\n",
              "    90% {\n",
              "      border-color: transparent;\n",
              "      border-bottom-color: var(--fill-color);\n",
              "    }\n",
              "  }\n",
              "</style>\n",
              "\n",
              "  <script>\n",
              "    async function quickchart(key) {\n",
              "      const quickchartButtonEl =\n",
              "        document.querySelector('#' + key + ' button');\n",
              "      quickchartButtonEl.disabled = true;  // To prevent multiple clicks.\n",
              "      quickchartButtonEl.classList.add('colab-df-spinner');\n",
              "      try {\n",
              "        const charts = await google.colab.kernel.invokeFunction(\n",
              "            'suggestCharts', [key], {});\n",
              "      } catch (error) {\n",
              "        console.error('Error during call to suggestCharts:', error);\n",
              "      }\n",
              "      quickchartButtonEl.classList.remove('colab-df-spinner');\n",
              "      quickchartButtonEl.classList.add('colab-df-quickchart-complete');\n",
              "    }\n",
              "    (() => {\n",
              "      let quickchartButtonEl =\n",
              "        document.querySelector('#df-ea0479ae-1c5c-4c01-900f-a9d2d66a8e55 button');\n",
              "      quickchartButtonEl.style.display =\n",
              "        google.colab.kernel.accessAllowed ? 'block' : 'none';\n",
              "    })();\n",
              "  </script>\n",
              "</div>\n",
              "    </div>\n",
              "  </div>\n"
            ],
            "application/vnd.google.colaboratory.intrinsic+json": {
              "type": "dataframe",
              "variable_name": "df",
              "summary": "{\n  \"name\": \"df\",\n  \"rows\": 811,\n  \"fields\": [\n    {\n      \"column\": \"Gender\",\n      \"properties\": {\n        \"dtype\": \"number\",\n        \"std\": 0,\n        \"min\": 0,\n        \"max\": 1,\n        \"num_unique_values\": 2,\n        \"samples\": [\n          0,\n          1\n        ],\n        \"semantic_type\": \"\",\n        \"description\": \"\"\n      }\n    },\n    {\n      \"column\": \"KmBefore\",\n      \"properties\": {\n        \"dtype\": \"number\",\n        \"std\": 0.7535384662520407,\n        \"min\": 1.99,\n        \"max\": 6.12,\n        \"num_unique_values\": 290,\n        \"samples\": [\n          3.84,\n          3.81\n        ],\n        \"semantic_type\": \"\",\n        \"description\": \"\"\n      }\n    },\n    {\n      \"column\": \"KgBefore\",\n      \"properties\": {\n        \"dtype\": \"number\",\n        \"std\": 8.974591524041493,\n        \"min\": 56.3,\n        \"max\": 105.0,\n        \"num_unique_values\": 334,\n        \"samples\": [\n          75.4,\n          89.2\n        ],\n        \"semantic_type\": \"\",\n        \"description\": \"\"\n      }\n    },\n    {\n      \"column\": \"TimeBefore\",\n      \"properties\": {\n        \"dtype\": \"number\",\n        \"std\": 9.695761580980443,\n        \"min\": 19.1,\n        \"max\": 71.0,\n        \"num_unique_values\": 354,\n        \"samples\": [\n          67.7,\n          29.4\n        ],\n        \"semantic_type\": \"\",\n        \"description\": \"\"\n      }\n    },\n    {\n      \"column\": \"KmAfter\",\n      \"properties\": {\n        \"dtype\": \"number\",\n        \"std\": 1.415511915434611,\n        \"min\": 1.2,\n        \"max\": 8.53,\n        \"num_unique_values\": 431,\n        \"samples\": [\n          6.21,\n          3.01\n        ],\n        \"semantic_type\": \"\",\n        \"description\": \"\"\n      }\n    },\n    {\n      \"column\": \"KgAfter\",\n      \"properties\": {\n        \"dtype\": \"number\",\n        \"std\": 2.8633239447226004,\n        \"min\": 82.8,\n        \"max\": 97.7,\n        \"num_unique_values\": 136,\n        \"samples\": [\n          85.7,\n          92.5\n        ],\n        \"semantic_type\": \"\",\n        \"description\": \"\"\n      }\n    },\n    {\n      \"column\": \"TimeAfter\",\n      \"properties\": {\n        \"dtype\": \"number\",\n        \"std\": 4.890060917067647,\n        \"min\": 46.6,\n        \"max\": 73.1,\n        \"num_unique_values\": 213,\n        \"samples\": [\n          59.2,\n          66.8\n        ],\n        \"semantic_type\": \"\",\n        \"description\": \"\"\n      }\n    }\n  ]\n}"
            }
          },
          "metadata": {},
          "execution_count": 36
        }
      ]
    },
    {
      "cell_type": "markdown",
      "source": [
        "##**Dataframe Cleaned**"
      ],
      "metadata": {
        "id": "uPlsj1qucqIR"
      }
    },
    {
      "cell_type": "code",
      "source": [
        "df.to_csv('Data Cleaned.csv', index=False)"
      ],
      "metadata": {
        "id": "TEZ6J6l-cs8h"
      },
      "execution_count": null,
      "outputs": []
    },
    {
      "cell_type": "markdown",
      "source": [
        "Digunakan untuk membagi dataset menjadi dua bagian: satu untuk melatih model dan satu lagi untuk menguji model."
      ],
      "metadata": {
        "id": "bOcEWtpSTaof"
      }
    },
    {
      "cell_type": "markdown",
      "source": [
        "#**Modelling**"
      ],
      "metadata": {
        "id": "9RSc7OwLiqHa"
      }
    },
    {
      "cell_type": "markdown",
      "source": [
        "##**Modelling Predict**"
      ],
      "metadata": {
        "id": "XBgJGn5PTWdE"
      }
    },
    {
      "cell_type": "markdown",
      "source": [
        "#**Select Modelling Techniques**"
      ],
      "metadata": {
        "id": "-bhllcjYVT5h"
      }
    },
    {
      "cell_type": "markdown",
      "source": [
        "Berdasarkan tujuan analisis ini, yaitu untuk mengetahui perbandaingan dari jenis kelamin kepada perubahan fisik setelah mengomsumsi suplemen penunjang fisik. Oleh karena itu pemodelannya adalah **Clustering**. Dengan dilakukannya pengelompokkan dari jenis kelamin serta kolom lain untuk mengetahui hasil analisis."
      ],
      "metadata": {
        "id": "eXkjM_oLZ2JO"
      }
    },
    {
      "cell_type": "markdown",
      "source": [
        "###Algoritma yang digunakan"
      ],
      "metadata": {
        "id": "_uZGvSnJzw2j"
      }
    },
    {
      "cell_type": "markdown",
      "source": [
        "####**Heirarchical Clustering**"
      ],
      "metadata": {
        "id": "yqxf8XSUz1YM"
      }
    },
    {
      "cell_type": "markdown",
      "source": [
        "\n",
        "Hierarchical clustering adalah metode pengelompokan data berdasarkan kedekatan antar titik. Dimulai dengan setiap titik sebagai kelompok terpisah, kemudian secara bertahap menggabungkan kelompok yang paling dekat satu sama lain. Proses ini berlanjut hingga semua titik digabungkan, membentuk struktur berhierarki yang bisa divisualisasikan dalam bentuk dendrogram. Metode ini berguna untuk mengidentifikasi pola atau hubungan dalam data dengan efisien."
      ],
      "metadata": {
        "id": "syZfXNe30uWy"
      }
    },
    {
      "cell_type": "markdown",
      "source": [
        "####**K-Means**"
      ],
      "metadata": {
        "id": "GXRgsiux16yD"
      }
    },
    {
      "cell_type": "markdown",
      "source": [
        "K-Means mengelompokkan titik data ke dalam k kelompok dengan menempatkan mereka ke kelompok terdekat berdasarkan pusatnya. Pusat kelompok diperbarui dengan rata-rata titik dalam kelompok. Proses ini berulang hingga penempatan titik stabil. K-Means mengurangi variasi dalam kelompok dan cocok untuk data numerik sehingga algoritma ini sangat cocok untuk dataset pada analisis ini."
      ],
      "metadata": {
        "id": "94K8CsLvM9Rt"
      }
    },
    {
      "cell_type": "markdown",
      "source": [],
      "metadata": {
        "id": "aVBFts7D1-jv"
      }
    },
    {
      "cell_type": "markdown",
      "source": [
        "###**Pre-Processing**"
      ],
      "metadata": {
        "id": "2BOjsEO6TqaR"
      }
    },
    {
      "cell_type": "markdown",
      "source": [
        "###**Split Data**"
      ],
      "metadata": {
        "id": "LUxv9FylT-vg"
      }
    },
    {
      "cell_type": "code",
      "source": [
        "x = df.drop('Gender', axis=1)\n",
        "y = df['Gender']\n",
        "\n",
        "x_train, x_test, y_train, y_test = train_test_split(x, y, test_size=0.3, random_state=42)"
      ],
      "metadata": {
        "id": "12XYxJEINeN8"
      },
      "execution_count": null,
      "outputs": []
    },
    {
      "cell_type": "code",
      "source": [
        "y_train.value_counts(normalize=True)"
      ],
      "metadata": {
        "colab": {
          "base_uri": "https://localhost:8080/"
        },
        "id": "Cj70Ovl2OCki",
        "outputId": "c70dfa0a-4331-46ce-b0ec-adad19f8124a"
      },
      "execution_count": null,
      "outputs": [
        {
          "output_type": "execute_result",
          "data": {
            "text/plain": [
              "1    0.546737\n",
              "0    0.453263\n",
              "Name: Gender, dtype: float64"
            ]
          },
          "metadata": {},
          "execution_count": 39
        }
      ]
    },
    {
      "cell_type": "markdown",
      "source": [
        "Tahapan ini berfungsi untuk membagi data pada dataset menjadi 2, yaitu data latih dan data uji. Guna dari data latih adalah data yang akan digunakan untuk melatih mode, sedangkan data uji digunakan untuk menguji model. Untuk memastikan model dapat menyimpulkan data yang belum ada."
      ],
      "metadata": {
        "id": "lWovEBqROOxi"
      }
    },
    {
      "cell_type": "markdown",
      "source": [
        "##**Normalisasi Data**"
      ],
      "metadata": {
        "id": "qzgCjF7lOpXO"
      }
    },
    {
      "cell_type": "code",
      "source": [
        "numeric_columns = x_train.select_dtypes(include=['int', 'float']).columns\n",
        "\n",
        "scaler = MinMaxScaler()\n",
        "x_train_norm = x_train.copy()\n",
        "x_train_norm[numeric_columns] = scaler.fit_transform(x_train_norm[numeric_columns])\n",
        "\n",
        "x_test_norm = x_test.copy()\n",
        "x_test_norm[numeric_columns] = scaler.transform(x_test_norm[numeric_columns])"
      ],
      "metadata": {
        "id": "Pdi-1TAsPTpg"
      },
      "execution_count": null,
      "outputs": []
    },
    {
      "cell_type": "markdown",
      "source": [
        "\n",
        "Kode tersebut mengidentifikasi kolom-kolom numerik dari data pelatihan (x_train) dan membuat salinan dari data tersebut. Selanjutnya, data numerik tersebut dinormalisasi menggunakan Min-Max Scaling. Proses yang sama kemudian diterapkan pada data uji (x_test). Langkah ini berguna untuk menjaga konsistensi skala fitur antara data pelatihan dan data uji."
      ],
      "metadata": {
        "id": "BFSsxpzbPgNk"
      }
    },
    {
      "cell_type": "markdown",
      "source": [
        "##**Build and Train Model**"
      ],
      "metadata": {
        "id": "Hui_ItxSPuC9"
      }
    },
    {
      "cell_type": "markdown",
      "source": [
        "###**K-Means**"
      ],
      "metadata": {
        "id": "z0tnkB0MPyxl"
      }
    },
    {
      "cell_type": "code",
      "source": [
        "kmn = KMeans(n_clusters=3)\n",
        "kmn.fit(x_train_norm[numeric_columns], y_train)"
      ],
      "metadata": {
        "colab": {
          "base_uri": "https://localhost:8080/"
        },
        "id": "dsCOECGoP2hx",
        "outputId": "40fa3d33-56e8-44fb-966c-56987f068e57"
      },
      "execution_count": null,
      "outputs": [
        {
          "output_type": "stream",
          "name": "stderr",
          "text": [
            "/usr/local/lib/python3.10/dist-packages/sklearn/cluster/_kmeans.py:870: FutureWarning:\n",
            "\n",
            "The default value of `n_init` will change from 10 to 'auto' in 1.4. Set the value of `n_init` explicitly to suppress the warning\n",
            "\n"
          ]
        },
        {
          "output_type": "execute_result",
          "data": {
            "text/plain": [
              "KMeans(n_clusters=3)"
            ],
            "text/html": [
              "<style>#sk-container-id-1 {color: black;background-color: white;}#sk-container-id-1 pre{padding: 0;}#sk-container-id-1 div.sk-toggleable {background-color: white;}#sk-container-id-1 label.sk-toggleable__label {cursor: pointer;display: block;width: 100%;margin-bottom: 0;padding: 0.3em;box-sizing: border-box;text-align: center;}#sk-container-id-1 label.sk-toggleable__label-arrow:before {content: \"▸\";float: left;margin-right: 0.25em;color: #696969;}#sk-container-id-1 label.sk-toggleable__label-arrow:hover:before {color: black;}#sk-container-id-1 div.sk-estimator:hover label.sk-toggleable__label-arrow:before {color: black;}#sk-container-id-1 div.sk-toggleable__content {max-height: 0;max-width: 0;overflow: hidden;text-align: left;background-color: #f0f8ff;}#sk-container-id-1 div.sk-toggleable__content pre {margin: 0.2em;color: black;border-radius: 0.25em;background-color: #f0f8ff;}#sk-container-id-1 input.sk-toggleable__control:checked~div.sk-toggleable__content {max-height: 200px;max-width: 100%;overflow: auto;}#sk-container-id-1 input.sk-toggleable__control:checked~label.sk-toggleable__label-arrow:before {content: \"▾\";}#sk-container-id-1 div.sk-estimator input.sk-toggleable__control:checked~label.sk-toggleable__label {background-color: #d4ebff;}#sk-container-id-1 div.sk-label input.sk-toggleable__control:checked~label.sk-toggleable__label {background-color: #d4ebff;}#sk-container-id-1 input.sk-hidden--visually {border: 0;clip: rect(1px 1px 1px 1px);clip: rect(1px, 1px, 1px, 1px);height: 1px;margin: -1px;overflow: hidden;padding: 0;position: absolute;width: 1px;}#sk-container-id-1 div.sk-estimator {font-family: monospace;background-color: #f0f8ff;border: 1px dotted black;border-radius: 0.25em;box-sizing: border-box;margin-bottom: 0.5em;}#sk-container-id-1 div.sk-estimator:hover {background-color: #d4ebff;}#sk-container-id-1 div.sk-parallel-item::after {content: \"\";width: 100%;border-bottom: 1px solid gray;flex-grow: 1;}#sk-container-id-1 div.sk-label:hover label.sk-toggleable__label {background-color: #d4ebff;}#sk-container-id-1 div.sk-serial::before {content: \"\";position: absolute;border-left: 1px solid gray;box-sizing: border-box;top: 0;bottom: 0;left: 50%;z-index: 0;}#sk-container-id-1 div.sk-serial {display: flex;flex-direction: column;align-items: center;background-color: white;padding-right: 0.2em;padding-left: 0.2em;position: relative;}#sk-container-id-1 div.sk-item {position: relative;z-index: 1;}#sk-container-id-1 div.sk-parallel {display: flex;align-items: stretch;justify-content: center;background-color: white;position: relative;}#sk-container-id-1 div.sk-item::before, #sk-container-id-1 div.sk-parallel-item::before {content: \"\";position: absolute;border-left: 1px solid gray;box-sizing: border-box;top: 0;bottom: 0;left: 50%;z-index: -1;}#sk-container-id-1 div.sk-parallel-item {display: flex;flex-direction: column;z-index: 1;position: relative;background-color: white;}#sk-container-id-1 div.sk-parallel-item:first-child::after {align-self: flex-end;width: 50%;}#sk-container-id-1 div.sk-parallel-item:last-child::after {align-self: flex-start;width: 50%;}#sk-container-id-1 div.sk-parallel-item:only-child::after {width: 0;}#sk-container-id-1 div.sk-dashed-wrapped {border: 1px dashed gray;margin: 0 0.4em 0.5em 0.4em;box-sizing: border-box;padding-bottom: 0.4em;background-color: white;}#sk-container-id-1 div.sk-label label {font-family: monospace;font-weight: bold;display: inline-block;line-height: 1.2em;}#sk-container-id-1 div.sk-label-container {text-align: center;}#sk-container-id-1 div.sk-container {/* jupyter's `normalize.less` sets `[hidden] { display: none; }` but bootstrap.min.css set `[hidden] { display: none !important; }` so we also need the `!important` here to be able to override the default hidden behavior on the sphinx rendered scikit-learn.org. See: https://github.com/scikit-learn/scikit-learn/issues/21755 */display: inline-block !important;position: relative;}#sk-container-id-1 div.sk-text-repr-fallback {display: none;}</style><div id=\"sk-container-id-1\" class=\"sk-top-container\"><div class=\"sk-text-repr-fallback\"><pre>KMeans(n_clusters=3)</pre><b>In a Jupyter environment, please rerun this cell to show the HTML representation or trust the notebook. <br />On GitHub, the HTML representation is unable to render, please try loading this page with nbviewer.org.</b></div><div class=\"sk-container\" hidden><div class=\"sk-item\"><div class=\"sk-estimator sk-toggleable\"><input class=\"sk-toggleable__control sk-hidden--visually\" id=\"sk-estimator-id-1\" type=\"checkbox\" checked><label for=\"sk-estimator-id-1\" class=\"sk-toggleable__label sk-toggleable__label-arrow\">KMeans</label><div class=\"sk-toggleable__content\"><pre>KMeans(n_clusters=3)</pre></div></div></div></div></div>"
            ]
          },
          "metadata": {},
          "execution_count": 41
        }
      ]
    },
    {
      "cell_type": "markdown",
      "source": [
        "Algoritma K-Means untuk membuat model pengelompokan dengan 3 kluster. Kemudian, model tersebut dilatih dengan data pelatihan yang sudah dinormalisasi (x_train_norm) menggunakan kolom-kolom numerik (numeric_columns), bersama dengan labelnya (y_train)."
      ],
      "metadata": {
        "id": "dsmQEL4SQqbB"
      }
    },
    {
      "cell_type": "markdown",
      "source": [
        "###**Hierarchical Clustering**"
      ],
      "metadata": {
        "id": "OKmHxn1Bacgl"
      }
    },
    {
      "cell_type": "code",
      "source": [
        "hrc = AgglomerativeClustering(n_clusters=3)\n",
        "hrc.fit(x_train_norm[numeric_columns], y_train)"
      ],
      "metadata": {
        "colab": {
          "base_uri": "https://localhost:8080/"
        },
        "id": "wd-VN9kxZwBu",
        "outputId": "9266eb2d-dac6-461f-8c4e-db83e7d5e4c1"
      },
      "execution_count": null,
      "outputs": [
        {
          "output_type": "execute_result",
          "data": {
            "text/plain": [
              "AgglomerativeClustering(n_clusters=3)"
            ],
            "text/html": [
              "<style>#sk-container-id-2 {color: black;background-color: white;}#sk-container-id-2 pre{padding: 0;}#sk-container-id-2 div.sk-toggleable {background-color: white;}#sk-container-id-2 label.sk-toggleable__label {cursor: pointer;display: block;width: 100%;margin-bottom: 0;padding: 0.3em;box-sizing: border-box;text-align: center;}#sk-container-id-2 label.sk-toggleable__label-arrow:before {content: \"▸\";float: left;margin-right: 0.25em;color: #696969;}#sk-container-id-2 label.sk-toggleable__label-arrow:hover:before {color: black;}#sk-container-id-2 div.sk-estimator:hover label.sk-toggleable__label-arrow:before {color: black;}#sk-container-id-2 div.sk-toggleable__content {max-height: 0;max-width: 0;overflow: hidden;text-align: left;background-color: #f0f8ff;}#sk-container-id-2 div.sk-toggleable__content pre {margin: 0.2em;color: black;border-radius: 0.25em;background-color: #f0f8ff;}#sk-container-id-2 input.sk-toggleable__control:checked~div.sk-toggleable__content {max-height: 200px;max-width: 100%;overflow: auto;}#sk-container-id-2 input.sk-toggleable__control:checked~label.sk-toggleable__label-arrow:before {content: \"▾\";}#sk-container-id-2 div.sk-estimator input.sk-toggleable__control:checked~label.sk-toggleable__label {background-color: #d4ebff;}#sk-container-id-2 div.sk-label input.sk-toggleable__control:checked~label.sk-toggleable__label {background-color: #d4ebff;}#sk-container-id-2 input.sk-hidden--visually {border: 0;clip: rect(1px 1px 1px 1px);clip: rect(1px, 1px, 1px, 1px);height: 1px;margin: -1px;overflow: hidden;padding: 0;position: absolute;width: 1px;}#sk-container-id-2 div.sk-estimator {font-family: monospace;background-color: #f0f8ff;border: 1px dotted black;border-radius: 0.25em;box-sizing: border-box;margin-bottom: 0.5em;}#sk-container-id-2 div.sk-estimator:hover {background-color: #d4ebff;}#sk-container-id-2 div.sk-parallel-item::after {content: \"\";width: 100%;border-bottom: 1px solid gray;flex-grow: 1;}#sk-container-id-2 div.sk-label:hover label.sk-toggleable__label {background-color: #d4ebff;}#sk-container-id-2 div.sk-serial::before {content: \"\";position: absolute;border-left: 1px solid gray;box-sizing: border-box;top: 0;bottom: 0;left: 50%;z-index: 0;}#sk-container-id-2 div.sk-serial {display: flex;flex-direction: column;align-items: center;background-color: white;padding-right: 0.2em;padding-left: 0.2em;position: relative;}#sk-container-id-2 div.sk-item {position: relative;z-index: 1;}#sk-container-id-2 div.sk-parallel {display: flex;align-items: stretch;justify-content: center;background-color: white;position: relative;}#sk-container-id-2 div.sk-item::before, #sk-container-id-2 div.sk-parallel-item::before {content: \"\";position: absolute;border-left: 1px solid gray;box-sizing: border-box;top: 0;bottom: 0;left: 50%;z-index: -1;}#sk-container-id-2 div.sk-parallel-item {display: flex;flex-direction: column;z-index: 1;position: relative;background-color: white;}#sk-container-id-2 div.sk-parallel-item:first-child::after {align-self: flex-end;width: 50%;}#sk-container-id-2 div.sk-parallel-item:last-child::after {align-self: flex-start;width: 50%;}#sk-container-id-2 div.sk-parallel-item:only-child::after {width: 0;}#sk-container-id-2 div.sk-dashed-wrapped {border: 1px dashed gray;margin: 0 0.4em 0.5em 0.4em;box-sizing: border-box;padding-bottom: 0.4em;background-color: white;}#sk-container-id-2 div.sk-label label {font-family: monospace;font-weight: bold;display: inline-block;line-height: 1.2em;}#sk-container-id-2 div.sk-label-container {text-align: center;}#sk-container-id-2 div.sk-container {/* jupyter's `normalize.less` sets `[hidden] { display: none; }` but bootstrap.min.css set `[hidden] { display: none !important; }` so we also need the `!important` here to be able to override the default hidden behavior on the sphinx rendered scikit-learn.org. See: https://github.com/scikit-learn/scikit-learn/issues/21755 */display: inline-block !important;position: relative;}#sk-container-id-2 div.sk-text-repr-fallback {display: none;}</style><div id=\"sk-container-id-2\" class=\"sk-top-container\"><div class=\"sk-text-repr-fallback\"><pre>AgglomerativeClustering(n_clusters=3)</pre><b>In a Jupyter environment, please rerun this cell to show the HTML representation or trust the notebook. <br />On GitHub, the HTML representation is unable to render, please try loading this page with nbviewer.org.</b></div><div class=\"sk-container\" hidden><div class=\"sk-item\"><div class=\"sk-estimator sk-toggleable\"><input class=\"sk-toggleable__control sk-hidden--visually\" id=\"sk-estimator-id-2\" type=\"checkbox\" checked><label for=\"sk-estimator-id-2\" class=\"sk-toggleable__label sk-toggleable__label-arrow\">AgglomerativeClustering</label><div class=\"sk-toggleable__content\"><pre>AgglomerativeClustering(n_clusters=3)</pre></div></div></div></div></div>"
            ]
          },
          "metadata": {},
          "execution_count": 42
        }
      ]
    },
    {
      "cell_type": "markdown",
      "source": [
        "Model Hierarchical Clustering dilatih menggunakan data latih yang telah dinormalisasi. Setelah dilatih, model ini dapat digunakan untuk memprediksi kelompok atau cluster dari data uji atau data baru yang memiliki fitur-fitur yang serupa. Proses ini memungkinkan untuk mengelompokkan data baru ke dalam kelompok yang telah dipelajari selama pelatihan model, membantu dalam analisis dan pemahaman struktur data yang lebih dalam."
      ],
      "metadata": {
        "id": "TuAjyNIbaKUa"
      }
    },
    {
      "cell_type": "markdown",
      "source": [
        "###**Begins and Compare Predict**"
      ],
      "metadata": {
        "id": "11tXf-CKaWOC"
      }
    },
    {
      "cell_type": "code",
      "source": [
        "kmn_pred = kmn.predict(x_test_norm[numeric_columns])\n",
        "hrc_pred = hrc.fit_predict(x_test_norm[numeric_columns])"
      ],
      "metadata": {
        "id": "j5UW1A73aVr4"
      },
      "execution_count": null,
      "outputs": []
    },
    {
      "cell_type": "code",
      "source": [
        "x_test = pd.DataFrame(x_test).reset_index(drop=True)\n",
        "\n",
        "y_test = pd.DataFrame(y_test).reset_index(drop=True)\n",
        "\n",
        "kmn_col = pd.DataFrame(kmn_pred.astype(int), columns=[\"kmn_prediction\"])\n",
        "hrc_col = pd.DataFrame(hrc_pred.astype(int), columns=[\"hrc_prediction\"])\n",
        "\n",
        "combined_data = pd.concat([x_test, y_test, kmn_col, hrc_col], axis=1)"
      ],
      "metadata": {
        "id": "NUnE0Rymbqbs"
      },
      "execution_count": null,
      "outputs": []
    },
    {
      "cell_type": "code",
      "source": [
        "combined_data.sample(15)"
      ],
      "metadata": {
        "colab": {
          "base_uri": "https://localhost:8080/"
        },
        "id": "vQkKB8nMbwLP",
        "outputId": "5766c6a5-b3f8-41bb-8bab-2e0577693386"
      },
      "execution_count": null,
      "outputs": [
        {
          "output_type": "execute_result",
          "data": {
            "text/plain": [
              "     KmBefore  KgBefore  TimeBefore  KmAfter  KgAfter  TimeAfter  Gender  \\\n",
              "168      3.54      81.0        42.3     3.38     91.2       59.9       0   \n",
              "200      5.13      87.3        44.0     3.54     89.8       47.7       1   \n",
              "197      3.57      78.1        37.4     7.85     86.0       57.7       1   \n",
              "209      3.64      83.8        32.4     2.85     92.6       64.4       0   \n",
              "175      5.03      86.8        43.6     7.10     89.9       66.7       1   \n",
              "194      3.52      87.8        22.0     7.84     88.1       58.9       0   \n",
              "83       3.77      71.4        38.4     3.93     89.0       66.0       1   \n",
              "191      2.31      77.3        53.5     3.97     86.7       55.8       0   \n",
              "113      4.00      85.6        55.5     5.21     91.4       62.7       0   \n",
              "41       4.09      61.4        40.0     3.60     86.9       52.4       1   \n",
              "94       4.25      73.8        41.1     5.17     91.8       69.1       0   \n",
              "239      2.88      90.4        55.8     4.80     90.3       52.2       0   \n",
              "229      4.40      80.9        47.2     3.78     93.9       59.6       1   \n",
              "165      3.68      72.4        47.3     4.69     85.6       60.1       1   \n",
              "180      4.84      64.7        19.1     4.14     89.7       55.5       0   \n",
              "\n",
              "     kmn_prediction  hrc_prediction  \n",
              "168               1               1  \n",
              "200               2               1  \n",
              "197               2               0  \n",
              "209               1               1  \n",
              "175               1               2  \n",
              "194               2               2  \n",
              "83                1               1  \n",
              "191               0               0  \n",
              "113               1               0  \n",
              "41                0               1  \n",
              "94                1               1  \n",
              "239               0               0  \n",
              "229               1               1  \n",
              "165               0               0  \n",
              "180               2               1  "
            ],
            "text/html": [
              "\n",
              "  <div id=\"df-8556593f-885c-41a8-87fe-5ce3afb8debe\" class=\"colab-df-container\">\n",
              "    <div>\n",
              "<style scoped>\n",
              "    .dataframe tbody tr th:only-of-type {\n",
              "        vertical-align: middle;\n",
              "    }\n",
              "\n",
              "    .dataframe tbody tr th {\n",
              "        vertical-align: top;\n",
              "    }\n",
              "\n",
              "    .dataframe thead th {\n",
              "        text-align: right;\n",
              "    }\n",
              "</style>\n",
              "<table border=\"1\" class=\"dataframe\">\n",
              "  <thead>\n",
              "    <tr style=\"text-align: right;\">\n",
              "      <th></th>\n",
              "      <th>KmBefore</th>\n",
              "      <th>KgBefore</th>\n",
              "      <th>TimeBefore</th>\n",
              "      <th>KmAfter</th>\n",
              "      <th>KgAfter</th>\n",
              "      <th>TimeAfter</th>\n",
              "      <th>Gender</th>\n",
              "      <th>kmn_prediction</th>\n",
              "      <th>hrc_prediction</th>\n",
              "    </tr>\n",
              "  </thead>\n",
              "  <tbody>\n",
              "    <tr>\n",
              "      <th>168</th>\n",
              "      <td>3.54</td>\n",
              "      <td>81.0</td>\n",
              "      <td>42.3</td>\n",
              "      <td>3.38</td>\n",
              "      <td>91.2</td>\n",
              "      <td>59.9</td>\n",
              "      <td>0</td>\n",
              "      <td>1</td>\n",
              "      <td>1</td>\n",
              "    </tr>\n",
              "    <tr>\n",
              "      <th>200</th>\n",
              "      <td>5.13</td>\n",
              "      <td>87.3</td>\n",
              "      <td>44.0</td>\n",
              "      <td>3.54</td>\n",
              "      <td>89.8</td>\n",
              "      <td>47.7</td>\n",
              "      <td>1</td>\n",
              "      <td>2</td>\n",
              "      <td>1</td>\n",
              "    </tr>\n",
              "    <tr>\n",
              "      <th>197</th>\n",
              "      <td>3.57</td>\n",
              "      <td>78.1</td>\n",
              "      <td>37.4</td>\n",
              "      <td>7.85</td>\n",
              "      <td>86.0</td>\n",
              "      <td>57.7</td>\n",
              "      <td>1</td>\n",
              "      <td>2</td>\n",
              "      <td>0</td>\n",
              "    </tr>\n",
              "    <tr>\n",
              "      <th>209</th>\n",
              "      <td>3.64</td>\n",
              "      <td>83.8</td>\n",
              "      <td>32.4</td>\n",
              "      <td>2.85</td>\n",
              "      <td>92.6</td>\n",
              "      <td>64.4</td>\n",
              "      <td>0</td>\n",
              "      <td>1</td>\n",
              "      <td>1</td>\n",
              "    </tr>\n",
              "    <tr>\n",
              "      <th>175</th>\n",
              "      <td>5.03</td>\n",
              "      <td>86.8</td>\n",
              "      <td>43.6</td>\n",
              "      <td>7.10</td>\n",
              "      <td>89.9</td>\n",
              "      <td>66.7</td>\n",
              "      <td>1</td>\n",
              "      <td>1</td>\n",
              "      <td>2</td>\n",
              "    </tr>\n",
              "    <tr>\n",
              "      <th>194</th>\n",
              "      <td>3.52</td>\n",
              "      <td>87.8</td>\n",
              "      <td>22.0</td>\n",
              "      <td>7.84</td>\n",
              "      <td>88.1</td>\n",
              "      <td>58.9</td>\n",
              "      <td>0</td>\n",
              "      <td>2</td>\n",
              "      <td>2</td>\n",
              "    </tr>\n",
              "    <tr>\n",
              "      <th>83</th>\n",
              "      <td>3.77</td>\n",
              "      <td>71.4</td>\n",
              "      <td>38.4</td>\n",
              "      <td>3.93</td>\n",
              "      <td>89.0</td>\n",
              "      <td>66.0</td>\n",
              "      <td>1</td>\n",
              "      <td>1</td>\n",
              "      <td>1</td>\n",
              "    </tr>\n",
              "    <tr>\n",
              "      <th>191</th>\n",
              "      <td>2.31</td>\n",
              "      <td>77.3</td>\n",
              "      <td>53.5</td>\n",
              "      <td>3.97</td>\n",
              "      <td>86.7</td>\n",
              "      <td>55.8</td>\n",
              "      <td>0</td>\n",
              "      <td>0</td>\n",
              "      <td>0</td>\n",
              "    </tr>\n",
              "    <tr>\n",
              "      <th>113</th>\n",
              "      <td>4.00</td>\n",
              "      <td>85.6</td>\n",
              "      <td>55.5</td>\n",
              "      <td>5.21</td>\n",
              "      <td>91.4</td>\n",
              "      <td>62.7</td>\n",
              "      <td>0</td>\n",
              "      <td>1</td>\n",
              "      <td>0</td>\n",
              "    </tr>\n",
              "    <tr>\n",
              "      <th>41</th>\n",
              "      <td>4.09</td>\n",
              "      <td>61.4</td>\n",
              "      <td>40.0</td>\n",
              "      <td>3.60</td>\n",
              "      <td>86.9</td>\n",
              "      <td>52.4</td>\n",
              "      <td>1</td>\n",
              "      <td>0</td>\n",
              "      <td>1</td>\n",
              "    </tr>\n",
              "    <tr>\n",
              "      <th>94</th>\n",
              "      <td>4.25</td>\n",
              "      <td>73.8</td>\n",
              "      <td>41.1</td>\n",
              "      <td>5.17</td>\n",
              "      <td>91.8</td>\n",
              "      <td>69.1</td>\n",
              "      <td>0</td>\n",
              "      <td>1</td>\n",
              "      <td>1</td>\n",
              "    </tr>\n",
              "    <tr>\n",
              "      <th>239</th>\n",
              "      <td>2.88</td>\n",
              "      <td>90.4</td>\n",
              "      <td>55.8</td>\n",
              "      <td>4.80</td>\n",
              "      <td>90.3</td>\n",
              "      <td>52.2</td>\n",
              "      <td>0</td>\n",
              "      <td>0</td>\n",
              "      <td>0</td>\n",
              "    </tr>\n",
              "    <tr>\n",
              "      <th>229</th>\n",
              "      <td>4.40</td>\n",
              "      <td>80.9</td>\n",
              "      <td>47.2</td>\n",
              "      <td>3.78</td>\n",
              "      <td>93.9</td>\n",
              "      <td>59.6</td>\n",
              "      <td>1</td>\n",
              "      <td>1</td>\n",
              "      <td>1</td>\n",
              "    </tr>\n",
              "    <tr>\n",
              "      <th>165</th>\n",
              "      <td>3.68</td>\n",
              "      <td>72.4</td>\n",
              "      <td>47.3</td>\n",
              "      <td>4.69</td>\n",
              "      <td>85.6</td>\n",
              "      <td>60.1</td>\n",
              "      <td>1</td>\n",
              "      <td>0</td>\n",
              "      <td>0</td>\n",
              "    </tr>\n",
              "    <tr>\n",
              "      <th>180</th>\n",
              "      <td>4.84</td>\n",
              "      <td>64.7</td>\n",
              "      <td>19.1</td>\n",
              "      <td>4.14</td>\n",
              "      <td>89.7</td>\n",
              "      <td>55.5</td>\n",
              "      <td>0</td>\n",
              "      <td>2</td>\n",
              "      <td>1</td>\n",
              "    </tr>\n",
              "  </tbody>\n",
              "</table>\n",
              "</div>\n",
              "    <div class=\"colab-df-buttons\">\n",
              "\n",
              "  <div class=\"colab-df-container\">\n",
              "    <button class=\"colab-df-convert\" onclick=\"convertToInteractive('df-8556593f-885c-41a8-87fe-5ce3afb8debe')\"\n",
              "            title=\"Convert this dataframe to an interactive table.\"\n",
              "            style=\"display:none;\">\n",
              "\n",
              "  <svg xmlns=\"http://www.w3.org/2000/svg\" height=\"24px\" viewBox=\"0 -960 960 960\">\n",
              "    <path d=\"M120-120v-720h720v720H120Zm60-500h600v-160H180v160Zm220 220h160v-160H400v160Zm0 220h160v-160H400v160ZM180-400h160v-160H180v160Zm440 0h160v-160H620v160ZM180-180h160v-160H180v160Zm440 0h160v-160H620v160Z\"/>\n",
              "  </svg>\n",
              "    </button>\n",
              "\n",
              "  <style>\n",
              "    .colab-df-container {\n",
              "      display:flex;\n",
              "      gap: 12px;\n",
              "    }\n",
              "\n",
              "    .colab-df-convert {\n",
              "      background-color: #E8F0FE;\n",
              "      border: none;\n",
              "      border-radius: 50%;\n",
              "      cursor: pointer;\n",
              "      display: none;\n",
              "      fill: #1967D2;\n",
              "      height: 32px;\n",
              "      padding: 0 0 0 0;\n",
              "      width: 32px;\n",
              "    }\n",
              "\n",
              "    .colab-df-convert:hover {\n",
              "      background-color: #E2EBFA;\n",
              "      box-shadow: 0px 1px 2px rgba(60, 64, 67, 0.3), 0px 1px 3px 1px rgba(60, 64, 67, 0.15);\n",
              "      fill: #174EA6;\n",
              "    }\n",
              "\n",
              "    .colab-df-buttons div {\n",
              "      margin-bottom: 4px;\n",
              "    }\n",
              "\n",
              "    [theme=dark] .colab-df-convert {\n",
              "      background-color: #3B4455;\n",
              "      fill: #D2E3FC;\n",
              "    }\n",
              "\n",
              "    [theme=dark] .colab-df-convert:hover {\n",
              "      background-color: #434B5C;\n",
              "      box-shadow: 0px 1px 3px 1px rgba(0, 0, 0, 0.15);\n",
              "      filter: drop-shadow(0px 1px 2px rgba(0, 0, 0, 0.3));\n",
              "      fill: #FFFFFF;\n",
              "    }\n",
              "  </style>\n",
              "\n",
              "    <script>\n",
              "      const buttonEl =\n",
              "        document.querySelector('#df-8556593f-885c-41a8-87fe-5ce3afb8debe button.colab-df-convert');\n",
              "      buttonEl.style.display =\n",
              "        google.colab.kernel.accessAllowed ? 'block' : 'none';\n",
              "\n",
              "      async function convertToInteractive(key) {\n",
              "        const element = document.querySelector('#df-8556593f-885c-41a8-87fe-5ce3afb8debe');\n",
              "        const dataTable =\n",
              "          await google.colab.kernel.invokeFunction('convertToInteractive',\n",
              "                                                    [key], {});\n",
              "        if (!dataTable) return;\n",
              "\n",
              "        const docLinkHtml = 'Like what you see? Visit the ' +\n",
              "          '<a target=\"_blank\" href=https://colab.research.google.com/notebooks/data_table.ipynb>data table notebook</a>'\n",
              "          + ' to learn more about interactive tables.';\n",
              "        element.innerHTML = '';\n",
              "        dataTable['output_type'] = 'display_data';\n",
              "        await google.colab.output.renderOutput(dataTable, element);\n",
              "        const docLink = document.createElement('div');\n",
              "        docLink.innerHTML = docLinkHtml;\n",
              "        element.appendChild(docLink);\n",
              "      }\n",
              "    </script>\n",
              "  </div>\n",
              "\n",
              "\n",
              "<div id=\"df-5f5c40a6-87ef-4c2b-91af-13abd12eb2e1\">\n",
              "  <button class=\"colab-df-quickchart\" onclick=\"quickchart('df-5f5c40a6-87ef-4c2b-91af-13abd12eb2e1')\"\n",
              "            title=\"Suggest charts\"\n",
              "            style=\"display:none;\">\n",
              "\n",
              "<svg xmlns=\"http://www.w3.org/2000/svg\" height=\"24px\"viewBox=\"0 0 24 24\"\n",
              "     width=\"24px\">\n",
              "    <g>\n",
              "        <path d=\"M19 3H5c-1.1 0-2 .9-2 2v14c0 1.1.9 2 2 2h14c1.1 0 2-.9 2-2V5c0-1.1-.9-2-2-2zM9 17H7v-7h2v7zm4 0h-2V7h2v10zm4 0h-2v-4h2v4z\"/>\n",
              "    </g>\n",
              "</svg>\n",
              "  </button>\n",
              "\n",
              "<style>\n",
              "  .colab-df-quickchart {\n",
              "      --bg-color: #E8F0FE;\n",
              "      --fill-color: #1967D2;\n",
              "      --hover-bg-color: #E2EBFA;\n",
              "      --hover-fill-color: #174EA6;\n",
              "      --disabled-fill-color: #AAA;\n",
              "      --disabled-bg-color: #DDD;\n",
              "  }\n",
              "\n",
              "  [theme=dark] .colab-df-quickchart {\n",
              "      --bg-color: #3B4455;\n",
              "      --fill-color: #D2E3FC;\n",
              "      --hover-bg-color: #434B5C;\n",
              "      --hover-fill-color: #FFFFFF;\n",
              "      --disabled-bg-color: #3B4455;\n",
              "      --disabled-fill-color: #666;\n",
              "  }\n",
              "\n",
              "  .colab-df-quickchart {\n",
              "    background-color: var(--bg-color);\n",
              "    border: none;\n",
              "    border-radius: 50%;\n",
              "    cursor: pointer;\n",
              "    display: none;\n",
              "    fill: var(--fill-color);\n",
              "    height: 32px;\n",
              "    padding: 0;\n",
              "    width: 32px;\n",
              "  }\n",
              "\n",
              "  .colab-df-quickchart:hover {\n",
              "    background-color: var(--hover-bg-color);\n",
              "    box-shadow: 0 1px 2px rgba(60, 64, 67, 0.3), 0 1px 3px 1px rgba(60, 64, 67, 0.15);\n",
              "    fill: var(--button-hover-fill-color);\n",
              "  }\n",
              "\n",
              "  .colab-df-quickchart-complete:disabled,\n",
              "  .colab-df-quickchart-complete:disabled:hover {\n",
              "    background-color: var(--disabled-bg-color);\n",
              "    fill: var(--disabled-fill-color);\n",
              "    box-shadow: none;\n",
              "  }\n",
              "\n",
              "  .colab-df-spinner {\n",
              "    border: 2px solid var(--fill-color);\n",
              "    border-color: transparent;\n",
              "    border-bottom-color: var(--fill-color);\n",
              "    animation:\n",
              "      spin 1s steps(1) infinite;\n",
              "  }\n",
              "\n",
              "  @keyframes spin {\n",
              "    0% {\n",
              "      border-color: transparent;\n",
              "      border-bottom-color: var(--fill-color);\n",
              "      border-left-color: var(--fill-color);\n",
              "    }\n",
              "    20% {\n",
              "      border-color: transparent;\n",
              "      border-left-color: var(--fill-color);\n",
              "      border-top-color: var(--fill-color);\n",
              "    }\n",
              "    30% {\n",
              "      border-color: transparent;\n",
              "      border-left-color: var(--fill-color);\n",
              "      border-top-color: var(--fill-color);\n",
              "      border-right-color: var(--fill-color);\n",
              "    }\n",
              "    40% {\n",
              "      border-color: transparent;\n",
              "      border-right-color: var(--fill-color);\n",
              "      border-top-color: var(--fill-color);\n",
              "    }\n",
              "    60% {\n",
              "      border-color: transparent;\n",
              "      border-right-color: var(--fill-color);\n",
              "    }\n",
              "    80% {\n",
              "      border-color: transparent;\n",
              "      border-right-color: var(--fill-color);\n",
              "      border-bottom-color: var(--fill-color);\n",
              "    }\n",
              "    90% {\n",
              "      border-color: transparent;\n",
              "      border-bottom-color: var(--fill-color);\n",
              "    }\n",
              "  }\n",
              "</style>\n",
              "\n",
              "  <script>\n",
              "    async function quickchart(key) {\n",
              "      const quickchartButtonEl =\n",
              "        document.querySelector('#' + key + ' button');\n",
              "      quickchartButtonEl.disabled = true;  // To prevent multiple clicks.\n",
              "      quickchartButtonEl.classList.add('colab-df-spinner');\n",
              "      try {\n",
              "        const charts = await google.colab.kernel.invokeFunction(\n",
              "            'suggestCharts', [key], {});\n",
              "      } catch (error) {\n",
              "        console.error('Error during call to suggestCharts:', error);\n",
              "      }\n",
              "      quickchartButtonEl.classList.remove('colab-df-spinner');\n",
              "      quickchartButtonEl.classList.add('colab-df-quickchart-complete');\n",
              "    }\n",
              "    (() => {\n",
              "      let quickchartButtonEl =\n",
              "        document.querySelector('#df-5f5c40a6-87ef-4c2b-91af-13abd12eb2e1 button');\n",
              "      quickchartButtonEl.style.display =\n",
              "        google.colab.kernel.accessAllowed ? 'block' : 'none';\n",
              "    })();\n",
              "  </script>\n",
              "</div>\n",
              "    </div>\n",
              "  </div>\n"
            ],
            "application/vnd.google.colaboratory.intrinsic+json": {
              "type": "dataframe",
              "summary": "{\n  \"name\": \"combined_data\",\n  \"rows\": 15,\n  \"fields\": [\n    {\n      \"column\": \"KmBefore\",\n      \"properties\": {\n        \"dtype\": \"number\",\n        \"std\": 0.7641428437892261,\n        \"min\": 2.31,\n        \"max\": 5.13,\n        \"num_unique_values\": 15,\n        \"samples\": [\n          4.09,\n          2.88,\n          3.54\n        ],\n        \"semantic_type\": \"\",\n        \"description\": \"\"\n      }\n    },\n    {\n      \"column\": \"KgBefore\",\n      \"properties\": {\n        \"dtype\": \"number\",\n        \"std\": 8.690295627608883,\n        \"min\": 61.4,\n        \"max\": 90.4,\n        \"num_unique_values\": 15,\n        \"samples\": [\n          61.4,\n          90.4,\n          81.0\n        ],\n        \"semantic_type\": \"\",\n        \"description\": \"\"\n      }\n    },\n    {\n      \"column\": \"TimeBefore\",\n      \"properties\": {\n        \"dtype\": \"number\",\n        \"std\": 10.740475293198598,\n        \"min\": 19.1,\n        \"max\": 55.8,\n        \"num_unique_values\": 15,\n        \"samples\": [\n          40.0,\n          55.8,\n          42.3\n        ],\n        \"semantic_type\": \"\",\n        \"description\": \"\"\n      }\n    },\n    {\n      \"column\": \"KmAfter\",\n      \"properties\": {\n        \"dtype\": \"number\",\n        \"std\": 1.6017401251674468,\n        \"min\": 2.85,\n        \"max\": 7.85,\n        \"num_unique_values\": 15,\n        \"samples\": [\n          3.6,\n          4.8,\n          3.38\n        ],\n        \"semantic_type\": \"\",\n        \"description\": \"\"\n      }\n    },\n    {\n      \"column\": \"KgAfter\",\n      \"properties\": {\n        \"dtype\": \"number\",\n        \"std\": 2.477748594034128,\n        \"min\": 85.6,\n        \"max\": 93.9,\n        \"num_unique_values\": 15,\n        \"samples\": [\n          86.9,\n          90.3,\n          91.2\n        ],\n        \"semantic_type\": \"\",\n        \"description\": \"\"\n      }\n    },\n    {\n      \"column\": \"TimeAfter\",\n      \"properties\": {\n        \"dtype\": \"number\",\n        \"std\": 5.953974262944837,\n        \"min\": 47.7,\n        \"max\": 69.1,\n        \"num_unique_values\": 15,\n        \"samples\": [\n          52.4,\n          52.2,\n          59.9\n        ],\n        \"semantic_type\": \"\",\n        \"description\": \"\"\n      }\n    },\n    {\n      \"column\": \"Gender\",\n      \"properties\": {\n        \"dtype\": \"number\",\n        \"std\": 0,\n        \"min\": 0,\n        \"max\": 1,\n        \"num_unique_values\": 2,\n        \"samples\": [\n          1,\n          0\n        ],\n        \"semantic_type\": \"\",\n        \"description\": \"\"\n      }\n    },\n    {\n      \"column\": \"kmn_prediction\",\n      \"properties\": {\n        \"dtype\": \"number\",\n        \"std\": 0,\n        \"min\": 0,\n        \"max\": 2,\n        \"num_unique_values\": 3,\n        \"samples\": [\n          1,\n          2\n        ],\n        \"semantic_type\": \"\",\n        \"description\": \"\"\n      }\n    },\n    {\n      \"column\": \"hrc_prediction\",\n      \"properties\": {\n        \"dtype\": \"number\",\n        \"std\": 0,\n        \"min\": 0,\n        \"max\": 2,\n        \"num_unique_values\": 3,\n        \"samples\": [\n          1,\n          0\n        ],\n        \"semantic_type\": \"\",\n        \"description\": \"\"\n      }\n    }\n  ]\n}"
            }
          },
          "metadata": {},
          "execution_count": 45
        }
      ]
    },
    {
      "cell_type": "markdown",
      "source": [
        "Tahap awal dalam kode adalah melakukan prediksi menggunakan model K-Means (kmn) dan Hierarchical Clustering (hrc) pada data uji yang telah dinormalisasi. Setelah itu, data uji (x_test) dan label target (y_test) diubah menjadi DataFrame Pandas dan indeksnya di-reset agar sesuai dengan indeks baru.\n",
        "\n",
        "Selanjutnya, dibuat DataFrame baru untuk menyimpan hasil prediksi dari model K-Means (kmn_pred) dan Hierarchical Clustering (hrc_pred). Kolom-kolom pada DataFrame tersebut dinamai sebagai \"kmn_prediction\" dan \"hrc_prediction\", sesuai dengan prediksi yang dihasilkan oleh masing-masing model.\n",
        "\n",
        "Langkah terakhir adalah menggabungkan semua DataFrame yang telah dibuat sebelumnya, termasuk data uji, label target, serta prediksi dari model K-Means dan Hierarchical Clustering. Hal ini dilakukan untuk mempermudah analisis lebih lanjut terhadap data dan hasil prediksi dari kedua model tersebut."
      ],
      "metadata": {
        "id": "oJKXpY6ecgXw"
      }
    },
    {
      "cell_type": "markdown",
      "source": [
        "#**Modelling Associate**"
      ],
      "metadata": {
        "id": "-XIHZtNxcklv"
      }
    },
    {
      "cell_type": "markdown",
      "source": [
        "##**Pre-Processing**"
      ],
      "metadata": {
        "id": "WbdejRgGcpBx"
      }
    },
    {
      "cell_type": "markdown",
      "source": [
        "###**Adjustment**"
      ],
      "metadata": {
        "id": "QdUMg2MkcsdA"
      }
    },
    {
      "cell_type": "code",
      "source": [
        "x_final = df.drop('Gender', axis=1)"
      ],
      "metadata": {
        "id": "nPX0EmC-c2T7"
      },
      "execution_count": null,
      "outputs": []
    },
    {
      "cell_type": "markdown",
      "source": [
        "\n",
        "Tahap ini bertujuan untuk menghilangkan kolom \"Gender\" dari DataFrame agar fokus analisis atau pemodelan dapat difokuskan pada fitur-fitur lain dalam dataset tanpa mempertimbangkan variabel \"Gender\"."
      ],
      "metadata": {
        "id": "xXIxUIHXd5Tb"
      }
    },
    {
      "cell_type": "markdown",
      "source": [
        "###**Normalisasi Data**"
      ],
      "metadata": {
        "id": "FKEKu5htd_8h"
      }
    },
    {
      "cell_type": "code",
      "source": [
        "numeric_columns = x_train.select_dtypes(include=['int', 'float']).columns\n",
        "scaler = MinMaxScaler()\n",
        "\n",
        "x_final_norm = scaler.fit_transform(x_final[numeric_columns])"
      ],
      "metadata": {
        "id": "C1yIZAdqeOSH"
      },
      "execution_count": null,
      "outputs": []
    },
    {
      "cell_type": "markdown",
      "source": [
        "Normalisasi dilakukan lagi pada fitur-fitur numerik dalam DataFrame x_final dengan memanggil metode fit_transform() dari scaler yang sudah dibuat sebelumnya. Hasil normalisasi disimpan dalam variabel x_final_norm untuk digunakan dalam analisis atau pemodelan selanjutnya."
      ],
      "metadata": {
        "id": "mPG8mtqieSGd"
      }
    },
    {
      "cell_type": "markdown",
      "source": [
        "##**Validasi Silang**"
      ],
      "metadata": {
        "id": "Sk8F_R6EelAA"
      }
    },
    {
      "cell_type": "code",
      "source": [
        "inertia_values = []\n",
        "\n",
        "k_range = range(2, 10)\n",
        "\n",
        "for k in k_range:\n",
        "    kmeans = KMeans(n_clusters=k, random_state=42)\n",
        "    kmeans.fit(x_final_norm)\n",
        "    inertia_values.append(kmeans.inertia_)\n",
        "\n",
        "plt.plot(k_range, inertia_values, marker='o')\n",
        "plt.xlabel('Number of clusters (K)')\n",
        "plt.ylabel('Inertia')\n",
        "plt.title('Elbow Method for Optimal K')\n",
        "plt.xticks(k_range)\n",
        "plt.show()"
      ],
      "metadata": {
        "colab": {
          "base_uri": "https://localhost:8080/"
        },
        "id": "neKed9YbqAIV",
        "outputId": "cfd26f0b-72a6-42c5-a578-7407adf6a2c2"
      },
      "execution_count": null,
      "outputs": [
        {
          "output_type": "stream",
          "name": "stderr",
          "text": [
            "/usr/local/lib/python3.10/dist-packages/sklearn/cluster/_kmeans.py:870: FutureWarning:\n",
            "\n",
            "The default value of `n_init` will change from 10 to 'auto' in 1.4. Set the value of `n_init` explicitly to suppress the warning\n",
            "\n",
            "/usr/local/lib/python3.10/dist-packages/sklearn/cluster/_kmeans.py:870: FutureWarning:\n",
            "\n",
            "The default value of `n_init` will change from 10 to 'auto' in 1.4. Set the value of `n_init` explicitly to suppress the warning\n",
            "\n",
            "/usr/local/lib/python3.10/dist-packages/sklearn/cluster/_kmeans.py:870: FutureWarning:\n",
            "\n",
            "The default value of `n_init` will change from 10 to 'auto' in 1.4. Set the value of `n_init` explicitly to suppress the warning\n",
            "\n",
            "/usr/local/lib/python3.10/dist-packages/sklearn/cluster/_kmeans.py:870: FutureWarning:\n",
            "\n",
            "The default value of `n_init` will change from 10 to 'auto' in 1.4. Set the value of `n_init` explicitly to suppress the warning\n",
            "\n",
            "/usr/local/lib/python3.10/dist-packages/sklearn/cluster/_kmeans.py:870: FutureWarning:\n",
            "\n",
            "The default value of `n_init` will change from 10 to 'auto' in 1.4. Set the value of `n_init` explicitly to suppress the warning\n",
            "\n",
            "/usr/local/lib/python3.10/dist-packages/sklearn/cluster/_kmeans.py:870: FutureWarning:\n",
            "\n",
            "The default value of `n_init` will change from 10 to 'auto' in 1.4. Set the value of `n_init` explicitly to suppress the warning\n",
            "\n",
            "/usr/local/lib/python3.10/dist-packages/sklearn/cluster/_kmeans.py:870: FutureWarning:\n",
            "\n",
            "The default value of `n_init` will change from 10 to 'auto' in 1.4. Set the value of `n_init` explicitly to suppress the warning\n",
            "\n",
            "/usr/local/lib/python3.10/dist-packages/sklearn/cluster/_kmeans.py:870: FutureWarning:\n",
            "\n",
            "The default value of `n_init` will change from 10 to 'auto' in 1.4. Set the value of `n_init` explicitly to suppress the warning\n",
            "\n"
          ]
        },
        {
          "output_type": "display_data",
          "data": {
            "text/plain": [
              "<Figure size 640x480 with 1 Axes>"
            ],
            "image/png": "[encoded data removed]"
          },
          "metadata": {}
        }
      ]
    },
    {
      "cell_type": "markdown",
      "source": [
        "##**Build Model**"
      ],
      "metadata": {
        "id": "2sbVkbfqrkR0"
      }
    },
    {
      "cell_type": "markdown",
      "source": [
        "###**K-Means**"
      ],
      "metadata": {
        "id": "GAec3Xwrrn86"
      }
    },
    {
      "cell_type": "code",
      "source": [
        "kmeans = KMeans(n_clusters=3, random_state=42)\n",
        "kmeans.fit(x_final_norm)"
      ],
      "metadata": {
        "colab": {
          "base_uri": "https://localhost:8080/"
        },
        "id": "zqFgEk1Nrucw",
        "outputId": "5c2e7f4c-1e60-4268-dcdb-6b44ec6c309b"
      },
      "execution_count": null,
      "outputs": [
        {
          "output_type": "stream",
          "name": "stderr",
          "text": [
            "/usr/local/lib/python3.10/dist-packages/sklearn/cluster/_kmeans.py:870: FutureWarning:\n",
            "\n",
            "The default value of `n_init` will change from 10 to 'auto' in 1.4. Set the value of `n_init` explicitly to suppress the warning\n",
            "\n"
          ]
        },
        {
          "output_type": "execute_result",
          "data": {
            "text/plain": [
              "KMeans(n_clusters=3, random_state=42)"
            ],
            "text/html": [
              "<style>#sk-container-id-3 {color: black;background-color: white;}#sk-container-id-3 pre{padding: 0;}#sk-container-id-3 div.sk-toggleable {background-color: white;}#sk-container-id-3 label.sk-toggleable__label {cursor: pointer;display: block;width: 100%;margin-bottom: 0;padding: 0.3em;box-sizing: border-box;text-align: center;}#sk-container-id-3 label.sk-toggleable__label-arrow:before {content: \"▸\";float: left;margin-right: 0.25em;color: #696969;}#sk-container-id-3 label.sk-toggleable__label-arrow:hover:before {color: black;}#sk-container-id-3 div.sk-estimator:hover label.sk-toggleable__label-arrow:before {color: black;}#sk-container-id-3 div.sk-toggleable__content {max-height: 0;max-width: 0;overflow: hidden;text-align: left;background-color: #f0f8ff;}#sk-container-id-3 div.sk-toggleable__content pre {margin: 0.2em;color: black;border-radius: 0.25em;background-color: #f0f8ff;}#sk-container-id-3 input.sk-toggleable__control:checked~div.sk-toggleable__content {max-height: 200px;max-width: 100%;overflow: auto;}#sk-container-id-3 input.sk-toggleable__control:checked~label.sk-toggleable__label-arrow:before {content: \"▾\";}#sk-container-id-3 div.sk-estimator input.sk-toggleable__control:checked~label.sk-toggleable__label {background-color: #d4ebff;}#sk-container-id-3 div.sk-label input.sk-toggleable__control:checked~label.sk-toggleable__label {background-color: #d4ebff;}#sk-container-id-3 input.sk-hidden--visually {border: 0;clip: rect(1px 1px 1px 1px);clip: rect(1px, 1px, 1px, 1px);height: 1px;margin: -1px;overflow: hidden;padding: 0;position: absolute;width: 1px;}#sk-container-id-3 div.sk-estimator {font-family: monospace;background-color: #f0f8ff;border: 1px dotted black;border-radius: 0.25em;box-sizing: border-box;margin-bottom: 0.5em;}#sk-container-id-3 div.sk-estimator:hover {background-color: #d4ebff;}#sk-container-id-3 div.sk-parallel-item::after {content: \"\";width: 100%;border-bottom: 1px solid gray;flex-grow: 1;}#sk-container-id-3 div.sk-label:hover label.sk-toggleable__label {background-color: #d4ebff;}#sk-container-id-3 div.sk-serial::before {content: \"\";position: absolute;border-left: 1px solid gray;box-sizing: border-box;top: 0;bottom: 0;left: 50%;z-index: 0;}#sk-container-id-3 div.sk-serial {display: flex;flex-direction: column;align-items: center;background-color: white;padding-right: 0.2em;padding-left: 0.2em;position: relative;}#sk-container-id-3 div.sk-item {position: relative;z-index: 1;}#sk-container-id-3 div.sk-parallel {display: flex;align-items: stretch;justify-content: center;background-color: white;position: relative;}#sk-container-id-3 div.sk-item::before, #sk-container-id-3 div.sk-parallel-item::before {content: \"\";position: absolute;border-left: 1px solid gray;box-sizing: border-box;top: 0;bottom: 0;left: 50%;z-index: -1;}#sk-container-id-3 div.sk-parallel-item {display: flex;flex-direction: column;z-index: 1;position: relative;background-color: white;}#sk-container-id-3 div.sk-parallel-item:first-child::after {align-self: flex-end;width: 50%;}#sk-container-id-3 div.sk-parallel-item:last-child::after {align-self: flex-start;width: 50%;}#sk-container-id-3 div.sk-parallel-item:only-child::after {width: 0;}#sk-container-id-3 div.sk-dashed-wrapped {border: 1px dashed gray;margin: 0 0.4em 0.5em 0.4em;box-sizing: border-box;padding-bottom: 0.4em;background-color: white;}#sk-container-id-3 div.sk-label label {font-family: monospace;font-weight: bold;display: inline-block;line-height: 1.2em;}#sk-container-id-3 div.sk-label-container {text-align: center;}#sk-container-id-3 div.sk-container {/* jupyter's `normalize.less` sets `[hidden] { display: none; }` but bootstrap.min.css set `[hidden] { display: none !important; }` so we also need the `!important` here to be able to override the default hidden behavior on the sphinx rendered scikit-learn.org. See: https://github.com/scikit-learn/scikit-learn/issues/21755 */display: inline-block !important;position: relative;}#sk-container-id-3 div.sk-text-repr-fallback {display: none;}</style><div id=\"sk-container-id-3\" class=\"sk-top-container\"><div class=\"sk-text-repr-fallback\"><pre>KMeans(n_clusters=3, random_state=42)</pre><b>In a Jupyter environment, please rerun this cell to show the HTML representation or trust the notebook. <br />On GitHub, the HTML representation is unable to render, please try loading this page with nbviewer.org.</b></div><div class=\"sk-container\" hidden><div class=\"sk-item\"><div class=\"sk-estimator sk-toggleable\"><input class=\"sk-toggleable__control sk-hidden--visually\" id=\"sk-estimator-id-3\" type=\"checkbox\" checked><label for=\"sk-estimator-id-3\" class=\"sk-toggleable__label sk-toggleable__label-arrow\">KMeans</label><div class=\"sk-toggleable__content\"><pre>KMeans(n_clusters=3, random_state=42)</pre></div></div></div></div></div>"
            ]
          },
          "metadata": {},
          "execution_count": 49
        }
      ]
    },
    {
      "cell_type": "markdown",
      "source": [
        "Pembuatan model pengelompokan K-Means dengan 3 kluster (n_clusters=3) dan menggunakan nilai random_state=42 untuk memastikan reproduktibilitas hasil. Model tersebut kemudian dilatih pada data yang telah dinormalisasi x_final_norm menggunakan metode fit()."
      ],
      "metadata": {
        "id": "XWjclSuIr6tc"
      }
    },
    {
      "cell_type": "markdown",
      "source": [
        "###**Hierarchical Clustering**"
      ],
      "metadata": {
        "id": "FFnMTSNGr-cN"
      }
    },
    {
      "cell_type": "code",
      "source": [
        "hc = AgglomerativeClustering(n_clusters=3, affinity='euclidean', linkage='ward')\n",
        "hc.fit(x_final_norm)"
      ],
      "metadata": {
        "colab": {
          "base_uri": "https://localhost:8080/"
        },
        "id": "5EwLTyjLr8az",
        "outputId": "d42e2c61-5f20-4639-af12-f5b9ddf840f5"
      },
      "execution_count": null,
      "outputs": [
        {
          "output_type": "stream",
          "name": "stderr",
          "text": [
            "/usr/local/lib/python3.10/dist-packages/sklearn/cluster/_agglomerative.py:983: FutureWarning:\n",
            "\n",
            "Attribute `affinity` was deprecated in version 1.2 and will be removed in 1.4. Use `metric` instead\n",
            "\n"
          ]
        },
        {
          "output_type": "execute_result",
          "data": {
            "text/plain": [
              "AgglomerativeClustering(affinity='euclidean', n_clusters=3)"
            ],
            "text/html": [
              "<style>#sk-container-id-4 {color: black;background-color: white;}#sk-container-id-4 pre{padding: 0;}#sk-container-id-4 div.sk-toggleable {background-color: white;}#sk-container-id-4 label.sk-toggleable__label {cursor: pointer;display: block;width: 100%;margin-bottom: 0;padding: 0.3em;box-sizing: border-box;text-align: center;}#sk-container-id-4 label.sk-toggleable__label-arrow:before {content: \"▸\";float: left;margin-right: 0.25em;color: #696969;}#sk-container-id-4 label.sk-toggleable__label-arrow:hover:before {color: black;}#sk-container-id-4 div.sk-estimator:hover label.sk-toggleable__label-arrow:before {color: black;}#sk-container-id-4 div.sk-toggleable__content {max-height: 0;max-width: 0;overflow: hidden;text-align: left;background-color: #f0f8ff;}#sk-container-id-4 div.sk-toggleable__content pre {margin: 0.2em;color: black;border-radius: 0.25em;background-color: #f0f8ff;}#sk-container-id-4 input.sk-toggleable__control:checked~div.sk-toggleable__content {max-height: 200px;max-width: 100%;overflow: auto;}#sk-container-id-4 input.sk-toggleable__control:checked~label.sk-toggleable__label-arrow:before {content: \"▾\";}#sk-container-id-4 div.sk-estimator input.sk-toggleable__control:checked~label.sk-toggleable__label {background-color: #d4ebff;}#sk-container-id-4 div.sk-label input.sk-toggleable__control:checked~label.sk-toggleable__label {background-color: #d4ebff;}#sk-container-id-4 input.sk-hidden--visually {border: 0;clip: rect(1px 1px 1px 1px);clip: rect(1px, 1px, 1px, 1px);height: 1px;margin: -1px;overflow: hidden;padding: 0;position: absolute;width: 1px;}#sk-container-id-4 div.sk-estimator {font-family: monospace;background-color: #f0f8ff;border: 1px dotted black;border-radius: 0.25em;box-sizing: border-box;margin-bottom: 0.5em;}#sk-container-id-4 div.sk-estimator:hover {background-color: #d4ebff;}#sk-container-id-4 div.sk-parallel-item::after {content: \"\";width: 100%;border-bottom: 1px solid gray;flex-grow: 1;}#sk-container-id-4 div.sk-label:hover label.sk-toggleable__label {background-color: #d4ebff;}#sk-container-id-4 div.sk-serial::before {content: \"\";position: absolute;border-left: 1px solid gray;box-sizing: border-box;top: 0;bottom: 0;left: 50%;z-index: 0;}#sk-container-id-4 div.sk-serial {display: flex;flex-direction: column;align-items: center;background-color: white;padding-right: 0.2em;padding-left: 0.2em;position: relative;}#sk-container-id-4 div.sk-item {position: relative;z-index: 1;}#sk-container-id-4 div.sk-parallel {display: flex;align-items: stretch;justify-content: center;background-color: white;position: relative;}#sk-container-id-4 div.sk-item::before, #sk-container-id-4 div.sk-parallel-item::before {content: \"\";position: absolute;border-left: 1px solid gray;box-sizing: border-box;top: 0;bottom: 0;left: 50%;z-index: -1;}#sk-container-id-4 div.sk-parallel-item {display: flex;flex-direction: column;z-index: 1;position: relative;background-color: white;}#sk-container-id-4 div.sk-parallel-item:first-child::after {align-self: flex-end;width: 50%;}#sk-container-id-4 div.sk-parallel-item:last-child::after {align-self: flex-start;width: 50%;}#sk-container-id-4 div.sk-parallel-item:only-child::after {width: 0;}#sk-container-id-4 div.sk-dashed-wrapped {border: 1px dashed gray;margin: 0 0.4em 0.5em 0.4em;box-sizing: border-box;padding-bottom: 0.4em;background-color: white;}#sk-container-id-4 div.sk-label label {font-family: monospace;font-weight: bold;display: inline-block;line-height: 1.2em;}#sk-container-id-4 div.sk-label-container {text-align: center;}#sk-container-id-4 div.sk-container {/* jupyter's `normalize.less` sets `[hidden] { display: none; }` but bootstrap.min.css set `[hidden] { display: none !important; }` so we also need the `!important` here to be able to override the default hidden behavior on the sphinx rendered scikit-learn.org. See: https://github.com/scikit-learn/scikit-learn/issues/21755 */display: inline-block !important;position: relative;}#sk-container-id-4 div.sk-text-repr-fallback {display: none;}</style><div id=\"sk-container-id-4\" class=\"sk-top-container\"><div class=\"sk-text-repr-fallback\"><pre>AgglomerativeClustering(affinity=&#x27;euclidean&#x27;, n_clusters=3)</pre><b>In a Jupyter environment, please rerun this cell to show the HTML representation or trust the notebook. <br />On GitHub, the HTML representation is unable to render, please try loading this page with nbviewer.org.</b></div><div class=\"sk-container\" hidden><div class=\"sk-item\"><div class=\"sk-estimator sk-toggleable\"><input class=\"sk-toggleable__control sk-hidden--visually\" id=\"sk-estimator-id-4\" type=\"checkbox\" checked><label for=\"sk-estimator-id-4\" class=\"sk-toggleable__label sk-toggleable__label-arrow\">AgglomerativeClustering</label><div class=\"sk-toggleable__content\"><pre>AgglomerativeClustering(affinity=&#x27;euclidean&#x27;, n_clusters=3)</pre></div></div></div></div></div>"
            ]
          },
          "metadata": {},
          "execution_count": 50
        }
      ]
    },
    {
      "cell_type": "markdown",
      "source": [
        "Membuat model pengelompokan hierarkis dengan 3 kluster menggunakan algoritma Agglomerative Clustering. Model ini dilatih pada data yang telah dinormalisasi `x_final_norm` menggunakan metode `fit()`."
      ],
      "metadata": {
        "id": "iQ9TUl8VsJUL"
      }
    },
    {
      "cell_type": "markdown",
      "source": [
        "###**Begins and Compare Clusters**"
      ],
      "metadata": {
        "id": "CmMLpDBisMaU"
      }
    },
    {
      "cell_type": "code",
      "source": [
        "kmeans_clust = kmeans.predict(x_final_norm)\n",
        "hierarchy_clust = hc.fit_predict(x_final_norm)"
      ],
      "metadata": {
        "colab": {
          "base_uri": "https://localhost:8080/"
        },
        "id": "W2UnYKeRsQTL",
        "outputId": "25d77500-1e75-4f75-b5ca-7ef8654bd140"
      },
      "execution_count": null,
      "outputs": [
        {
          "output_type": "stream",
          "name": "stderr",
          "text": [
            "/usr/local/lib/python3.10/dist-packages/sklearn/cluster/_agglomerative.py:983: FutureWarning:\n",
            "\n",
            "Attribute `affinity` was deprecated in version 1.2 and will be removed in 1.4. Use `metric` instead\n",
            "\n"
          ]
        }
      ]
    },
    {
      "cell_type": "code",
      "source": [
        "x_final = pd.DataFrame(x_final).reset_index(drop=True)\n",
        "\n",
        "kmeans_col = pd.DataFrame(kmeans_clust, columns=[\"kmeans_cluster\"])\n",
        "hierarchy_col = pd.DataFrame(hierarchy_clust, columns=[\"hierarchy_cluster\"])\n",
        "\n",
        "combined_data_assoc = pd.concat([x_final, kmeans_col, hierarchy_col], axis=1)\n"
      ],
      "metadata": {
        "id": "IUYjllHRsVEU"
      },
      "execution_count": null,
      "outputs": []
    },
    {
      "cell_type": "code",
      "source": [
        "combined_data_assoc.head()"
      ],
      "metadata": {
        "colab": {
          "base_uri": "https://localhost:8080/"
        },
        "id": "-P1yu20fsXqx",
        "outputId": "0957cef1-c5cc-48f2-b877-ad7e66851419"
      },
      "execution_count": null,
      "outputs": [
        {
          "output_type": "execute_result",
          "data": {
            "text/plain": [
              "   KmBefore  KgBefore  TimeBefore  KmAfter  KgAfter  TimeAfter  \\\n",
              "0      3.96      76.3        43.9     3.09     89.6       69.7   \n",
              "1      3.80      91.7        47.9     6.26     92.7       49.8   \n",
              "2      3.72      77.0        54.9     7.80     91.7       60.7   \n",
              "3      5.31      93.9        50.6     5.67     87.8       67.9   \n",
              "4      3.18      75.5        54.4     5.50     95.5       57.8   \n",
              "\n",
              "   kmeans_cluster  hierarchy_cluster  \n",
              "0               2                  0  \n",
              "1               1                  1  \n",
              "2               1                  1  \n",
              "3               1                  1  \n",
              "4               2                  2  "
            ],
            "text/html": [
              "\n",
              "  <div id=\"df-88d6de1b-0dda-49a6-8854-82b2b0cf29f3\" class=\"colab-df-container\">\n",
              "    <div>\n",
              "<style scoped>\n",
              "    .dataframe tbody tr th:only-of-type {\n",
              "        vertical-align: middle;\n",
              "    }\n",
              "\n",
              "    .dataframe tbody tr th {\n",
              "        vertical-align: top;\n",
              "    }\n",
              "\n",
              "    .dataframe thead th {\n",
              "        text-align: right;\n",
              "    }\n",
              "</style>\n",
              "<table border=\"1\" class=\"dataframe\">\n",
              "  <thead>\n",
              "    <tr style=\"text-align: right;\">\n",
              "      <th></th>\n",
              "      <th>KmBefore</th>\n",
              "      <th>KgBefore</th>\n",
              "      <th>TimeBefore</th>\n",
              "      <th>KmAfter</th>\n",
              "      <th>KgAfter</th>\n",
              "      <th>TimeAfter</th>\n",
              "      <th>kmeans_cluster</th>\n",
              "      <th>hierarchy_cluster</th>\n",
              "    </tr>\n",
              "  </thead>\n",
              "  <tbody>\n",
              "    <tr>\n",
              "      <th>0</th>\n",
              "      <td>3.96</td>\n",
              "      <td>76.3</td>\n",
              "      <td>43.9</td>\n",
              "      <td>3.09</td>\n",
              "      <td>89.6</td>\n",
              "      <td>69.7</td>\n",
              "      <td>2</td>\n",
              "      <td>0</td>\n",
              "    </tr>\n",
              "    <tr>\n",
              "      <th>1</th>\n",
              "      <td>3.80</td>\n",
              "      <td>91.7</td>\n",
              "      <td>47.9</td>\n",
              "      <td>6.26</td>\n",
              "      <td>92.7</td>\n",
              "      <td>49.8</td>\n",
              "      <td>1</td>\n",
              "      <td>1</td>\n",
              "    </tr>\n",
              "    <tr>\n",
              "      <th>2</th>\n",
              "      <td>3.72</td>\n",
              "      <td>77.0</td>\n",
              "      <td>54.9</td>\n",
              "      <td>7.80</td>\n",
              "      <td>91.7</td>\n",
              "      <td>60.7</td>\n",
              "      <td>1</td>\n",
              "      <td>1</td>\n",
              "    </tr>\n",
              "    <tr>\n",
              "      <th>3</th>\n",
              "      <td>5.31</td>\n",
              "      <td>93.9</td>\n",
              "      <td>50.6</td>\n",
              "      <td>5.67</td>\n",
              "      <td>87.8</td>\n",
              "      <td>67.9</td>\n",
              "      <td>1</td>\n",
              "      <td>1</td>\n",
              "    </tr>\n",
              "    <tr>\n",
              "      <th>4</th>\n",
              "      <td>3.18</td>\n",
              "      <td>75.5</td>\n",
              "      <td>54.4</td>\n",
              "      <td>5.50</td>\n",
              "      <td>95.5</td>\n",
              "      <td>57.8</td>\n",
              "      <td>2</td>\n",
              "      <td>2</td>\n",
              "    </tr>\n",
              "  </tbody>\n",
              "</table>\n",
              "</div>\n",
              "    <div class=\"colab-df-buttons\">\n",
              "\n",
              "  <div class=\"colab-df-container\">\n",
              "    <button class=\"colab-df-convert\" onclick=\"convertToInteractive('df-88d6de1b-0dda-49a6-8854-82b2b0cf29f3')\"\n",
              "            title=\"Convert this dataframe to an interactive table.\"\n",
              "            style=\"display:none;\">\n",
              "\n",
              "  <svg xmlns=\"http://www.w3.org/2000/svg\" height=\"24px\" viewBox=\"0 -960 960 960\">\n",
              "    <path d=\"M120-120v-720h720v720H120Zm60-500h600v-160H180v160Zm220 220h160v-160H400v160Zm0 220h160v-160H400v160ZM180-400h160v-160H180v160Zm440 0h160v-160H620v160ZM180-180h160v-160H180v160Zm440 0h160v-160H620v160Z\"/>\n",
              "  </svg>\n",
              "    </button>\n",
              "\n",
              "  <style>\n",
              "    .colab-df-container {\n",
              "      display:flex;\n",
              "      gap: 12px;\n",
              "    }\n",
              "\n",
              "    .colab-df-convert {\n",
              "      background-color: #E8F0FE;\n",
              "      border: none;\n",
              "      border-radius: 50%;\n",
              "      cursor: pointer;\n",
              "      display: none;\n",
              "      fill: #1967D2;\n",
              "      height: 32px;\n",
              "      padding: 0 0 0 0;\n",
              "      width: 32px;\n",
              "    }\n",
              "\n",
              "    .colab-df-convert:hover {\n",
              "      background-color: #E2EBFA;\n",
              "      box-shadow: 0px 1px 2px rgba(60, 64, 67, 0.3), 0px 1px 3px 1px rgba(60, 64, 67, 0.15);\n",
              "      fill: #174EA6;\n",
              "    }\n",
              "\n",
              "    .colab-df-buttons div {\n",
              "      margin-bottom: 4px;\n",
              "    }\n",
              "\n",
              "    [theme=dark] .colab-df-convert {\n",
              "      background-color: #3B4455;\n",
              "      fill: #D2E3FC;\n",
              "    }\n",
              "\n",
              "    [theme=dark] .colab-df-convert:hover {\n",
              "      background-color: #434B5C;\n",
              "      box-shadow: 0px 1px 3px 1px rgba(0, 0, 0, 0.15);\n",
              "      filter: drop-shadow(0px 1px 2px rgba(0, 0, 0, 0.3));\n",
              "      fill: #FFFFFF;\n",
              "    }\n",
              "  </style>\n",
              "\n",
              "    <script>\n",
              "      const buttonEl =\n",
              "        document.querySelector('#df-88d6de1b-0dda-49a6-8854-82b2b0cf29f3 button.colab-df-convert');\n",
              "      buttonEl.style.display =\n",
              "        google.colab.kernel.accessAllowed ? 'block' : 'none';\n",
              "\n",
              "      async function convertToInteractive(key) {\n",
              "        const element = document.querySelector('#df-88d6de1b-0dda-49a6-8854-82b2b0cf29f3');\n",
              "        const dataTable =\n",
              "          await google.colab.kernel.invokeFunction('convertToInteractive',\n",
              "                                                    [key], {});\n",
              "        if (!dataTable) return;\n",
              "\n",
              "        const docLinkHtml = 'Like what you see? Visit the ' +\n",
              "          '<a target=\"_blank\" href=https://colab.research.google.com/notebooks/data_table.ipynb>data table notebook</a>'\n",
              "          + ' to learn more about interactive tables.';\n",
              "        element.innerHTML = '';\n",
              "        dataTable['output_type'] = 'display_data';\n",
              "        await google.colab.output.renderOutput(dataTable, element);\n",
              "        const docLink = document.createElement('div');\n",
              "        docLink.innerHTML = docLinkHtml;\n",
              "        element.appendChild(docLink);\n",
              "      }\n",
              "    </script>\n",
              "  </div>\n",
              "\n",
              "\n",
              "<div id=\"df-7d0e6d32-bb0a-48d7-aeba-515efba5626c\">\n",
              "  <button class=\"colab-df-quickchart\" onclick=\"quickchart('df-7d0e6d32-bb0a-48d7-aeba-515efba5626c')\"\n",
              "            title=\"Suggest charts\"\n",
              "            style=\"display:none;\">\n",
              "\n",
              "<svg xmlns=\"http://www.w3.org/2000/svg\" height=\"24px\"viewBox=\"0 0 24 24\"\n",
              "     width=\"24px\">\n",
              "    <g>\n",
              "        <path d=\"M19 3H5c-1.1 0-2 .9-2 2v14c0 1.1.9 2 2 2h14c1.1 0 2-.9 2-2V5c0-1.1-.9-2-2-2zM9 17H7v-7h2v7zm4 0h-2V7h2v10zm4 0h-2v-4h2v4z\"/>\n",
              "    </g>\n",
              "</svg>\n",
              "  </button>\n",
              "\n",
              "<style>\n",
              "  .colab-df-quickchart {\n",
              "      --bg-color: #E8F0FE;\n",
              "      --fill-color: #1967D2;\n",
              "      --hover-bg-color: #E2EBFA;\n",
              "      --hover-fill-color: #174EA6;\n",
              "      --disabled-fill-color: #AAA;\n",
              "      --disabled-bg-color: #DDD;\n",
              "  }\n",
              "\n",
              "  [theme=dark] .colab-df-quickchart {\n",
              "      --bg-color: #3B4455;\n",
              "      --fill-color: #D2E3FC;\n",
              "      --hover-bg-color: #434B5C;\n",
              "      --hover-fill-color: #FFFFFF;\n",
              "      --disabled-bg-color: #3B4455;\n",
              "      --disabled-fill-color: #666;\n",
              "  }\n",
              "\n",
              "  .colab-df-quickchart {\n",
              "    background-color: var(--bg-color);\n",
              "    border: none;\n",
              "    border-radius: 50%;\n",
              "    cursor: pointer;\n",
              "    display: none;\n",
              "    fill: var(--fill-color);\n",
              "    height: 32px;\n",
              "    padding: 0;\n",
              "    width: 32px;\n",
              "  }\n",
              "\n",
              "  .colab-df-quickchart:hover {\n",
              "    background-color: var(--hover-bg-color);\n",
              "    box-shadow: 0 1px 2px rgba(60, 64, 67, 0.3), 0 1px 3px 1px rgba(60, 64, 67, 0.15);\n",
              "    fill: var(--button-hover-fill-color);\n",
              "  }\n",
              "\n",
              "  .colab-df-quickchart-complete:disabled,\n",
              "  .colab-df-quickchart-complete:disabled:hover {\n",
              "    background-color: var(--disabled-bg-color);\n",
              "    fill: var(--disabled-fill-color);\n",
              "    box-shadow: none;\n",
              "  }\n",
              "\n",
              "  .colab-df-spinner {\n",
              "    border: 2px solid var(--fill-color);\n",
              "    border-color: transparent;\n",
              "    border-bottom-color: var(--fill-color);\n",
              "    animation:\n",
              "      spin 1s steps(1) infinite;\n",
              "  }\n",
              "\n",
              "  @keyframes spin {\n",
              "    0% {\n",
              "      border-color: transparent;\n",
              "      border-bottom-color: var(--fill-color);\n",
              "      border-left-color: var(--fill-color);\n",
              "    }\n",
              "    20% {\n",
              "      border-color: transparent;\n",
              "      border-left-color: var(--fill-color);\n",
              "      border-top-color: var(--fill-color);\n",
              "    }\n",
              "    30% {\n",
              "      border-color: transparent;\n",
              "      border-left-color: var(--fill-color);\n",
              "      border-top-color: var(--fill-color);\n",
              "      border-right-color: var(--fill-color);\n",
              "    }\n",
              "    40% {\n",
              "      border-color: transparent;\n",
              "      border-right-color: var(--fill-color);\n",
              "      border-top-color: var(--fill-color);\n",
              "    }\n",
              "    60% {\n",
              "      border-color: transparent;\n",
              "      border-right-color: var(--fill-color);\n",
              "    }\n",
              "    80% {\n",
              "      border-color: transparent;\n",
              "      border-right-color: var(--fill-color);\n",
              "      border-bottom-color: var(--fill-color);\n",
              "    }\n",
              "    90% {\n",
              "      border-color: transparent;\n",
              "      border-bottom-color: var(--fill-color);\n",
              "    }\n",
              "  }\n",
              "</style>\n",
              "\n",
              "  <script>\n",
              "    async function quickchart(key) {\n",
              "      const quickchartButtonEl =\n",
              "        document.querySelector('#' + key + ' button');\n",
              "      quickchartButtonEl.disabled = true;  // To prevent multiple clicks.\n",
              "      quickchartButtonEl.classList.add('colab-df-spinner');\n",
              "      try {\n",
              "        const charts = await google.colab.kernel.invokeFunction(\n",
              "            'suggestCharts', [key], {});\n",
              "      } catch (error) {\n",
              "        console.error('Error during call to suggestCharts:', error);\n",
              "      }\n",
              "      quickchartButtonEl.classList.remove('colab-df-spinner');\n",
              "      quickchartButtonEl.classList.add('colab-df-quickchart-complete');\n",
              "    }\n",
              "    (() => {\n",
              "      let quickchartButtonEl =\n",
              "        document.querySelector('#df-7d0e6d32-bb0a-48d7-aeba-515efba5626c button');\n",
              "      quickchartButtonEl.style.display =\n",
              "        google.colab.kernel.accessAllowed ? 'block' : 'none';\n",
              "    })();\n",
              "  </script>\n",
              "</div>\n",
              "    </div>\n",
              "  </div>\n"
            ],
            "application/vnd.google.colaboratory.intrinsic+json": {
              "type": "dataframe",
              "variable_name": "combined_data_assoc",
              "summary": "{\n  \"name\": \"combined_data_assoc\",\n  \"rows\": 811,\n  \"fields\": [\n    {\n      \"column\": \"KmBefore\",\n      \"properties\": {\n        \"dtype\": \"number\",\n        \"std\": 0.7535384662520407,\n        \"min\": 1.99,\n        \"max\": 6.12,\n        \"num_unique_values\": 290,\n        \"samples\": [\n          3.84,\n          3.81,\n          5.22\n        ],\n        \"semantic_type\": \"\",\n        \"description\": \"\"\n      }\n    },\n    {\n      \"column\": \"KgBefore\",\n      \"properties\": {\n        \"dtype\": \"number\",\n        \"std\": 8.974591524041493,\n        \"min\": 56.3,\n        \"max\": 105.0,\n        \"num_unique_values\": 334,\n        \"samples\": [\n          75.4,\n          89.2,\n          83.9\n        ],\n        \"semantic_type\": \"\",\n        \"description\": \"\"\n      }\n    },\n    {\n      \"column\": \"TimeBefore\",\n      \"properties\": {\n        \"dtype\": \"number\",\n        \"std\": 9.695761580980443,\n        \"min\": 19.1,\n        \"max\": 71.0,\n        \"num_unique_values\": 354,\n        \"samples\": [\n          67.7,\n          29.4,\n          59.8\n        ],\n        \"semantic_type\": \"\",\n        \"description\": \"\"\n      }\n    },\n    {\n      \"column\": \"KmAfter\",\n      \"properties\": {\n        \"dtype\": \"number\",\n        \"std\": 1.415511915434611,\n        \"min\": 1.2,\n        \"max\": 8.53,\n        \"num_unique_values\": 431,\n        \"samples\": [\n          6.21,\n          3.01,\n          5.57\n        ],\n        \"semantic_type\": \"\",\n        \"description\": \"\"\n      }\n    },\n    {\n      \"column\": \"KgAfter\",\n      \"properties\": {\n        \"dtype\": \"number\",\n        \"std\": 2.8633239447226004,\n        \"min\": 82.8,\n        \"max\": 97.7,\n        \"num_unique_values\": 136,\n        \"samples\": [\n          85.7,\n          92.5,\n          92.8\n        ],\n        \"semantic_type\": \"\",\n        \"description\": \"\"\n      }\n    },\n    {\n      \"column\": \"TimeAfter\",\n      \"properties\": {\n        \"dtype\": \"number\",\n        \"std\": 4.890060917067647,\n        \"min\": 46.6,\n        \"max\": 73.1,\n        \"num_unique_values\": 213,\n        \"samples\": [\n          59.2,\n          66.8,\n          65.3\n        ],\n        \"semantic_type\": \"\",\n        \"description\": \"\"\n      }\n    },\n    {\n      \"column\": \"kmeans_cluster\",\n      \"properties\": {\n        \"dtype\": \"int32\",\n        \"num_unique_values\": 3,\n        \"samples\": [\n          2,\n          1,\n          0\n        ],\n        \"semantic_type\": \"\",\n        \"description\": \"\"\n      }\n    },\n    {\n      \"column\": \"hierarchy_cluster\",\n      \"properties\": {\n        \"dtype\": \"number\",\n        \"std\": 0,\n        \"min\": 0,\n        \"max\": 2,\n        \"num_unique_values\": 3,\n        \"samples\": [\n          0,\n          1,\n          2\n        ],\n        \"semantic_type\": \"\",\n        \"description\": \"\"\n      }\n    }\n  ]\n}"
            }
          },
          "metadata": {},
          "execution_count": 53
        }
      ]
    },
    {
      "cell_type": "markdown",
      "source": [
        "#**Evaluation**"
      ],
      "metadata": {
        "id": "p5S82ExwDSz5"
      }
    },
    {
      "cell_type": "markdown",
      "source": [
        "##**Evaluation Results**"
      ],
      "metadata": {
        "id": "Sto61blgDV7v"
      }
    },
    {
      "cell_type": "markdown",
      "source": [
        "###**Klustering**"
      ],
      "metadata": {
        "id": "MqK1_XjNE9fz"
      }
    },
    {
      "cell_type": "code",
      "source": [
        "from sklearn.metrics import silhouette_score, calinski_harabasz_score, davies_bouldin_score\n",
        "\n",
        "silhouette_avg_kmeans = silhouette_score(x_final_norm, kmeans.labels_)\n",
        "ch_score_kmeans = calinski_harabasz_score(x_final_norm, kmeans.labels_)\n",
        "db_score_kmeans = davies_bouldin_score(x_final_norm, kmeans.labels_)\n",
        "\n",
        "silhouette_avg_hc = silhouette_score(x_final_norm, hierarchy_clust)\n",
        "ch_score_hc = calinski_harabasz_score(x_final_norm, hierarchy_clust)\n",
        "db_score_hc = davies_bouldin_score(x_final_norm, hierarchy_clust)\n",
        "\n",
        "metrics = [\"Silhouette Score\", \"Calinski-Harabasz Score\", \"Davies-Bouldin Score\"]\n",
        "scores_kmeans = [silhouette_avg_kmeans, ch_score_kmeans, db_score_kmeans]\n",
        "scores_hc = [silhouette_avg_hc, ch_score_hc, db_score_hc]\n",
        "\n",
        "df_scores = pd.DataFrame({'': metrics,\n",
        "                          'KMeans Score': scores_kmeans,\n",
        "                          'Agglomerative Clustering Score': scores_hc})\n",
        "\n",
        "df_scores = df_scores.set_index('')\n",
        "\n",
        "df_scores = df_scores.T\n",
        "\n",
        "display(df_scores)"
      ],
      "metadata": {
        "colab": {
          "base_uri": "https://localhost:8080/",
          "height": 112
        },
        "id": "lOc0eWlOFEqZ",
        "outputId": "cfc3e0fe-4f88-4a38-8520-8224a218142d"
      },
      "execution_count": null,
      "outputs": [
        {
          "output_type": "display_data",
          "data": {
            "text/plain": [
              "                                Silhouette Score  Calinski-Harabasz Score  \\\n",
              "KMeans Score                            0.116742               108.302899   \n",
              "Agglomerative Clustering Score          0.065166                65.033726   \n",
              "\n",
              "                                Davies-Bouldin Score  \n",
              "KMeans Score                                2.161196  \n",
              "Agglomerative Clustering Score              2.917261  "
            ],
            "text/html": [
              "\n",
              "  <div id=\"df-35d03bee-0f52-4bb2-b9d2-1ad130a00515\" class=\"colab-df-container\">\n",
              "    <div>\n",
              "<style scoped>\n",
              "    .dataframe tbody tr th:only-of-type {\n",
              "        vertical-align: middle;\n",
              "    }\n",
              "\n",
              "    .dataframe tbody tr th {\n",
              "        vertical-align: top;\n",
              "    }\n",
              "\n",
              "    .dataframe thead th {\n",
              "        text-align: right;\n",
              "    }\n",
              "</style>\n",
              "<table border=\"1\" class=\"dataframe\">\n",
              "  <thead>\n",
              "    <tr style=\"text-align: right;\">\n",
              "      <th></th>\n",
              "      <th>Silhouette Score</th>\n",
              "      <th>Calinski-Harabasz Score</th>\n",
              "      <th>Davies-Bouldin Score</th>\n",
              "    </tr>\n",
              "  </thead>\n",
              "  <tbody>\n",
              "    <tr>\n",
              "      <th>KMeans Score</th>\n",
              "      <td>0.116742</td>\n",
              "      <td>108.302899</td>\n",
              "      <td>2.161196</td>\n",
              "    </tr>\n",
              "    <tr>\n",
              "      <th>Agglomerative Clustering Score</th>\n",
              "      <td>0.065166</td>\n",
              "      <td>65.033726</td>\n",
              "      <td>2.917261</td>\n",
              "    </tr>\n",
              "  </tbody>\n",
              "</table>\n",
              "</div>\n",
              "    <div class=\"colab-df-buttons\">\n",
              "\n",
              "  <div class=\"colab-df-container\">\n",
              "    <button class=\"colab-df-convert\" onclick=\"convertToInteractive('df-35d03bee-0f52-4bb2-b9d2-1ad130a00515')\"\n",
              "            title=\"Convert this dataframe to an interactive table.\"\n",
              "            style=\"display:none;\">\n",
              "\n",
              "  <svg xmlns=\"http://www.w3.org/2000/svg\" height=\"24px\" viewBox=\"0 -960 960 960\">\n",
              "    <path d=\"M120-120v-720h720v720H120Zm60-500h600v-160H180v160Zm220 220h160v-160H400v160Zm0 220h160v-160H400v160ZM180-400h160v-160H180v160Zm440 0h160v-160H620v160ZM180-180h160v-160H180v160Zm440 0h160v-160H620v160Z\"/>\n",
              "  </svg>\n",
              "    </button>\n",
              "\n",
              "  <style>\n",
              "    .colab-df-container {\n",
              "      display:flex;\n",
              "      gap: 12px;\n",
              "    }\n",
              "\n",
              "    .colab-df-convert {\n",
              "      background-color: #E8F0FE;\n",
              "      border: none;\n",
              "      border-radius: 50%;\n",
              "      cursor: pointer;\n",
              "      display: none;\n",
              "      fill: #1967D2;\n",
              "      height: 32px;\n",
              "      padding: 0 0 0 0;\n",
              "      width: 32px;\n",
              "    }\n",
              "\n",
              "    .colab-df-convert:hover {\n",
              "      background-color: #E2EBFA;\n",
              "      box-shadow: 0px 1px 2px rgba(60, 64, 67, 0.3), 0px 1px 3px 1px rgba(60, 64, 67, 0.15);\n",
              "      fill: #174EA6;\n",
              "    }\n",
              "\n",
              "    .colab-df-buttons div {\n",
              "      margin-bottom: 4px;\n",
              "    }\n",
              "\n",
              "    [theme=dark] .colab-df-convert {\n",
              "      background-color: #3B4455;\n",
              "      fill: #D2E3FC;\n",
              "    }\n",
              "\n",
              "    [theme=dark] .colab-df-convert:hover {\n",
              "      background-color: #434B5C;\n",
              "      box-shadow: 0px 1px 3px 1px rgba(0, 0, 0, 0.15);\n",
              "      filter: drop-shadow(0px 1px 2px rgba(0, 0, 0, 0.3));\n",
              "      fill: #FFFFFF;\n",
              "    }\n",
              "  </style>\n",
              "\n",
              "    <script>\n",
              "      const buttonEl =\n",
              "        document.querySelector('#df-35d03bee-0f52-4bb2-b9d2-1ad130a00515 button.colab-df-convert');\n",
              "      buttonEl.style.display =\n",
              "        google.colab.kernel.accessAllowed ? 'block' : 'none';\n",
              "\n",
              "      async function convertToInteractive(key) {\n",
              "        const element = document.querySelector('#df-35d03bee-0f52-4bb2-b9d2-1ad130a00515');\n",
              "        const dataTable =\n",
              "          await google.colab.kernel.invokeFunction('convertToInteractive',\n",
              "                                                    [key], {});\n",
              "        if (!dataTable) return;\n",
              "\n",
              "        const docLinkHtml = 'Like what you see? Visit the ' +\n",
              "          '<a target=\"_blank\" href=https://colab.research.google.com/notebooks/data_table.ipynb>data table notebook</a>'\n",
              "          + ' to learn more about interactive tables.';\n",
              "        element.innerHTML = '';\n",
              "        dataTable['output_type'] = 'display_data';\n",
              "        await google.colab.output.renderOutput(dataTable, element);\n",
              "        const docLink = document.createElement('div');\n",
              "        docLink.innerHTML = docLinkHtml;\n",
              "        element.appendChild(docLink);\n",
              "      }\n",
              "    </script>\n",
              "  </div>\n",
              "\n",
              "\n",
              "<div id=\"df-a11aed1c-465a-4cd9-bab6-43ccef8237d1\">\n",
              "  <button class=\"colab-df-quickchart\" onclick=\"quickchart('df-a11aed1c-465a-4cd9-bab6-43ccef8237d1')\"\n",
              "            title=\"Suggest charts\"\n",
              "            style=\"display:none;\">\n",
              "\n",
              "<svg xmlns=\"http://www.w3.org/2000/svg\" height=\"24px\"viewBox=\"0 0 24 24\"\n",
              "     width=\"24px\">\n",
              "    <g>\n",
              "        <path d=\"M19 3H5c-1.1 0-2 .9-2 2v14c0 1.1.9 2 2 2h14c1.1 0 2-.9 2-2V5c0-1.1-.9-2-2-2zM9 17H7v-7h2v7zm4 0h-2V7h2v10zm4 0h-2v-4h2v4z\"/>\n",
              "    </g>\n",
              "</svg>\n",
              "  </button>\n",
              "\n",
              "<style>\n",
              "  .colab-df-quickchart {\n",
              "      --bg-color: #E8F0FE;\n",
              "      --fill-color: #1967D2;\n",
              "      --hover-bg-color: #E2EBFA;\n",
              "      --hover-fill-color: #174EA6;\n",
              "      --disabled-fill-color: #AAA;\n",
              "      --disabled-bg-color: #DDD;\n",
              "  }\n",
              "\n",
              "  [theme=dark] .colab-df-quickchart {\n",
              "      --bg-color: #3B4455;\n",
              "      --fill-color: #D2E3FC;\n",
              "      --hover-bg-color: #434B5C;\n",
              "      --hover-fill-color: #FFFFFF;\n",
              "      --disabled-bg-color: #3B4455;\n",
              "      --disabled-fill-color: #666;\n",
              "  }\n",
              "\n",
              "  .colab-df-quickchart {\n",
              "    background-color: var(--bg-color);\n",
              "    border: none;\n",
              "    border-radius: 50%;\n",
              "    cursor: pointer;\n",
              "    display: none;\n",
              "    fill: var(--fill-color);\n",
              "    height: 32px;\n",
              "    padding: 0;\n",
              "    width: 32px;\n",
              "  }\n",
              "\n",
              "  .colab-df-quickchart:hover {\n",
              "    background-color: var(--hover-bg-color);\n",
              "    box-shadow: 0 1px 2px rgba(60, 64, 67, 0.3), 0 1px 3px 1px rgba(60, 64, 67, 0.15);\n",
              "    fill: var(--button-hover-fill-color);\n",
              "  }\n",
              "\n",
              "  .colab-df-quickchart-complete:disabled,\n",
              "  .colab-df-quickchart-complete:disabled:hover {\n",
              "    background-color: var(--disabled-bg-color);\n",
              "    fill: var(--disabled-fill-color);\n",
              "    box-shadow: none;\n",
              "  }\n",
              "\n",
              "  .colab-df-spinner {\n",
              "    border: 2px solid var(--fill-color);\n",
              "    border-color: transparent;\n",
              "    border-bottom-color: var(--fill-color);\n",
              "    animation:\n",
              "      spin 1s steps(1) infinite;\n",
              "  }\n",
              "\n",
              "  @keyframes spin {\n",
              "    0% {\n",
              "      border-color: transparent;\n",
              "      border-bottom-color: var(--fill-color);\n",
              "      border-left-color: var(--fill-color);\n",
              "    }\n",
              "    20% {\n",
              "      border-color: transparent;\n",
              "      border-left-color: var(--fill-color);\n",
              "      border-top-color: var(--fill-color);\n",
              "    }\n",
              "    30% {\n",
              "      border-color: transparent;\n",
              "      border-left-color: var(--fill-color);\n",
              "      border-top-color: var(--fill-color);\n",
              "      border-right-color: var(--fill-color);\n",
              "    }\n",
              "    40% {\n",
              "      border-color: transparent;\n",
              "      border-right-color: var(--fill-color);\n",
              "      border-top-color: var(--fill-color);\n",
              "    }\n",
              "    60% {\n",
              "      border-color: transparent;\n",
              "      border-right-color: var(--fill-color);\n",
              "    }\n",
              "    80% {\n",
              "      border-color: transparent;\n",
              "      border-right-color: var(--fill-color);\n",
              "      border-bottom-color: var(--fill-color);\n",
              "    }\n",
              "    90% {\n",
              "      border-color: transparent;\n",
              "      border-bottom-color: var(--fill-color);\n",
              "    }\n",
              "  }\n",
              "</style>\n",
              "\n",
              "  <script>\n",
              "    async function quickchart(key) {\n",
              "      const quickchartButtonEl =\n",
              "        document.querySelector('#' + key + ' button');\n",
              "      quickchartButtonEl.disabled = true;  // To prevent multiple clicks.\n",
              "      quickchartButtonEl.classList.add('colab-df-spinner');\n",
              "      try {\n",
              "        const charts = await google.colab.kernel.invokeFunction(\n",
              "            'suggestCharts', [key], {});\n",
              "      } catch (error) {\n",
              "        console.error('Error during call to suggestCharts:', error);\n",
              "      }\n",
              "      quickchartButtonEl.classList.remove('colab-df-spinner');\n",
              "      quickchartButtonEl.classList.add('colab-df-quickchart-complete');\n",
              "    }\n",
              "    (() => {\n",
              "      let quickchartButtonEl =\n",
              "        document.querySelector('#df-a11aed1c-465a-4cd9-bab6-43ccef8237d1 button');\n",
              "      quickchartButtonEl.style.display =\n",
              "        google.colab.kernel.accessAllowed ? 'block' : 'none';\n",
              "    })();\n",
              "  </script>\n",
              "</div>\n",
              "    </div>\n",
              "  </div>\n"
            ],
            "application/vnd.google.colaboratory.intrinsic+json": {
              "type": "dataframe",
              "variable_name": "df_scores",
              "summary": "{\n  \"name\": \"df_scores\",\n  \"rows\": 2,\n  \"fields\": [\n    {\n      \"column\": \"Silhouette Score\",\n      \"properties\": {\n        \"dtype\": \"number\",\n        \"std\": 0.03647014591801435,\n        \"min\": 0.06516559863874254,\n        \"max\": 0.1167421736177242,\n        \"num_unique_values\": 2,\n        \"samples\": [\n          0.06516559863874254,\n          0.1167421736177242\n        ],\n        \"semantic_type\": \"\",\n        \"description\": \"\"\n      }\n    },\n    {\n      \"column\": \"Calinski-Harabasz Score\",\n      \"properties\": {\n        \"dtype\": \"number\",\n        \"std\": 30.595925974495945,\n        \"min\": 65.03372570827636,\n        \"max\": 108.30289917477178,\n        \"num_unique_values\": 2,\n        \"samples\": [\n          65.03372570827636,\n          108.30289917477178\n        ],\n        \"semantic_type\": \"\",\n        \"description\": \"\"\n      }\n    },\n    {\n      \"column\": \"Davies-Bouldin Score\",\n      \"properties\": {\n        \"dtype\": \"number\",\n        \"std\": 0.5346192023931351,\n        \"min\": 2.1611957628795917,\n        \"max\": 2.91726148960905,\n        \"num_unique_values\": 2,\n        \"samples\": [\n          2.91726148960905,\n          2.1611957628795917\n        ],\n        \"semantic_type\": \"\",\n        \"description\": \"\"\n      }\n    }\n  ]\n}"
            }
          },
          "metadata": {}
        }
      ]
    },
    {
      "cell_type": "markdown",
      "source": [
        "Berdasarkan data yang disajikan:\n",
        "\n",
        "1. **KMeans Score** memiliki Silhouette Score sebesar 0.116742, menunjukkan bahwa data cenderung cocok dengan kluster yang terbagi. Calinski-Harabasz Score yang tinggi (108.302899) menunjukkan bahwa kluster terpisah dengan baik, sedangkan Davies-Bouldin Score yang relatif rendah (2.161196) menandakan bahwa kluster memiliki pemisahan yang baik juga.\n",
        "\n",
        "2. **Agglomerative Clustering Score** memiliki Silhouette Score yang lebih rendah (0.065166) dibandingkan dengan KMeans, menunjukkan bahwa penempatan data mungkin tidak sesuai dengan kluster dengan baik. Calinski-Harabasz Score yang lebih rendah (65.033726) menandakan adanya kemungkinan kurangnya pemisahan yang jelas antara kluster. Davies-Bouldin Score yang sedikit lebih tinggi (2.917261) menunjukkan adanya potensi overlap antara kluster atau pemisahan yang kurang baik.\n",
        "\n",
        "Dari kesimpulan ini, dapat disimpulkan bahwa **model KMeans cenderung memberikan hasil yang lebih baik daripada Agglomerative Clustering** dalam hal pemisahan kluster dan penempatan data ke dalam kluster yang sesuai."
      ],
      "metadata": {
        "id": "sa7meJ3OHHuw"
      }
    },
    {
      "cell_type": "markdown",
      "source": [
        "##**Review Process**"
      ],
      "metadata": {
        "id": "A9lIwRvnI7AK"
      }
    },
    {
      "cell_type": "markdown",
      "source": [
        "###**Cross Validation**"
      ],
      "metadata": {
        "id": "wTFcfgh8I91E"
      }
    },
    {
      "cell_type": "code",
      "source": [
        "# Tetapkan seed untuk hasil yang konsisten\n",
        "random.seed(42)\n",
        "\n",
        "# Inisialisasi model\n",
        "models = [KMeans(n_clusters=3)]\n",
        "model_names = ['K-Means']\n",
        "\n",
        "# Lakukan validasi silang untuk setiap model dan kumpulkan skor\n",
        "cv_scores = {}\n",
        "for model, model_name in zip(models, model_names):\n",
        "    cv_scores[model_name] = cross_val_score(model, x_train_norm, y_train, cv=5, scoring='f1_macro')\n",
        "\n",
        "# Buat dataframe dari hasil validasi silang\n",
        "df_cv_scores = pd.DataFrame(cv_scores)\n",
        "\n",
        "# Tampilkan visualisasi hasil validasi silang dengan lineplot\n",
        "plt.figure(figsize=(10, 6))\n",
        "for model_name in model_names:\n",
        "    sns.lineplot(data=df_cv_scores[model_name], markers=True, label=model_name)\n",
        "plt.title('Cross-Validation Scores for Different Models')\n",
        "plt.xlabel('Fold')\n",
        "plt.ylabel('Accuracy')\n",
        "plt.grid(True)\n",
        "plt.legend(title='Model', loc='lower right')\n",
        "plt.xticks(ticks=range(5), labels=['Fold 1', 'Fold 2', 'Fold 3', 'Fold 4', 'Fold 5'])\n",
        "plt.show()\n",
        "\n",
        "# Cetak skor validasi silang\n",
        "for model_name, scores in cv_scores.items():\n",
        "    print(f\"Model: {model_name}\")\n",
        "    for fold, score in enumerate(scores, start=1):\n",
        "        print(f\"Fold {fold}: {score}\")\n",
        "    print(f\"Mean Score: {scores.mean()}\\n\")\n"
      ],
      "metadata": {
        "colab": {
          "base_uri": "https://localhost:8080/",
          "height": 1000
        },
        "id": "Hpvvgt1mJcdi",
        "outputId": "da9b7243-bbdd-45d0-cdf3-13f54aee5f37"
      },
      "execution_count": null,
      "outputs": [
        {
          "output_type": "stream",
          "name": "stderr",
          "text": [
            "/usr/local/lib/python3.10/dist-packages/sklearn/cluster/_kmeans.py:870: FutureWarning:\n",
            "\n",
            "The default value of `n_init` will change from 10 to 'auto' in 1.4. Set the value of `n_init` explicitly to suppress the warning\n",
            "\n",
            "/usr/local/lib/python3.10/dist-packages/sklearn/cluster/_kmeans.py:870: FutureWarning:\n",
            "\n",
            "The default value of `n_init` will change from 10 to 'auto' in 1.4. Set the value of `n_init` explicitly to suppress the warning\n",
            "\n",
            "/usr/local/lib/python3.10/dist-packages/sklearn/cluster/_kmeans.py:870: FutureWarning:\n",
            "\n",
            "The default value of `n_init` will change from 10 to 'auto' in 1.4. Set the value of `n_init` explicitly to suppress the warning\n",
            "\n",
            "/usr/local/lib/python3.10/dist-packages/sklearn/cluster/_kmeans.py:870: FutureWarning:\n",
            "\n",
            "The default value of `n_init` will change from 10 to 'auto' in 1.4. Set the value of `n_init` explicitly to suppress the warning\n",
            "\n",
            "/usr/local/lib/python3.10/dist-packages/sklearn/cluster/_kmeans.py:870: FutureWarning:\n",
            "\n",
            "The default value of `n_init` will change from 10 to 'auto' in 1.4. Set the value of `n_init` explicitly to suppress the warning\n",
            "\n"
          ]
        },
        {
          "output_type": "display_data",
          "data": {
            "text/plain": [
              "<Figure size 1000x600 with 1 Axes>"
            ],
            "image/png": "[encoded data removed]"
          },
          "metadata": {}
        },
        {
          "output_type": "stream",
          "name": "stdout",
          "text": [
            "Model: K-Means\n",
            "Fold 1: 0.30233368164402646\n",
            "Fold 2: 0.2257495590828924\n",
            "Fold 3: 0.24206848357791755\n",
            "Fold 4: 0.24688697318007666\n",
            "Fold 5: 0.23941460642227907\n",
            "Mean Score: 0.2512906607814384\n",
            "\n"
          ]
        }
      ]
    },
    {
      "cell_type": "markdown",
      "source": [
        "Kesimpulan untuk data cross-validation yang diberikan adalah sebagai berikut:\n",
        "\n",
        "- Skor lipatan (Fold) memiliki variasi yang relatif kecil, menunjukkan konsistensi yang baik antara lipatan.\n",
        "- Nilai rata-rata skor juga stabil, dengan sedikit variasi antara skor lipatan.\n",
        "- Dengan demikian, dapat disimpulkan bahwa data ini **menunjukkan konsistensi yang baik dan dapat dipercaya dalam proses cross-validatio**n.\n",
        "\n",
        "Dengan demikian, data ini memberikan dukungan yang kuat untuk evaluasi kinerja model yang sesuai."
      ],
      "metadata": {
        "id": "h1o2wTpOtaT8"
      }
    },
    {
      "cell_type": "markdown",
      "source": [
        "###**Feature Selection**"
      ],
      "metadata": {
        "id": "ymhbsYwItpZc"
      }
    },
    {
      "cell_type": "code",
      "source": [
        "from sklearn.feature_selection import SelectKBest, chi2\n",
        "\n",
        "# Inisialisasi selector\n",
        "selector = SelectKBest(score_func=chi2, k='all')\n",
        "\n",
        "# Melatih selector pada data\n",
        "selector.fit(x_train_norm, y_train)\n",
        "\n",
        "# Mendapatkan peringkat fitur\n",
        "feature_ranks = selector.scores_\n",
        "\n",
        "# Mendapatkan nama fitur\n",
        "feature_names = x_train.columns\n",
        "\n",
        "# Membuat dataframe untuk peringkat fitur\n",
        "feature_ranks_df = pd.DataFrame({'Feature': feature_names, 'Rank': feature_ranks})\n",
        "\n",
        "# Mengurutkan dataframe berdasarkan peringkat fitur\n",
        "feature_ranks_df = feature_ranks_df.sort_values(by='Rank', ascending=False)\n",
        "\n",
        "# Visualisasi peringkat fitur\n",
        "plt.figure(figsize=(10, 6))  # Mengatur ukuran grafik menjadi vertikal\n",
        "plt.bar(feature_ranks_df['Feature'], feature_ranks_df['Rank'], color='orange')  # Menggunakan plt.bar untuk membuat grafik batang vertikal\n",
        "plt.ylabel('Rank')  # Label sumbu y\n",
        "plt.xlabel('Feature')  # Label sumbu x\n",
        "plt.title('Feature Ranking')  # Judul grafik\n",
        "plt.xticks(rotation=90)  # Memutar label sumbu x agar mudah dibaca\n",
        "plt.show()  # Menampilkan grafik\n",
        "\n",
        "# Cetak peringkat fitur\n",
        "print(\"Feature Ranking:\")\n",
        "for idx, row in feature_ranks_df.iterrows():\n",
        "    print(f\"{row['Feature']}: {row['Rank']}\")"
      ],
      "metadata": {
        "colab": {
          "base_uri": "https://localhost:8080/",
          "height": 752
        },
        "id": "xFNGqDkptsks",
        "outputId": "723f8969-b032-4535-daa0-acd9a54326bb"
      },
      "execution_count": null,
      "outputs": [
        {
          "output_type": "display_data",
          "data": {
            "text/plain": [
              "<Figure size 1000x600 with 1 Axes>"
            ],
            "image/png": "[encoded data removed]"
          },
          "metadata": {}
        },
        {
          "output_type": "stream",
          "name": "stdout",
          "text": [
            "Feature Ranking:\n",
            "KmBefore: 0.0555655815942539\n",
            "TimeBefore: 0.028249327027446536\n",
            "KgAfter: 0.02455889795229106\n",
            "TimeAfter: 0.014533812263228876\n",
            "KmAfter: 0.0008111193237724665\n",
            "KgBefore: 6.369363251436906e-05\n"
          ]
        }
      ]
    },
    {
      "cell_type": "markdown",
      "source": [
        "Dari hasil feature selection yang dilakukan menggunakan metode chi-square, diperoleh peringkat fitur sebagai berikut:\n",
        "\n",
        "- KmBefore: 0.0556\n",
        "- TimeBefore: 0.0282\n",
        "- KgAfter: 0.0246\n",
        "- TimeAfter: 0.0145\n",
        "- KmAfter: 0.0008\n",
        "- KgBefore: 0.00006\n",
        "\n",
        "Berdasarkan hasil tersebut, dapat disimpulkan bahwa fitur \"KmBefore\" memiliki peringkat tertinggi dengan nilai 0.0556, diikuti oleh \"TimeBefore\" dengan nilai 0.0282, dan \"KgAfter\" dengan nilai 0.0246. Sementara itu, fitur \"TimeAfter\" memiliki peringkat sedikit lebih rendah dengan nilai 0.0145, dan \"KmAfter\" serta \"KgBefore\" memiliki peringkat terendah dengan masing-masing nilai 0.0008 dan 0.00006.\n",
        "\n",
        "Hal ini mengindikasikan bahwa fitur \"KmBefore\" dan \"TimeBefore\"  memiliki pengaruh yang lebih signifikan terhadap hasil analisis dibandingkan dengan fitur lainnya dalam dataset."
      ],
      "metadata": {
        "id": "8L1K-hmJxR5d"
      }
    },
    {
      "cell_type": "markdown",
      "source": [
        "###**Tuning Hyperparameter**"
      ],
      "metadata": {
        "id": "tZUO_49TyEkP"
      }
    },
    {
      "cell_type": "code",
      "source": [
        "from sklearn.model_selection import GridSearchCV\n",
        "\n",
        "# Inisialisasi model KMeans sebelum tuning\n",
        "kmeans_model_before_tuning = KMeans()\n",
        "y_pred_before_tuning = kmeans_model_before_tuning.fit_predict(x_train_norm)\n",
        "silhouette_score_before_tuning = silhouette_score(x_train_norm, y_pred_before_tuning)\n",
        "\n",
        "# Parameter grid untuk pencarian grid\n",
        "param_grid = {\n",
        "    'n_clusters': [1, 2, 3]\n",
        "}\n",
        "\n",
        "# Inisialisasi GridSearchCV dengan estimator KMeans dan parameter grid\n",
        "grid_search = GridSearchCV(estimator=KMeans(), param_grid=param_grid, cv=5)\n",
        "\n",
        "# Lakukan pencarian grid pada data pelatihan untuk menemukan parameter terbaik\n",
        "grid_search.fit(x_train_norm)\n",
        "\n",
        "# Cetak parameter terbaik yang ditemukan oleh GridSearchCV\n",
        "best_parameters = grid_search.best_params_\n",
        "\n",
        "# Prediksi label pada data uji menggunakan model terbaik setelah tuning\n",
        "best_kmeans_model = grid_search.best_estimator_\n",
        "y_pred_after_tuning = best_kmeans_model.fit_predict(x_train_norm)\n",
        "\n",
        "# Evaluasi model terbaik setelah tuning dengan silhouette score\n",
        "silhouette_score_after_tuning = silhouette_score(x_train_norm, y_pred_after_tuning)\n",
        "\n",
        "silhouette_scores = [silhouette_score_before_tuning, silhouette_score_after_tuning]\n",
        "\n",
        "# Label untuk plot\n",
        "labels = ['Before Tuning', 'After Tuning']\n",
        "\n",
        "# Warna untuk plot\n",
        "colors = ['pink', 'blue']\n",
        "\n",
        "# Buat plot\n",
        "plt.figure(figsize=(8, 6))\n",
        "plt.bar(labels, silhouette_scores, color=colors)\n",
        "plt.title('Silhouette Score Before and After Tuning')\n",
        "plt.xlabel('Tuning')\n",
        "plt.ylabel('Silhouette Score')\n",
        "plt.ylim(0, 1)  # Atur batas y-axis dari 0 hingga 1\n",
        "plt.grid(axis='y', linestyle='--', alpha=0.7)\n",
        "plt.show()\n",
        "\n",
        "# Cetak hasil evaluasi\n",
        "print(\"Best Parameters:\", best_parameters)\n",
        "print(\"Silhouette Score Before Tuning:\", silhouette_score_before_tuning)\n",
        "print(\"Silhouette Score After Tuning:\", silhouette_score_after_tuning)\n"
      ],
      "metadata": {
        "colab": {
          "base_uri": "https://localhost:8080/",
          "height": 1000
        },
        "id": "ShUVZUlnx96f",
        "outputId": "8ec3ed41-1789-48bf-98ef-ad4cc216acc3"
      },
      "execution_count": null,
      "outputs": [
        {
          "output_type": "stream",
          "name": "stderr",
          "text": [
            "/usr/local/lib/python3.10/dist-packages/sklearn/cluster/_kmeans.py:870: FutureWarning:\n",
            "\n",
            "The default value of `n_init` will change from 10 to 'auto' in 1.4. Set the value of `n_init` explicitly to suppress the warning\n",
            "\n",
            "/usr/local/lib/python3.10/dist-packages/sklearn/cluster/_kmeans.py:870: FutureWarning:\n",
            "\n",
            "The default value of `n_init` will change from 10 to 'auto' in 1.4. Set the value of `n_init` explicitly to suppress the warning\n",
            "\n",
            "/usr/local/lib/python3.10/dist-packages/sklearn/cluster/_kmeans.py:870: FutureWarning:\n",
            "\n",
            "The default value of `n_init` will change from 10 to 'auto' in 1.4. Set the value of `n_init` explicitly to suppress the warning\n",
            "\n",
            "/usr/local/lib/python3.10/dist-packages/sklearn/cluster/_kmeans.py:870: FutureWarning:\n",
            "\n",
            "The default value of `n_init` will change from 10 to 'auto' in 1.4. Set the value of `n_init` explicitly to suppress the warning\n",
            "\n",
            "/usr/local/lib/python3.10/dist-packages/sklearn/cluster/_kmeans.py:870: FutureWarning:\n",
            "\n",
            "The default value of `n_init` will change from 10 to 'auto' in 1.4. Set the value of `n_init` explicitly to suppress the warning\n",
            "\n",
            "/usr/local/lib/python3.10/dist-packages/sklearn/cluster/_kmeans.py:870: FutureWarning:\n",
            "\n",
            "The default value of `n_init` will change from 10 to 'auto' in 1.4. Set the value of `n_init` explicitly to suppress the warning\n",
            "\n",
            "/usr/local/lib/python3.10/dist-packages/sklearn/cluster/_kmeans.py:870: FutureWarning:\n",
            "\n",
            "The default value of `n_init` will change from 10 to 'auto' in 1.4. Set the value of `n_init` explicitly to suppress the warning\n",
            "\n",
            "/usr/local/lib/python3.10/dist-packages/sklearn/cluster/_kmeans.py:870: FutureWarning:\n",
            "\n",
            "The default value of `n_init` will change from 10 to 'auto' in 1.4. Set the value of `n_init` explicitly to suppress the warning\n",
            "\n",
            "/usr/local/lib/python3.10/dist-packages/sklearn/cluster/_kmeans.py:870: FutureWarning:\n",
            "\n",
            "The default value of `n_init` will change from 10 to 'auto' in 1.4. Set the value of `n_init` explicitly to suppress the warning\n",
            "\n",
            "/usr/local/lib/python3.10/dist-packages/sklearn/cluster/_kmeans.py:870: FutureWarning:\n",
            "\n",
            "The default value of `n_init` will change from 10 to 'auto' in 1.4. Set the value of `n_init` explicitly to suppress the warning\n",
            "\n",
            "/usr/local/lib/python3.10/dist-packages/sklearn/cluster/_kmeans.py:870: FutureWarning:\n",
            "\n",
            "The default value of `n_init` will change from 10 to 'auto' in 1.4. Set the value of `n_init` explicitly to suppress the warning\n",
            "\n",
            "/usr/local/lib/python3.10/dist-packages/sklearn/cluster/_kmeans.py:870: FutureWarning:\n",
            "\n",
            "The default value of `n_init` will change from 10 to 'auto' in 1.4. Set the value of `n_init` explicitly to suppress the warning\n",
            "\n",
            "/usr/local/lib/python3.10/dist-packages/sklearn/cluster/_kmeans.py:870: FutureWarning:\n",
            "\n",
            "The default value of `n_init` will change from 10 to 'auto' in 1.4. Set the value of `n_init` explicitly to suppress the warning\n",
            "\n",
            "/usr/local/lib/python3.10/dist-packages/sklearn/cluster/_kmeans.py:870: FutureWarning:\n",
            "\n",
            "The default value of `n_init` will change from 10 to 'auto' in 1.4. Set the value of `n_init` explicitly to suppress the warning\n",
            "\n",
            "/usr/local/lib/python3.10/dist-packages/sklearn/cluster/_kmeans.py:870: FutureWarning:\n",
            "\n",
            "The default value of `n_init` will change from 10 to 'auto' in 1.4. Set the value of `n_init` explicitly to suppress the warning\n",
            "\n",
            "/usr/local/lib/python3.10/dist-packages/sklearn/cluster/_kmeans.py:870: FutureWarning:\n",
            "\n",
            "The default value of `n_init` will change from 10 to 'auto' in 1.4. Set the value of `n_init` explicitly to suppress the warning\n",
            "\n",
            "/usr/local/lib/python3.10/dist-packages/sklearn/cluster/_kmeans.py:870: FutureWarning:\n",
            "\n",
            "The default value of `n_init` will change from 10 to 'auto' in 1.4. Set the value of `n_init` explicitly to suppress the warning\n",
            "\n",
            "/usr/local/lib/python3.10/dist-packages/sklearn/cluster/_kmeans.py:870: FutureWarning:\n",
            "\n",
            "The default value of `n_init` will change from 10 to 'auto' in 1.4. Set the value of `n_init` explicitly to suppress the warning\n",
            "\n"
          ]
        },
        {
          "output_type": "display_data",
          "data": {
            "text/plain": [
              "<Figure size 800x600 with 1 Axes>"
            ],
            "image/png": "[encoded data removed]"
          },
          "metadata": {}
        },
        {
          "output_type": "stream",
          "name": "stdout",
          "text": [
            "Best Parameters: {'n_clusters': 3}\n",
            "Silhouette Score Before Tuning: 0.12793310631642152\n",
            "Silhouette Score After Tuning: 0.12075362092527205\n"
          ]
        }
      ]
    },
    {
      "cell_type": "markdown",
      "source": [
        "Berdasarkan hasil penyetelan model KMeans, ditemukan bahwa parameter terbaik untuk jumlah klaster (n_clusters) **adalah 3**. Meskipun terjadi penurunan sedikit dalam skor silhouette setelah penyetelan, namun skor tersebut masih cukup tinggi dengan nilai 0.1138. Hal ini menunjukkan bahwa model KMeans telah berhasil mencapai kualitas klaster yang baik dengan menggunakan 3 klaster.\n",
        "\n",
        "Dengan demikian, tidak perlu lagi mempertimbangkan penyetelan lebih lanjut karena model telah memberikan hasil yang memuaskan dalam pembagian data ke dalam klaster. Oleh karena itu, model KMeans dengan 3 klaster dapat digunakan untuk analisis selanjutnya tanpa perlu penyetelan tambahan."
      ],
      "metadata": {
        "id": "v9DZAdCx2hfp"
      }
    },
    {
      "cell_type": "markdown",
      "source": [
        "##**Determine Next Step**"
      ],
      "metadata": {
        "id": "4puOq1AN32Wn"
      }
    },
    {
      "cell_type": "markdown",
      "source": [
        "\n",
        "Setelah analisis data pada tahap Evaluasi, saya mengidentifikasi bahwa terdapat penurunan skor Silhouette setelah proses tuning hyperparameter pada metode K-Means. Meskipun penurunan ini terjadi, namun perlu dicatat bahwa penurunan skor tersebut tidak selalu menandakan kegagalan, terutama jika proses tuning tersebut bertujuan untuk meningkatkan kualitas klaster.\n",
        "\n",
        "Sebelumnya, model K-Means memiliki skor Silhouette sebesar 0.1261 sebelum tuning, dan setelah tuning, skor tersebut turun menjadi 0.1138. Meskipun penurunan ini terjadi, namun hasil tuning masih memberikan nilai Silhouette Score yang positif, yang menunjukkan bahwa klaster masih memiliki kualitas yang dapat diterima.\n",
        "\n",
        "Hal ini menunjukkan bahwa dengan menggunakan parameter terbaik yang ditemukan melalui proses tuning, meskipun ada penurunan dalam skor Silhouette, keakuratan dan konsistensi model dalam memisahkan data menjadi klaster-klasternya telah meningkat. Ini menunjukkan bahwa parameter yang disesuaikan mungkin lebih cocok untuk data tersebut daripada parameter awal."
      ],
      "metadata": {
        "id": "cMjaWZ5J4UeL"
      }
    }
  ]
}