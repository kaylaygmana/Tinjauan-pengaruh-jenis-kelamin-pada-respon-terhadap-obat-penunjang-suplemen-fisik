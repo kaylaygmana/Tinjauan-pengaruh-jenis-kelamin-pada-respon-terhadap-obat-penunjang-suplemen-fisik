{
  "nbformat": 4,
  "nbformat_minor": 0,
  "metadata": {
    "colab": {
      "provenance": [],
      "toc_visible": true
    },
    "kernelspec": {
      "name": "python3",
      "display_name": "Python 3"
    },
    "language_info": {
      "name": "python"
    }
  },
  "cells": [
    {
      "cell_type": "code",
      "execution_count": null,
      "metadata": {
        "id": "QhV2ieaSQILP"
      },
      "outputs": [],
      "source": []
    },
    {
      "cell_type": "markdown",
      "source": [
        "# Tinjauan pengaruh jenis kelamin pada respon terhadap obat penunjang suplemen fisik\n"
      ],
      "metadata": {
        "id": "UzKV_EQiQK_s"
      }
    },
    {
      "cell_type": "markdown",
      "source": [
        "## Business Understanding"
      ],
      "metadata": {
        "id": "JXY7LCVnhI80"
      }
    },
    {
      "cell_type": "code",
      "source": [],
      "metadata": {
        "id": "9XmKjhoybQHk"
      },
      "execution_count": null,
      "outputs": []
    },
    {
      "cell_type": "markdown",
      "source": [
        "### Business Objective\n",
        "##### Tujuan bisnis yang mendasari penggunaan dataset ini adalah untuk melakukan analisis mendalam terhadap faktor-faktor yang memengaruhi respons terhadap obat berdasarkan perbedaan jenis kelamin."
      ],
      "metadata": {
        "id": "J4_v7mpKhNkO"
      }
    },
    {
      "cell_type": "markdown",
      "source": [
        "### Asses Situation\n",
        "##### Latar belakang situasi bisnis yang menginspirasi dilakukannya analisis ini adalah adanya variasi hasil antara kondisi sebelum dan setelah seseorang mengonsumsi obat untuk meningkatkan kebugaran tubuh. Dalam upaya untuk menggali pemahaman yang lebih mendalam terkait dengan dinamika ini, fokus penelitian difokuskan pada perbedaan respons antara pria dan wanita."
      ],
      "metadata": {
        "id": "j4sFyUJuiP8Z"
      }
    },
    {
      "cell_type": "markdown",
      "source": [
        "### Data Mining Goals\n",
        "##### Tujuan dari kegiatan data mining yang dilakukan pada dataset ini adalah untuk menjelajahi dan mengidentifikasi potensi keterkaitan antara jenis kelamin individu dengan respons tubuh terhadap obat penunjang kebugaran tubuh."
      ],
      "metadata": {
        "id": "b0kMjoKjXdMR"
      }
    },
    {
      "cell_type": "markdown",
      "source": [
        "### Project Plan\n",
        "##### Rencana proyek ini dimulai dengan mengumpulkan data dari sumber yang tersedia, dengan fokus pada informasi seputar jenis kelamin dan respon terhadap obat penunjang suplemen fisik. Selanjutnya, analisis karakteristik dan pola data akan dilakukan untuk mengidentifikasi hubungan yang menarik. Eksplorasi data akan difokuskan pada korelasi dan interaksi antar variabel, terutama yang berkaitan dengan variabel jenis kelamin. Selain itu, kualitas data akan dinilai secara menyeluruh, dengan penekanan pada elemen yang relevan dengan jenis kelamin dan respon terhadap suplemen fisik. Identifikasi masalah data menjadi langkah kunci, untuk memastikan validitas temuan selama tahap analisis berikutnya."
      ],
      "metadata": {
        "id": "_9sbmu55YQBf"
      }
    },
    {
      "cell_type": "markdown",
      "source": [],
      "metadata": {
        "id": "2yGwxw6yiOQP"
      }
    }
  ]
}